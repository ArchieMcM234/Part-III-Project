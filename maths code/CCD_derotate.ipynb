{
 "cells": [
  {
   "cell_type": "markdown",
   "metadata": {},
   "source": [
    "# Find the analtic form of the derotation matrix"
   ]
  },
  {
   "cell_type": "code",
   "execution_count": 1,
   "metadata": {},
   "outputs": [],
   "source": [
    "import sympy as sp\n",
    "# Pauli matrices\n",
    "sigma_z = sp.Matrix([[1, 0], [0, -1]])\n",
    "sigma_x = sp.Matrix([[0, 1], [1, 0]])\n",
    "sigma_y = sp.Matrix([[0, -sp.I], [sp.I, 0]])\n",
    "identity = sp.eye(2)\n",
    "\n",
    "# Define variables\n",
    "t, omega, omega_0, Omega, phi_0, epsilon, omega_m, theta_m, sig_sym_x, sig_sym_y, sig_sym_z, tau, delta = sp.symbols(\n",
    "    't omega omega_0 Omega phi_0 epsilon omega_m theta_m sigma_x sigma_y sigma_z tau delta', real=True\n",
    ")\n",
    "hbar = sp.Symbol('hbar', real=True)  # Reduced Planck constant"
   ]
  },
  {
   "cell_type": "code",
   "execution_count": 2,
   "metadata": {},
   "outputs": [
    {
     "data": {
      "text/latex": [
       "$\\displaystyle \\left[\\begin{matrix}\\hbar \\left(\\frac{\\omega}{2} - \\frac{\\epsilon \\omega_{m} \\cos{\\left(\\omega_{m} t - \\theta_{m} \\right)}}{\\Omega}\\right) & 0\\\\0 & - \\hbar \\left(\\frac{\\omega}{2} - \\frac{\\epsilon \\omega_{m} \\cos{\\left(\\omega_{m} t - \\theta_{m} \\right)}}{\\Omega}\\right)\\end{matrix}\\right]$"
      ],
      "text/plain": [
       "Matrix([\n",
       "[hbar*(omega/2 - epsilon*omega_m*cos(omega_m*t - theta_m)/Omega),                                                                0],\n",
       "[                                                              0, -hbar*(omega/2 - epsilon*omega_m*cos(omega_m*t - theta_m)/Omega)]])"
      ]
     },
     "execution_count": 2,
     "metadata": {},
     "output_type": "execute_result"
    }
   ],
   "source": [
    "# Define H(t)\n",
    "frame_ham =  hbar*(omega / 2 - (epsilon * omega_m / Omega) * sp.cos(omega_m * t - theta_m)) * sigma_z\n",
    "frame_ham"
   ]
  },
  {
   "cell_type": "code",
   "execution_count": null,
   "metadata": {},
   "outputs": [
    {
     "data": {
      "text/latex": [
       "$\\displaystyle \\left[\\begin{matrix}e^{\\frac{i \\left(- \\frac{\\Omega \\omega t}{2} + \\epsilon \\sin{\\left(\\omega_{m} t - \\theta_{m} \\right)}\\right)}{\\Omega}} & 0\\\\0 & e^{\\frac{i \\left(\\frac{\\Omega \\omega t}{2} - \\epsilon \\sin{\\left(\\omega_{m} t - \\theta_{m} \\right)}\\right)}{\\Omega}}\\end{matrix}\\right]$"
      ],
      "text/plain": [
       "Matrix([\n",
       "[exp(I*(-Omega*omega*t/2 + epsilon*sin(omega_m*t - theta_m))/Omega),                                                                 0],\n",
       "[                                                                 0, exp(I*(Omega*omega*t/2 - epsilon*sin(omega_m*t - theta_m))/Omega)]])"
      ]
     },
     "execution_count": 3,
     "metadata": {},
     "output_type": "execute_result"
    }
   ],
   "source": [
    "U = sp.exp(-(sp.I/hbar)  * sp.integrate(frame_ham, t))\n",
    "U\n"
   ]
  },
  {
   "cell_type": "code",
   "execution_count": 4,
   "metadata": {},
   "outputs": [
    {
     "name": "stdout",
     "output_type": "stream",
     "text": [
      "\\left[\\begin{matrix}e^{\\frac{i \\left(- \\frac{\\Omega \\omega t}{2} + \\epsilon \\sin{\\left(\\omega_{m} t - \\theta_{m} \\right)}\\right)}{\\Omega}} & 0\\\\0 & e^{\\frac{i \\left(\\frac{\\Omega \\omega t}{2} - \\epsilon \\sin{\\left(\\omega_{m} t - \\theta_{m} \\right)}\\right)}{\\Omega}}\\end{matrix}\\right]\n"
     ]
    }
   ],
   "source": [
    "print(sp.latex(U))"
   ]
  }
 ],
 "metadata": {
  "kernelspec": {
   "display_name": "Python 3",
   "language": "python",
   "name": "python3"
  },
  "language_info": {
   "codemirror_mode": {
    "name": "ipython",
    "version": 3
   },
   "file_extension": ".py",
   "mimetype": "text/x-python",
   "name": "python",
   "nbconvert_exporter": "python",
   "pygments_lexer": "ipython3",
   "version": "3.13.0"
  }
 },
 "nbformat": 4,
 "nbformat_minor": 2
}
