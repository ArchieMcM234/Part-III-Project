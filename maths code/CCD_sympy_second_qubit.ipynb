{
 "cells": [
  {
   "cell_type": "code",
   "execution_count": 2,
   "id": "import-sympy",
   "metadata": {},
   "outputs": [],
   "source": [
    "import sympy as sp"
   ]
  },
  {
   "cell_type": "code",
   "execution_count": 3,
   "id": "pauli-matrices",
   "metadata": {},
   "outputs": [],
   "source": [
    "# Pauli matrices\n",
    "sigma_z = sp.Matrix([[1, 0], [0, -1]])\n",
    "sigma_x = sp.Matrix([[0, 1], [1, 0]])\n",
    "sigma_y = sp.Matrix([[0, -sp.I], [sp.I, 0]])\n",
    "identity = sp.eye(2)"
   ]
  },
  {
   "cell_type": "code",
   "execution_count": 4,
   "id": "define-variables",
   "metadata": {},
   "outputs": [],
   "source": [
    "# Define variables\n",
    "t, omega, omega_0, Omega, phi_0, epsilon, omega_m, theta_m, sig_sym_x, sig_sym_y, sig_sym_z, tau, delta = sp.symbols(\n",
    "    't omega omega_0 Omega phi_0 epsilon omega_m theta_m sigma_x sigma_y sigma_z tau delta', real=True\n",
    ")\n",
    "hbar = sp.Symbol('hbar', real=True)  # Reduced Planck constant"
   ]
  },
  {
   "cell_type": "code",
   "execution_count": 43,
   "id": "define-unitary-matrix",
   "metadata": {},
   "outputs": [],
   "source": [
    "# Define the unitary matrix U\n",
    "# This is the simple to omega frame\n",
    "# U = sp.Matrix([\n",
    "#     [sp.exp(-sp.I * omega * t / 2), 0],\n",
    "#     [0, sp.exp(sp.I * omega * t / 2)]\n",
    "# ])"
   ]
  },
  {
   "cell_type": "markdown",
   "id": "f3cef783",
   "metadata": {},
   "source": [
    "So for second qubit we dont want to go to the rotating frame?? so do we do the "
   ]
  },
  {
   "cell_type": "markdown",
   "id": "272fa18d",
   "metadata": {},
   "source": [
    "Hamiltonian defining the frame: $$H_0 = \\frac{\\omega}{2}\\sigma_z - \\frac{\\epsilon_m \\omega_m}{\\Omega}\\cos(\\omega_mt-\\theta_m)\\sigma_z$$"
   ]
  },
  {
   "cell_type": "code",
   "execution_count": 44,
   "id": "define-Ht",
   "metadata": {},
   "outputs": [
    {
     "data": {
      "text/latex": [
       "$\\displaystyle \\left[\\begin{matrix}\\hbar \\left(\\frac{\\omega}{2} - \\frac{\\epsilon \\omega_{m} \\cos{\\left(\\omega_{m} t - \\theta_{m} \\right)}}{\\Omega}\\right) & 0\\\\0 & - \\hbar \\left(\\frac{\\omega}{2} - \\frac{\\epsilon \\omega_{m} \\cos{\\left(\\omega_{m} t - \\theta_{m} \\right)}}{\\Omega}\\right)\\end{matrix}\\right]$"
      ],
      "text/plain": [
       "Matrix([\n",
       "[hbar*(omega/2 - epsilon*omega_m*cos(omega_m*t - theta_m)/Omega),                                                                0],\n",
       "[                                                              0, -hbar*(omega/2 - epsilon*omega_m*cos(omega_m*t - theta_m)/Omega)]])"
      ]
     },
     "execution_count": 44,
     "metadata": {},
     "output_type": "execute_result"
    }
   ],
   "source": [
    "# Define H(t)\n",
    "frame_ham =  hbar*(omega / 2 - (epsilon * omega_m / Omega) * sp.cos(omega_m * t - theta_m)) * sigma_z\n",
    "frame_ham"
   ]
  },
  {
   "cell_type": "markdown",
   "id": "2b3ecf78",
   "metadata": {},
   "source": [
    "Then the unitary of the transformation is:\n",
    "$$U(t) = e^{-\\frac{i}{\\hbar}\\int_0^tH(t')dt'}$$\n",
    "\n",
    "I believe the convention used in the original CCD paper was to use the + sign in this unitary???\n",
    "That is to say when $|\\psi'\\rangle = U |\\psi\\rangle$ defines the transformation.\n",
    "This amounts to a choice of rotation direction that should not change the underlying system dynamics."
   ]
  },
  {
   "cell_type": "code",
   "execution_count": 45,
   "id": "define-Ut",
   "metadata": {},
   "outputs": [
    {
     "data": {
      "text/latex": [
       "$\\displaystyle \\left[\\begin{matrix}e^{\\frac{i \\left(\\frac{\\Omega \\omega t}{2} - \\epsilon \\sin{\\left(\\omega_{m} t - \\theta_{m} \\right)}\\right)}{\\Omega}} & 0\\\\0 & e^{\\frac{i \\left(- \\frac{\\Omega \\omega t}{2} + \\epsilon \\sin{\\left(\\omega_{m} t - \\theta_{m} \\right)}\\right)}{\\Omega}}\\end{matrix}\\right]$"
      ],
      "text/plain": [
       "Matrix([\n",
       "[exp(I*(Omega*omega*t/2 - epsilon*sin(omega_m*t - theta_m))/Omega),                                                                  0],\n",
       "[                                                                0, exp(I*(-Omega*omega*t/2 + epsilon*sin(omega_m*t - theta_m))/Omega)]])"
      ]
     },
     "execution_count": 45,
     "metadata": {},
     "output_type": "execute_result"
    }
   ],
   "source": [
    "# Define U(t)\n",
    "U = sp.exp(+(sp.I/hbar)  * sp.integrate(frame_ham, t))\n",
    "U"
   ]
  },
  {
   "cell_type": "markdown",
   "id": "7e694dba",
   "metadata": {},
   "source": [
    "!!!note - we define U here with the +ve sign - this 'undoes the time evolution'!!!"
   ]
  },
  {
   "cell_type": "code",
   "execution_count": 46,
   "id": "0a45d8bc",
   "metadata": {},
   "outputs": [
    {
     "data": {
      "text/latex": [
       "$\\displaystyle \\left[\\begin{matrix}\\hbar \\left(\\frac{\\omega t}{2} - \\frac{\\epsilon \\sin{\\left(\\omega_{m} t - \\theta_{m} \\right)}}{\\Omega}\\right) & 0\\\\0 & - \\hbar \\left(\\frac{\\omega t}{2} - \\frac{\\epsilon \\sin{\\left(\\omega_{m} t - \\theta_{m} \\right)}}{\\Omega}\\right)\\end{matrix}\\right]$"
      ],
      "text/plain": [
       "Matrix([\n",
       "[hbar*(omega*t/2 - epsilon*sin(omega_m*t - theta_m)/Omega),                                                          0],\n",
       "[                                                        0, -hbar*(omega*t/2 - epsilon*sin(omega_m*t - theta_m)/Omega)]])"
      ]
     },
     "execution_count": 46,
     "metadata": {},
     "output_type": "execute_result"
    }
   ],
   "source": [
    "sp.integrate(frame_ham, t)"
   ]
  },
  {
   "cell_type": "markdown",
   "id": "f26b12cc",
   "metadata": {},
   "source": [
    "Now we create the lab frame hamiltonian:\n",
    "$$H = \\frac{\\omega_0}{2}\\sigma_z+\\Omega\\cos(\\omega t+\\phi_0-\\frac{2\\epsilon}{\\Omega}\\sin(\\omega_m t-\\theta_m))\\sigma_x$$"
   ]
  },
  {
   "cell_type": "code",
   "execution_count": 47,
   "id": "define-lab-frame-hamiltonian",
   "metadata": {},
   "outputs": [
    {
     "data": {
      "text/latex": [
       "$\\displaystyle \\left[\\begin{matrix}\\frac{\\omega_{0}}{2} & \\Omega \\left(\\frac{e^{i \\left(\\omega t + \\phi_{0} - \\frac{2 \\epsilon \\sin{\\left(\\omega_{m} t - \\theta_{m} \\right)}}{\\Omega}\\right)}}{2} + \\frac{e^{- i \\left(\\omega t + \\phi_{0} - \\frac{2 \\epsilon \\sin{\\left(\\omega_{m} t - \\theta_{m} \\right)}}{\\Omega}\\right)}}{2}\\right)\\\\\\Omega \\left(\\frac{e^{i \\left(\\omega t + \\phi_{0} - \\frac{2 \\epsilon \\sin{\\left(\\omega_{m} t - \\theta_{m} \\right)}}{\\Omega}\\right)}}{2} + \\frac{e^{- i \\left(\\omega t + \\phi_{0} - \\frac{2 \\epsilon \\sin{\\left(\\omega_{m} t - \\theta_{m} \\right)}}{\\Omega}\\right)}}{2}\\right) & - \\frac{\\omega_{0}}{2}\\end{matrix}\\right]$"
      ],
      "text/plain": [
       "Matrix([\n",
       "[                                                                                                                                             omega_0/2, Omega*(exp(I*(omega*t + phi_0 - 2*epsilon*sin(omega_m*t - theta_m)/Omega))/2 + exp(-I*(omega*t + phi_0 - 2*epsilon*sin(omega_m*t - theta_m)/Omega))/2)],\n",
       "[Omega*(exp(I*(omega*t + phi_0 - 2*epsilon*sin(omega_m*t - theta_m)/Omega))/2 + exp(-I*(omega*t + phi_0 - 2*epsilon*sin(omega_m*t - theta_m)/Omega))/2),                                                                                                                                             -omega_0/2]])"
      ]
     },
     "execution_count": 47,
     "metadata": {},
     "output_type": "execute_result"
    }
   ],
   "source": [
    "# Define the lab frame Hamiltonian\n",
    "# Phase modulated CCD Hamiltonian\n",
    "cos_argument = omega * t + phi_0 - (2 * epsilon / Omega) * sp.sin(omega_m * t - theta_m)\n",
    "cos_exp_argument = (sp.exp(sp.I * cos_argument) + sp.exp(-sp.I * cos_argument)) / 2\n",
    "\n",
    "H_lab = sp.Matrix([\n",
    "    [ omega_0 / 2, Omega * cos_exp_argument],\n",
    "    [Omega * cos_exp_argument,   -omega_0 / 2]\n",
    "])\n",
    "H_lab"
   ]
  },
  {
   "cell_type": "markdown",
   "id": "b57ed8a9",
   "metadata": {},
   "source": [
    "Now we find the transformed hamiltonian:\n",
    "\n",
    "\\begin{equation}\n",
    "H_{eff} = \\left( \\hat{U} \\hat{H} \\hat{U}^\\dagger - i\\hbar \\hat{U} \\frac{d\\hat{U}^\\dagger}{dt} \\right) \n",
    "\\end{equation}"
   ]
  },
  {
   "cell_type": "markdown",
   "id": "019f517d",
   "metadata": {},
   "source": [
    "might be - U"
   ]
  },
  {
   "cell_type": "code",
   "execution_count": 48,
   "id": "compute-U-dagger-dt",
   "metadata": {},
   "outputs": [],
   "source": [
    "# Compute U^dagger (Hermitian conjugate of U)\n",
    "U_dagger = U.H\n",
    "# Compute d(U^dagger)/dt\n",
    "U_dagger_dt = sp.diff(U_dagger, t)\n",
    "# Full expression\n",
    "H = U * H_lab * U_dagger - sp.I * U * U_dagger_dt"
   ]
  },
  {
   "cell_type": "code",
   "execution_count": 49,
   "id": "expand-hamiltonian",
   "metadata": {},
   "outputs": [
    {
     "data": {
      "text/latex": [
       "$\\displaystyle \\left[\\begin{matrix}- \\frac{\\omega}{2} + \\frac{\\omega_{0}}{2} + \\frac{\\epsilon \\omega_{m} \\sin{\\left(\\theta_{m} \\right)} \\sin{\\left(\\omega_{m} t \\right)}}{\\Omega} + \\frac{\\epsilon \\omega_{m} \\cos{\\left(\\theta_{m} \\right)} \\cos{\\left(\\omega_{m} t \\right)}}{\\Omega} & \\frac{\\Omega e^{i \\phi_{0}} e^{2 i \\omega t} e^{\\frac{4 i \\epsilon \\sin{\\left(\\theta_{m} \\right)} \\cos{\\left(\\omega_{m} t \\right)}}{\\Omega} - \\frac{4 i \\epsilon \\sin{\\left(\\omega_{m} t \\right)} \\cos{\\left(\\theta_{m} \\right)}}{\\Omega}}}{2} + \\frac{\\Omega e^{- i \\phi_{0}}}{2}\\\\\\frac{\\Omega e^{i \\phi_{0}}}{2} + \\frac{\\Omega e^{- i \\phi_{0}} e^{- 2 i \\omega t} e^{- \\frac{4 i \\epsilon \\sin{\\left(\\theta_{m} \\right)} \\cos{\\left(\\omega_{m} t \\right)}}{\\Omega} + \\frac{4 i \\epsilon \\sin{\\left(\\omega_{m} t \\right)} \\cos{\\left(\\theta_{m} \\right)}}{\\Omega}}}{2} & \\frac{\\omega}{2} - \\frac{\\omega_{0}}{2} - \\frac{\\epsilon \\omega_{m} \\sin{\\left(\\theta_{m} \\right)} \\sin{\\left(\\omega_{m} t \\right)}}{\\Omega} - \\frac{\\epsilon \\omega_{m} \\cos{\\left(\\theta_{m} \\right)} \\cos{\\left(\\omega_{m} t \\right)}}{\\Omega}\\end{matrix}\\right]$"
      ],
      "text/plain": [
       "Matrix([\n",
       "[                                      -omega/2 + omega_0/2 + epsilon*omega_m*sin(theta_m)*sin(omega_m*t)/Omega + epsilon*omega_m*cos(theta_m)*cos(omega_m*t)/Omega, Omega*exp(I*phi_0)*exp(2*I*omega*t)*exp(4*I*epsilon*sin(theta_m)*cos(omega_m*t)/Omega - 4*I*epsilon*sin(omega_m*t)*cos(theta_m)/Omega)/2 + Omega*exp(-I*phi_0)/2],\n",
       "[Omega*exp(I*phi_0)/2 + Omega*exp(-I*phi_0)*exp(-2*I*omega*t)*exp(-4*I*epsilon*sin(theta_m)*cos(omega_m*t)/Omega + 4*I*epsilon*sin(omega_m*t)*cos(theta_m)/Omega)/2,                                      omega/2 - omega_0/2 - epsilon*omega_m*sin(theta_m)*sin(omega_m*t)/Omega - epsilon*omega_m*cos(theta_m)*cos(omega_m*t)/Omega]])"
      ]
     },
     "execution_count": 49,
     "metadata": {},
     "output_type": "execute_result"
    }
   ],
   "source": [
    "# Expand the Hamiltonian\n",
    "H = H.expand(trig=True)\n",
    "H"
   ]
  },
  {
   "cell_type": "markdown",
   "id": "7dc9b13d",
   "metadata": {},
   "source": [
    "Make the RWA approximation - substitute $ e^{\\pm i2\\omega t} \\rightarrow 0 $ on the off diagonals.\n",
    "\n",
    "\n"
   ]
  },
  {
   "cell_type": "code",
   "execution_count": 50,
   "id": "simplify-hamiltonian",
   "metadata": {},
   "outputs": [],
   "source": [
    "# make the hamiltonian mutable\n",
    "H = sp.Matrix(H)\n",
    "\n",
    "# Simplify Hamiltonian by removing fast oscillating terms - RWA\n",
    "H[0, 1] = H[0, 1].subs(sp.exp(2 * sp.I * omega * t), 0)\n",
    "H[1, 0] = H[1, 0].subs(sp.exp(-2 * sp.I * omega * t), 0)\n",
    "\n",
    "# note there is an annoying problem with the substitution of the exp terms \n",
    "# swap the order of the terms in the substitution should resolve"
   ]
  },
  {
   "cell_type": "markdown",
   "id": "3843c450",
   "metadata": {},
   "source": [
    "Now take 'matrix inner product' to find the hamiltonian in pauli matrix basis.\n",
    "And make a substitution for the papers convention for detuning $\\delta = \\omega -\\omega_0$"
   ]
  },
  {
   "cell_type": "code",
   "execution_count": 51,
   "id": "simplify-pauli-matrices",
   "metadata": {},
   "outputs": [
    {
     "data": {
      "text/latex": [
       "$\\displaystyle \\frac{\\Omega \\sigma_{x} \\cos{\\left(\\phi_{0} \\right)}}{2} + \\frac{\\Omega \\sigma_{y} \\sin{\\left(\\phi_{0} \\right)}}{2} + \\frac{\\sigma_{z} \\left(- \\delta + \\frac{2 \\epsilon \\omega_{m} \\cos{\\left(\\omega_{m} t - \\theta_{m} \\right)}}{\\Omega}\\right)}{2}$"
      ],
      "text/plain": [
       "Omega*sigma_x*cos(phi_0)/2 + Omega*sigma_y*sin(phi_0)/2 + sigma_z*(-delta + 2*epsilon*omega_m*cos(omega_m*t - theta_m)/Omega)/2"
      ]
     },
     "execution_count": 51,
     "metadata": {},
     "output_type": "execute_result"
    }
   ],
   "source": [
    "# Simplify Hamiltonian in terms of Pauli matrices\n",
    "# note the half makes the inner product like thing work for the Pauli matrices\n",
    "pauli_expression = sp.Rational(1, 2) *(sp.simplify(sp.trace(H.H * sigma_z)) * sig_sym_z + sp.simplify(sp.trace(H.H * sigma_x)) * sig_sym_x + sp.simplify(sp.trace(H.H * sigma_y)) * sig_sym_y)\n",
    "\n",
    "pauli_expression = pauli_expression.subs(omega-omega_0, delta)\n",
    "pauli_expression"
   ]
  },
  {
   "cell_type": "markdown",
   "id": "f3f87321",
   "metadata": {},
   "source": [
    "The target expression is:\n",
    "\n",
    "\\begin{equation}\n",
    "H_\\mathrm{I} = -\\frac{\\delta}{2}\\sigma_z + \\frac{\\Omega}{2}\\left[\\cos(\\phi_0)\\sigma_x + \\sin(\\phi_0)\\sigma_y\\right] + \\epsilon_\\mathrm{m}\\frac{\\omega_\\mathrm{m}}{\\Omega}\\cos(\\omega_\\mathrm{m}t - \\theta_\\mathrm{m})\\sigma_z,\n",
    "\\end{equation}\n",
    "\n"
   ]
  },
  {
   "cell_type": "markdown",
   "id": "651fc49f",
   "metadata": {},
   "source": [
    "### Need to find the frame defining hamiltonian for the next change"
   ]
  },
  {
   "cell_type": "markdown",
   "id": "265ce00e",
   "metadata": {},
   "source": [
    "Wrap some of the previous work as helper functions"
   ]
  },
  {
   "cell_type": "code",
   "execution_count": 8,
   "id": "a3b2452d",
   "metadata": {},
   "outputs": [],
   "source": [
    "def transform_hamiltonian(frame_ham, H_lab, t):\n",
    "    \"\"\"Transforms a hamiltonian from the lab frame to the rotating frame. Does not include the RWA.\"\"\"\n",
    "    # Define the unitary matrix U\n",
    "    U = sp.exp(-(sp.I) * sp.integrate(frame_ham, t)) #/ hbar - depending on definitions\n",
    "\n",
    "    \n",
    "    # Compute U^dagger (Hermitian conjugate of U)\n",
    "    U_dagger = U.H\n",
    "    \n",
    "\n",
    "    # Compute d(U^dagger)/dt\n",
    "    U_dagger_dt = sp.diff(U_dagger, t)\n",
    "    \n",
    "    # Full expression for the transformed Hamiltonian\n",
    "    H_transformed = U * H_lab * U_dagger + sp.I * U * U_dagger_dt\n",
    "    \n",
    "    return H_transformed\n",
    "\n",
    "def matrix_to_pauli_basis(H):\n",
    "    \"\"\"Transforms a Hamiltonian to the Pauli basis.\"\"\"\n",
    "    # Define Pauli matrices\n",
    "    sigma_x = sp.Matrix([[0, 1], [1, 0]])\n",
    "    sigma_y = sp.Matrix([[0, -sp.I], [sp.I, 0]])\n",
    "    sigma_z = sp.Matrix([[1, 0], [0, -1]])\n",
    "    \n",
    "    # Define symbolic Pauli matrices\n",
    "    sig_sym_x, sig_sym_y, sig_sym_z = sp.symbols('sigma_x sigma_y sigma_z', real=True)\n",
    "    \n",
    "    # Compute the Pauli basis expression\n",
    "    pauli_expression = sp.Rational(1, 2) * (\n",
    "        sp.simplify(sp.trace(H.H * sigma_z)) * sig_sym_z +\n",
    "        sp.simplify(sp.trace(H.H * sigma_x)) * sig_sym_x +\n",
    "        sp.simplify(sp.trace(H.H * sigma_y)) * sig_sym_y\n",
    "    )\n",
    "    \n",
    "    return pauli_expression"
   ]
  },
  {
   "cell_type": "markdown",
   "id": "2037408e",
   "metadata": {},
   "source": [
    "Hamiltonian in the first rotating frame:"
   ]
  },
  {
   "cell_type": "code",
   "execution_count": 17,
   "id": "e9f8735d",
   "metadata": {},
   "outputs": [
    {
     "data": {
      "text/latex": [
       "$\\displaystyle \\frac{\\Omega \\sigma_{x} \\cos{\\left(\\phi_{0} \\right)}}{2} + \\frac{\\Omega \\sigma_{y} \\sin{\\left(\\phi_{0} \\right)}}{2} + \\frac{\\sigma_{z} \\left(- \\delta + \\frac{2 \\epsilon \\omega_{m} \\cos{\\left(\\omega_{m} t - \\theta_{m} \\right)}}{\\Omega}\\right)}{2}$"
      ],
      "text/plain": [
       "Omega*sigma_x*cos(phi_0)/2 + Omega*sigma_y*sin(phi_0)/2 + sigma_z*(-delta + 2*epsilon*omega_m*cos(omega_m*t - theta_m)/Omega)/2"
      ]
     },
     "execution_count": 17,
     "metadata": {},
     "output_type": "execute_result"
    }
   ],
   "source": [
    "Hamiltonian_first_frame = -delta/2 * sigma_z + Omega/2 * (sp.cos(phi_0) * sigma_x + sp.sin(phi_0) * sigma_y) + epsilon * omega_m / Omega * sp.cos(omega_m * t - theta_m) * sigma_z\n",
    "matrix_to_pauli_basis(Hamiltonian_first_frame)"
   ]
  },
  {
   "cell_type": "markdown",
   "id": "7a4f42da",
   "metadata": {},
   "source": [
    "Hamiltonian that defines the second rotating frame (note this is the same as the static field in the first rotating frae when $\\delta = 0$ like simple Rabi oscillations)\n",
    "\n",
    "the rotating frame is defined with $\\omega_m$ - think about matching normal rabi oscillations - the first term is just the zeeman splitting\n",
    "can I just set delta = 0"
   ]
  },
  {
   "cell_type": "code",
   "execution_count": 16,
   "id": "f5925b40",
   "metadata": {},
   "outputs": [
    {
     "data": {
      "text/latex": [
       "$\\displaystyle \\left[\\begin{matrix}0 & \\frac{\\omega_{m} \\left(- i \\sin{\\left(\\phi_{0} \\right)} + \\cos{\\left(\\phi_{0} \\right)}\\right)}{2}\\\\\\frac{\\omega_{m} \\left(i \\sin{\\left(\\phi_{0} \\right)} + \\cos{\\left(\\phi_{0} \\right)}\\right)}{2} & 0\\end{matrix}\\right]$"
      ],
      "text/plain": [
       "Matrix([\n",
       "[                                    0, omega_m*(-I*sin(phi_0) + cos(phi_0))/2],\n",
       "[omega_m*(I*sin(phi_0) + cos(phi_0))/2,                                      0]])"
      ]
     },
     "execution_count": 16,
     "metadata": {},
     "output_type": "execute_result"
    }
   ],
   "source": [
    "Hamiltonian_define_second = (omega_m / 2) * (sp.cos(phi_0) * sigma_x + sp.sin(phi_0) * sigma_y)\n",
    "Hamiltonian_define_second\n"
   ]
  },
  {
   "cell_type": "markdown",
   "id": "a44985db",
   "metadata": {},
   "source": [
    "Remembering that it should be $e^+...$ and $UHU^\\dag-iU\\frac{dU^\\dag}{dt}$"
   ]
  },
  {
   "cell_type": "code",
   "execution_count": 18,
   "id": "f5d2c6fe",
   "metadata": {},
   "outputs": [
    {
     "data": {
      "text/latex": [
       "$\\displaystyle \\left[\\begin{matrix}\\left(\\frac{\\Omega \\left(- i \\sin{\\left(\\phi_{0} \\right)} + \\cos{\\left(\\phi_{0} \\right)}\\right) \\left(\\frac{\\left(- i \\sin{\\left(\\phi_{0} \\right)} + \\cos{\\left(\\phi_{0} \\right)}\\right) e^{i \\phi_{0}} e^{\\frac{i \\omega_{m} t}{2}}}{2} - \\frac{\\left(i \\sin{\\left(\\phi_{0} \\right)} - \\cos{\\left(\\phi_{0} \\right)}\\right) e^{i \\phi_{0}} e^{- \\frac{i \\omega_{m} t}{2}}}{2}\\right)}{2} + \\left(\\frac{\\delta}{2} - \\frac{\\epsilon \\omega_{m} \\cos{\\left(\\omega_{m} t - \\theta_{m} \\right)}}{\\Omega}\\right) \\left(\\left(- i \\sin{\\left(\\phi_{0} \\right)} + \\cos{\\left(\\phi_{0} \\right)}\\right) \\left(- \\frac{i e^{i \\phi_{0}} \\sin{\\left(\\phi_{0} \\right)}}{2} + \\frac{e^{i \\phi_{0}} \\cos{\\left(\\phi_{0} \\right)}}{2}\\right) e^{\\frac{i \\omega_{m} t}{2}} + \\left(i \\sin{\\left(\\phi_{0} \\right)} - \\cos{\\left(\\phi_{0} \\right)}\\right) \\left(\\frac{i e^{i \\phi_{0}} \\sin{\\left(\\phi_{0} \\right)}}{2} - \\frac{e^{i \\phi_{0}} \\cos{\\left(\\phi_{0} \\right)}}{2} + 1\\right) e^{- \\frac{i \\omega_{m} t}{2}}\\right)\\right) \\left(\\left(- i \\sin{\\left(\\phi_{0} \\right)} - \\cos{\\left(\\phi_{0} \\right)}\\right) \\left(1 - \\frac{i e^{- i \\phi_{0}} \\sin{\\left(\\phi_{0} \\right)}}{2} - \\frac{e^{- i \\phi_{0}} \\cos{\\left(\\phi_{0} \\right)}}{2}\\right) e^{\\frac{i \\omega_{m} t}{2}} + \\left(i \\sin{\\left(\\phi_{0} \\right)} + \\cos{\\left(\\phi_{0} \\right)}\\right) \\left(\\frac{i e^{- i \\phi_{0}} \\sin{\\left(\\phi_{0} \\right)}}{2} + \\frac{e^{- i \\phi_{0}} \\cos{\\left(\\phi_{0} \\right)}}{2}\\right) e^{- \\frac{i \\omega_{m} t}{2}}\\right) + \\left(\\frac{\\Omega \\left(i \\sin{\\left(\\phi_{0} \\right)} + \\cos{\\left(\\phi_{0} \\right)}\\right) \\left(\\left(- i \\sin{\\left(\\phi_{0} \\right)} + \\cos{\\left(\\phi_{0} \\right)}\\right) \\left(- \\frac{i e^{i \\phi_{0}} \\sin{\\left(\\phi_{0} \\right)}}{2} + \\frac{e^{i \\phi_{0}} \\cos{\\left(\\phi_{0} \\right)}}{2}\\right) e^{\\frac{i \\omega_{m} t}{2}} + \\left(i \\sin{\\left(\\phi_{0} \\right)} - \\cos{\\left(\\phi_{0} \\right)}\\right) \\left(\\frac{i e^{i \\phi_{0}} \\sin{\\left(\\phi_{0} \\right)}}{2} - \\frac{e^{i \\phi_{0}} \\cos{\\left(\\phi_{0} \\right)}}{2} + 1\\right) e^{- \\frac{i \\omega_{m} t}{2}}\\right)}{2} + \\left(- \\frac{\\delta}{2} + \\frac{\\epsilon \\omega_{m} \\cos{\\left(\\omega_{m} t - \\theta_{m} \\right)}}{\\Omega}\\right) \\left(\\frac{\\left(- i \\sin{\\left(\\phi_{0} \\right)} + \\cos{\\left(\\phi_{0} \\right)}\\right) e^{i \\phi_{0}} e^{\\frac{i \\omega_{m} t}{2}}}{2} - \\frac{\\left(i \\sin{\\left(\\phi_{0} \\right)} - \\cos{\\left(\\phi_{0} \\right)}\\right) e^{i \\phi_{0}} e^{- \\frac{i \\omega_{m} t}{2}}}{2}\\right)\\right) \\left(- \\frac{\\left(- i \\sin{\\left(\\phi_{0} \\right)} - \\cos{\\left(\\phi_{0} \\right)}\\right) e^{- i \\phi_{0}} e^{\\frac{i \\omega_{m} t}{2}}}{2} + \\frac{\\left(i \\sin{\\left(\\phi_{0} \\right)} + \\cos{\\left(\\phi_{0} \\right)}\\right) e^{- i \\phi_{0}} e^{- \\frac{i \\omega_{m} t}{2}}}{2}\\right) - i \\left(\\left(- i \\sin{\\left(\\phi_{0} \\right)} + \\cos{\\left(\\phi_{0} \\right)}\\right) \\left(- \\frac{i e^{i \\phi_{0}} \\sin{\\left(\\phi_{0} \\right)}}{2} + \\frac{e^{i \\phi_{0}} \\cos{\\left(\\phi_{0} \\right)}}{2}\\right) e^{\\frac{i \\omega_{m} t}{2}} + \\left(i \\sin{\\left(\\phi_{0} \\right)} - \\cos{\\left(\\phi_{0} \\right)}\\right) \\left(\\frac{i e^{i \\phi_{0}} \\sin{\\left(\\phi_{0} \\right)}}{2} - \\frac{e^{i \\phi_{0}} \\cos{\\left(\\phi_{0} \\right)}}{2} + 1\\right) e^{- \\frac{i \\omega_{m} t}{2}}\\right) \\left(\\frac{i \\omega_{m} \\left(- i \\sin{\\left(\\phi_{0} \\right)} - \\cos{\\left(\\phi_{0} \\right)}\\right) \\left(1 - \\frac{i e^{- i \\phi_{0}} \\sin{\\left(\\phi_{0} \\right)}}{2} - \\frac{e^{- i \\phi_{0}} \\cos{\\left(\\phi_{0} \\right)}}{2}\\right) e^{\\frac{i \\omega_{m} t}{2}}}{2} - \\frac{i \\omega_{m} \\left(i \\sin{\\left(\\phi_{0} \\right)} + \\cos{\\left(\\phi_{0} \\right)}\\right) \\left(\\frac{i e^{- i \\phi_{0}} \\sin{\\left(\\phi_{0} \\right)}}{2} + \\frac{e^{- i \\phi_{0}} \\cos{\\left(\\phi_{0} \\right)}}{2}\\right) e^{- \\frac{i \\omega_{m} t}{2}}}{2}\\right) - i \\left(\\frac{\\left(- i \\sin{\\left(\\phi_{0} \\right)} + \\cos{\\left(\\phi_{0} \\right)}\\right) e^{i \\phi_{0}} e^{\\frac{i \\omega_{m} t}{2}}}{2} - \\frac{\\left(i \\sin{\\left(\\phi_{0} \\right)} - \\cos{\\left(\\phi_{0} \\right)}\\right) e^{i \\phi_{0}} e^{- \\frac{i \\omega_{m} t}{2}}}{2}\\right) \\left(- \\frac{i \\omega_{m} \\left(- i \\sin{\\left(\\phi_{0} \\right)} - \\cos{\\left(\\phi_{0} \\right)}\\right) e^{- i \\phi_{0}} e^{\\frac{i \\omega_{m} t}{2}}}{4} - \\frac{i \\omega_{m} \\left(i \\sin{\\left(\\phi_{0} \\right)} + \\cos{\\left(\\phi_{0} \\right)}\\right) e^{- i \\phi_{0}} e^{- \\frac{i \\omega_{m} t}{2}}}{4}\\right) & \\left(\\left(\\frac{i e^{- i \\phi_{0}} \\sin{\\left(\\phi_{0} \\right)}}{2} + \\frac{e^{- i \\phi_{0}} \\cos{\\left(\\phi_{0} \\right)}}{2}\\right) e^{- \\frac{i \\omega_{m} t}{2}} + \\left(1 - \\frac{i e^{- i \\phi_{0}} \\sin{\\left(\\phi_{0} \\right)}}{2} - \\frac{e^{- i \\phi_{0}} \\cos{\\left(\\phi_{0} \\right)}}{2}\\right) e^{\\frac{i \\omega_{m} t}{2}}\\right) \\left(\\frac{\\Omega \\left(- i \\sin{\\left(\\phi_{0} \\right)} + \\cos{\\left(\\phi_{0} \\right)}\\right) \\left(\\frac{\\left(- i \\sin{\\left(\\phi_{0} \\right)} + \\cos{\\left(\\phi_{0} \\right)}\\right) e^{i \\phi_{0}} e^{\\frac{i \\omega_{m} t}{2}}}{2} - \\frac{\\left(i \\sin{\\left(\\phi_{0} \\right)} - \\cos{\\left(\\phi_{0} \\right)}\\right) e^{i \\phi_{0}} e^{- \\frac{i \\omega_{m} t}{2}}}{2}\\right)}{2} + \\left(\\frac{\\delta}{2} - \\frac{\\epsilon \\omega_{m} \\cos{\\left(\\omega_{m} t - \\theta_{m} \\right)}}{\\Omega}\\right) \\left(\\left(- i \\sin{\\left(\\phi_{0} \\right)} + \\cos{\\left(\\phi_{0} \\right)}\\right) \\left(- \\frac{i e^{i \\phi_{0}} \\sin{\\left(\\phi_{0} \\right)}}{2} + \\frac{e^{i \\phi_{0}} \\cos{\\left(\\phi_{0} \\right)}}{2}\\right) e^{\\frac{i \\omega_{m} t}{2}} + \\left(i \\sin{\\left(\\phi_{0} \\right)} - \\cos{\\left(\\phi_{0} \\right)}\\right) \\left(\\frac{i e^{i \\phi_{0}} \\sin{\\left(\\phi_{0} \\right)}}{2} - \\frac{e^{i \\phi_{0}} \\cos{\\left(\\phi_{0} \\right)}}{2} + 1\\right) e^{- \\frac{i \\omega_{m} t}{2}}\\right)\\right) + \\left(- \\frac{e^{- i \\phi_{0}} e^{\\frac{i \\omega_{m} t}{2}}}{2} + \\frac{e^{- i \\phi_{0}} e^{- \\frac{i \\omega_{m} t}{2}}}{2}\\right) \\left(\\frac{\\Omega \\left(i \\sin{\\left(\\phi_{0} \\right)} + \\cos{\\left(\\phi_{0} \\right)}\\right) \\left(\\left(- i \\sin{\\left(\\phi_{0} \\right)} + \\cos{\\left(\\phi_{0} \\right)}\\right) \\left(- \\frac{i e^{i \\phi_{0}} \\sin{\\left(\\phi_{0} \\right)}}{2} + \\frac{e^{i \\phi_{0}} \\cos{\\left(\\phi_{0} \\right)}}{2}\\right) e^{\\frac{i \\omega_{m} t}{2}} + \\left(i \\sin{\\left(\\phi_{0} \\right)} - \\cos{\\left(\\phi_{0} \\right)}\\right) \\left(\\frac{i e^{i \\phi_{0}} \\sin{\\left(\\phi_{0} \\right)}}{2} - \\frac{e^{i \\phi_{0}} \\cos{\\left(\\phi_{0} \\right)}}{2} + 1\\right) e^{- \\frac{i \\omega_{m} t}{2}}\\right)}{2} + \\left(- \\frac{\\delta}{2} + \\frac{\\epsilon \\omega_{m} \\cos{\\left(\\omega_{m} t - \\theta_{m} \\right)}}{\\Omega}\\right) \\left(\\frac{\\left(- i \\sin{\\left(\\phi_{0} \\right)} + \\cos{\\left(\\phi_{0} \\right)}\\right) e^{i \\phi_{0}} e^{\\frac{i \\omega_{m} t}{2}}}{2} - \\frac{\\left(i \\sin{\\left(\\phi_{0} \\right)} - \\cos{\\left(\\phi_{0} \\right)}\\right) e^{i \\phi_{0}} e^{- \\frac{i \\omega_{m} t}{2}}}{2}\\right)\\right) - i \\left(\\left(- i \\sin{\\left(\\phi_{0} \\right)} + \\cos{\\left(\\phi_{0} \\right)}\\right) \\left(- \\frac{i e^{i \\phi_{0}} \\sin{\\left(\\phi_{0} \\right)}}{2} + \\frac{e^{i \\phi_{0}} \\cos{\\left(\\phi_{0} \\right)}}{2}\\right) e^{\\frac{i \\omega_{m} t}{2}} + \\left(i \\sin{\\left(\\phi_{0} \\right)} - \\cos{\\left(\\phi_{0} \\right)}\\right) \\left(\\frac{i e^{i \\phi_{0}} \\sin{\\left(\\phi_{0} \\right)}}{2} - \\frac{e^{i \\phi_{0}} \\cos{\\left(\\phi_{0} \\right)}}{2} + 1\\right) e^{- \\frac{i \\omega_{m} t}{2}}\\right) \\left(- \\frac{i \\omega_{m} \\left(\\frac{i e^{- i \\phi_{0}} \\sin{\\left(\\phi_{0} \\right)}}{2} + \\frac{e^{- i \\phi_{0}} \\cos{\\left(\\phi_{0} \\right)}}{2}\\right) e^{- \\frac{i \\omega_{m} t}{2}}}{2} + \\frac{i \\omega_{m} \\left(1 - \\frac{i e^{- i \\phi_{0}} \\sin{\\left(\\phi_{0} \\right)}}{2} - \\frac{e^{- i \\phi_{0}} \\cos{\\left(\\phi_{0} \\right)}}{2}\\right) e^{\\frac{i \\omega_{m} t}{2}}}{2}\\right) - i \\left(\\frac{\\left(- i \\sin{\\left(\\phi_{0} \\right)} + \\cos{\\left(\\phi_{0} \\right)}\\right) e^{i \\phi_{0}} e^{\\frac{i \\omega_{m} t}{2}}}{2} - \\frac{\\left(i \\sin{\\left(\\phi_{0} \\right)} - \\cos{\\left(\\phi_{0} \\right)}\\right) e^{i \\phi_{0}} e^{- \\frac{i \\omega_{m} t}{2}}}{2}\\right) \\left(- \\frac{i \\omega_{m} e^{- i \\phi_{0}} e^{\\frac{i \\omega_{m} t}{2}}}{4} - \\frac{i \\omega_{m} e^{- i \\phi_{0}} e^{- \\frac{i \\omega_{m} t}{2}}}{4}\\right)\\\\- i \\left(\\left(- \\frac{i e^{i \\phi_{0}} \\sin{\\left(\\phi_{0} \\right)}}{2} + \\frac{e^{i \\phi_{0}} \\cos{\\left(\\phi_{0} \\right)}}{2}\\right) e^{\\frac{i \\omega_{m} t}{2}} + \\left(\\frac{i e^{i \\phi_{0}} \\sin{\\left(\\phi_{0} \\right)}}{2} - \\frac{e^{i \\phi_{0}} \\cos{\\left(\\phi_{0} \\right)}}{2} + 1\\right) e^{- \\frac{i \\omega_{m} t}{2}}\\right) \\left(\\frac{i \\omega_{m} \\left(- i \\sin{\\left(\\phi_{0} \\right)} - \\cos{\\left(\\phi_{0} \\right)}\\right) \\left(1 - \\frac{i e^{- i \\phi_{0}} \\sin{\\left(\\phi_{0} \\right)}}{2} - \\frac{e^{- i \\phi_{0}} \\cos{\\left(\\phi_{0} \\right)}}{2}\\right) e^{\\frac{i \\omega_{m} t}{2}}}{2} - \\frac{i \\omega_{m} \\left(i \\sin{\\left(\\phi_{0} \\right)} + \\cos{\\left(\\phi_{0} \\right)}\\right) \\left(\\frac{i e^{- i \\phi_{0}} \\sin{\\left(\\phi_{0} \\right)}}{2} + \\frac{e^{- i \\phi_{0}} \\cos{\\left(\\phi_{0} \\right)}}{2}\\right) e^{- \\frac{i \\omega_{m} t}{2}}}{2}\\right) - i \\left(\\frac{e^{i \\phi_{0}} e^{\\frac{i \\omega_{m} t}{2}}}{2} - \\frac{e^{i \\phi_{0}} e^{- \\frac{i \\omega_{m} t}{2}}}{2}\\right) \\left(- \\frac{i \\omega_{m} \\left(- i \\sin{\\left(\\phi_{0} \\right)} - \\cos{\\left(\\phi_{0} \\right)}\\right) e^{- i \\phi_{0}} e^{\\frac{i \\omega_{m} t}{2}}}{4} - \\frac{i \\omega_{m} \\left(i \\sin{\\left(\\phi_{0} \\right)} + \\cos{\\left(\\phi_{0} \\right)}\\right) e^{- i \\phi_{0}} e^{- \\frac{i \\omega_{m} t}{2}}}{4}\\right) + \\left(\\frac{\\Omega \\left(- i \\sin{\\left(\\phi_{0} \\right)} + \\cos{\\left(\\phi_{0} \\right)}\\right) \\left(\\frac{e^{i \\phi_{0}} e^{\\frac{i \\omega_{m} t}{2}}}{2} - \\frac{e^{i \\phi_{0}} e^{- \\frac{i \\omega_{m} t}{2}}}{2}\\right)}{2} + \\left(\\frac{\\delta}{2} - \\frac{\\epsilon \\omega_{m} \\cos{\\left(\\omega_{m} t - \\theta_{m} \\right)}}{\\Omega}\\right) \\left(\\left(- \\frac{i e^{i \\phi_{0}} \\sin{\\left(\\phi_{0} \\right)}}{2} + \\frac{e^{i \\phi_{0}} \\cos{\\left(\\phi_{0} \\right)}}{2}\\right) e^{\\frac{i \\omega_{m} t}{2}} + \\left(\\frac{i e^{i \\phi_{0}} \\sin{\\left(\\phi_{0} \\right)}}{2} - \\frac{e^{i \\phi_{0}} \\cos{\\left(\\phi_{0} \\right)}}{2} + 1\\right) e^{- \\frac{i \\omega_{m} t}{2}}\\right)\\right) \\left(\\left(- i \\sin{\\left(\\phi_{0} \\right)} - \\cos{\\left(\\phi_{0} \\right)}\\right) \\left(1 - \\frac{i e^{- i \\phi_{0}} \\sin{\\left(\\phi_{0} \\right)}}{2} - \\frac{e^{- i \\phi_{0}} \\cos{\\left(\\phi_{0} \\right)}}{2}\\right) e^{\\frac{i \\omega_{m} t}{2}} + \\left(i \\sin{\\left(\\phi_{0} \\right)} + \\cos{\\left(\\phi_{0} \\right)}\\right) \\left(\\frac{i e^{- i \\phi_{0}} \\sin{\\left(\\phi_{0} \\right)}}{2} + \\frac{e^{- i \\phi_{0}} \\cos{\\left(\\phi_{0} \\right)}}{2}\\right) e^{- \\frac{i \\omega_{m} t}{2}}\\right) + \\left(\\frac{\\Omega \\left(i \\sin{\\left(\\phi_{0} \\right)} + \\cos{\\left(\\phi_{0} \\right)}\\right) \\left(\\left(- \\frac{i e^{i \\phi_{0}} \\sin{\\left(\\phi_{0} \\right)}}{2} + \\frac{e^{i \\phi_{0}} \\cos{\\left(\\phi_{0} \\right)}}{2}\\right) e^{\\frac{i \\omega_{m} t}{2}} + \\left(\\frac{i e^{i \\phi_{0}} \\sin{\\left(\\phi_{0} \\right)}}{2} - \\frac{e^{i \\phi_{0}} \\cos{\\left(\\phi_{0} \\right)}}{2} + 1\\right) e^{- \\frac{i \\omega_{m} t}{2}}\\right)}{2} + \\left(- \\frac{\\delta}{2} + \\frac{\\epsilon \\omega_{m} \\cos{\\left(\\omega_{m} t - \\theta_{m} \\right)}}{\\Omega}\\right) \\left(\\frac{e^{i \\phi_{0}} e^{\\frac{i \\omega_{m} t}{2}}}{2} - \\frac{e^{i \\phi_{0}} e^{- \\frac{i \\omega_{m} t}{2}}}{2}\\right)\\right) \\left(- \\frac{\\left(- i \\sin{\\left(\\phi_{0} \\right)} - \\cos{\\left(\\phi_{0} \\right)}\\right) e^{- i \\phi_{0}} e^{\\frac{i \\omega_{m} t}{2}}}{2} + \\frac{\\left(i \\sin{\\left(\\phi_{0} \\right)} + \\cos{\\left(\\phi_{0} \\right)}\\right) e^{- i \\phi_{0}} e^{- \\frac{i \\omega_{m} t}{2}}}{2}\\right) & \\left(\\left(\\frac{i e^{- i \\phi_{0}} \\sin{\\left(\\phi_{0} \\right)}}{2} + \\frac{e^{- i \\phi_{0}} \\cos{\\left(\\phi_{0} \\right)}}{2}\\right) e^{- \\frac{i \\omega_{m} t}{2}} + \\left(1 - \\frac{i e^{- i \\phi_{0}} \\sin{\\left(\\phi_{0} \\right)}}{2} - \\frac{e^{- i \\phi_{0}} \\cos{\\left(\\phi_{0} \\right)}}{2}\\right) e^{\\frac{i \\omega_{m} t}{2}}\\right) \\left(\\frac{\\Omega \\left(- i \\sin{\\left(\\phi_{0} \\right)} + \\cos{\\left(\\phi_{0} \\right)}\\right) \\left(\\frac{e^{i \\phi_{0}} e^{\\frac{i \\omega_{m} t}{2}}}{2} - \\frac{e^{i \\phi_{0}} e^{- \\frac{i \\omega_{m} t}{2}}}{2}\\right)}{2} + \\left(\\frac{\\delta}{2} - \\frac{\\epsilon \\omega_{m} \\cos{\\left(\\omega_{m} t - \\theta_{m} \\right)}}{\\Omega}\\right) \\left(\\left(- \\frac{i e^{i \\phi_{0}} \\sin{\\left(\\phi_{0} \\right)}}{2} + \\frac{e^{i \\phi_{0}} \\cos{\\left(\\phi_{0} \\right)}}{2}\\right) e^{\\frac{i \\omega_{m} t}{2}} + \\left(\\frac{i e^{i \\phi_{0}} \\sin{\\left(\\phi_{0} \\right)}}{2} - \\frac{e^{i \\phi_{0}} \\cos{\\left(\\phi_{0} \\right)}}{2} + 1\\right) e^{- \\frac{i \\omega_{m} t}{2}}\\right)\\right) - i \\left(\\left(- \\frac{i e^{i \\phi_{0}} \\sin{\\left(\\phi_{0} \\right)}}{2} + \\frac{e^{i \\phi_{0}} \\cos{\\left(\\phi_{0} \\right)}}{2}\\right) e^{\\frac{i \\omega_{m} t}{2}} + \\left(\\frac{i e^{i \\phi_{0}} \\sin{\\left(\\phi_{0} \\right)}}{2} - \\frac{e^{i \\phi_{0}} \\cos{\\left(\\phi_{0} \\right)}}{2} + 1\\right) e^{- \\frac{i \\omega_{m} t}{2}}\\right) \\left(- \\frac{i \\omega_{m} \\left(\\frac{i e^{- i \\phi_{0}} \\sin{\\left(\\phi_{0} \\right)}}{2} + \\frac{e^{- i \\phi_{0}} \\cos{\\left(\\phi_{0} \\right)}}{2}\\right) e^{- \\frac{i \\omega_{m} t}{2}}}{2} + \\frac{i \\omega_{m} \\left(1 - \\frac{i e^{- i \\phi_{0}} \\sin{\\left(\\phi_{0} \\right)}}{2} - \\frac{e^{- i \\phi_{0}} \\cos{\\left(\\phi_{0} \\right)}}{2}\\right) e^{\\frac{i \\omega_{m} t}{2}}}{2}\\right) + \\left(- \\frac{e^{- i \\phi_{0}} e^{\\frac{i \\omega_{m} t}{2}}}{2} + \\frac{e^{- i \\phi_{0}} e^{- \\frac{i \\omega_{m} t}{2}}}{2}\\right) \\left(\\frac{\\Omega \\left(i \\sin{\\left(\\phi_{0} \\right)} + \\cos{\\left(\\phi_{0} \\right)}\\right) \\left(\\left(- \\frac{i e^{i \\phi_{0}} \\sin{\\left(\\phi_{0} \\right)}}{2} + \\frac{e^{i \\phi_{0}} \\cos{\\left(\\phi_{0} \\right)}}{2}\\right) e^{\\frac{i \\omega_{m} t}{2}} + \\left(\\frac{i e^{i \\phi_{0}} \\sin{\\left(\\phi_{0} \\right)}}{2} - \\frac{e^{i \\phi_{0}} \\cos{\\left(\\phi_{0} \\right)}}{2} + 1\\right) e^{- \\frac{i \\omega_{m} t}{2}}\\right)}{2} + \\left(- \\frac{\\delta}{2} + \\frac{\\epsilon \\omega_{m} \\cos{\\left(\\omega_{m} t - \\theta_{m} \\right)}}{\\Omega}\\right) \\left(\\frac{e^{i \\phi_{0}} e^{\\frac{i \\omega_{m} t}{2}}}{2} - \\frac{e^{i \\phi_{0}} e^{- \\frac{i \\omega_{m} t}{2}}}{2}\\right)\\right) - i \\left(\\frac{e^{i \\phi_{0}} e^{\\frac{i \\omega_{m} t}{2}}}{2} - \\frac{e^{i \\phi_{0}} e^{- \\frac{i \\omega_{m} t}{2}}}{2}\\right) \\left(- \\frac{i \\omega_{m} e^{- i \\phi_{0}} e^{\\frac{i \\omega_{m} t}{2}}}{4} - \\frac{i \\omega_{m} e^{- i \\phi_{0}} e^{- \\frac{i \\omega_{m} t}{2}}}{4}\\right)\\end{matrix}\\right]$"
      ],
      "text/plain": [
       "Matrix([\n",
       "[(Omega*(-I*sin(phi_0) + cos(phi_0))*((-I*sin(phi_0) + cos(phi_0))*exp(I*phi_0)*exp(I*omega_m*t/2)/2 - (I*sin(phi_0) - cos(phi_0))*exp(I*phi_0)*exp(-I*omega_m*t/2)/2)/2 + (delta/2 - epsilon*omega_m*cos(omega_m*t - theta_m)/Omega)*((-I*sin(phi_0) + cos(phi_0))*(-I*exp(I*phi_0)*sin(phi_0)/2 + exp(I*phi_0)*cos(phi_0)/2)*exp(I*omega_m*t/2) + (I*sin(phi_0) - cos(phi_0))*(I*exp(I*phi_0)*sin(phi_0)/2 - exp(I*phi_0)*cos(phi_0)/2 + 1)*exp(-I*omega_m*t/2)))*((-I*sin(phi_0) - cos(phi_0))*(1 - I*exp(-I*phi_0)*sin(phi_0)/2 - exp(-I*phi_0)*cos(phi_0)/2)*exp(I*omega_m*t/2) + (I*sin(phi_0) + cos(phi_0))*(I*exp(-I*phi_0)*sin(phi_0)/2 + exp(-I*phi_0)*cos(phi_0)/2)*exp(-I*omega_m*t/2)) + (Omega*(I*sin(phi_0) + cos(phi_0))*((-I*sin(phi_0) + cos(phi_0))*(-I*exp(I*phi_0)*sin(phi_0)/2 + exp(I*phi_0)*cos(phi_0)/2)*exp(I*omega_m*t/2) + (I*sin(phi_0) - cos(phi_0))*(I*exp(I*phi_0)*sin(phi_0)/2 - exp(I*phi_0)*cos(phi_0)/2 + 1)*exp(-I*omega_m*t/2))/2 + (-delta/2 + epsilon*omega_m*cos(omega_m*t - theta_m)/Omega)*((-I*sin(phi_0) + cos(phi_0))*exp(I*phi_0)*exp(I*omega_m*t/2)/2 - (I*sin(phi_0) - cos(phi_0))*exp(I*phi_0)*exp(-I*omega_m*t/2)/2))*(-(-I*sin(phi_0) - cos(phi_0))*exp(-I*phi_0)*exp(I*omega_m*t/2)/2 + (I*sin(phi_0) + cos(phi_0))*exp(-I*phi_0)*exp(-I*omega_m*t/2)/2) - I*((-I*sin(phi_0) + cos(phi_0))*(-I*exp(I*phi_0)*sin(phi_0)/2 + exp(I*phi_0)*cos(phi_0)/2)*exp(I*omega_m*t/2) + (I*sin(phi_0) - cos(phi_0))*(I*exp(I*phi_0)*sin(phi_0)/2 - exp(I*phi_0)*cos(phi_0)/2 + 1)*exp(-I*omega_m*t/2))*(I*omega_m*(-I*sin(phi_0) - cos(phi_0))*(1 - I*exp(-I*phi_0)*sin(phi_0)/2 - exp(-I*phi_0)*cos(phi_0)/2)*exp(I*omega_m*t/2)/2 - I*omega_m*(I*sin(phi_0) + cos(phi_0))*(I*exp(-I*phi_0)*sin(phi_0)/2 + exp(-I*phi_0)*cos(phi_0)/2)*exp(-I*omega_m*t/2)/2) - I*((-I*sin(phi_0) + cos(phi_0))*exp(I*phi_0)*exp(I*omega_m*t/2)/2 - (I*sin(phi_0) - cos(phi_0))*exp(I*phi_0)*exp(-I*omega_m*t/2)/2)*(-I*omega_m*(-I*sin(phi_0) - cos(phi_0))*exp(-I*phi_0)*exp(I*omega_m*t/2)/4 - I*omega_m*(I*sin(phi_0) + cos(phi_0))*exp(-I*phi_0)*exp(-I*omega_m*t/2)/4), ((I*exp(-I*phi_0)*sin(phi_0)/2 + exp(-I*phi_0)*cos(phi_0)/2)*exp(-I*omega_m*t/2) + (1 - I*exp(-I*phi_0)*sin(phi_0)/2 - exp(-I*phi_0)*cos(phi_0)/2)*exp(I*omega_m*t/2))*(Omega*(-I*sin(phi_0) + cos(phi_0))*((-I*sin(phi_0) + cos(phi_0))*exp(I*phi_0)*exp(I*omega_m*t/2)/2 - (I*sin(phi_0) - cos(phi_0))*exp(I*phi_0)*exp(-I*omega_m*t/2)/2)/2 + (delta/2 - epsilon*omega_m*cos(omega_m*t - theta_m)/Omega)*((-I*sin(phi_0) + cos(phi_0))*(-I*exp(I*phi_0)*sin(phi_0)/2 + exp(I*phi_0)*cos(phi_0)/2)*exp(I*omega_m*t/2) + (I*sin(phi_0) - cos(phi_0))*(I*exp(I*phi_0)*sin(phi_0)/2 - exp(I*phi_0)*cos(phi_0)/2 + 1)*exp(-I*omega_m*t/2))) + (-exp(-I*phi_0)*exp(I*omega_m*t/2)/2 + exp(-I*phi_0)*exp(-I*omega_m*t/2)/2)*(Omega*(I*sin(phi_0) + cos(phi_0))*((-I*sin(phi_0) + cos(phi_0))*(-I*exp(I*phi_0)*sin(phi_0)/2 + exp(I*phi_0)*cos(phi_0)/2)*exp(I*omega_m*t/2) + (I*sin(phi_0) - cos(phi_0))*(I*exp(I*phi_0)*sin(phi_0)/2 - exp(I*phi_0)*cos(phi_0)/2 + 1)*exp(-I*omega_m*t/2))/2 + (-delta/2 + epsilon*omega_m*cos(omega_m*t - theta_m)/Omega)*((-I*sin(phi_0) + cos(phi_0))*exp(I*phi_0)*exp(I*omega_m*t/2)/2 - (I*sin(phi_0) - cos(phi_0))*exp(I*phi_0)*exp(-I*omega_m*t/2)/2)) - I*((-I*sin(phi_0) + cos(phi_0))*(-I*exp(I*phi_0)*sin(phi_0)/2 + exp(I*phi_0)*cos(phi_0)/2)*exp(I*omega_m*t/2) + (I*sin(phi_0) - cos(phi_0))*(I*exp(I*phi_0)*sin(phi_0)/2 - exp(I*phi_0)*cos(phi_0)/2 + 1)*exp(-I*omega_m*t/2))*(-I*omega_m*(I*exp(-I*phi_0)*sin(phi_0)/2 + exp(-I*phi_0)*cos(phi_0)/2)*exp(-I*omega_m*t/2)/2 + I*omega_m*(1 - I*exp(-I*phi_0)*sin(phi_0)/2 - exp(-I*phi_0)*cos(phi_0)/2)*exp(I*omega_m*t/2)/2) - I*((-I*sin(phi_0) + cos(phi_0))*exp(I*phi_0)*exp(I*omega_m*t/2)/2 - (I*sin(phi_0) - cos(phi_0))*exp(I*phi_0)*exp(-I*omega_m*t/2)/2)*(-I*omega_m*exp(-I*phi_0)*exp(I*omega_m*t/2)/4 - I*omega_m*exp(-I*phi_0)*exp(-I*omega_m*t/2)/4)],\n",
       "[                                                                                                                                                                                                                                                                                                                                                     -I*((-I*exp(I*phi_0)*sin(phi_0)/2 + exp(I*phi_0)*cos(phi_0)/2)*exp(I*omega_m*t/2) + (I*exp(I*phi_0)*sin(phi_0)/2 - exp(I*phi_0)*cos(phi_0)/2 + 1)*exp(-I*omega_m*t/2))*(I*omega_m*(-I*sin(phi_0) - cos(phi_0))*(1 - I*exp(-I*phi_0)*sin(phi_0)/2 - exp(-I*phi_0)*cos(phi_0)/2)*exp(I*omega_m*t/2)/2 - I*omega_m*(I*sin(phi_0) + cos(phi_0))*(I*exp(-I*phi_0)*sin(phi_0)/2 + exp(-I*phi_0)*cos(phi_0)/2)*exp(-I*omega_m*t/2)/2) - I*(exp(I*phi_0)*exp(I*omega_m*t/2)/2 - exp(I*phi_0)*exp(-I*omega_m*t/2)/2)*(-I*omega_m*(-I*sin(phi_0) - cos(phi_0))*exp(-I*phi_0)*exp(I*omega_m*t/2)/4 - I*omega_m*(I*sin(phi_0) + cos(phi_0))*exp(-I*phi_0)*exp(-I*omega_m*t/2)/4) + (Omega*(-I*sin(phi_0) + cos(phi_0))*(exp(I*phi_0)*exp(I*omega_m*t/2)/2 - exp(I*phi_0)*exp(-I*omega_m*t/2)/2)/2 + (delta/2 - epsilon*omega_m*cos(omega_m*t - theta_m)/Omega)*((-I*exp(I*phi_0)*sin(phi_0)/2 + exp(I*phi_0)*cos(phi_0)/2)*exp(I*omega_m*t/2) + (I*exp(I*phi_0)*sin(phi_0)/2 - exp(I*phi_0)*cos(phi_0)/2 + 1)*exp(-I*omega_m*t/2)))*((-I*sin(phi_0) - cos(phi_0))*(1 - I*exp(-I*phi_0)*sin(phi_0)/2 - exp(-I*phi_0)*cos(phi_0)/2)*exp(I*omega_m*t/2) + (I*sin(phi_0) + cos(phi_0))*(I*exp(-I*phi_0)*sin(phi_0)/2 + exp(-I*phi_0)*cos(phi_0)/2)*exp(-I*omega_m*t/2)) + (Omega*(I*sin(phi_0) + cos(phi_0))*((-I*exp(I*phi_0)*sin(phi_0)/2 + exp(I*phi_0)*cos(phi_0)/2)*exp(I*omega_m*t/2) + (I*exp(I*phi_0)*sin(phi_0)/2 - exp(I*phi_0)*cos(phi_0)/2 + 1)*exp(-I*omega_m*t/2))/2 + (-delta/2 + epsilon*omega_m*cos(omega_m*t - theta_m)/Omega)*(exp(I*phi_0)*exp(I*omega_m*t/2)/2 - exp(I*phi_0)*exp(-I*omega_m*t/2)/2))*(-(-I*sin(phi_0) - cos(phi_0))*exp(-I*phi_0)*exp(I*omega_m*t/2)/2 + (I*sin(phi_0) + cos(phi_0))*exp(-I*phi_0)*exp(-I*omega_m*t/2)/2),                                                                                                                                                                                                                                                                                                                                                       ((I*exp(-I*phi_0)*sin(phi_0)/2 + exp(-I*phi_0)*cos(phi_0)/2)*exp(-I*omega_m*t/2) + (1 - I*exp(-I*phi_0)*sin(phi_0)/2 - exp(-I*phi_0)*cos(phi_0)/2)*exp(I*omega_m*t/2))*(Omega*(-I*sin(phi_0) + cos(phi_0))*(exp(I*phi_0)*exp(I*omega_m*t/2)/2 - exp(I*phi_0)*exp(-I*omega_m*t/2)/2)/2 + (delta/2 - epsilon*omega_m*cos(omega_m*t - theta_m)/Omega)*((-I*exp(I*phi_0)*sin(phi_0)/2 + exp(I*phi_0)*cos(phi_0)/2)*exp(I*omega_m*t/2) + (I*exp(I*phi_0)*sin(phi_0)/2 - exp(I*phi_0)*cos(phi_0)/2 + 1)*exp(-I*omega_m*t/2))) - I*((-I*exp(I*phi_0)*sin(phi_0)/2 + exp(I*phi_0)*cos(phi_0)/2)*exp(I*omega_m*t/2) + (I*exp(I*phi_0)*sin(phi_0)/2 - exp(I*phi_0)*cos(phi_0)/2 + 1)*exp(-I*omega_m*t/2))*(-I*omega_m*(I*exp(-I*phi_0)*sin(phi_0)/2 + exp(-I*phi_0)*cos(phi_0)/2)*exp(-I*omega_m*t/2)/2 + I*omega_m*(1 - I*exp(-I*phi_0)*sin(phi_0)/2 - exp(-I*phi_0)*cos(phi_0)/2)*exp(I*omega_m*t/2)/2) + (-exp(-I*phi_0)*exp(I*omega_m*t/2)/2 + exp(-I*phi_0)*exp(-I*omega_m*t/2)/2)*(Omega*(I*sin(phi_0) + cos(phi_0))*((-I*exp(I*phi_0)*sin(phi_0)/2 + exp(I*phi_0)*cos(phi_0)/2)*exp(I*omega_m*t/2) + (I*exp(I*phi_0)*sin(phi_0)/2 - exp(I*phi_0)*cos(phi_0)/2 + 1)*exp(-I*omega_m*t/2))/2 + (-delta/2 + epsilon*omega_m*cos(omega_m*t - theta_m)/Omega)*(exp(I*phi_0)*exp(I*omega_m*t/2)/2 - exp(I*phi_0)*exp(-I*omega_m*t/2)/2)) - I*(exp(I*phi_0)*exp(I*omega_m*t/2)/2 - exp(I*phi_0)*exp(-I*omega_m*t/2)/2)*(-I*omega_m*exp(-I*phi_0)*exp(I*omega_m*t/2)/4 - I*omega_m*exp(-I*phi_0)*exp(-I*omega_m*t/2)/4)]])"
      ]
     },
     "execution_count": 18,
     "metadata": {},
     "output_type": "execute_result"
    }
   ],
   "source": [
    "U = sp.exp(+(sp.I) * sp.integrate(Hamiltonian_define_second, t))\n",
    "\n",
    "\n",
    "# Compute U^dagger (Hermitian conjugate of U)\n",
    "U_dagger = U.H\n",
    "\n",
    "\n",
    "# Compute d(U^dagger)/dt\n",
    "U_dagger_dt = sp.diff(U_dagger, t)\n",
    "\n",
    "# Full expression for the transformed Hamiltonian\n",
    "H_transformed = U * Hamiltonian_first_frame * U_dagger - sp.I * U * U_dagger_dt\n",
    "H_transformed"
   ]
  },
  {
   "cell_type": "markdown",
   "id": "f4c6bc5e",
   "metadata": {},
   "source": [
    "resonance condition - delta = 0\n",
    "i think $\\omega_m = \\Omega$"
   ]
  },
  {
   "cell_type": "code",
   "execution_count": 19,
   "id": "3146e443",
   "metadata": {},
   "outputs": [],
   "source": [
    "# Substitute omega_m = Omega\n",
    "H_transformed = H_transformed.subs(omega_m, Omega)\n"
   ]
  },
  {
   "cell_type": "code",
   "execution_count": 23,
   "id": "2abfb995",
   "metadata": {},
   "outputs": [
    {
     "data": {
      "text/latex": [
       "$\\displaystyle \\left[\\begin{matrix}\\left(\\frac{\\Omega \\left(- i \\sin{\\left(\\phi_{0} \\right)} + \\cos{\\left(\\phi_{0} \\right)}\\right) \\left(\\frac{\\left(- i \\sin{\\left(\\phi_{0} \\right)} + \\cos{\\left(\\phi_{0} \\right)}\\right) e^{i \\phi_{0}} e^{\\frac{i \\Omega t}{2}}}{2} - \\frac{\\left(i \\sin{\\left(\\phi_{0} \\right)} - \\cos{\\left(\\phi_{0} \\right)}\\right) e^{i \\phi_{0}} e^{- \\frac{i \\Omega t}{2}}}{2}\\right)}{2} - \\epsilon \\left(\\left(- i \\sin{\\left(\\phi_{0} \\right)} + \\cos{\\left(\\phi_{0} \\right)}\\right) \\left(- \\frac{i e^{i \\phi_{0}} \\sin{\\left(\\phi_{0} \\right)}}{2} + \\frac{e^{i \\phi_{0}} \\cos{\\left(\\phi_{0} \\right)}}{2}\\right) e^{\\frac{i \\Omega t}{2}} + \\left(i \\sin{\\left(\\phi_{0} \\right)} - \\cos{\\left(\\phi_{0} \\right)}\\right) \\left(\\frac{i e^{i \\phi_{0}} \\sin{\\left(\\phi_{0} \\right)}}{2} - \\frac{e^{i \\phi_{0}} \\cos{\\left(\\phi_{0} \\right)}}{2} + 1\\right) e^{- \\frac{i \\Omega t}{2}}\\right) \\cos{\\left(\\Omega t - \\theta_{m} \\right)}\\right) \\left(\\left(- i \\sin{\\left(\\phi_{0} \\right)} - \\cos{\\left(\\phi_{0} \\right)}\\right) \\left(1 - \\frac{i e^{- i \\phi_{0}} \\sin{\\left(\\phi_{0} \\right)}}{2} - \\frac{e^{- i \\phi_{0}} \\cos{\\left(\\phi_{0} \\right)}}{2}\\right) e^{\\frac{i \\Omega t}{2}} + \\left(i \\sin{\\left(\\phi_{0} \\right)} + \\cos{\\left(\\phi_{0} \\right)}\\right) \\left(\\frac{i e^{- i \\phi_{0}} \\sin{\\left(\\phi_{0} \\right)}}{2} + \\frac{e^{- i \\phi_{0}} \\cos{\\left(\\phi_{0} \\right)}}{2}\\right) e^{- \\frac{i \\Omega t}{2}}\\right) + \\left(\\frac{\\Omega \\left(i \\sin{\\left(\\phi_{0} \\right)} + \\cos{\\left(\\phi_{0} \\right)}\\right) \\left(\\left(- i \\sin{\\left(\\phi_{0} \\right)} + \\cos{\\left(\\phi_{0} \\right)}\\right) \\left(- \\frac{i e^{i \\phi_{0}} \\sin{\\left(\\phi_{0} \\right)}}{2} + \\frac{e^{i \\phi_{0}} \\cos{\\left(\\phi_{0} \\right)}}{2}\\right) e^{\\frac{i \\Omega t}{2}} + \\left(i \\sin{\\left(\\phi_{0} \\right)} - \\cos{\\left(\\phi_{0} \\right)}\\right) \\left(\\frac{i e^{i \\phi_{0}} \\sin{\\left(\\phi_{0} \\right)}}{2} - \\frac{e^{i \\phi_{0}} \\cos{\\left(\\phi_{0} \\right)}}{2} + 1\\right) e^{- \\frac{i \\Omega t}{2}}\\right)}{2} + \\epsilon \\left(\\frac{\\left(- i \\sin{\\left(\\phi_{0} \\right)} + \\cos{\\left(\\phi_{0} \\right)}\\right) e^{i \\phi_{0}} e^{\\frac{i \\Omega t}{2}}}{2} - \\frac{\\left(i \\sin{\\left(\\phi_{0} \\right)} - \\cos{\\left(\\phi_{0} \\right)}\\right) e^{i \\phi_{0}} e^{- \\frac{i \\Omega t}{2}}}{2}\\right) \\cos{\\left(\\Omega t - \\theta_{m} \\right)}\\right) \\left(- \\frac{\\left(- i \\sin{\\left(\\phi_{0} \\right)} - \\cos{\\left(\\phi_{0} \\right)}\\right) e^{- i \\phi_{0}} e^{\\frac{i \\Omega t}{2}}}{2} + \\frac{\\left(i \\sin{\\left(\\phi_{0} \\right)} + \\cos{\\left(\\phi_{0} \\right)}\\right) e^{- i \\phi_{0}} e^{- \\frac{i \\Omega t}{2}}}{2}\\right) - i \\left(\\left(- i \\sin{\\left(\\phi_{0} \\right)} + \\cos{\\left(\\phi_{0} \\right)}\\right) \\left(- \\frac{i e^{i \\phi_{0}} \\sin{\\left(\\phi_{0} \\right)}}{2} + \\frac{e^{i \\phi_{0}} \\cos{\\left(\\phi_{0} \\right)}}{2}\\right) e^{\\frac{i \\Omega t}{2}} + \\left(i \\sin{\\left(\\phi_{0} \\right)} - \\cos{\\left(\\phi_{0} \\right)}\\right) \\left(\\frac{i e^{i \\phi_{0}} \\sin{\\left(\\phi_{0} \\right)}}{2} - \\frac{e^{i \\phi_{0}} \\cos{\\left(\\phi_{0} \\right)}}{2} + 1\\right) e^{- \\frac{i \\Omega t}{2}}\\right) \\left(\\frac{i \\Omega \\left(- i \\sin{\\left(\\phi_{0} \\right)} - \\cos{\\left(\\phi_{0} \\right)}\\right) \\left(1 - \\frac{i e^{- i \\phi_{0}} \\sin{\\left(\\phi_{0} \\right)}}{2} - \\frac{e^{- i \\phi_{0}} \\cos{\\left(\\phi_{0} \\right)}}{2}\\right) e^{\\frac{i \\Omega t}{2}}}{2} - \\frac{i \\Omega \\left(i \\sin{\\left(\\phi_{0} \\right)} + \\cos{\\left(\\phi_{0} \\right)}\\right) \\left(\\frac{i e^{- i \\phi_{0}} \\sin{\\left(\\phi_{0} \\right)}}{2} + \\frac{e^{- i \\phi_{0}} \\cos{\\left(\\phi_{0} \\right)}}{2}\\right) e^{- \\frac{i \\Omega t}{2}}}{2}\\right) - i \\left(\\frac{\\left(- i \\sin{\\left(\\phi_{0} \\right)} + \\cos{\\left(\\phi_{0} \\right)}\\right) e^{i \\phi_{0}} e^{\\frac{i \\Omega t}{2}}}{2} - \\frac{\\left(i \\sin{\\left(\\phi_{0} \\right)} - \\cos{\\left(\\phi_{0} \\right)}\\right) e^{i \\phi_{0}} e^{- \\frac{i \\Omega t}{2}}}{2}\\right) \\left(- \\frac{i \\Omega \\left(- i \\sin{\\left(\\phi_{0} \\right)} - \\cos{\\left(\\phi_{0} \\right)}\\right) e^{- i \\phi_{0}} e^{\\frac{i \\Omega t}{2}}}{4} - \\frac{i \\Omega \\left(i \\sin{\\left(\\phi_{0} \\right)} + \\cos{\\left(\\phi_{0} \\right)}\\right) e^{- i \\phi_{0}} e^{- \\frac{i \\Omega t}{2}}}{4}\\right) & \\left(\\left(\\frac{i e^{- i \\phi_{0}} \\sin{\\left(\\phi_{0} \\right)}}{2} + \\frac{e^{- i \\phi_{0}} \\cos{\\left(\\phi_{0} \\right)}}{2}\\right) e^{- \\frac{i \\Omega t}{2}} + \\left(1 - \\frac{i e^{- i \\phi_{0}} \\sin{\\left(\\phi_{0} \\right)}}{2} - \\frac{e^{- i \\phi_{0}} \\cos{\\left(\\phi_{0} \\right)}}{2}\\right) e^{\\frac{i \\Omega t}{2}}\\right) \\left(\\frac{\\Omega \\left(- i \\sin{\\left(\\phi_{0} \\right)} + \\cos{\\left(\\phi_{0} \\right)}\\right) \\left(\\frac{\\left(- i \\sin{\\left(\\phi_{0} \\right)} + \\cos{\\left(\\phi_{0} \\right)}\\right) e^{i \\phi_{0}} e^{\\frac{i \\Omega t}{2}}}{2} - \\frac{\\left(i \\sin{\\left(\\phi_{0} \\right)} - \\cos{\\left(\\phi_{0} \\right)}\\right) e^{i \\phi_{0}} e^{- \\frac{i \\Omega t}{2}}}{2}\\right)}{2} - \\epsilon \\left(\\left(- i \\sin{\\left(\\phi_{0} \\right)} + \\cos{\\left(\\phi_{0} \\right)}\\right) \\left(- \\frac{i e^{i \\phi_{0}} \\sin{\\left(\\phi_{0} \\right)}}{2} + \\frac{e^{i \\phi_{0}} \\cos{\\left(\\phi_{0} \\right)}}{2}\\right) e^{\\frac{i \\Omega t}{2}} + \\left(i \\sin{\\left(\\phi_{0} \\right)} - \\cos{\\left(\\phi_{0} \\right)}\\right) \\left(\\frac{i e^{i \\phi_{0}} \\sin{\\left(\\phi_{0} \\right)}}{2} - \\frac{e^{i \\phi_{0}} \\cos{\\left(\\phi_{0} \\right)}}{2} + 1\\right) e^{- \\frac{i \\Omega t}{2}}\\right) \\cos{\\left(\\Omega t - \\theta_{m} \\right)}\\right) + \\left(- \\frac{e^{- i \\phi_{0}} e^{\\frac{i \\Omega t}{2}}}{2} + \\frac{e^{- i \\phi_{0}} e^{- \\frac{i \\Omega t}{2}}}{2}\\right) \\left(\\frac{\\Omega \\left(i \\sin{\\left(\\phi_{0} \\right)} + \\cos{\\left(\\phi_{0} \\right)}\\right) \\left(\\left(- i \\sin{\\left(\\phi_{0} \\right)} + \\cos{\\left(\\phi_{0} \\right)}\\right) \\left(- \\frac{i e^{i \\phi_{0}} \\sin{\\left(\\phi_{0} \\right)}}{2} + \\frac{e^{i \\phi_{0}} \\cos{\\left(\\phi_{0} \\right)}}{2}\\right) e^{\\frac{i \\Omega t}{2}} + \\left(i \\sin{\\left(\\phi_{0} \\right)} - \\cos{\\left(\\phi_{0} \\right)}\\right) \\left(\\frac{i e^{i \\phi_{0}} \\sin{\\left(\\phi_{0} \\right)}}{2} - \\frac{e^{i \\phi_{0}} \\cos{\\left(\\phi_{0} \\right)}}{2} + 1\\right) e^{- \\frac{i \\Omega t}{2}}\\right)}{2} + \\epsilon \\left(\\frac{\\left(- i \\sin{\\left(\\phi_{0} \\right)} + \\cos{\\left(\\phi_{0} \\right)}\\right) e^{i \\phi_{0}} e^{\\frac{i \\Omega t}{2}}}{2} - \\frac{\\left(i \\sin{\\left(\\phi_{0} \\right)} - \\cos{\\left(\\phi_{0} \\right)}\\right) e^{i \\phi_{0}} e^{- \\frac{i \\Omega t}{2}}}{2}\\right) \\cos{\\left(\\Omega t - \\theta_{m} \\right)}\\right) - i \\left(\\left(- i \\sin{\\left(\\phi_{0} \\right)} + \\cos{\\left(\\phi_{0} \\right)}\\right) \\left(- \\frac{i e^{i \\phi_{0}} \\sin{\\left(\\phi_{0} \\right)}}{2} + \\frac{e^{i \\phi_{0}} \\cos{\\left(\\phi_{0} \\right)}}{2}\\right) e^{\\frac{i \\Omega t}{2}} + \\left(i \\sin{\\left(\\phi_{0} \\right)} - \\cos{\\left(\\phi_{0} \\right)}\\right) \\left(\\frac{i e^{i \\phi_{0}} \\sin{\\left(\\phi_{0} \\right)}}{2} - \\frac{e^{i \\phi_{0}} \\cos{\\left(\\phi_{0} \\right)}}{2} + 1\\right) e^{- \\frac{i \\Omega t}{2}}\\right) \\left(- \\frac{i \\Omega \\left(\\frac{i e^{- i \\phi_{0}} \\sin{\\left(\\phi_{0} \\right)}}{2} + \\frac{e^{- i \\phi_{0}} \\cos{\\left(\\phi_{0} \\right)}}{2}\\right) e^{- \\frac{i \\Omega t}{2}}}{2} + \\frac{i \\Omega \\left(1 - \\frac{i e^{- i \\phi_{0}} \\sin{\\left(\\phi_{0} \\right)}}{2} - \\frac{e^{- i \\phi_{0}} \\cos{\\left(\\phi_{0} \\right)}}{2}\\right) e^{\\frac{i \\Omega t}{2}}}{2}\\right) - i \\left(\\frac{\\left(- i \\sin{\\left(\\phi_{0} \\right)} + \\cos{\\left(\\phi_{0} \\right)}\\right) e^{i \\phi_{0}} e^{\\frac{i \\Omega t}{2}}}{2} - \\frac{\\left(i \\sin{\\left(\\phi_{0} \\right)} - \\cos{\\left(\\phi_{0} \\right)}\\right) e^{i \\phi_{0}} e^{- \\frac{i \\Omega t}{2}}}{2}\\right) \\left(- \\frac{i \\Omega e^{- i \\phi_{0}} e^{\\frac{i \\Omega t}{2}}}{4} - \\frac{i \\Omega e^{- i \\phi_{0}} e^{- \\frac{i \\Omega t}{2}}}{4}\\right)\\\\- i \\left(\\left(- \\frac{i e^{i \\phi_{0}} \\sin{\\left(\\phi_{0} \\right)}}{2} + \\frac{e^{i \\phi_{0}} \\cos{\\left(\\phi_{0} \\right)}}{2}\\right) e^{\\frac{i \\Omega t}{2}} + \\left(\\frac{i e^{i \\phi_{0}} \\sin{\\left(\\phi_{0} \\right)}}{2} - \\frac{e^{i \\phi_{0}} \\cos{\\left(\\phi_{0} \\right)}}{2} + 1\\right) e^{- \\frac{i \\Omega t}{2}}\\right) \\left(\\frac{i \\Omega \\left(- i \\sin{\\left(\\phi_{0} \\right)} - \\cos{\\left(\\phi_{0} \\right)}\\right) \\left(1 - \\frac{i e^{- i \\phi_{0}} \\sin{\\left(\\phi_{0} \\right)}}{2} - \\frac{e^{- i \\phi_{0}} \\cos{\\left(\\phi_{0} \\right)}}{2}\\right) e^{\\frac{i \\Omega t}{2}}}{2} - \\frac{i \\Omega \\left(i \\sin{\\left(\\phi_{0} \\right)} + \\cos{\\left(\\phi_{0} \\right)}\\right) \\left(\\frac{i e^{- i \\phi_{0}} \\sin{\\left(\\phi_{0} \\right)}}{2} + \\frac{e^{- i \\phi_{0}} \\cos{\\left(\\phi_{0} \\right)}}{2}\\right) e^{- \\frac{i \\Omega t}{2}}}{2}\\right) - i \\left(\\frac{e^{i \\phi_{0}} e^{\\frac{i \\Omega t}{2}}}{2} - \\frac{e^{i \\phi_{0}} e^{- \\frac{i \\Omega t}{2}}}{2}\\right) \\left(- \\frac{i \\Omega \\left(- i \\sin{\\left(\\phi_{0} \\right)} - \\cos{\\left(\\phi_{0} \\right)}\\right) e^{- i \\phi_{0}} e^{\\frac{i \\Omega t}{2}}}{4} - \\frac{i \\Omega \\left(i \\sin{\\left(\\phi_{0} \\right)} + \\cos{\\left(\\phi_{0} \\right)}\\right) e^{- i \\phi_{0}} e^{- \\frac{i \\Omega t}{2}}}{4}\\right) + \\left(\\frac{\\Omega \\left(- i \\sin{\\left(\\phi_{0} \\right)} + \\cos{\\left(\\phi_{0} \\right)}\\right) \\left(\\frac{e^{i \\phi_{0}} e^{\\frac{i \\Omega t}{2}}}{2} - \\frac{e^{i \\phi_{0}} e^{- \\frac{i \\Omega t}{2}}}{2}\\right)}{2} - \\epsilon \\left(\\left(- \\frac{i e^{i \\phi_{0}} \\sin{\\left(\\phi_{0} \\right)}}{2} + \\frac{e^{i \\phi_{0}} \\cos{\\left(\\phi_{0} \\right)}}{2}\\right) e^{\\frac{i \\Omega t}{2}} + \\left(\\frac{i e^{i \\phi_{0}} \\sin{\\left(\\phi_{0} \\right)}}{2} - \\frac{e^{i \\phi_{0}} \\cos{\\left(\\phi_{0} \\right)}}{2} + 1\\right) e^{- \\frac{i \\Omega t}{2}}\\right) \\cos{\\left(\\Omega t - \\theta_{m} \\right)}\\right) \\left(\\left(- i \\sin{\\left(\\phi_{0} \\right)} - \\cos{\\left(\\phi_{0} \\right)}\\right) \\left(1 - \\frac{i e^{- i \\phi_{0}} \\sin{\\left(\\phi_{0} \\right)}}{2} - \\frac{e^{- i \\phi_{0}} \\cos{\\left(\\phi_{0} \\right)}}{2}\\right) e^{\\frac{i \\Omega t}{2}} + \\left(i \\sin{\\left(\\phi_{0} \\right)} + \\cos{\\left(\\phi_{0} \\right)}\\right) \\left(\\frac{i e^{- i \\phi_{0}} \\sin{\\left(\\phi_{0} \\right)}}{2} + \\frac{e^{- i \\phi_{0}} \\cos{\\left(\\phi_{0} \\right)}}{2}\\right) e^{- \\frac{i \\Omega t}{2}}\\right) + \\left(\\frac{\\Omega \\left(i \\sin{\\left(\\phi_{0} \\right)} + \\cos{\\left(\\phi_{0} \\right)}\\right) \\left(\\left(- \\frac{i e^{i \\phi_{0}} \\sin{\\left(\\phi_{0} \\right)}}{2} + \\frac{e^{i \\phi_{0}} \\cos{\\left(\\phi_{0} \\right)}}{2}\\right) e^{\\frac{i \\Omega t}{2}} + \\left(\\frac{i e^{i \\phi_{0}} \\sin{\\left(\\phi_{0} \\right)}}{2} - \\frac{e^{i \\phi_{0}} \\cos{\\left(\\phi_{0} \\right)}}{2} + 1\\right) e^{- \\frac{i \\Omega t}{2}}\\right)}{2} + \\epsilon \\left(\\frac{e^{i \\phi_{0}} e^{\\frac{i \\Omega t}{2}}}{2} - \\frac{e^{i \\phi_{0}} e^{- \\frac{i \\Omega t}{2}}}{2}\\right) \\cos{\\left(\\Omega t - \\theta_{m} \\right)}\\right) \\left(- \\frac{\\left(- i \\sin{\\left(\\phi_{0} \\right)} - \\cos{\\left(\\phi_{0} \\right)}\\right) e^{- i \\phi_{0}} e^{\\frac{i \\Omega t}{2}}}{2} + \\frac{\\left(i \\sin{\\left(\\phi_{0} \\right)} + \\cos{\\left(\\phi_{0} \\right)}\\right) e^{- i \\phi_{0}} e^{- \\frac{i \\Omega t}{2}}}{2}\\right) & \\left(\\left(\\frac{i e^{- i \\phi_{0}} \\sin{\\left(\\phi_{0} \\right)}}{2} + \\frac{e^{- i \\phi_{0}} \\cos{\\left(\\phi_{0} \\right)}}{2}\\right) e^{- \\frac{i \\Omega t}{2}} + \\left(1 - \\frac{i e^{- i \\phi_{0}} \\sin{\\left(\\phi_{0} \\right)}}{2} - \\frac{e^{- i \\phi_{0}} \\cos{\\left(\\phi_{0} \\right)}}{2}\\right) e^{\\frac{i \\Omega t}{2}}\\right) \\left(\\frac{\\Omega \\left(- i \\sin{\\left(\\phi_{0} \\right)} + \\cos{\\left(\\phi_{0} \\right)}\\right) \\left(\\frac{e^{i \\phi_{0}} e^{\\frac{i \\Omega t}{2}}}{2} - \\frac{e^{i \\phi_{0}} e^{- \\frac{i \\Omega t}{2}}}{2}\\right)}{2} - \\epsilon \\left(\\left(- \\frac{i e^{i \\phi_{0}} \\sin{\\left(\\phi_{0} \\right)}}{2} + \\frac{e^{i \\phi_{0}} \\cos{\\left(\\phi_{0} \\right)}}{2}\\right) e^{\\frac{i \\Omega t}{2}} + \\left(\\frac{i e^{i \\phi_{0}} \\sin{\\left(\\phi_{0} \\right)}}{2} - \\frac{e^{i \\phi_{0}} \\cos{\\left(\\phi_{0} \\right)}}{2} + 1\\right) e^{- \\frac{i \\Omega t}{2}}\\right) \\cos{\\left(\\Omega t - \\theta_{m} \\right)}\\right) - i \\left(\\left(- \\frac{i e^{i \\phi_{0}} \\sin{\\left(\\phi_{0} \\right)}}{2} + \\frac{e^{i \\phi_{0}} \\cos{\\left(\\phi_{0} \\right)}}{2}\\right) e^{\\frac{i \\Omega t}{2}} + \\left(\\frac{i e^{i \\phi_{0}} \\sin{\\left(\\phi_{0} \\right)}}{2} - \\frac{e^{i \\phi_{0}} \\cos{\\left(\\phi_{0} \\right)}}{2} + 1\\right) e^{- \\frac{i \\Omega t}{2}}\\right) \\left(- \\frac{i \\Omega \\left(\\frac{i e^{- i \\phi_{0}} \\sin{\\left(\\phi_{0} \\right)}}{2} + \\frac{e^{- i \\phi_{0}} \\cos{\\left(\\phi_{0} \\right)}}{2}\\right) e^{- \\frac{i \\Omega t}{2}}}{2} + \\frac{i \\Omega \\left(1 - \\frac{i e^{- i \\phi_{0}} \\sin{\\left(\\phi_{0} \\right)}}{2} - \\frac{e^{- i \\phi_{0}} \\cos{\\left(\\phi_{0} \\right)}}{2}\\right) e^{\\frac{i \\Omega t}{2}}}{2}\\right) + \\left(- \\frac{e^{- i \\phi_{0}} e^{\\frac{i \\Omega t}{2}}}{2} + \\frac{e^{- i \\phi_{0}} e^{- \\frac{i \\Omega t}{2}}}{2}\\right) \\left(\\frac{\\Omega \\left(i \\sin{\\left(\\phi_{0} \\right)} + \\cos{\\left(\\phi_{0} \\right)}\\right) \\left(\\left(- \\frac{i e^{i \\phi_{0}} \\sin{\\left(\\phi_{0} \\right)}}{2} + \\frac{e^{i \\phi_{0}} \\cos{\\left(\\phi_{0} \\right)}}{2}\\right) e^{\\frac{i \\Omega t}{2}} + \\left(\\frac{i e^{i \\phi_{0}} \\sin{\\left(\\phi_{0} \\right)}}{2} - \\frac{e^{i \\phi_{0}} \\cos{\\left(\\phi_{0} \\right)}}{2} + 1\\right) e^{- \\frac{i \\Omega t}{2}}\\right)}{2} + \\epsilon \\left(\\frac{e^{i \\phi_{0}} e^{\\frac{i \\Omega t}{2}}}{2} - \\frac{e^{i \\phi_{0}} e^{- \\frac{i \\Omega t}{2}}}{2}\\right) \\cos{\\left(\\Omega t - \\theta_{m} \\right)}\\right) - i \\left(\\frac{e^{i \\phi_{0}} e^{\\frac{i \\Omega t}{2}}}{2} - \\frac{e^{i \\phi_{0}} e^{- \\frac{i \\Omega t}{2}}}{2}\\right) \\left(- \\frac{i \\Omega e^{- i \\phi_{0}} e^{\\frac{i \\Omega t}{2}}}{4} - \\frac{i \\Omega e^{- i \\phi_{0}} e^{- \\frac{i \\Omega t}{2}}}{4}\\right)\\end{matrix}\\right]$"
      ],
      "text/plain": [
       "Matrix([\n",
       "[(Omega*(-I*sin(phi_0) + cos(phi_0))*((-I*sin(phi_0) + cos(phi_0))*exp(I*phi_0)*exp(I*Omega*t/2)/2 - (I*sin(phi_0) - cos(phi_0))*exp(I*phi_0)*exp(-I*Omega*t/2)/2)/2 - epsilon*((-I*sin(phi_0) + cos(phi_0))*(-I*exp(I*phi_0)*sin(phi_0)/2 + exp(I*phi_0)*cos(phi_0)/2)*exp(I*Omega*t/2) + (I*sin(phi_0) - cos(phi_0))*(I*exp(I*phi_0)*sin(phi_0)/2 - exp(I*phi_0)*cos(phi_0)/2 + 1)*exp(-I*Omega*t/2))*cos(Omega*t - theta_m))*((-I*sin(phi_0) - cos(phi_0))*(1 - I*exp(-I*phi_0)*sin(phi_0)/2 - exp(-I*phi_0)*cos(phi_0)/2)*exp(I*Omega*t/2) + (I*sin(phi_0) + cos(phi_0))*(I*exp(-I*phi_0)*sin(phi_0)/2 + exp(-I*phi_0)*cos(phi_0)/2)*exp(-I*Omega*t/2)) + (Omega*(I*sin(phi_0) + cos(phi_0))*((-I*sin(phi_0) + cos(phi_0))*(-I*exp(I*phi_0)*sin(phi_0)/2 + exp(I*phi_0)*cos(phi_0)/2)*exp(I*Omega*t/2) + (I*sin(phi_0) - cos(phi_0))*(I*exp(I*phi_0)*sin(phi_0)/2 - exp(I*phi_0)*cos(phi_0)/2 + 1)*exp(-I*Omega*t/2))/2 + epsilon*((-I*sin(phi_0) + cos(phi_0))*exp(I*phi_0)*exp(I*Omega*t/2)/2 - (I*sin(phi_0) - cos(phi_0))*exp(I*phi_0)*exp(-I*Omega*t/2)/2)*cos(Omega*t - theta_m))*(-(-I*sin(phi_0) - cos(phi_0))*exp(-I*phi_0)*exp(I*Omega*t/2)/2 + (I*sin(phi_0) + cos(phi_0))*exp(-I*phi_0)*exp(-I*Omega*t/2)/2) - I*((-I*sin(phi_0) + cos(phi_0))*(-I*exp(I*phi_0)*sin(phi_0)/2 + exp(I*phi_0)*cos(phi_0)/2)*exp(I*Omega*t/2) + (I*sin(phi_0) - cos(phi_0))*(I*exp(I*phi_0)*sin(phi_0)/2 - exp(I*phi_0)*cos(phi_0)/2 + 1)*exp(-I*Omega*t/2))*(I*Omega*(-I*sin(phi_0) - cos(phi_0))*(1 - I*exp(-I*phi_0)*sin(phi_0)/2 - exp(-I*phi_0)*cos(phi_0)/2)*exp(I*Omega*t/2)/2 - I*Omega*(I*sin(phi_0) + cos(phi_0))*(I*exp(-I*phi_0)*sin(phi_0)/2 + exp(-I*phi_0)*cos(phi_0)/2)*exp(-I*Omega*t/2)/2) - I*((-I*sin(phi_0) + cos(phi_0))*exp(I*phi_0)*exp(I*Omega*t/2)/2 - (I*sin(phi_0) - cos(phi_0))*exp(I*phi_0)*exp(-I*Omega*t/2)/2)*(-I*Omega*(-I*sin(phi_0) - cos(phi_0))*exp(-I*phi_0)*exp(I*Omega*t/2)/4 - I*Omega*(I*sin(phi_0) + cos(phi_0))*exp(-I*phi_0)*exp(-I*Omega*t/2)/4), ((I*exp(-I*phi_0)*sin(phi_0)/2 + exp(-I*phi_0)*cos(phi_0)/2)*exp(-I*Omega*t/2) + (1 - I*exp(-I*phi_0)*sin(phi_0)/2 - exp(-I*phi_0)*cos(phi_0)/2)*exp(I*Omega*t/2))*(Omega*(-I*sin(phi_0) + cos(phi_0))*((-I*sin(phi_0) + cos(phi_0))*exp(I*phi_0)*exp(I*Omega*t/2)/2 - (I*sin(phi_0) - cos(phi_0))*exp(I*phi_0)*exp(-I*Omega*t/2)/2)/2 - epsilon*((-I*sin(phi_0) + cos(phi_0))*(-I*exp(I*phi_0)*sin(phi_0)/2 + exp(I*phi_0)*cos(phi_0)/2)*exp(I*Omega*t/2) + (I*sin(phi_0) - cos(phi_0))*(I*exp(I*phi_0)*sin(phi_0)/2 - exp(I*phi_0)*cos(phi_0)/2 + 1)*exp(-I*Omega*t/2))*cos(Omega*t - theta_m)) + (-exp(-I*phi_0)*exp(I*Omega*t/2)/2 + exp(-I*phi_0)*exp(-I*Omega*t/2)/2)*(Omega*(I*sin(phi_0) + cos(phi_0))*((-I*sin(phi_0) + cos(phi_0))*(-I*exp(I*phi_0)*sin(phi_0)/2 + exp(I*phi_0)*cos(phi_0)/2)*exp(I*Omega*t/2) + (I*sin(phi_0) - cos(phi_0))*(I*exp(I*phi_0)*sin(phi_0)/2 - exp(I*phi_0)*cos(phi_0)/2 + 1)*exp(-I*Omega*t/2))/2 + epsilon*((-I*sin(phi_0) + cos(phi_0))*exp(I*phi_0)*exp(I*Omega*t/2)/2 - (I*sin(phi_0) - cos(phi_0))*exp(I*phi_0)*exp(-I*Omega*t/2)/2)*cos(Omega*t - theta_m)) - I*((-I*sin(phi_0) + cos(phi_0))*(-I*exp(I*phi_0)*sin(phi_0)/2 + exp(I*phi_0)*cos(phi_0)/2)*exp(I*Omega*t/2) + (I*sin(phi_0) - cos(phi_0))*(I*exp(I*phi_0)*sin(phi_0)/2 - exp(I*phi_0)*cos(phi_0)/2 + 1)*exp(-I*Omega*t/2))*(-I*Omega*(I*exp(-I*phi_0)*sin(phi_0)/2 + exp(-I*phi_0)*cos(phi_0)/2)*exp(-I*Omega*t/2)/2 + I*Omega*(1 - I*exp(-I*phi_0)*sin(phi_0)/2 - exp(-I*phi_0)*cos(phi_0)/2)*exp(I*Omega*t/2)/2) - I*((-I*sin(phi_0) + cos(phi_0))*exp(I*phi_0)*exp(I*Omega*t/2)/2 - (I*sin(phi_0) - cos(phi_0))*exp(I*phi_0)*exp(-I*Omega*t/2)/2)*(-I*Omega*exp(-I*phi_0)*exp(I*Omega*t/2)/4 - I*Omega*exp(-I*phi_0)*exp(-I*Omega*t/2)/4)],\n",
       "[                                                                                                                                                                                                                                                                                                                                                     -I*((-I*exp(I*phi_0)*sin(phi_0)/2 + exp(I*phi_0)*cos(phi_0)/2)*exp(I*Omega*t/2) + (I*exp(I*phi_0)*sin(phi_0)/2 - exp(I*phi_0)*cos(phi_0)/2 + 1)*exp(-I*Omega*t/2))*(I*Omega*(-I*sin(phi_0) - cos(phi_0))*(1 - I*exp(-I*phi_0)*sin(phi_0)/2 - exp(-I*phi_0)*cos(phi_0)/2)*exp(I*Omega*t/2)/2 - I*Omega*(I*sin(phi_0) + cos(phi_0))*(I*exp(-I*phi_0)*sin(phi_0)/2 + exp(-I*phi_0)*cos(phi_0)/2)*exp(-I*Omega*t/2)/2) - I*(exp(I*phi_0)*exp(I*Omega*t/2)/2 - exp(I*phi_0)*exp(-I*Omega*t/2)/2)*(-I*Omega*(-I*sin(phi_0) - cos(phi_0))*exp(-I*phi_0)*exp(I*Omega*t/2)/4 - I*Omega*(I*sin(phi_0) + cos(phi_0))*exp(-I*phi_0)*exp(-I*Omega*t/2)/4) + (Omega*(-I*sin(phi_0) + cos(phi_0))*(exp(I*phi_0)*exp(I*Omega*t/2)/2 - exp(I*phi_0)*exp(-I*Omega*t/2)/2)/2 - epsilon*((-I*exp(I*phi_0)*sin(phi_0)/2 + exp(I*phi_0)*cos(phi_0)/2)*exp(I*Omega*t/2) + (I*exp(I*phi_0)*sin(phi_0)/2 - exp(I*phi_0)*cos(phi_0)/2 + 1)*exp(-I*Omega*t/2))*cos(Omega*t - theta_m))*((-I*sin(phi_0) - cos(phi_0))*(1 - I*exp(-I*phi_0)*sin(phi_0)/2 - exp(-I*phi_0)*cos(phi_0)/2)*exp(I*Omega*t/2) + (I*sin(phi_0) + cos(phi_0))*(I*exp(-I*phi_0)*sin(phi_0)/2 + exp(-I*phi_0)*cos(phi_0)/2)*exp(-I*Omega*t/2)) + (Omega*(I*sin(phi_0) + cos(phi_0))*((-I*exp(I*phi_0)*sin(phi_0)/2 + exp(I*phi_0)*cos(phi_0)/2)*exp(I*Omega*t/2) + (I*exp(I*phi_0)*sin(phi_0)/2 - exp(I*phi_0)*cos(phi_0)/2 + 1)*exp(-I*Omega*t/2))/2 + epsilon*(exp(I*phi_0)*exp(I*Omega*t/2)/2 - exp(I*phi_0)*exp(-I*Omega*t/2)/2)*cos(Omega*t - theta_m))*(-(-I*sin(phi_0) - cos(phi_0))*exp(-I*phi_0)*exp(I*Omega*t/2)/2 + (I*sin(phi_0) + cos(phi_0))*exp(-I*phi_0)*exp(-I*Omega*t/2)/2),                                                                                                                                                                                                                                                                                                                                                       ((I*exp(-I*phi_0)*sin(phi_0)/2 + exp(-I*phi_0)*cos(phi_0)/2)*exp(-I*Omega*t/2) + (1 - I*exp(-I*phi_0)*sin(phi_0)/2 - exp(-I*phi_0)*cos(phi_0)/2)*exp(I*Omega*t/2))*(Omega*(-I*sin(phi_0) + cos(phi_0))*(exp(I*phi_0)*exp(I*Omega*t/2)/2 - exp(I*phi_0)*exp(-I*Omega*t/2)/2)/2 - epsilon*((-I*exp(I*phi_0)*sin(phi_0)/2 + exp(I*phi_0)*cos(phi_0)/2)*exp(I*Omega*t/2) + (I*exp(I*phi_0)*sin(phi_0)/2 - exp(I*phi_0)*cos(phi_0)/2 + 1)*exp(-I*Omega*t/2))*cos(Omega*t - theta_m)) - I*((-I*exp(I*phi_0)*sin(phi_0)/2 + exp(I*phi_0)*cos(phi_0)/2)*exp(I*Omega*t/2) + (I*exp(I*phi_0)*sin(phi_0)/2 - exp(I*phi_0)*cos(phi_0)/2 + 1)*exp(-I*Omega*t/2))*(-I*Omega*(I*exp(-I*phi_0)*sin(phi_0)/2 + exp(-I*phi_0)*cos(phi_0)/2)*exp(-I*Omega*t/2)/2 + I*Omega*(1 - I*exp(-I*phi_0)*sin(phi_0)/2 - exp(-I*phi_0)*cos(phi_0)/2)*exp(I*Omega*t/2)/2) + (-exp(-I*phi_0)*exp(I*Omega*t/2)/2 + exp(-I*phi_0)*exp(-I*Omega*t/2)/2)*(Omega*(I*sin(phi_0) + cos(phi_0))*((-I*exp(I*phi_0)*sin(phi_0)/2 + exp(I*phi_0)*cos(phi_0)/2)*exp(I*Omega*t/2) + (I*exp(I*phi_0)*sin(phi_0)/2 - exp(I*phi_0)*cos(phi_0)/2 + 1)*exp(-I*Omega*t/2))/2 + epsilon*(exp(I*phi_0)*exp(I*Omega*t/2)/2 - exp(I*phi_0)*exp(-I*Omega*t/2)/2)*cos(Omega*t - theta_m)) - I*(exp(I*phi_0)*exp(I*Omega*t/2)/2 - exp(I*phi_0)*exp(-I*Omega*t/2)/2)*(-I*Omega*exp(-I*phi_0)*exp(I*Omega*t/2)/4 - I*Omega*exp(-I*phi_0)*exp(-I*Omega*t/2)/4)]])"
      ]
     },
     "execution_count": 23,
     "metadata": {},
     "output_type": "execute_result"
    }
   ],
   "source": [
    "H_transformed = H_transformed.subs(delta, 0)\n",
    "H_transformed\n"
   ]
  },
  {
   "cell_type": "code",
   "execution_count": 24,
   "id": "54776afd",
   "metadata": {},
   "outputs": [
    {
     "data": {
      "text/latex": [
       "$\\displaystyle \\left[\\begin{matrix}\\frac{i \\Omega e^{i \\phi_{0}} \\sin{\\left(\\phi_{0} \\right)}}{2} - \\frac{\\Omega e^{i \\phi_{0}} \\cos{\\left(\\phi_{0} \\right)}}{2} + \\frac{\\Omega e^{i \\Omega t}}{2} + \\frac{i \\Omega e^{i \\Omega t + i \\phi_{0}} \\sin{\\left(\\phi_{0} \\right)}}{2} - \\frac{\\Omega e^{i \\Omega t + i \\phi_{0}} \\cos{\\left(\\phi_{0} \\right)}}{2} + \\Omega - \\frac{i \\Omega e^{- i \\phi_{0}} \\sin{\\left(\\phi_{0} \\right)}}{2} - \\frac{\\Omega e^{- i \\phi_{0}} \\cos{\\left(\\phi_{0} \\right)}}{2} - \\frac{i \\epsilon e^{i \\phi_{0}} \\sin{\\left(\\phi_{0} \\right)} \\cos{\\left(\\Omega t - \\theta_{m} \\right)}}{2} + \\frac{\\epsilon e^{i \\phi_{0}} \\cos{\\left(\\phi_{0} \\right)} \\cos{\\left(\\Omega t - \\theta_{m} \\right)}}{2} + \\frac{i \\epsilon e^{- i \\Omega t - i \\phi_{0}} \\sin{\\left(\\phi_{0} \\right)} \\cos{\\left(\\Omega t - \\theta_{m} \\right)}}{2} + \\frac{\\epsilon e^{- i \\Omega t - i \\phi_{0}} \\cos{\\left(\\phi_{0} \\right)} \\cos{\\left(\\Omega t - \\theta_{m} \\right)}}{2} - \\frac{i \\epsilon e^{i \\Omega t + i \\phi_{0}} \\sin{\\left(\\phi_{0} \\right)} \\cos{\\left(\\Omega t - \\theta_{m} \\right)}}{2} + \\frac{\\epsilon e^{i \\Omega t + i \\phi_{0}} \\cos{\\left(\\phi_{0} \\right)} \\cos{\\left(\\Omega t - \\theta_{m} \\right)}}{2} - \\epsilon \\cos{\\left(\\Omega t - \\theta_{m} \\right)} + \\frac{i \\epsilon e^{- i \\phi_{0}} \\sin{\\left(\\phi_{0} \\right)} \\cos{\\left(\\Omega t - \\theta_{m} \\right)}}{2} + \\frac{\\epsilon e^{- i \\phi_{0}} \\cos{\\left(\\phi_{0} \\right)} \\cos{\\left(\\Omega t - \\theta_{m} \\right)}}{2} & \\frac{\\left(i \\sin{\\left(\\phi_{0} \\right)} - \\cos{\\left(\\phi_{0} \\right)}\\right) \\left(\\Omega \\left(e^{i \\phi_{0}} + e^{i \\left(\\Omega t + \\phi_{0}\\right)}\\right)^{2} - \\Omega \\left(e^{2 i \\phi_{0}} - e^{i \\phi_{0} + i \\left(\\Omega t + \\phi_{0}\\right)}\\right) \\left(i e^{i \\phi_{0}} \\sin{\\left(\\phi_{0} \\right)} - e^{i \\phi_{0}} \\cos{\\left(\\phi_{0} \\right)} - e^{- i \\phi_{0} + i \\left(\\Omega t + \\phi_{0}\\right)} + 2\\right) + \\left(\\Omega \\left(e^{i \\phi_{0}} - e^{i \\left(\\Omega t + \\phi_{0}\\right)}\\right) - 2 \\epsilon \\left(e^{i \\phi_{0}} + e^{i \\left(\\Omega t + \\phi_{0}\\right)}\\right) \\cos{\\left(\\Omega t - \\theta_{m} \\right)}\\right) \\left(e^{i \\phi_{0}} - e^{i \\left(\\Omega t + \\phi_{0}\\right)}\\right) + \\left(- \\Omega \\left(e^{i \\phi_{0}} + e^{i \\left(\\Omega t + \\phi_{0}\\right)}\\right) e^{- i \\phi_{0}} - 2 \\epsilon \\left(i e^{i \\phi_{0}} \\sin{\\left(\\phi_{0} \\right)} - e^{i \\phi_{0}} \\cos{\\left(\\phi_{0} \\right)} - e^{- i \\phi_{0} + i \\left(\\Omega t + \\phi_{0}\\right)} + 2\\right) \\cos{\\left(\\Omega t - \\theta_{m} \\right)}\\right) \\left(e^{2 i \\phi_{0}} + e^{i \\phi_{0} + i \\left(\\Omega t + \\phi_{0}\\right)}\\right)\\right) e^{- i \\left(\\Omega t + 2 \\phi_{0}\\right)}}{8}\\\\\\frac{\\left(\\Omega \\left(- e^{i \\phi_{0}} + e^{i \\left(\\Omega t + \\phi_{0}\\right)}\\right)^{2} + \\Omega \\left(e^{2 i \\phi_{0}} + e^{i \\phi_{0} + i \\left(\\Omega t + \\phi_{0}\\right)}\\right) \\left(- i e^{i \\phi_{0}} \\sin{\\left(\\phi_{0} \\right)} + e^{i \\phi_{0}} \\cos{\\left(\\phi_{0} \\right)} - e^{- i \\phi_{0} + i \\left(\\Omega t + \\phi_{0}\\right)} - 2\\right) - \\left(\\Omega \\left(- e^{i \\phi_{0}} - e^{i \\left(\\Omega t + \\phi_{0}\\right)}\\right) - 2 \\epsilon \\left(- e^{i \\phi_{0}} + e^{i \\left(\\Omega t + \\phi_{0}\\right)}\\right) \\cos{\\left(\\Omega t - \\theta_{m} \\right)}\\right) \\left(e^{i \\phi_{0}} + e^{i \\left(\\Omega t + \\phi_{0}\\right)}\\right) - \\left(- \\Omega \\left(- e^{i \\phi_{0}} + e^{i \\left(\\Omega t + \\phi_{0}\\right)}\\right) e^{- i \\phi_{0}} - 2 \\epsilon \\left(- i e^{i \\phi_{0}} \\sin{\\left(\\phi_{0} \\right)} + e^{i \\phi_{0}} \\cos{\\left(\\phi_{0} \\right)} - e^{- i \\phi_{0} + i \\left(\\Omega t + \\phi_{0}\\right)} - 2\\right) \\cos{\\left(\\Omega t - \\theta_{m} \\right)}\\right) \\left(e^{2 i \\phi_{0}} - e^{i \\phi_{0} + i \\left(\\Omega t + \\phi_{0}\\right)}\\right)\\right) e^{i \\phi_{0} - i \\left(\\Omega t + 2 \\phi_{0}\\right)}}{8} & \\frac{\\left(- \\Omega \\left(- e^{i \\phi_{0}} + e^{i \\left(\\Omega t + \\phi_{0}\\right)}\\right) \\left(e^{i \\phi_{0}} + e^{i \\left(\\Omega t + \\phi_{0}\\right)}\\right) + \\Omega \\left(e^{2 i \\phi_{0}} - e^{i \\phi_{0} + i \\left(\\Omega t + \\phi_{0}\\right)}\\right) \\left(- i e^{i \\phi_{0}} \\sin{\\left(\\phi_{0} \\right)} + e^{i \\phi_{0}} \\cos{\\left(\\phi_{0} \\right)} - e^{- i \\phi_{0} + i \\left(\\Omega t + \\phi_{0}\\right)} - 2\\right) + \\left(\\Omega \\left(- e^{i \\phi_{0}} - e^{i \\left(\\Omega t + \\phi_{0}\\right)}\\right) - 2 \\epsilon \\left(- e^{i \\phi_{0}} + e^{i \\left(\\Omega t + \\phi_{0}\\right)}\\right) \\cos{\\left(\\Omega t - \\theta_{m} \\right)}\\right) \\left(- e^{i \\phi_{0}} + e^{i \\left(\\Omega t + \\phi_{0}\\right)}\\right) - \\left(- \\Omega \\left(- e^{i \\phi_{0}} + e^{i \\left(\\Omega t + \\phi_{0}\\right)}\\right) e^{- i \\phi_{0}} - 2 \\epsilon \\left(- i e^{i \\phi_{0}} \\sin{\\left(\\phi_{0} \\right)} + e^{i \\phi_{0}} \\cos{\\left(\\phi_{0} \\right)} - e^{- i \\phi_{0} + i \\left(\\Omega t + \\phi_{0}\\right)} - 2\\right) \\cos{\\left(\\Omega t - \\theta_{m} \\right)}\\right) \\left(e^{2 i \\phi_{0}} + e^{i \\phi_{0} + i \\left(\\Omega t + \\phi_{0}\\right)}\\right)\\right) e^{- i \\left(\\Omega t + 2 \\phi_{0}\\right)}}{8}\\end{matrix}\\right]$"
      ],
      "text/plain": [
       "Matrix([\n",
       "[I*Omega*exp(I*phi_0)*sin(phi_0)/2 - Omega*exp(I*phi_0)*cos(phi_0)/2 + Omega*exp(I*Omega*t)/2 + I*Omega*exp(I*Omega*t + I*phi_0)*sin(phi_0)/2 - Omega*exp(I*Omega*t + I*phi_0)*cos(phi_0)/2 + Omega - I*Omega*exp(-I*phi_0)*sin(phi_0)/2 - Omega*exp(-I*phi_0)*cos(phi_0)/2 - I*epsilon*exp(I*phi_0)*sin(phi_0)*cos(Omega*t - theta_m)/2 + epsilon*exp(I*phi_0)*cos(phi_0)*cos(Omega*t - theta_m)/2 + I*epsilon*exp(-I*Omega*t - I*phi_0)*sin(phi_0)*cos(Omega*t - theta_m)/2 + epsilon*exp(-I*Omega*t - I*phi_0)*cos(phi_0)*cos(Omega*t - theta_m)/2 - I*epsilon*exp(I*Omega*t + I*phi_0)*sin(phi_0)*cos(Omega*t - theta_m)/2 + epsilon*exp(I*Omega*t + I*phi_0)*cos(phi_0)*cos(Omega*t - theta_m)/2 - epsilon*cos(Omega*t - theta_m) + I*epsilon*exp(-I*phi_0)*sin(phi_0)*cos(Omega*t - theta_m)/2 + epsilon*exp(-I*phi_0)*cos(phi_0)*cos(Omega*t - theta_m)/2,                    (I*sin(phi_0) - cos(phi_0))*(Omega*(exp(I*phi_0) + exp(I*(Omega*t + phi_0)))**2 - Omega*(exp(2*I*phi_0) - exp(I*phi_0 + I*(Omega*t + phi_0)))*(I*exp(I*phi_0)*sin(phi_0) - exp(I*phi_0)*cos(phi_0) - exp(-I*phi_0 + I*(Omega*t + phi_0)) + 2) + (Omega*(exp(I*phi_0) - exp(I*(Omega*t + phi_0))) - 2*epsilon*(exp(I*phi_0) + exp(I*(Omega*t + phi_0)))*cos(Omega*t - theta_m))*(exp(I*phi_0) - exp(I*(Omega*t + phi_0))) + (-Omega*(exp(I*phi_0) + exp(I*(Omega*t + phi_0)))*exp(-I*phi_0) - 2*epsilon*(I*exp(I*phi_0)*sin(phi_0) - exp(I*phi_0)*cos(phi_0) - exp(-I*phi_0 + I*(Omega*t + phi_0)) + 2)*cos(Omega*t - theta_m))*(exp(2*I*phi_0) + exp(I*phi_0 + I*(Omega*t + phi_0))))*exp(-I*(Omega*t + 2*phi_0))/8],\n",
       "[                                                                                                                                                         (Omega*(-exp(I*phi_0) + exp(I*(Omega*t + phi_0)))**2 + Omega*(exp(2*I*phi_0) + exp(I*phi_0 + I*(Omega*t + phi_0)))*(-I*exp(I*phi_0)*sin(phi_0) + exp(I*phi_0)*cos(phi_0) - exp(-I*phi_0 + I*(Omega*t + phi_0)) - 2) - (Omega*(-exp(I*phi_0) - exp(I*(Omega*t + phi_0))) - 2*epsilon*(-exp(I*phi_0) + exp(I*(Omega*t + phi_0)))*cos(Omega*t - theta_m))*(exp(I*phi_0) + exp(I*(Omega*t + phi_0))) - (-Omega*(-exp(I*phi_0) + exp(I*(Omega*t + phi_0)))*exp(-I*phi_0) - 2*epsilon*(-I*exp(I*phi_0)*sin(phi_0) + exp(I*phi_0)*cos(phi_0) - exp(-I*phi_0 + I*(Omega*t + phi_0)) - 2)*cos(Omega*t - theta_m))*(exp(2*I*phi_0) - exp(I*phi_0 + I*(Omega*t + phi_0))))*exp(I*phi_0 - I*(Omega*t + 2*phi_0))/8, (-Omega*(-exp(I*phi_0) + exp(I*(Omega*t + phi_0)))*(exp(I*phi_0) + exp(I*(Omega*t + phi_0))) + Omega*(exp(2*I*phi_0) - exp(I*phi_0 + I*(Omega*t + phi_0)))*(-I*exp(I*phi_0)*sin(phi_0) + exp(I*phi_0)*cos(phi_0) - exp(-I*phi_0 + I*(Omega*t + phi_0)) - 2) + (Omega*(-exp(I*phi_0) - exp(I*(Omega*t + phi_0))) - 2*epsilon*(-exp(I*phi_0) + exp(I*(Omega*t + phi_0)))*cos(Omega*t - theta_m))*(-exp(I*phi_0) + exp(I*(Omega*t + phi_0))) - (-Omega*(-exp(I*phi_0) + exp(I*(Omega*t + phi_0)))*exp(-I*phi_0) - 2*epsilon*(-I*exp(I*phi_0)*sin(phi_0) + exp(I*phi_0)*cos(phi_0) - exp(-I*phi_0 + I*(Omega*t + phi_0)) - 2)*cos(Omega*t - theta_m))*(exp(2*I*phi_0) + exp(I*phi_0 + I*(Omega*t + phi_0))))*exp(-I*(Omega*t + 2*phi_0))/8]])"
      ]
     },
     "execution_count": 24,
     "metadata": {},
     "output_type": "execute_result"
    }
   ],
   "source": [
    "sp.simplify(H_transformed)"
   ]
  },
  {
   "cell_type": "code",
   "execution_count": 25,
   "id": "1974a48d",
   "metadata": {},
   "outputs": [
    {
     "data": {
      "text/latex": [
       "$\\displaystyle \\frac{\\sigma_{x} \\left(- 4 i \\Omega e^{i \\phi_{0}} \\sin{\\left(\\phi_{0} \\right)} - 8 \\Omega e^{i \\left(\\Omega t + \\phi_{0}\\right)} \\cos{\\left(\\phi_{0} \\right)} - 2 i \\Omega e^{i \\left(\\Omega t + 2 \\phi_{0}\\right)} \\sin{\\left(2 \\phi_{0} \\right)} + 2 \\Omega e^{i \\left(\\Omega t + 2 \\phi_{0}\\right)} \\cos{\\left(2 \\phi_{0} \\right)} + 2 \\Omega e^{i \\left(\\Omega t + 2 \\phi_{0}\\right)} + 2 i \\Omega e^{i \\Omega t} \\sin{\\left(2 \\phi_{0} \\right)} + 2 \\Omega e^{i \\Omega t} \\cos{\\left(2 \\phi_{0} \\right)} + 2 \\Omega e^{i \\Omega t} + 2 i \\Omega \\sin{\\left(2 \\phi_{0} \\right)} + 2 \\Omega \\cos{\\left(2 \\phi_{0} \\right)} - 2 \\Omega + i \\epsilon e^{2 i \\left(\\Omega t + \\phi_{0}\\right)} \\sin{\\left(- \\Omega t + 2 \\phi_{0} + \\theta_{m} \\right)} + i \\epsilon e^{2 i \\left(\\Omega t + \\phi_{0}\\right)} \\sin{\\left(\\Omega t + 2 \\phi_{0} - \\theta_{m} \\right)} + 2 \\epsilon e^{2 i \\left(\\Omega t + \\phi_{0}\\right)} \\cos{\\left(\\Omega t - \\theta_{m} \\right)} - \\epsilon e^{2 i \\left(\\Omega t + \\phi_{0}\\right)} \\cos{\\left(- \\Omega t + 2 \\phi_{0} + \\theta_{m} \\right)} - \\epsilon e^{2 i \\left(\\Omega t + \\phi_{0}\\right)} \\cos{\\left(\\Omega t + 2 \\phi_{0} - \\theta_{m} \\right)} + 4 \\epsilon e^{i \\left(\\Omega t + \\phi_{0}\\right)} \\cos{\\left(- \\Omega t + \\phi_{0} + \\theta_{m} \\right)} + 4 \\epsilon e^{i \\left(\\Omega t + \\phi_{0}\\right)} \\cos{\\left(\\Omega t + \\phi_{0} - \\theta_{m} \\right)} + i \\epsilon e^{i \\left(\\Omega t + 2 \\phi_{0}\\right)} \\sin{\\left(- \\Omega t + 2 \\phi_{0} + \\theta_{m} \\right)} + i \\epsilon e^{i \\left(\\Omega t + 2 \\phi_{0}\\right)} \\sin{\\left(\\Omega t + 2 \\phi_{0} - \\theta_{m} \\right)} - 2 \\epsilon e^{i \\left(\\Omega t + 2 \\phi_{0}\\right)} \\cos{\\left(\\Omega t - \\theta_{m} \\right)} - \\epsilon e^{i \\left(\\Omega t + 2 \\phi_{0}\\right)} \\cos{\\left(- \\Omega t + 2 \\phi_{0} + \\theta_{m} \\right)} - \\epsilon e^{i \\left(\\Omega t + 2 \\phi_{0}\\right)} \\cos{\\left(\\Omega t + 2 \\phi_{0} - \\theta_{m} \\right)} - i \\epsilon e^{i \\Omega t} \\sin{\\left(- \\Omega t + 2 \\phi_{0} + \\theta_{m} \\right)} - i \\epsilon e^{i \\Omega t} \\sin{\\left(\\Omega t + 2 \\phi_{0} - \\theta_{m} \\right)} - 2 \\epsilon e^{i \\Omega t} \\cos{\\left(\\Omega t - \\theta_{m} \\right)} - \\epsilon e^{i \\Omega t} \\cos{\\left(- \\Omega t + 2 \\phi_{0} + \\theta_{m} \\right)} - \\epsilon e^{i \\Omega t} \\cos{\\left(\\Omega t + 2 \\phi_{0} - \\theta_{m} \\right)} - i \\epsilon \\sin{\\left(- \\Omega t + 2 \\phi_{0} + \\theta_{m} \\right)} - i \\epsilon \\sin{\\left(\\Omega t + 2 \\phi_{0} - \\theta_{m} \\right)} + 2 \\epsilon \\cos{\\left(\\Omega t - \\theta_{m} \\right)} - \\epsilon \\cos{\\left(- \\Omega t + 2 \\phi_{0} + \\theta_{m} \\right)} - \\epsilon \\cos{\\left(\\Omega t + 2 \\phi_{0} - \\theta_{m} \\right)}\\right) e^{i \\left(- \\Omega t - \\phi_{0}\\right)}}{8} + \\frac{i \\sigma_{y} \\left(4 \\Omega e^{i \\phi_{0}} \\cos{\\left(\\phi_{0} \\right)} + 8 i \\Omega e^{i \\left(\\Omega t + \\phi_{0}\\right)} \\sin{\\left(\\phi_{0} \\right)} - 2 i \\Omega e^{i \\left(\\Omega t + 2 \\phi_{0}\\right)} \\sin{\\left(2 \\phi_{0} \\right)} + 2 \\Omega e^{i \\left(\\Omega t + 2 \\phi_{0}\\right)} \\cos{\\left(2 \\phi_{0} \\right)} - 2 \\Omega e^{i \\left(\\Omega t + 2 \\phi_{0}\\right)} - 2 i \\Omega e^{i \\Omega t} \\sin{\\left(2 \\phi_{0} \\right)} - 2 \\Omega e^{i \\Omega t} \\cos{\\left(2 \\phi_{0} \\right)} + 2 \\Omega e^{i \\Omega t} - 2 i \\Omega \\sin{\\left(2 \\phi_{0} \\right)} - 2 \\Omega \\cos{\\left(2 \\phi_{0} \\right)} - 2 \\Omega + i \\epsilon e^{2 i \\left(\\Omega t + \\phi_{0}\\right)} \\sin{\\left(- \\Omega t + 2 \\phi_{0} + \\theta_{m} \\right)} + i \\epsilon e^{2 i \\left(\\Omega t + \\phi_{0}\\right)} \\sin{\\left(\\Omega t + 2 \\phi_{0} - \\theta_{m} \\right)} - 2 \\epsilon e^{2 i \\left(\\Omega t + \\phi_{0}\\right)} \\cos{\\left(\\Omega t - \\theta_{m} \\right)} - \\epsilon e^{2 i \\left(\\Omega t + \\phi_{0}\\right)} \\cos{\\left(- \\Omega t + 2 \\phi_{0} + \\theta_{m} \\right)} - \\epsilon e^{2 i \\left(\\Omega t + \\phi_{0}\\right)} \\cos{\\left(\\Omega t + 2 \\phi_{0} - \\theta_{m} \\right)} - 4 i \\epsilon e^{i \\left(\\Omega t + \\phi_{0}\\right)} \\sin{\\left(- \\Omega t + \\phi_{0} + \\theta_{m} \\right)} - 4 i \\epsilon e^{i \\left(\\Omega t + \\phi_{0}\\right)} \\sin{\\left(\\Omega t + \\phi_{0} - \\theta_{m} \\right)} + i \\epsilon e^{i \\left(\\Omega t + 2 \\phi_{0}\\right)} \\sin{\\left(- \\Omega t + 2 \\phi_{0} + \\theta_{m} \\right)} + i \\epsilon e^{i \\left(\\Omega t + 2 \\phi_{0}\\right)} \\sin{\\left(\\Omega t + 2 \\phi_{0} - \\theta_{m} \\right)} + 2 \\epsilon e^{i \\left(\\Omega t + 2 \\phi_{0}\\right)} \\cos{\\left(\\Omega t - \\theta_{m} \\right)} - \\epsilon e^{i \\left(\\Omega t + 2 \\phi_{0}\\right)} \\cos{\\left(- \\Omega t + 2 \\phi_{0} + \\theta_{m} \\right)} - \\epsilon e^{i \\left(\\Omega t + 2 \\phi_{0}\\right)} \\cos{\\left(\\Omega t + 2 \\phi_{0} - \\theta_{m} \\right)} + i \\epsilon e^{i \\Omega t} \\sin{\\left(- \\Omega t + 2 \\phi_{0} + \\theta_{m} \\right)} + i \\epsilon e^{i \\Omega t} \\sin{\\left(\\Omega t + 2 \\phi_{0} - \\theta_{m} \\right)} - 2 \\epsilon e^{i \\Omega t} \\cos{\\left(\\Omega t - \\theta_{m} \\right)} + \\epsilon e^{i \\Omega t} \\cos{\\left(- \\Omega t + 2 \\phi_{0} + \\theta_{m} \\right)} + \\epsilon e^{i \\Omega t} \\cos{\\left(\\Omega t + 2 \\phi_{0} - \\theta_{m} \\right)} + i \\epsilon \\sin{\\left(- \\Omega t + 2 \\phi_{0} + \\theta_{m} \\right)} + i \\epsilon \\sin{\\left(\\Omega t + 2 \\phi_{0} - \\theta_{m} \\right)} + 2 \\epsilon \\cos{\\left(\\Omega t - \\theta_{m} \\right)} + \\epsilon \\cos{\\left(- \\Omega t + 2 \\phi_{0} + \\theta_{m} \\right)} + \\epsilon \\cos{\\left(\\Omega t + 2 \\phi_{0} - \\theta_{m} \\right)}\\right) e^{i \\left(- \\Omega t - \\phi_{0}\\right)}}{8} + \\frac{\\sigma_{z} \\left(\\Omega e^{i \\phi_{0}} - i \\Omega \\sin{\\left(\\phi_{0} \\right)} - \\Omega \\cos{\\left(\\phi_{0} \\right)} - i \\epsilon e^{2 i \\left(\\Omega t + \\phi_{0}\\right)} \\sin{\\left(\\phi_{0} \\right)} \\cos{\\left(\\Omega t - \\theta_{m} \\right)} + \\epsilon e^{2 i \\left(\\Omega t + \\phi_{0}\\right)} \\cos{\\left(\\phi_{0} \\right)} \\cos{\\left(\\Omega t - \\theta_{m} \\right)} + i \\epsilon \\sin{\\left(\\phi_{0} \\right)} \\cos{\\left(\\Omega t - \\theta_{m} \\right)} + \\epsilon \\cos{\\left(\\phi_{0} \\right)} \\cos{\\left(\\Omega t - \\theta_{m} \\right)}\\right) e^{- i \\left(\\Omega t + \\phi_{0}\\right)}}{2}$"
      ],
      "text/plain": [
       "sigma_x*(-4*I*Omega*exp(I*phi_0)*sin(phi_0) - 8*Omega*exp(I*(Omega*t + phi_0))*cos(phi_0) - 2*I*Omega*exp(I*(Omega*t + 2*phi_0))*sin(2*phi_0) + 2*Omega*exp(I*(Omega*t + 2*phi_0))*cos(2*phi_0) + 2*Omega*exp(I*(Omega*t + 2*phi_0)) + 2*I*Omega*exp(I*Omega*t)*sin(2*phi_0) + 2*Omega*exp(I*Omega*t)*cos(2*phi_0) + 2*Omega*exp(I*Omega*t) + 2*I*Omega*sin(2*phi_0) + 2*Omega*cos(2*phi_0) - 2*Omega + I*epsilon*exp(2*I*(Omega*t + phi_0))*sin(-Omega*t + 2*phi_0 + theta_m) + I*epsilon*exp(2*I*(Omega*t + phi_0))*sin(Omega*t + 2*phi_0 - theta_m) + 2*epsilon*exp(2*I*(Omega*t + phi_0))*cos(Omega*t - theta_m) - epsilon*exp(2*I*(Omega*t + phi_0))*cos(-Omega*t + 2*phi_0 + theta_m) - epsilon*exp(2*I*(Omega*t + phi_0))*cos(Omega*t + 2*phi_0 - theta_m) + 4*epsilon*exp(I*(Omega*t + phi_0))*cos(-Omega*t + phi_0 + theta_m) + 4*epsilon*exp(I*(Omega*t + phi_0))*cos(Omega*t + phi_0 - theta_m) + I*epsilon*exp(I*(Omega*t + 2*phi_0))*sin(-Omega*t + 2*phi_0 + theta_m) + I*epsilon*exp(I*(Omega*t + 2*phi_0))*sin(Omega*t + 2*phi_0 - theta_m) - 2*epsilon*exp(I*(Omega*t + 2*phi_0))*cos(Omega*t - theta_m) - epsilon*exp(I*(Omega*t + 2*phi_0))*cos(-Omega*t + 2*phi_0 + theta_m) - epsilon*exp(I*(Omega*t + 2*phi_0))*cos(Omega*t + 2*phi_0 - theta_m) - I*epsilon*exp(I*Omega*t)*sin(-Omega*t + 2*phi_0 + theta_m) - I*epsilon*exp(I*Omega*t)*sin(Omega*t + 2*phi_0 - theta_m) - 2*epsilon*exp(I*Omega*t)*cos(Omega*t - theta_m) - epsilon*exp(I*Omega*t)*cos(-Omega*t + 2*phi_0 + theta_m) - epsilon*exp(I*Omega*t)*cos(Omega*t + 2*phi_0 - theta_m) - I*epsilon*sin(-Omega*t + 2*phi_0 + theta_m) - I*epsilon*sin(Omega*t + 2*phi_0 - theta_m) + 2*epsilon*cos(Omega*t - theta_m) - epsilon*cos(-Omega*t + 2*phi_0 + theta_m) - epsilon*cos(Omega*t + 2*phi_0 - theta_m))*exp(I*(-Omega*t - phi_0))/8 + I*sigma_y*(4*Omega*exp(I*phi_0)*cos(phi_0) + 8*I*Omega*exp(I*(Omega*t + phi_0))*sin(phi_0) - 2*I*Omega*exp(I*(Omega*t + 2*phi_0))*sin(2*phi_0) + 2*Omega*exp(I*(Omega*t + 2*phi_0))*cos(2*phi_0) - 2*Omega*exp(I*(Omega*t + 2*phi_0)) - 2*I*Omega*exp(I*Omega*t)*sin(2*phi_0) - 2*Omega*exp(I*Omega*t)*cos(2*phi_0) + 2*Omega*exp(I*Omega*t) - 2*I*Omega*sin(2*phi_0) - 2*Omega*cos(2*phi_0) - 2*Omega + I*epsilon*exp(2*I*(Omega*t + phi_0))*sin(-Omega*t + 2*phi_0 + theta_m) + I*epsilon*exp(2*I*(Omega*t + phi_0))*sin(Omega*t + 2*phi_0 - theta_m) - 2*epsilon*exp(2*I*(Omega*t + phi_0))*cos(Omega*t - theta_m) - epsilon*exp(2*I*(Omega*t + phi_0))*cos(-Omega*t + 2*phi_0 + theta_m) - epsilon*exp(2*I*(Omega*t + phi_0))*cos(Omega*t + 2*phi_0 - theta_m) - 4*I*epsilon*exp(I*(Omega*t + phi_0))*sin(-Omega*t + phi_0 + theta_m) - 4*I*epsilon*exp(I*(Omega*t + phi_0))*sin(Omega*t + phi_0 - theta_m) + I*epsilon*exp(I*(Omega*t + 2*phi_0))*sin(-Omega*t + 2*phi_0 + theta_m) + I*epsilon*exp(I*(Omega*t + 2*phi_0))*sin(Omega*t + 2*phi_0 - theta_m) + 2*epsilon*exp(I*(Omega*t + 2*phi_0))*cos(Omega*t - theta_m) - epsilon*exp(I*(Omega*t + 2*phi_0))*cos(-Omega*t + 2*phi_0 + theta_m) - epsilon*exp(I*(Omega*t + 2*phi_0))*cos(Omega*t + 2*phi_0 - theta_m) + I*epsilon*exp(I*Omega*t)*sin(-Omega*t + 2*phi_0 + theta_m) + I*epsilon*exp(I*Omega*t)*sin(Omega*t + 2*phi_0 - theta_m) - 2*epsilon*exp(I*Omega*t)*cos(Omega*t - theta_m) + epsilon*exp(I*Omega*t)*cos(-Omega*t + 2*phi_0 + theta_m) + epsilon*exp(I*Omega*t)*cos(Omega*t + 2*phi_0 - theta_m) + I*epsilon*sin(-Omega*t + 2*phi_0 + theta_m) + I*epsilon*sin(Omega*t + 2*phi_0 - theta_m) + 2*epsilon*cos(Omega*t - theta_m) + epsilon*cos(-Omega*t + 2*phi_0 + theta_m) + epsilon*cos(Omega*t + 2*phi_0 - theta_m))*exp(I*(-Omega*t - phi_0))/8 + sigma_z*(Omega*exp(I*phi_0) - I*Omega*sin(phi_0) - Omega*cos(phi_0) - I*epsilon*exp(2*I*(Omega*t + phi_0))*sin(phi_0)*cos(Omega*t - theta_m) + epsilon*exp(2*I*(Omega*t + phi_0))*cos(phi_0)*cos(Omega*t - theta_m) + I*epsilon*sin(phi_0)*cos(Omega*t - theta_m) + epsilon*cos(phi_0)*cos(Omega*t - theta_m))*exp(-I*(Omega*t + phi_0))/2"
      ]
     },
     "execution_count": 25,
     "metadata": {},
     "output_type": "execute_result"
    }
   ],
   "source": [
    "matrix_to_pauli_basis(H_transformed)"
   ]
  },
  {
   "cell_type": "code",
   "execution_count": 27,
   "id": "83cae4db",
   "metadata": {},
   "outputs": [
    {
     "data": {
      "text/latex": [
       "$\\displaystyle \\left[\\begin{matrix}\\left(\\frac{\\Omega \\left(- i \\sin{\\left(\\phi_{0} \\right)} + \\cos{\\left(\\phi_{0} \\right)}\\right) \\left(\\frac{\\left(- i \\sin{\\left(\\phi_{0} \\right)} + \\cos{\\left(\\phi_{0} \\right)}\\right) e^{i \\phi_{0}} e^{\\frac{i \\Omega t}{2}}}{2} - \\frac{\\left(i \\sin{\\left(\\phi_{0} \\right)} - \\cos{\\left(\\phi_{0} \\right)}\\right) e^{i \\phi_{0}} e^{- \\frac{i \\Omega t}{2}}}{2}\\right)}{2} - \\epsilon \\left(\\left(- i \\sin{\\left(\\phi_{0} \\right)} + \\cos{\\left(\\phi_{0} \\right)}\\right) \\left(- \\frac{i e^{i \\phi_{0}} \\sin{\\left(\\phi_{0} \\right)}}{2} + \\frac{e^{i \\phi_{0}} \\cos{\\left(\\phi_{0} \\right)}}{2}\\right) e^{\\frac{i \\Omega t}{2}} + \\left(i \\sin{\\left(\\phi_{0} \\right)} - \\cos{\\left(\\phi_{0} \\right)}\\right) \\left(\\frac{i e^{i \\phi_{0}} \\sin{\\left(\\phi_{0} \\right)}}{2} - \\frac{e^{i \\phi_{0}} \\cos{\\left(\\phi_{0} \\right)}}{2} + 1\\right) e^{- \\frac{i \\Omega t}{2}}\\right) \\cos{\\left(\\Omega t - \\theta_{m} \\right)}\\right) \\left(\\left(- i \\sin{\\left(\\phi_{0} \\right)} - \\cos{\\left(\\phi_{0} \\right)}\\right) \\left(1 - \\frac{i e^{- i \\phi_{0}} \\sin{\\left(\\phi_{0} \\right)}}{2} - \\frac{e^{- i \\phi_{0}} \\cos{\\left(\\phi_{0} \\right)}}{2}\\right) e^{\\frac{i \\Omega t}{2}} + \\left(i \\sin{\\left(\\phi_{0} \\right)} + \\cos{\\left(\\phi_{0} \\right)}\\right) \\left(\\frac{i e^{- i \\phi_{0}} \\sin{\\left(\\phi_{0} \\right)}}{2} + \\frac{e^{- i \\phi_{0}} \\cos{\\left(\\phi_{0} \\right)}}{2}\\right) e^{- \\frac{i \\Omega t}{2}}\\right) + \\left(\\frac{\\Omega \\left(i \\sin{\\left(\\phi_{0} \\right)} + \\cos{\\left(\\phi_{0} \\right)}\\right) \\left(\\left(- i \\sin{\\left(\\phi_{0} \\right)} + \\cos{\\left(\\phi_{0} \\right)}\\right) \\left(- \\frac{i e^{i \\phi_{0}} \\sin{\\left(\\phi_{0} \\right)}}{2} + \\frac{e^{i \\phi_{0}} \\cos{\\left(\\phi_{0} \\right)}}{2}\\right) e^{\\frac{i \\Omega t}{2}} + \\left(i \\sin{\\left(\\phi_{0} \\right)} - \\cos{\\left(\\phi_{0} \\right)}\\right) \\left(\\frac{i e^{i \\phi_{0}} \\sin{\\left(\\phi_{0} \\right)}}{2} - \\frac{e^{i \\phi_{0}} \\cos{\\left(\\phi_{0} \\right)}}{2} + 1\\right) e^{- \\frac{i \\Omega t}{2}}\\right)}{2} + \\epsilon \\left(\\frac{\\left(- i \\sin{\\left(\\phi_{0} \\right)} + \\cos{\\left(\\phi_{0} \\right)}\\right) e^{i \\phi_{0}} e^{\\frac{i \\Omega t}{2}}}{2} - \\frac{\\left(i \\sin{\\left(\\phi_{0} \\right)} - \\cos{\\left(\\phi_{0} \\right)}\\right) e^{i \\phi_{0}} e^{- \\frac{i \\Omega t}{2}}}{2}\\right) \\cos{\\left(\\Omega t - \\theta_{m} \\right)}\\right) \\left(- \\frac{\\left(- i \\sin{\\left(\\phi_{0} \\right)} - \\cos{\\left(\\phi_{0} \\right)}\\right) e^{- i \\phi_{0}} e^{\\frac{i \\Omega t}{2}}}{2} + \\frac{\\left(i \\sin{\\left(\\phi_{0} \\right)} + \\cos{\\left(\\phi_{0} \\right)}\\right) e^{- i \\phi_{0}} e^{- \\frac{i \\Omega t}{2}}}{2}\\right) - i \\left(\\left(- i \\sin{\\left(\\phi_{0} \\right)} + \\cos{\\left(\\phi_{0} \\right)}\\right) \\left(- \\frac{i e^{i \\phi_{0}} \\sin{\\left(\\phi_{0} \\right)}}{2} + \\frac{e^{i \\phi_{0}} \\cos{\\left(\\phi_{0} \\right)}}{2}\\right) e^{\\frac{i \\Omega t}{2}} + \\left(i \\sin{\\left(\\phi_{0} \\right)} - \\cos{\\left(\\phi_{0} \\right)}\\right) \\left(\\frac{i e^{i \\phi_{0}} \\sin{\\left(\\phi_{0} \\right)}}{2} - \\frac{e^{i \\phi_{0}} \\cos{\\left(\\phi_{0} \\right)}}{2} + 1\\right) e^{- \\frac{i \\Omega t}{2}}\\right) \\left(\\frac{i \\Omega \\left(- i \\sin{\\left(\\phi_{0} \\right)} - \\cos{\\left(\\phi_{0} \\right)}\\right) \\left(1 - \\frac{i e^{- i \\phi_{0}} \\sin{\\left(\\phi_{0} \\right)}}{2} - \\frac{e^{- i \\phi_{0}} \\cos{\\left(\\phi_{0} \\right)}}{2}\\right) e^{\\frac{i \\Omega t}{2}}}{2} - \\frac{i \\Omega \\left(i \\sin{\\left(\\phi_{0} \\right)} + \\cos{\\left(\\phi_{0} \\right)}\\right) \\left(\\frac{i e^{- i \\phi_{0}} \\sin{\\left(\\phi_{0} \\right)}}{2} + \\frac{e^{- i \\phi_{0}} \\cos{\\left(\\phi_{0} \\right)}}{2}\\right) e^{- \\frac{i \\Omega t}{2}}}{2}\\right) - i \\left(\\frac{\\left(- i \\sin{\\left(\\phi_{0} \\right)} + \\cos{\\left(\\phi_{0} \\right)}\\right) e^{i \\phi_{0}} e^{\\frac{i \\Omega t}{2}}}{2} - \\frac{\\left(i \\sin{\\left(\\phi_{0} \\right)} - \\cos{\\left(\\phi_{0} \\right)}\\right) e^{i \\phi_{0}} e^{- \\frac{i \\Omega t}{2}}}{2}\\right) \\left(- \\frac{i \\Omega \\left(- i \\sin{\\left(\\phi_{0} \\right)} - \\cos{\\left(\\phi_{0} \\right)}\\right) e^{- i \\phi_{0}} e^{\\frac{i \\Omega t}{2}}}{4} - \\frac{i \\Omega \\left(i \\sin{\\left(\\phi_{0} \\right)} + \\cos{\\left(\\phi_{0} \\right)}\\right) e^{- i \\phi_{0}} e^{- \\frac{i \\Omega t}{2}}}{4}\\right) & \\left(\\left(\\frac{i e^{- i \\phi_{0}} \\sin{\\left(\\phi_{0} \\right)}}{2} + \\frac{e^{- i \\phi_{0}} \\cos{\\left(\\phi_{0} \\right)}}{2}\\right) e^{- \\frac{i \\Omega t}{2}} + \\left(1 - \\frac{i e^{- i \\phi_{0}} \\sin{\\left(\\phi_{0} \\right)}}{2} - \\frac{e^{- i \\phi_{0}} \\cos{\\left(\\phi_{0} \\right)}}{2}\\right) e^{\\frac{i \\Omega t}{2}}\\right) \\left(\\frac{\\Omega \\left(- i \\sin{\\left(\\phi_{0} \\right)} + \\cos{\\left(\\phi_{0} \\right)}\\right) \\left(\\frac{\\left(- i \\sin{\\left(\\phi_{0} \\right)} + \\cos{\\left(\\phi_{0} \\right)}\\right) e^{i \\phi_{0}} e^{\\frac{i \\Omega t}{2}}}{2} - \\frac{\\left(i \\sin{\\left(\\phi_{0} \\right)} - \\cos{\\left(\\phi_{0} \\right)}\\right) e^{i \\phi_{0}} e^{- \\frac{i \\Omega t}{2}}}{2}\\right)}{2} - \\epsilon \\left(\\left(- i \\sin{\\left(\\phi_{0} \\right)} + \\cos{\\left(\\phi_{0} \\right)}\\right) \\left(- \\frac{i e^{i \\phi_{0}} \\sin{\\left(\\phi_{0} \\right)}}{2} + \\frac{e^{i \\phi_{0}} \\cos{\\left(\\phi_{0} \\right)}}{2}\\right) e^{\\frac{i \\Omega t}{2}} + \\left(i \\sin{\\left(\\phi_{0} \\right)} - \\cos{\\left(\\phi_{0} \\right)}\\right) \\left(\\frac{i e^{i \\phi_{0}} \\sin{\\left(\\phi_{0} \\right)}}{2} - \\frac{e^{i \\phi_{0}} \\cos{\\left(\\phi_{0} \\right)}}{2} + 1\\right) e^{- \\frac{i \\Omega t}{2}}\\right) \\cos{\\left(\\Omega t - \\theta_{m} \\right)}\\right) + \\left(- \\frac{e^{- i \\phi_{0}} e^{\\frac{i \\Omega t}{2}}}{2} + \\frac{e^{- i \\phi_{0}} e^{- \\frac{i \\Omega t}{2}}}{2}\\right) \\left(\\frac{\\Omega \\left(i \\sin{\\left(\\phi_{0} \\right)} + \\cos{\\left(\\phi_{0} \\right)}\\right) \\left(\\left(- i \\sin{\\left(\\phi_{0} \\right)} + \\cos{\\left(\\phi_{0} \\right)}\\right) \\left(- \\frac{i e^{i \\phi_{0}} \\sin{\\left(\\phi_{0} \\right)}}{2} + \\frac{e^{i \\phi_{0}} \\cos{\\left(\\phi_{0} \\right)}}{2}\\right) e^{\\frac{i \\Omega t}{2}} + \\left(i \\sin{\\left(\\phi_{0} \\right)} - \\cos{\\left(\\phi_{0} \\right)}\\right) \\left(\\frac{i e^{i \\phi_{0}} \\sin{\\left(\\phi_{0} \\right)}}{2} - \\frac{e^{i \\phi_{0}} \\cos{\\left(\\phi_{0} \\right)}}{2} + 1\\right) e^{- \\frac{i \\Omega t}{2}}\\right)}{2} + \\epsilon \\left(\\frac{\\left(- i \\sin{\\left(\\phi_{0} \\right)} + \\cos{\\left(\\phi_{0} \\right)}\\right) e^{i \\phi_{0}} e^{\\frac{i \\Omega t}{2}}}{2} - \\frac{\\left(i \\sin{\\left(\\phi_{0} \\right)} - \\cos{\\left(\\phi_{0} \\right)}\\right) e^{i \\phi_{0}} e^{- \\frac{i \\Omega t}{2}}}{2}\\right) \\cos{\\left(\\Omega t - \\theta_{m} \\right)}\\right) - i \\left(\\left(- i \\sin{\\left(\\phi_{0} \\right)} + \\cos{\\left(\\phi_{0} \\right)}\\right) \\left(- \\frac{i e^{i \\phi_{0}} \\sin{\\left(\\phi_{0} \\right)}}{2} + \\frac{e^{i \\phi_{0}} \\cos{\\left(\\phi_{0} \\right)}}{2}\\right) e^{\\frac{i \\Omega t}{2}} + \\left(i \\sin{\\left(\\phi_{0} \\right)} - \\cos{\\left(\\phi_{0} \\right)}\\right) \\left(\\frac{i e^{i \\phi_{0}} \\sin{\\left(\\phi_{0} \\right)}}{2} - \\frac{e^{i \\phi_{0}} \\cos{\\left(\\phi_{0} \\right)}}{2} + 1\\right) e^{- \\frac{i \\Omega t}{2}}\\right) \\left(- \\frac{i \\Omega \\left(\\frac{i e^{- i \\phi_{0}} \\sin{\\left(\\phi_{0} \\right)}}{2} + \\frac{e^{- i \\phi_{0}} \\cos{\\left(\\phi_{0} \\right)}}{2}\\right) e^{- \\frac{i \\Omega t}{2}}}{2} + \\frac{i \\Omega \\left(1 - \\frac{i e^{- i \\phi_{0}} \\sin{\\left(\\phi_{0} \\right)}}{2} - \\frac{e^{- i \\phi_{0}} \\cos{\\left(\\phi_{0} \\right)}}{2}\\right) e^{\\frac{i \\Omega t}{2}}}{2}\\right) - i \\left(\\frac{\\left(- i \\sin{\\left(\\phi_{0} \\right)} + \\cos{\\left(\\phi_{0} \\right)}\\right) e^{i \\phi_{0}} e^{\\frac{i \\Omega t}{2}}}{2} - \\frac{\\left(i \\sin{\\left(\\phi_{0} \\right)} - \\cos{\\left(\\phi_{0} \\right)}\\right) e^{i \\phi_{0}} e^{- \\frac{i \\Omega t}{2}}}{2}\\right) \\left(- \\frac{i \\Omega e^{- i \\phi_{0}} e^{\\frac{i \\Omega t}{2}}}{4} - \\frac{i \\Omega e^{- i \\phi_{0}} e^{- \\frac{i \\Omega t}{2}}}{4}\\right)\\\\- i \\left(\\left(- \\frac{i e^{i \\phi_{0}} \\sin{\\left(\\phi_{0} \\right)}}{2} + \\frac{e^{i \\phi_{0}} \\cos{\\left(\\phi_{0} \\right)}}{2}\\right) e^{\\frac{i \\Omega t}{2}} + \\left(\\frac{i e^{i \\phi_{0}} \\sin{\\left(\\phi_{0} \\right)}}{2} - \\frac{e^{i \\phi_{0}} \\cos{\\left(\\phi_{0} \\right)}}{2} + 1\\right) e^{- \\frac{i \\Omega t}{2}}\\right) \\left(\\frac{i \\Omega \\left(- i \\sin{\\left(\\phi_{0} \\right)} - \\cos{\\left(\\phi_{0} \\right)}\\right) \\left(1 - \\frac{i e^{- i \\phi_{0}} \\sin{\\left(\\phi_{0} \\right)}}{2} - \\frac{e^{- i \\phi_{0}} \\cos{\\left(\\phi_{0} \\right)}}{2}\\right) e^{\\frac{i \\Omega t}{2}}}{2} - \\frac{i \\Omega \\left(i \\sin{\\left(\\phi_{0} \\right)} + \\cos{\\left(\\phi_{0} \\right)}\\right) \\left(\\frac{i e^{- i \\phi_{0}} \\sin{\\left(\\phi_{0} \\right)}}{2} + \\frac{e^{- i \\phi_{0}} \\cos{\\left(\\phi_{0} \\right)}}{2}\\right) e^{- \\frac{i \\Omega t}{2}}}{2}\\right) - i \\left(\\frac{e^{i \\phi_{0}} e^{\\frac{i \\Omega t}{2}}}{2} - \\frac{e^{i \\phi_{0}} e^{- \\frac{i \\Omega t}{2}}}{2}\\right) \\left(- \\frac{i \\Omega \\left(- i \\sin{\\left(\\phi_{0} \\right)} - \\cos{\\left(\\phi_{0} \\right)}\\right) e^{- i \\phi_{0}} e^{\\frac{i \\Omega t}{2}}}{4} - \\frac{i \\Omega \\left(i \\sin{\\left(\\phi_{0} \\right)} + \\cos{\\left(\\phi_{0} \\right)}\\right) e^{- i \\phi_{0}} e^{- \\frac{i \\Omega t}{2}}}{4}\\right) + \\left(\\frac{\\Omega \\left(- i \\sin{\\left(\\phi_{0} \\right)} + \\cos{\\left(\\phi_{0} \\right)}\\right) \\left(\\frac{e^{i \\phi_{0}} e^{\\frac{i \\Omega t}{2}}}{2} - \\frac{e^{i \\phi_{0}} e^{- \\frac{i \\Omega t}{2}}}{2}\\right)}{2} - \\epsilon \\left(\\left(- \\frac{i e^{i \\phi_{0}} \\sin{\\left(\\phi_{0} \\right)}}{2} + \\frac{e^{i \\phi_{0}} \\cos{\\left(\\phi_{0} \\right)}}{2}\\right) e^{\\frac{i \\Omega t}{2}} + \\left(\\frac{i e^{i \\phi_{0}} \\sin{\\left(\\phi_{0} \\right)}}{2} - \\frac{e^{i \\phi_{0}} \\cos{\\left(\\phi_{0} \\right)}}{2} + 1\\right) e^{- \\frac{i \\Omega t}{2}}\\right) \\cos{\\left(\\Omega t - \\theta_{m} \\right)}\\right) \\left(\\left(- i \\sin{\\left(\\phi_{0} \\right)} - \\cos{\\left(\\phi_{0} \\right)}\\right) \\left(1 - \\frac{i e^{- i \\phi_{0}} \\sin{\\left(\\phi_{0} \\right)}}{2} - \\frac{e^{- i \\phi_{0}} \\cos{\\left(\\phi_{0} \\right)}}{2}\\right) e^{\\frac{i \\Omega t}{2}} + \\left(i \\sin{\\left(\\phi_{0} \\right)} + \\cos{\\left(\\phi_{0} \\right)}\\right) \\left(\\frac{i e^{- i \\phi_{0}} \\sin{\\left(\\phi_{0} \\right)}}{2} + \\frac{e^{- i \\phi_{0}} \\cos{\\left(\\phi_{0} \\right)}}{2}\\right) e^{- \\frac{i \\Omega t}{2}}\\right) + \\left(\\frac{\\Omega \\left(i \\sin{\\left(\\phi_{0} \\right)} + \\cos{\\left(\\phi_{0} \\right)}\\right) \\left(\\left(- \\frac{i e^{i \\phi_{0}} \\sin{\\left(\\phi_{0} \\right)}}{2} + \\frac{e^{i \\phi_{0}} \\cos{\\left(\\phi_{0} \\right)}}{2}\\right) e^{\\frac{i \\Omega t}{2}} + \\left(\\frac{i e^{i \\phi_{0}} \\sin{\\left(\\phi_{0} \\right)}}{2} - \\frac{e^{i \\phi_{0}} \\cos{\\left(\\phi_{0} \\right)}}{2} + 1\\right) e^{- \\frac{i \\Omega t}{2}}\\right)}{2} + \\epsilon \\left(\\frac{e^{i \\phi_{0}} e^{\\frac{i \\Omega t}{2}}}{2} - \\frac{e^{i \\phi_{0}} e^{- \\frac{i \\Omega t}{2}}}{2}\\right) \\cos{\\left(\\Omega t - \\theta_{m} \\right)}\\right) \\left(- \\frac{\\left(- i \\sin{\\left(\\phi_{0} \\right)} - \\cos{\\left(\\phi_{0} \\right)}\\right) e^{- i \\phi_{0}} e^{\\frac{i \\Omega t}{2}}}{2} + \\frac{\\left(i \\sin{\\left(\\phi_{0} \\right)} + \\cos{\\left(\\phi_{0} \\right)}\\right) e^{- i \\phi_{0}} e^{- \\frac{i \\Omega t}{2}}}{2}\\right) & \\left(\\left(\\frac{i e^{- i \\phi_{0}} \\sin{\\left(\\phi_{0} \\right)}}{2} + \\frac{e^{- i \\phi_{0}} \\cos{\\left(\\phi_{0} \\right)}}{2}\\right) e^{- \\frac{i \\Omega t}{2}} + \\left(1 - \\frac{i e^{- i \\phi_{0}} \\sin{\\left(\\phi_{0} \\right)}}{2} - \\frac{e^{- i \\phi_{0}} \\cos{\\left(\\phi_{0} \\right)}}{2}\\right) e^{\\frac{i \\Omega t}{2}}\\right) \\left(\\frac{\\Omega \\left(- i \\sin{\\left(\\phi_{0} \\right)} + \\cos{\\left(\\phi_{0} \\right)}\\right) \\left(\\frac{e^{i \\phi_{0}} e^{\\frac{i \\Omega t}{2}}}{2} - \\frac{e^{i \\phi_{0}} e^{- \\frac{i \\Omega t}{2}}}{2}\\right)}{2} - \\epsilon \\left(\\left(- \\frac{i e^{i \\phi_{0}} \\sin{\\left(\\phi_{0} \\right)}}{2} + \\frac{e^{i \\phi_{0}} \\cos{\\left(\\phi_{0} \\right)}}{2}\\right) e^{\\frac{i \\Omega t}{2}} + \\left(\\frac{i e^{i \\phi_{0}} \\sin{\\left(\\phi_{0} \\right)}}{2} - \\frac{e^{i \\phi_{0}} \\cos{\\left(\\phi_{0} \\right)}}{2} + 1\\right) e^{- \\frac{i \\Omega t}{2}}\\right) \\cos{\\left(\\Omega t - \\theta_{m} \\right)}\\right) - i \\left(\\left(- \\frac{i e^{i \\phi_{0}} \\sin{\\left(\\phi_{0} \\right)}}{2} + \\frac{e^{i \\phi_{0}} \\cos{\\left(\\phi_{0} \\right)}}{2}\\right) e^{\\frac{i \\Omega t}{2}} + \\left(\\frac{i e^{i \\phi_{0}} \\sin{\\left(\\phi_{0} \\right)}}{2} - \\frac{e^{i \\phi_{0}} \\cos{\\left(\\phi_{0} \\right)}}{2} + 1\\right) e^{- \\frac{i \\Omega t}{2}}\\right) \\left(- \\frac{i \\Omega \\left(\\frac{i e^{- i \\phi_{0}} \\sin{\\left(\\phi_{0} \\right)}}{2} + \\frac{e^{- i \\phi_{0}} \\cos{\\left(\\phi_{0} \\right)}}{2}\\right) e^{- \\frac{i \\Omega t}{2}}}{2} + \\frac{i \\Omega \\left(1 - \\frac{i e^{- i \\phi_{0}} \\sin{\\left(\\phi_{0} \\right)}}{2} - \\frac{e^{- i \\phi_{0}} \\cos{\\left(\\phi_{0} \\right)}}{2}\\right) e^{\\frac{i \\Omega t}{2}}}{2}\\right) + \\left(- \\frac{e^{- i \\phi_{0}} e^{\\frac{i \\Omega t}{2}}}{2} + \\frac{e^{- i \\phi_{0}} e^{- \\frac{i \\Omega t}{2}}}{2}\\right) \\left(\\frac{\\Omega \\left(i \\sin{\\left(\\phi_{0} \\right)} + \\cos{\\left(\\phi_{0} \\right)}\\right) \\left(\\left(- \\frac{i e^{i \\phi_{0}} \\sin{\\left(\\phi_{0} \\right)}}{2} + \\frac{e^{i \\phi_{0}} \\cos{\\left(\\phi_{0} \\right)}}{2}\\right) e^{\\frac{i \\Omega t}{2}} + \\left(\\frac{i e^{i \\phi_{0}} \\sin{\\left(\\phi_{0} \\right)}}{2} - \\frac{e^{i \\phi_{0}} \\cos{\\left(\\phi_{0} \\right)}}{2} + 1\\right) e^{- \\frac{i \\Omega t}{2}}\\right)}{2} + \\epsilon \\left(\\frac{e^{i \\phi_{0}} e^{\\frac{i \\Omega t}{2}}}{2} - \\frac{e^{i \\phi_{0}} e^{- \\frac{i \\Omega t}{2}}}{2}\\right) \\cos{\\left(\\Omega t - \\theta_{m} \\right)}\\right) - i \\left(\\frac{e^{i \\phi_{0}} e^{\\frac{i \\Omega t}{2}}}{2} - \\frac{e^{i \\phi_{0}} e^{- \\frac{i \\Omega t}{2}}}{2}\\right) \\left(- \\frac{i \\Omega e^{- i \\phi_{0}} e^{\\frac{i \\Omega t}{2}}}{4} - \\frac{i \\Omega e^{- i \\phi_{0}} e^{- \\frac{i \\Omega t}{2}}}{4}\\right)\\end{matrix}\\right]$"
      ],
      "text/plain": [
       "Matrix([\n",
       "[(Omega*(-I*sin(phi_0) + cos(phi_0))*((-I*sin(phi_0) + cos(phi_0))*exp(I*phi_0)*exp(I*Omega*t/2)/2 - (I*sin(phi_0) - cos(phi_0))*exp(I*phi_0)*exp(-I*Omega*t/2)/2)/2 - epsilon*((-I*sin(phi_0) + cos(phi_0))*(-I*exp(I*phi_0)*sin(phi_0)/2 + exp(I*phi_0)*cos(phi_0)/2)*exp(I*Omega*t/2) + (I*sin(phi_0) - cos(phi_0))*(I*exp(I*phi_0)*sin(phi_0)/2 - exp(I*phi_0)*cos(phi_0)/2 + 1)*exp(-I*Omega*t/2))*cos(Omega*t - theta_m))*((-I*sin(phi_0) - cos(phi_0))*(1 - I*exp(-I*phi_0)*sin(phi_0)/2 - exp(-I*phi_0)*cos(phi_0)/2)*exp(I*Omega*t/2) + (I*sin(phi_0) + cos(phi_0))*(I*exp(-I*phi_0)*sin(phi_0)/2 + exp(-I*phi_0)*cos(phi_0)/2)*exp(-I*Omega*t/2)) + (Omega*(I*sin(phi_0) + cos(phi_0))*((-I*sin(phi_0) + cos(phi_0))*(-I*exp(I*phi_0)*sin(phi_0)/2 + exp(I*phi_0)*cos(phi_0)/2)*exp(I*Omega*t/2) + (I*sin(phi_0) - cos(phi_0))*(I*exp(I*phi_0)*sin(phi_0)/2 - exp(I*phi_0)*cos(phi_0)/2 + 1)*exp(-I*Omega*t/2))/2 + epsilon*((-I*sin(phi_0) + cos(phi_0))*exp(I*phi_0)*exp(I*Omega*t/2)/2 - (I*sin(phi_0) - cos(phi_0))*exp(I*phi_0)*exp(-I*Omega*t/2)/2)*cos(Omega*t - theta_m))*(-(-I*sin(phi_0) - cos(phi_0))*exp(-I*phi_0)*exp(I*Omega*t/2)/2 + (I*sin(phi_0) + cos(phi_0))*exp(-I*phi_0)*exp(-I*Omega*t/2)/2) - I*((-I*sin(phi_0) + cos(phi_0))*(-I*exp(I*phi_0)*sin(phi_0)/2 + exp(I*phi_0)*cos(phi_0)/2)*exp(I*Omega*t/2) + (I*sin(phi_0) - cos(phi_0))*(I*exp(I*phi_0)*sin(phi_0)/2 - exp(I*phi_0)*cos(phi_0)/2 + 1)*exp(-I*Omega*t/2))*(I*Omega*(-I*sin(phi_0) - cos(phi_0))*(1 - I*exp(-I*phi_0)*sin(phi_0)/2 - exp(-I*phi_0)*cos(phi_0)/2)*exp(I*Omega*t/2)/2 - I*Omega*(I*sin(phi_0) + cos(phi_0))*(I*exp(-I*phi_0)*sin(phi_0)/2 + exp(-I*phi_0)*cos(phi_0)/2)*exp(-I*Omega*t/2)/2) - I*((-I*sin(phi_0) + cos(phi_0))*exp(I*phi_0)*exp(I*Omega*t/2)/2 - (I*sin(phi_0) - cos(phi_0))*exp(I*phi_0)*exp(-I*Omega*t/2)/2)*(-I*Omega*(-I*sin(phi_0) - cos(phi_0))*exp(-I*phi_0)*exp(I*Omega*t/2)/4 - I*Omega*(I*sin(phi_0) + cos(phi_0))*exp(-I*phi_0)*exp(-I*Omega*t/2)/4), ((I*exp(-I*phi_0)*sin(phi_0)/2 + exp(-I*phi_0)*cos(phi_0)/2)*exp(-I*Omega*t/2) + (1 - I*exp(-I*phi_0)*sin(phi_0)/2 - exp(-I*phi_0)*cos(phi_0)/2)*exp(I*Omega*t/2))*(Omega*(-I*sin(phi_0) + cos(phi_0))*((-I*sin(phi_0) + cos(phi_0))*exp(I*phi_0)*exp(I*Omega*t/2)/2 - (I*sin(phi_0) - cos(phi_0))*exp(I*phi_0)*exp(-I*Omega*t/2)/2)/2 - epsilon*((-I*sin(phi_0) + cos(phi_0))*(-I*exp(I*phi_0)*sin(phi_0)/2 + exp(I*phi_0)*cos(phi_0)/2)*exp(I*Omega*t/2) + (I*sin(phi_0) - cos(phi_0))*(I*exp(I*phi_0)*sin(phi_0)/2 - exp(I*phi_0)*cos(phi_0)/2 + 1)*exp(-I*Omega*t/2))*cos(Omega*t - theta_m)) + (-exp(-I*phi_0)*exp(I*Omega*t/2)/2 + exp(-I*phi_0)*exp(-I*Omega*t/2)/2)*(Omega*(I*sin(phi_0) + cos(phi_0))*((-I*sin(phi_0) + cos(phi_0))*(-I*exp(I*phi_0)*sin(phi_0)/2 + exp(I*phi_0)*cos(phi_0)/2)*exp(I*Omega*t/2) + (I*sin(phi_0) - cos(phi_0))*(I*exp(I*phi_0)*sin(phi_0)/2 - exp(I*phi_0)*cos(phi_0)/2 + 1)*exp(-I*Omega*t/2))/2 + epsilon*((-I*sin(phi_0) + cos(phi_0))*exp(I*phi_0)*exp(I*Omega*t/2)/2 - (I*sin(phi_0) - cos(phi_0))*exp(I*phi_0)*exp(-I*Omega*t/2)/2)*cos(Omega*t - theta_m)) - I*((-I*sin(phi_0) + cos(phi_0))*(-I*exp(I*phi_0)*sin(phi_0)/2 + exp(I*phi_0)*cos(phi_0)/2)*exp(I*Omega*t/2) + (I*sin(phi_0) - cos(phi_0))*(I*exp(I*phi_0)*sin(phi_0)/2 - exp(I*phi_0)*cos(phi_0)/2 + 1)*exp(-I*Omega*t/2))*(-I*Omega*(I*exp(-I*phi_0)*sin(phi_0)/2 + exp(-I*phi_0)*cos(phi_0)/2)*exp(-I*Omega*t/2)/2 + I*Omega*(1 - I*exp(-I*phi_0)*sin(phi_0)/2 - exp(-I*phi_0)*cos(phi_0)/2)*exp(I*Omega*t/2)/2) - I*((-I*sin(phi_0) + cos(phi_0))*exp(I*phi_0)*exp(I*Omega*t/2)/2 - (I*sin(phi_0) - cos(phi_0))*exp(I*phi_0)*exp(-I*Omega*t/2)/2)*(-I*Omega*exp(-I*phi_0)*exp(I*Omega*t/2)/4 - I*Omega*exp(-I*phi_0)*exp(-I*Omega*t/2)/4)],\n",
       "[                                                                                                                                                                                                                                                                                                                                                     -I*((-I*exp(I*phi_0)*sin(phi_0)/2 + exp(I*phi_0)*cos(phi_0)/2)*exp(I*Omega*t/2) + (I*exp(I*phi_0)*sin(phi_0)/2 - exp(I*phi_0)*cos(phi_0)/2 + 1)*exp(-I*Omega*t/2))*(I*Omega*(-I*sin(phi_0) - cos(phi_0))*(1 - I*exp(-I*phi_0)*sin(phi_0)/2 - exp(-I*phi_0)*cos(phi_0)/2)*exp(I*Omega*t/2)/2 - I*Omega*(I*sin(phi_0) + cos(phi_0))*(I*exp(-I*phi_0)*sin(phi_0)/2 + exp(-I*phi_0)*cos(phi_0)/2)*exp(-I*Omega*t/2)/2) - I*(exp(I*phi_0)*exp(I*Omega*t/2)/2 - exp(I*phi_0)*exp(-I*Omega*t/2)/2)*(-I*Omega*(-I*sin(phi_0) - cos(phi_0))*exp(-I*phi_0)*exp(I*Omega*t/2)/4 - I*Omega*(I*sin(phi_0) + cos(phi_0))*exp(-I*phi_0)*exp(-I*Omega*t/2)/4) + (Omega*(-I*sin(phi_0) + cos(phi_0))*(exp(I*phi_0)*exp(I*Omega*t/2)/2 - exp(I*phi_0)*exp(-I*Omega*t/2)/2)/2 - epsilon*((-I*exp(I*phi_0)*sin(phi_0)/2 + exp(I*phi_0)*cos(phi_0)/2)*exp(I*Omega*t/2) + (I*exp(I*phi_0)*sin(phi_0)/2 - exp(I*phi_0)*cos(phi_0)/2 + 1)*exp(-I*Omega*t/2))*cos(Omega*t - theta_m))*((-I*sin(phi_0) - cos(phi_0))*(1 - I*exp(-I*phi_0)*sin(phi_0)/2 - exp(-I*phi_0)*cos(phi_0)/2)*exp(I*Omega*t/2) + (I*sin(phi_0) + cos(phi_0))*(I*exp(-I*phi_0)*sin(phi_0)/2 + exp(-I*phi_0)*cos(phi_0)/2)*exp(-I*Omega*t/2)) + (Omega*(I*sin(phi_0) + cos(phi_0))*((-I*exp(I*phi_0)*sin(phi_0)/2 + exp(I*phi_0)*cos(phi_0)/2)*exp(I*Omega*t/2) + (I*exp(I*phi_0)*sin(phi_0)/2 - exp(I*phi_0)*cos(phi_0)/2 + 1)*exp(-I*Omega*t/2))/2 + epsilon*(exp(I*phi_0)*exp(I*Omega*t/2)/2 - exp(I*phi_0)*exp(-I*Omega*t/2)/2)*cos(Omega*t - theta_m))*(-(-I*sin(phi_0) - cos(phi_0))*exp(-I*phi_0)*exp(I*Omega*t/2)/2 + (I*sin(phi_0) + cos(phi_0))*exp(-I*phi_0)*exp(-I*Omega*t/2)/2),                                                                                                                                                                                                                                                                                                                                                       ((I*exp(-I*phi_0)*sin(phi_0)/2 + exp(-I*phi_0)*cos(phi_0)/2)*exp(-I*Omega*t/2) + (1 - I*exp(-I*phi_0)*sin(phi_0)/2 - exp(-I*phi_0)*cos(phi_0)/2)*exp(I*Omega*t/2))*(Omega*(-I*sin(phi_0) + cos(phi_0))*(exp(I*phi_0)*exp(I*Omega*t/2)/2 - exp(I*phi_0)*exp(-I*Omega*t/2)/2)/2 - epsilon*((-I*exp(I*phi_0)*sin(phi_0)/2 + exp(I*phi_0)*cos(phi_0)/2)*exp(I*Omega*t/2) + (I*exp(I*phi_0)*sin(phi_0)/2 - exp(I*phi_0)*cos(phi_0)/2 + 1)*exp(-I*Omega*t/2))*cos(Omega*t - theta_m)) - I*((-I*exp(I*phi_0)*sin(phi_0)/2 + exp(I*phi_0)*cos(phi_0)/2)*exp(I*Omega*t/2) + (I*exp(I*phi_0)*sin(phi_0)/2 - exp(I*phi_0)*cos(phi_0)/2 + 1)*exp(-I*Omega*t/2))*(-I*Omega*(I*exp(-I*phi_0)*sin(phi_0)/2 + exp(-I*phi_0)*cos(phi_0)/2)*exp(-I*Omega*t/2)/2 + I*Omega*(1 - I*exp(-I*phi_0)*sin(phi_0)/2 - exp(-I*phi_0)*cos(phi_0)/2)*exp(I*Omega*t/2)/2) + (-exp(-I*phi_0)*exp(I*Omega*t/2)/2 + exp(-I*phi_0)*exp(-I*Omega*t/2)/2)*(Omega*(I*sin(phi_0) + cos(phi_0))*((-I*exp(I*phi_0)*sin(phi_0)/2 + exp(I*phi_0)*cos(phi_0)/2)*exp(I*Omega*t/2) + (I*exp(I*phi_0)*sin(phi_0)/2 - exp(I*phi_0)*cos(phi_0)/2 + 1)*exp(-I*Omega*t/2))/2 + epsilon*(exp(I*phi_0)*exp(I*Omega*t/2)/2 - exp(I*phi_0)*exp(-I*Omega*t/2)/2)*cos(Omega*t - theta_m)) - I*(exp(I*phi_0)*exp(I*Omega*t/2)/2 - exp(I*phi_0)*exp(-I*Omega*t/2)/2)*(-I*Omega*exp(-I*phi_0)*exp(I*Omega*t/2)/4 - I*Omega*exp(-I*phi_0)*exp(-I*Omega*t/2)/4)]])"
      ]
     },
     "execution_count": 27,
     "metadata": {},
     "output_type": "execute_result"
    }
   ],
   "source": [
    "from sympy.simplify.fu import fu\n",
    "fu(H_transformed)\n"
   ]
  }
 ],
 "metadata": {
  "kernelspec": {
   "display_name": "Python 3",
   "language": "python",
   "name": "python3"
  },
  "language_info": {
   "codemirror_mode": {
    "name": "ipython",
    "version": 3
   },
   "file_extension": ".py",
   "mimetype": "text/x-python",
   "name": "python",
   "nbconvert_exporter": "python",
   "pygments_lexer": "ipython3",
   "version": "3.13.0"
  }
 },
 "nbformat": 4,
 "nbformat_minor": 5
}
