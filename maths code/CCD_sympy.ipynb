{
 "cells": [
  {
   "cell_type": "code",
   "execution_count": 40,
   "id": "import-sympy",
   "metadata": {},
   "outputs": [],
   "source": [
    "import sympy as sp"
   ]
  },
  {
   "cell_type": "code",
   "execution_count": 41,
   "id": "pauli-matrices",
   "metadata": {},
   "outputs": [],
   "source": [
    "# Pauli matrices\n",
    "sigma_z = sp.Matrix([[1, 0], [0, -1]])\n",
    "sigma_x = sp.Matrix([[0, 1], [1, 0]])\n",
    "sigma_y = sp.Matrix([[0, -sp.I], [sp.I, 0]])\n",
    "identity = sp.eye(2)"
   ]
  },
  {
   "cell_type": "code",
   "execution_count": 42,
   "id": "define-variables",
   "metadata": {},
   "outputs": [],
   "source": [
    "# Define variables\n",
    "t, omega, omega_0, Omega, phi_0, epsilon, omega_m, theta_m, sig_sym_x, sig_sym_y, sig_sym_z, tau, delta = sp.symbols(\n",
    "    't omega omega_0 Omega phi_0 epsilon omega_m theta_m sigma_x sigma_y sigma_z tau delta', real=True\n",
    ")\n",
    "hbar = sp.Symbol('hbar', real=True)  # Reduced Planck constant"
   ]
  },
  {
   "cell_type": "markdown",
   "id": "ffae22fd",
   "metadata": {},
   "source": [
    "So normally we go to a frame rotating at omega about the z axis - but here we want to go to a frame that removes the phase in the final result."
   ]
  },
  {
   "cell_type": "code",
   "execution_count": 43,
   "id": "define-unitary-matrix",
   "metadata": {},
   "outputs": [],
   "source": [
    "# Define the unitary matrix U\n",
    "# This is the simple to omega frame\n",
    "# U = sp.Matrix([\n",
    "#     [sp.exp(-sp.I * omega * t / 2), 0],\n",
    "#     [0, sp.exp(sp.I * omega * t / 2)]\n",
    "# ])"
   ]
  },
  {
   "cell_type": "markdown",
   "id": "272fa18d",
   "metadata": {},
   "source": [
    "Hamiltonian defining the frame: $$H_0 = \\frac{\\omega}{2}\\sigma_z - \\frac{\\epsilon_m \\omega_m}{\\Omega}\\cos(\\omega_mt-\\theta_m)\\sigma_z$$"
   ]
  },
  {
   "cell_type": "code",
   "execution_count": 44,
   "id": "define-Ht",
   "metadata": {},
   "outputs": [
    {
     "data": {
      "text/latex": [
       "$\\displaystyle \\left[\\begin{matrix}\\hbar \\left(\\frac{\\omega}{2} - \\frac{\\epsilon \\omega_{m} \\cos{\\left(\\omega_{m} t - \\theta_{m} \\right)}}{\\Omega}\\right) & 0\\\\0 & - \\hbar \\left(\\frac{\\omega}{2} - \\frac{\\epsilon \\omega_{m} \\cos{\\left(\\omega_{m} t - \\theta_{m} \\right)}}{\\Omega}\\right)\\end{matrix}\\right]$"
      ],
      "text/plain": [
       "Matrix([\n",
       "[hbar*(omega/2 - epsilon*omega_m*cos(omega_m*t - theta_m)/Omega),                                                                0],\n",
       "[                                                              0, -hbar*(omega/2 - epsilon*omega_m*cos(omega_m*t - theta_m)/Omega)]])"
      ]
     },
     "execution_count": 44,
     "metadata": {},
     "output_type": "execute_result"
    }
   ],
   "source": [
    "# Define H(t)\n",
    "frame_ham =  hbar*(omega / 2 - (epsilon * omega_m / Omega) * sp.cos(omega_m * t - theta_m)) * sigma_z\n",
    "frame_ham"
   ]
  },
  {
   "cell_type": "markdown",
   "id": "2b3ecf78",
   "metadata": {},
   "source": [
    "Then the unitary of the transformation is:\n",
    "$$U(t) = e^{-\\frac{i}{\\hbar}\\int_0^tH(t')dt'}$$\n",
    "\n",
    "I believe the convention used in the original CCD paper was to use the + sign in this unitary???\n",
    "That is to say when $|\\psi'\\rangle = U |\\psi\\rangle$ defines the transformation.\n",
    "This amounts to a choice of rotation direction that should not change the underlying system dynamics."
   ]
  },
  {
   "cell_type": "code",
   "execution_count": 45,
   "id": "define-Ut",
   "metadata": {},
   "outputs": [
    {
     "data": {
      "text/latex": [
       "$\\displaystyle \\left[\\begin{matrix}e^{\\frac{i \\left(\\frac{\\Omega \\omega t}{2} - \\epsilon \\sin{\\left(\\omega_{m} t - \\theta_{m} \\right)}\\right)}{\\Omega}} & 0\\\\0 & e^{\\frac{i \\left(- \\frac{\\Omega \\omega t}{2} + \\epsilon \\sin{\\left(\\omega_{m} t - \\theta_{m} \\right)}\\right)}{\\Omega}}\\end{matrix}\\right]$"
      ],
      "text/plain": [
       "Matrix([\n",
       "[exp(I*(Omega*omega*t/2 - epsilon*sin(omega_m*t - theta_m))/Omega),                                                                  0],\n",
       "[                                                                0, exp(I*(-Omega*omega*t/2 + epsilon*sin(omega_m*t - theta_m))/Omega)]])"
      ]
     },
     "execution_count": 45,
     "metadata": {},
     "output_type": "execute_result"
    }
   ],
   "source": [
    "# Define U(t)\n",
    "U = sp.exp(+(sp.I/hbar)  * sp.integrate(frame_ham, t))\n",
    "U"
   ]
  },
  {
   "cell_type": "markdown",
   "id": "7e694dba",
   "metadata": {},
   "source": [
    "!!!note - we define U here with the +ve sign - this 'undoes the time evolution'!!!"
   ]
  },
  {
   "cell_type": "code",
   "execution_count": 46,
   "id": "0a45d8bc",
   "metadata": {},
   "outputs": [
    {
     "data": {
      "text/latex": [
       "$\\displaystyle \\left[\\begin{matrix}\\hbar \\left(\\frac{\\omega t}{2} - \\frac{\\epsilon \\sin{\\left(\\omega_{m} t - \\theta_{m} \\right)}}{\\Omega}\\right) & 0\\\\0 & - \\hbar \\left(\\frac{\\omega t}{2} - \\frac{\\epsilon \\sin{\\left(\\omega_{m} t - \\theta_{m} \\right)}}{\\Omega}\\right)\\end{matrix}\\right]$"
      ],
      "text/plain": [
       "Matrix([\n",
       "[hbar*(omega*t/2 - epsilon*sin(omega_m*t - theta_m)/Omega),                                                          0],\n",
       "[                                                        0, -hbar*(omega*t/2 - epsilon*sin(omega_m*t - theta_m)/Omega)]])"
      ]
     },
     "execution_count": 46,
     "metadata": {},
     "output_type": "execute_result"
    }
   ],
   "source": [
    "sp.integrate(frame_ham, t)"
   ]
  },
  {
   "cell_type": "markdown",
   "id": "f26b12cc",
   "metadata": {},
   "source": [
    "Now we create the lab frame hamiltonian:\n",
    "$$H = \\frac{\\omega_0}{2}\\sigma_z+\\Omega\\cos(\\omega t+\\phi_0-\\frac{2\\epsilon}{\\Omega}\\sin(\\omega_m t-\\theta_m))\\sigma_x$$"
   ]
  },
  {
   "cell_type": "code",
   "execution_count": 47,
   "id": "define-lab-frame-hamiltonian",
   "metadata": {},
   "outputs": [
    {
     "data": {
      "text/latex": [
       "$\\displaystyle \\left[\\begin{matrix}\\frac{\\omega_{0}}{2} & \\Omega \\left(\\frac{e^{i \\left(\\omega t + \\phi_{0} - \\frac{2 \\epsilon \\sin{\\left(\\omega_{m} t - \\theta_{m} \\right)}}{\\Omega}\\right)}}{2} + \\frac{e^{- i \\left(\\omega t + \\phi_{0} - \\frac{2 \\epsilon \\sin{\\left(\\omega_{m} t - \\theta_{m} \\right)}}{\\Omega}\\right)}}{2}\\right)\\\\\\Omega \\left(\\frac{e^{i \\left(\\omega t + \\phi_{0} - \\frac{2 \\epsilon \\sin{\\left(\\omega_{m} t - \\theta_{m} \\right)}}{\\Omega}\\right)}}{2} + \\frac{e^{- i \\left(\\omega t + \\phi_{0} - \\frac{2 \\epsilon \\sin{\\left(\\omega_{m} t - \\theta_{m} \\right)}}{\\Omega}\\right)}}{2}\\right) & - \\frac{\\omega_{0}}{2}\\end{matrix}\\right]$"
      ],
      "text/plain": [
       "Matrix([\n",
       "[                                                                                                                                             omega_0/2, Omega*(exp(I*(omega*t + phi_0 - 2*epsilon*sin(omega_m*t - theta_m)/Omega))/2 + exp(-I*(omega*t + phi_0 - 2*epsilon*sin(omega_m*t - theta_m)/Omega))/2)],\n",
       "[Omega*(exp(I*(omega*t + phi_0 - 2*epsilon*sin(omega_m*t - theta_m)/Omega))/2 + exp(-I*(omega*t + phi_0 - 2*epsilon*sin(omega_m*t - theta_m)/Omega))/2),                                                                                                                                             -omega_0/2]])"
      ]
     },
     "execution_count": 47,
     "metadata": {},
     "output_type": "execute_result"
    }
   ],
   "source": [
    "# Define the lab frame Hamiltonian\n",
    "# Phase modulated CCD Hamiltonian\n",
    "cos_argument = omega * t + phi_0 - (2 * epsilon / Omega) * sp.sin(omega_m * t - theta_m)\n",
    "cos_exp_argument = (sp.exp(sp.I * cos_argument) + sp.exp(-sp.I * cos_argument)) / 2\n",
    "\n",
    "H_lab = sp.Matrix([\n",
    "    [ omega_0 / 2, Omega * cos_exp_argument],\n",
    "    [Omega * cos_exp_argument,   -omega_0 / 2]\n",
    "])\n",
    "H_lab"
   ]
  },
  {
   "cell_type": "markdown",
   "id": "b57ed8a9",
   "metadata": {},
   "source": [
    "Now we find the transformed hamiltonian:\n",
    "\n",
    "\\begin{equation}\n",
    "H_{eff} = \\left( \\hat{U} \\hat{H} \\hat{U}^\\dagger - i\\hbar \\hat{U} \\frac{d\\hat{U}^\\dagger}{dt} \\right) \n",
    "\\end{equation}"
   ]
  },
  {
   "cell_type": "markdown",
   "id": "019f517d",
   "metadata": {},
   "source": [
    "might be - U"
   ]
  },
  {
   "cell_type": "code",
   "execution_count": 48,
   "id": "compute-U-dagger-dt",
   "metadata": {},
   "outputs": [],
   "source": [
    "# Compute U^dagger (Hermitian conjugate of U)\n",
    "U_dagger = U.H\n",
    "# Compute d(U^dagger)/dt\n",
    "U_dagger_dt = sp.diff(U_dagger, t)\n",
    "# Full expression\n",
    "H = U * H_lab * U_dagger - sp.I * U * U_dagger_dt"
   ]
  },
  {
   "cell_type": "code",
   "execution_count": 49,
   "id": "expand-hamiltonian",
   "metadata": {},
   "outputs": [
    {
     "data": {
      "text/latex": [
       "$\\displaystyle \\left[\\begin{matrix}- \\frac{\\omega}{2} + \\frac{\\omega_{0}}{2} + \\frac{\\epsilon \\omega_{m} \\sin{\\left(\\theta_{m} \\right)} \\sin{\\left(\\omega_{m} t \\right)}}{\\Omega} + \\frac{\\epsilon \\omega_{m} \\cos{\\left(\\theta_{m} \\right)} \\cos{\\left(\\omega_{m} t \\right)}}{\\Omega} & \\frac{\\Omega e^{i \\phi_{0}} e^{2 i \\omega t} e^{\\frac{4 i \\epsilon \\sin{\\left(\\theta_{m} \\right)} \\cos{\\left(\\omega_{m} t \\right)}}{\\Omega} - \\frac{4 i \\epsilon \\sin{\\left(\\omega_{m} t \\right)} \\cos{\\left(\\theta_{m} \\right)}}{\\Omega}}}{2} + \\frac{\\Omega e^{- i \\phi_{0}}}{2}\\\\\\frac{\\Omega e^{i \\phi_{0}}}{2} + \\frac{\\Omega e^{- i \\phi_{0}} e^{- 2 i \\omega t} e^{- \\frac{4 i \\epsilon \\sin{\\left(\\theta_{m} \\right)} \\cos{\\left(\\omega_{m} t \\right)}}{\\Omega} + \\frac{4 i \\epsilon \\sin{\\left(\\omega_{m} t \\right)} \\cos{\\left(\\theta_{m} \\right)}}{\\Omega}}}{2} & \\frac{\\omega}{2} - \\frac{\\omega_{0}}{2} - \\frac{\\epsilon \\omega_{m} \\sin{\\left(\\theta_{m} \\right)} \\sin{\\left(\\omega_{m} t \\right)}}{\\Omega} - \\frac{\\epsilon \\omega_{m} \\cos{\\left(\\theta_{m} \\right)} \\cos{\\left(\\omega_{m} t \\right)}}{\\Omega}\\end{matrix}\\right]$"
      ],
      "text/plain": [
       "Matrix([\n",
       "[                                      -omega/2 + omega_0/2 + epsilon*omega_m*sin(theta_m)*sin(omega_m*t)/Omega + epsilon*omega_m*cos(theta_m)*cos(omega_m*t)/Omega, Omega*exp(I*phi_0)*exp(2*I*omega*t)*exp(4*I*epsilon*sin(theta_m)*cos(omega_m*t)/Omega - 4*I*epsilon*sin(omega_m*t)*cos(theta_m)/Omega)/2 + Omega*exp(-I*phi_0)/2],\n",
       "[Omega*exp(I*phi_0)/2 + Omega*exp(-I*phi_0)*exp(-2*I*omega*t)*exp(-4*I*epsilon*sin(theta_m)*cos(omega_m*t)/Omega + 4*I*epsilon*sin(omega_m*t)*cos(theta_m)/Omega)/2,                                      omega/2 - omega_0/2 - epsilon*omega_m*sin(theta_m)*sin(omega_m*t)/Omega - epsilon*omega_m*cos(theta_m)*cos(omega_m*t)/Omega]])"
      ]
     },
     "execution_count": 49,
     "metadata": {},
     "output_type": "execute_result"
    }
   ],
   "source": [
    "# Expand the Hamiltonian\n",
    "H = H.expand(trig=True)\n",
    "H"
   ]
  },
  {
   "cell_type": "markdown",
   "id": "7dc9b13d",
   "metadata": {},
   "source": [
    "Make the RWA approximation - substitute $ e^{\\pm i2\\omega t} \\rightarrow 0 $ on the off diagonals.\n",
    "\n",
    "\n"
   ]
  },
  {
   "cell_type": "code",
   "execution_count": 50,
   "id": "simplify-hamiltonian",
   "metadata": {},
   "outputs": [],
   "source": [
    "# make the hamiltonian mutable\n",
    "H = sp.Matrix(H)\n",
    "\n",
    "# Simplify Hamiltonian by removing fast oscillating terms - RWA\n",
    "H[0, 1] = H[0, 1].subs(sp.exp(2 * sp.I * omega * t), 0)\n",
    "H[1, 0] = H[1, 0].subs(sp.exp(-2 * sp.I * omega * t), 0)\n",
    "\n",
    "# note there is an annoying problem with the substitution of the exp terms \n",
    "# swap the order of the terms in the substitution should resolve"
   ]
  },
  {
   "cell_type": "markdown",
   "id": "3843c450",
   "metadata": {},
   "source": [
    "Now take 'matrix inner product' to find the hamiltonian in pauli matrix basis.\n",
    "And make a substitution for the papers convention for detuning $\\delta = \\omega -\\omega_0$"
   ]
  },
  {
   "cell_type": "code",
   "execution_count": 51,
   "id": "simplify-pauli-matrices",
   "metadata": {},
   "outputs": [
    {
     "data": {
      "text/latex": [
       "$\\displaystyle \\frac{\\Omega \\sigma_{x} \\cos{\\left(\\phi_{0} \\right)}}{2} + \\frac{\\Omega \\sigma_{y} \\sin{\\left(\\phi_{0} \\right)}}{2} + \\frac{\\sigma_{z} \\left(- \\delta + \\frac{2 \\epsilon \\omega_{m} \\cos{\\left(\\omega_{m} t - \\theta_{m} \\right)}}{\\Omega}\\right)}{2}$"
      ],
      "text/plain": [
       "Omega*sigma_x*cos(phi_0)/2 + Omega*sigma_y*sin(phi_0)/2 + sigma_z*(-delta + 2*epsilon*omega_m*cos(omega_m*t - theta_m)/Omega)/2"
      ]
     },
     "execution_count": 51,
     "metadata": {},
     "output_type": "execute_result"
    }
   ],
   "source": [
    "# Simplify Hamiltonian in terms of Pauli matrices\n",
    "# note the half makes the inner product like thing work for the Pauli matrices\n",
    "pauli_expression = sp.Rational(1, 2) *(sp.simplify(sp.trace(H.H * sigma_z)) * sig_sym_z + sp.simplify(sp.trace(H.H * sigma_x)) * sig_sym_x + sp.simplify(sp.trace(H.H * sigma_y)) * sig_sym_y)\n",
    "\n",
    "pauli_expression = pauli_expression.subs(omega-omega_0, delta)\n",
    "pauli_expression"
   ]
  },
  {
   "cell_type": "markdown",
   "id": "f3f87321",
   "metadata": {},
   "source": [
    "The target expression is:\n",
    "\n",
    "\\begin{equation}\n",
    "H_\\mathrm{I} = -\\frac{\\delta}{2}\\sigma_z + \\frac{\\Omega}{2}\\left[\\cos(\\phi_0)\\sigma_x + \\sin(\\phi_0)\\sigma_y\\right] + \\epsilon_\\mathrm{m}\\frac{\\omega_\\mathrm{m}}{\\Omega}\\cos(\\omega_\\mathrm{m}t - \\theta_\\mathrm{m})\\sigma_z,\n",
    "\\end{equation}\n",
    "\n"
   ]
  },
  {
   "cell_type": "markdown",
   "id": "651fc49f",
   "metadata": {},
   "source": [
    "### Need to find the frame defining hamiltonian for the next change"
   ]
  },
  {
   "cell_type": "markdown",
   "id": "265ce00e",
   "metadata": {},
   "source": [
    "Wrap some of the previous work as helper functions"
   ]
  },
  {
   "cell_type": "code",
   "execution_count": 32,
   "id": "a3b2452d",
   "metadata": {},
   "outputs": [],
   "source": [
    "def transform_hamiltonian(frame_ham, H_lab, t):\n",
    "    \"\"\"Transforms a hamiltonian from the lab frame to the rotating frame. Does not include the RWA.\"\"\"\n",
    "    # Define the unitary matrix U\n",
    "    U = sp.exp(-(sp.I) * sp.integrate(frame_ham, t)) #/ hbar - depending on definitions\n",
    "\n",
    "    \n",
    "    # Compute U^dagger (Hermitian conjugate of U)\n",
    "    U_dagger = U.H\n",
    "    \n",
    "\n",
    "    # Compute d(U^dagger)/dt\n",
    "    U_dagger_dt = sp.diff(U_dagger, t)\n",
    "    \n",
    "    # Full expression for the transformed Hamiltonian\n",
    "    H_transformed = U * H_lab * U_dagger + sp.I * U * U_dagger_dt\n",
    "    \n",
    "    return H_transformed\n",
    "\n",
    "def matrix_to_pauli_basis(H):\n",
    "    \"\"\"Transforms a Hamiltonian to the Pauli basis.\"\"\"\n",
    "    # Define Pauli matrices\n",
    "    sigma_x = sp.Matrix([[0, 1], [1, 0]])\n",
    "    sigma_y = sp.Matrix([[0, -sp.I], [sp.I, 0]])\n",
    "    sigma_z = sp.Matrix([[1, 0], [0, -1]])\n",
    "    \n",
    "    # Define symbolic Pauli matrices\n",
    "    sig_sym_x, sig_sym_y, sig_sym_z = sp.symbols('sigma_x sigma_y sigma_z', real=True)\n",
    "    \n",
    "    # Compute the Pauli basis expression\n",
    "    pauli_expression = sp.Rational(1, 2) * (\n",
    "        sp.simplify(sp.trace(H.H * sigma_z)) * sig_sym_z +\n",
    "        sp.simplify(sp.trace(H.H * sigma_x)) * sig_sym_x +\n",
    "        sp.simplify(sp.trace(H.H * sigma_y)) * sig_sym_y\n",
    "    )\n",
    "    \n",
    "    return pauli_expression"
   ]
  },
  {
   "cell_type": "markdown",
   "id": "2037408e",
   "metadata": {},
   "source": [
    "Hamiltonian in the first rotating frame:"
   ]
  },
  {
   "cell_type": "code",
   "execution_count": null,
   "id": "e9f8735d",
   "metadata": {},
   "outputs": [
    {
     "data": {
      "text/latex": [
       "$\\displaystyle \\frac{\\Omega \\sigma_{x} \\cos{\\left(\\phi_{0} \\right)}}{2} + \\frac{\\Omega \\sigma_{y} \\sin{\\left(\\phi_{0} \\right)}}{2} + \\frac{\\sigma_{z} \\left(- \\delta + \\frac{2 \\epsilon \\omega_{m} \\cos{\\left(\\omega_{m} t - \\theta_{m} \\right)}}{\\Omega}\\right)}{2}$"
      ],
      "text/plain": [
       "Omega*sigma_x*cos(phi_0)/2 + Omega*sigma_y*sin(phi_0)/2 + sigma_z*(-delta + 2*epsilon*omega_m*cos(omega_m*t - theta_m)/Omega)/2"
      ]
     },
     "execution_count": 33,
     "metadata": {},
     "output_type": "execute_result"
    }
   ],
   "source": [
    "Hamiltonian_first_frame = -delta/2 * sigma_z + Omega/2 * (sp.cos(phi_0) * sigma_x + sp.sin(phi_0) * sigma_y) + epsilon * omega_m / Omega * sp.cos(omega_m * t - theta_m) * sigma_z\n",
    "matrix_to_pauli_basis(Hamiltonian_first_frame)"
   ]
  },
  {
   "cell_type": "markdown",
   "id": "7a4f42da",
   "metadata": {},
   "source": [
    "Hamiltonian that defines the second rotating frame (note this is the same as the static field in the first rotating frae when $\\delta = 0$ like simple Rabi oscillations)"
   ]
  },
  {
   "cell_type": "code",
   "execution_count": null,
   "id": "f5925b40",
   "metadata": {},
   "outputs": [
    {
     "data": {
      "text/latex": [
       "$\\displaystyle \\left[\\begin{matrix}0 & \\frac{\\omega_{m} \\left(- i \\sin{\\left(\\phi_{0} \\right)} + \\cos{\\left(\\phi_{0} \\right)}\\right)}{2}\\\\\\frac{\\omega_{m} \\left(i \\sin{\\left(\\phi_{0} \\right)} + \\cos{\\left(\\phi_{0} \\right)}\\right)}{2} & 0\\end{matrix}\\right]$"
      ],
      "text/plain": [
       "Matrix([\n",
       "[                                    0, omega_m*(-I*sin(phi_0) + cos(phi_0))/2],\n",
       "[omega_m*(I*sin(phi_0) + cos(phi_0))/2,                                      0]])"
      ]
     },
     "execution_count": 52,
     "metadata": {},
     "output_type": "execute_result"
    }
   ],
   "source": [
    "Hamiltonian_define_second = (omega_m / 2) * (sp.cos(phi_0) * sigma_x + sp.sin(phi_0) * sigma_y)\n",
    "Hamiltonian_define_second\n"
   ]
  },
  {
   "cell_type": "code",
   "execution_count": 59,
   "id": "f5d2c6fe",
   "metadata": {},
   "outputs": [
    {
     "data": {
      "text/latex": [
       "$\\displaystyle \\left[\\begin{matrix}\\left(\\frac{\\Omega \\left(- i \\sin{\\left(\\phi_{0} \\right)} + \\cos{\\left(\\phi_{0} \\right)}\\right) \\left(\\frac{\\left(- i \\sin{\\left(\\phi_{0} \\right)} + \\cos{\\left(\\phi_{0} \\right)}\\right) e^{i \\phi_{0}} e^{\\frac{i \\omega_{m} t}{2}}}{2} - \\frac{\\left(i \\sin{\\left(\\phi_{0} \\right)} - \\cos{\\left(\\phi_{0} \\right)}\\right) e^{i \\phi_{0}} e^{- \\frac{i \\omega_{m} t}{2}}}{2}\\right)}{2} + \\left(\\frac{\\delta}{2} - \\frac{\\epsilon \\omega_{m} \\cos{\\left(\\omega_{m} t - \\theta_{m} \\right)}}{\\Omega}\\right) \\left(\\left(- i \\sin{\\left(\\phi_{0} \\right)} + \\cos{\\left(\\phi_{0} \\right)}\\right) \\left(- \\frac{i e^{i \\phi_{0}} \\sin{\\left(\\phi_{0} \\right)}}{2} + \\frac{e^{i \\phi_{0}} \\cos{\\left(\\phi_{0} \\right)}}{2}\\right) e^{\\frac{i \\omega_{m} t}{2}} + \\left(i \\sin{\\left(\\phi_{0} \\right)} - \\cos{\\left(\\phi_{0} \\right)}\\right) \\left(\\frac{i e^{i \\phi_{0}} \\sin{\\left(\\phi_{0} \\right)}}{2} - \\frac{e^{i \\phi_{0}} \\cos{\\left(\\phi_{0} \\right)}}{2} + 1\\right) e^{- \\frac{i \\omega_{m} t}{2}}\\right)\\right) \\left(\\left(- i \\sin{\\left(\\phi_{0} \\right)} - \\cos{\\left(\\phi_{0} \\right)}\\right) \\left(1 - \\frac{i e^{- i \\phi_{0}} \\sin{\\left(\\phi_{0} \\right)}}{2} - \\frac{e^{- i \\phi_{0}} \\cos{\\left(\\phi_{0} \\right)}}{2}\\right) e^{\\frac{i \\omega_{m} t}{2}} + \\left(i \\sin{\\left(\\phi_{0} \\right)} + \\cos{\\left(\\phi_{0} \\right)}\\right) \\left(\\frac{i e^{- i \\phi_{0}} \\sin{\\left(\\phi_{0} \\right)}}{2} + \\frac{e^{- i \\phi_{0}} \\cos{\\left(\\phi_{0} \\right)}}{2}\\right) e^{- \\frac{i \\omega_{m} t}{2}}\\right) + \\left(\\frac{\\Omega \\left(i \\sin{\\left(\\phi_{0} \\right)} + \\cos{\\left(\\phi_{0} \\right)}\\right) \\left(\\left(- i \\sin{\\left(\\phi_{0} \\right)} + \\cos{\\left(\\phi_{0} \\right)}\\right) \\left(- \\frac{i e^{i \\phi_{0}} \\sin{\\left(\\phi_{0} \\right)}}{2} + \\frac{e^{i \\phi_{0}} \\cos{\\left(\\phi_{0} \\right)}}{2}\\right) e^{\\frac{i \\omega_{m} t}{2}} + \\left(i \\sin{\\left(\\phi_{0} \\right)} - \\cos{\\left(\\phi_{0} \\right)}\\right) \\left(\\frac{i e^{i \\phi_{0}} \\sin{\\left(\\phi_{0} \\right)}}{2} - \\frac{e^{i \\phi_{0}} \\cos{\\left(\\phi_{0} \\right)}}{2} + 1\\right) e^{- \\frac{i \\omega_{m} t}{2}}\\right)}{2} + \\left(- \\frac{\\delta}{2} + \\frac{\\epsilon \\omega_{m} \\cos{\\left(\\omega_{m} t - \\theta_{m} \\right)}}{\\Omega}\\right) \\left(\\frac{\\left(- i \\sin{\\left(\\phi_{0} \\right)} + \\cos{\\left(\\phi_{0} \\right)}\\right) e^{i \\phi_{0}} e^{\\frac{i \\omega_{m} t}{2}}}{2} - \\frac{\\left(i \\sin{\\left(\\phi_{0} \\right)} - \\cos{\\left(\\phi_{0} \\right)}\\right) e^{i \\phi_{0}} e^{- \\frac{i \\omega_{m} t}{2}}}{2}\\right)\\right) \\left(- \\frac{\\left(- i \\sin{\\left(\\phi_{0} \\right)} - \\cos{\\left(\\phi_{0} \\right)}\\right) e^{- i \\phi_{0}} e^{\\frac{i \\omega_{m} t}{2}}}{2} + \\frac{\\left(i \\sin{\\left(\\phi_{0} \\right)} + \\cos{\\left(\\phi_{0} \\right)}\\right) e^{- i \\phi_{0}} e^{- \\frac{i \\omega_{m} t}{2}}}{2}\\right) - i \\left(\\left(- i \\sin{\\left(\\phi_{0} \\right)} + \\cos{\\left(\\phi_{0} \\right)}\\right) \\left(- \\frac{i e^{i \\phi_{0}} \\sin{\\left(\\phi_{0} \\right)}}{2} + \\frac{e^{i \\phi_{0}} \\cos{\\left(\\phi_{0} \\right)}}{2}\\right) e^{\\frac{i \\omega_{m} t}{2}} + \\left(i \\sin{\\left(\\phi_{0} \\right)} - \\cos{\\left(\\phi_{0} \\right)}\\right) \\left(\\frac{i e^{i \\phi_{0}} \\sin{\\left(\\phi_{0} \\right)}}{2} - \\frac{e^{i \\phi_{0}} \\cos{\\left(\\phi_{0} \\right)}}{2} + 1\\right) e^{- \\frac{i \\omega_{m} t}{2}}\\right) \\left(\\frac{i \\omega_{m} \\left(- i \\sin{\\left(\\phi_{0} \\right)} - \\cos{\\left(\\phi_{0} \\right)}\\right) \\left(1 - \\frac{i e^{- i \\phi_{0}} \\sin{\\left(\\phi_{0} \\right)}}{2} - \\frac{e^{- i \\phi_{0}} \\cos{\\left(\\phi_{0} \\right)}}{2}\\right) e^{\\frac{i \\omega_{m} t}{2}}}{2} - \\frac{i \\omega_{m} \\left(i \\sin{\\left(\\phi_{0} \\right)} + \\cos{\\left(\\phi_{0} \\right)}\\right) \\left(\\frac{i e^{- i \\phi_{0}} \\sin{\\left(\\phi_{0} \\right)}}{2} + \\frac{e^{- i \\phi_{0}} \\cos{\\left(\\phi_{0} \\right)}}{2}\\right) e^{- \\frac{i \\omega_{m} t}{2}}}{2}\\right) - i \\left(\\frac{\\left(- i \\sin{\\left(\\phi_{0} \\right)} + \\cos{\\left(\\phi_{0} \\right)}\\right) e^{i \\phi_{0}} e^{\\frac{i \\omega_{m} t}{2}}}{2} - \\frac{\\left(i \\sin{\\left(\\phi_{0} \\right)} - \\cos{\\left(\\phi_{0} \\right)}\\right) e^{i \\phi_{0}} e^{- \\frac{i \\omega_{m} t}{2}}}{2}\\right) \\left(- \\frac{i \\omega_{m} \\left(- i \\sin{\\left(\\phi_{0} \\right)} - \\cos{\\left(\\phi_{0} \\right)}\\right) e^{- i \\phi_{0}} e^{\\frac{i \\omega_{m} t}{2}}}{4} - \\frac{i \\omega_{m} \\left(i \\sin{\\left(\\phi_{0} \\right)} + \\cos{\\left(\\phi_{0} \\right)}\\right) e^{- i \\phi_{0}} e^{- \\frac{i \\omega_{m} t}{2}}}{4}\\right) & \\left(\\left(\\frac{i e^{- i \\phi_{0}} \\sin{\\left(\\phi_{0} \\right)}}{2} + \\frac{e^{- i \\phi_{0}} \\cos{\\left(\\phi_{0} \\right)}}{2}\\right) e^{- \\frac{i \\omega_{m} t}{2}} + \\left(1 - \\frac{i e^{- i \\phi_{0}} \\sin{\\left(\\phi_{0} \\right)}}{2} - \\frac{e^{- i \\phi_{0}} \\cos{\\left(\\phi_{0} \\right)}}{2}\\right) e^{\\frac{i \\omega_{m} t}{2}}\\right) \\left(\\frac{\\Omega \\left(- i \\sin{\\left(\\phi_{0} \\right)} + \\cos{\\left(\\phi_{0} \\right)}\\right) \\left(\\frac{\\left(- i \\sin{\\left(\\phi_{0} \\right)} + \\cos{\\left(\\phi_{0} \\right)}\\right) e^{i \\phi_{0}} e^{\\frac{i \\omega_{m} t}{2}}}{2} - \\frac{\\left(i \\sin{\\left(\\phi_{0} \\right)} - \\cos{\\left(\\phi_{0} \\right)}\\right) e^{i \\phi_{0}} e^{- \\frac{i \\omega_{m} t}{2}}}{2}\\right)}{2} + \\left(\\frac{\\delta}{2} - \\frac{\\epsilon \\omega_{m} \\cos{\\left(\\omega_{m} t - \\theta_{m} \\right)}}{\\Omega}\\right) \\left(\\left(- i \\sin{\\left(\\phi_{0} \\right)} + \\cos{\\left(\\phi_{0} \\right)}\\right) \\left(- \\frac{i e^{i \\phi_{0}} \\sin{\\left(\\phi_{0} \\right)}}{2} + \\frac{e^{i \\phi_{0}} \\cos{\\left(\\phi_{0} \\right)}}{2}\\right) e^{\\frac{i \\omega_{m} t}{2}} + \\left(i \\sin{\\left(\\phi_{0} \\right)} - \\cos{\\left(\\phi_{0} \\right)}\\right) \\left(\\frac{i e^{i \\phi_{0}} \\sin{\\left(\\phi_{0} \\right)}}{2} - \\frac{e^{i \\phi_{0}} \\cos{\\left(\\phi_{0} \\right)}}{2} + 1\\right) e^{- \\frac{i \\omega_{m} t}{2}}\\right)\\right) + \\left(- \\frac{e^{- i \\phi_{0}} e^{\\frac{i \\omega_{m} t}{2}}}{2} + \\frac{e^{- i \\phi_{0}} e^{- \\frac{i \\omega_{m} t}{2}}}{2}\\right) \\left(\\frac{\\Omega \\left(i \\sin{\\left(\\phi_{0} \\right)} + \\cos{\\left(\\phi_{0} \\right)}\\right) \\left(\\left(- i \\sin{\\left(\\phi_{0} \\right)} + \\cos{\\left(\\phi_{0} \\right)}\\right) \\left(- \\frac{i e^{i \\phi_{0}} \\sin{\\left(\\phi_{0} \\right)}}{2} + \\frac{e^{i \\phi_{0}} \\cos{\\left(\\phi_{0} \\right)}}{2}\\right) e^{\\frac{i \\omega_{m} t}{2}} + \\left(i \\sin{\\left(\\phi_{0} \\right)} - \\cos{\\left(\\phi_{0} \\right)}\\right) \\left(\\frac{i e^{i \\phi_{0}} \\sin{\\left(\\phi_{0} \\right)}}{2} - \\frac{e^{i \\phi_{0}} \\cos{\\left(\\phi_{0} \\right)}}{2} + 1\\right) e^{- \\frac{i \\omega_{m} t}{2}}\\right)}{2} + \\left(- \\frac{\\delta}{2} + \\frac{\\epsilon \\omega_{m} \\cos{\\left(\\omega_{m} t - \\theta_{m} \\right)}}{\\Omega}\\right) \\left(\\frac{\\left(- i \\sin{\\left(\\phi_{0} \\right)} + \\cos{\\left(\\phi_{0} \\right)}\\right) e^{i \\phi_{0}} e^{\\frac{i \\omega_{m} t}{2}}}{2} - \\frac{\\left(i \\sin{\\left(\\phi_{0} \\right)} - \\cos{\\left(\\phi_{0} \\right)}\\right) e^{i \\phi_{0}} e^{- \\frac{i \\omega_{m} t}{2}}}{2}\\right)\\right) - i \\left(\\left(- i \\sin{\\left(\\phi_{0} \\right)} + \\cos{\\left(\\phi_{0} \\right)}\\right) \\left(- \\frac{i e^{i \\phi_{0}} \\sin{\\left(\\phi_{0} \\right)}}{2} + \\frac{e^{i \\phi_{0}} \\cos{\\left(\\phi_{0} \\right)}}{2}\\right) e^{\\frac{i \\omega_{m} t}{2}} + \\left(i \\sin{\\left(\\phi_{0} \\right)} - \\cos{\\left(\\phi_{0} \\right)}\\right) \\left(\\frac{i e^{i \\phi_{0}} \\sin{\\left(\\phi_{0} \\right)}}{2} - \\frac{e^{i \\phi_{0}} \\cos{\\left(\\phi_{0} \\right)}}{2} + 1\\right) e^{- \\frac{i \\omega_{m} t}{2}}\\right) \\left(- \\frac{i \\omega_{m} \\left(\\frac{i e^{- i \\phi_{0}} \\sin{\\left(\\phi_{0} \\right)}}{2} + \\frac{e^{- i \\phi_{0}} \\cos{\\left(\\phi_{0} \\right)}}{2}\\right) e^{- \\frac{i \\omega_{m} t}{2}}}{2} + \\frac{i \\omega_{m} \\left(1 - \\frac{i e^{- i \\phi_{0}} \\sin{\\left(\\phi_{0} \\right)}}{2} - \\frac{e^{- i \\phi_{0}} \\cos{\\left(\\phi_{0} \\right)}}{2}\\right) e^{\\frac{i \\omega_{m} t}{2}}}{2}\\right) - i \\left(\\frac{\\left(- i \\sin{\\left(\\phi_{0} \\right)} + \\cos{\\left(\\phi_{0} \\right)}\\right) e^{i \\phi_{0}} e^{\\frac{i \\omega_{m} t}{2}}}{2} - \\frac{\\left(i \\sin{\\left(\\phi_{0} \\right)} - \\cos{\\left(\\phi_{0} \\right)}\\right) e^{i \\phi_{0}} e^{- \\frac{i \\omega_{m} t}{2}}}{2}\\right) \\left(- \\frac{i \\omega_{m} e^{- i \\phi_{0}} e^{\\frac{i \\omega_{m} t}{2}}}{4} - \\frac{i \\omega_{m} e^{- i \\phi_{0}} e^{- \\frac{i \\omega_{m} t}{2}}}{4}\\right)\\\\- i \\left(\\left(- \\frac{i e^{i \\phi_{0}} \\sin{\\left(\\phi_{0} \\right)}}{2} + \\frac{e^{i \\phi_{0}} \\cos{\\left(\\phi_{0} \\right)}}{2}\\right) e^{\\frac{i \\omega_{m} t}{2}} + \\left(\\frac{i e^{i \\phi_{0}} \\sin{\\left(\\phi_{0} \\right)}}{2} - \\frac{e^{i \\phi_{0}} \\cos{\\left(\\phi_{0} \\right)}}{2} + 1\\right) e^{- \\frac{i \\omega_{m} t}{2}}\\right) \\left(\\frac{i \\omega_{m} \\left(- i \\sin{\\left(\\phi_{0} \\right)} - \\cos{\\left(\\phi_{0} \\right)}\\right) \\left(1 - \\frac{i e^{- i \\phi_{0}} \\sin{\\left(\\phi_{0} \\right)}}{2} - \\frac{e^{- i \\phi_{0}} \\cos{\\left(\\phi_{0} \\right)}}{2}\\right) e^{\\frac{i \\omega_{m} t}{2}}}{2} - \\frac{i \\omega_{m} \\left(i \\sin{\\left(\\phi_{0} \\right)} + \\cos{\\left(\\phi_{0} \\right)}\\right) \\left(\\frac{i e^{- i \\phi_{0}} \\sin{\\left(\\phi_{0} \\right)}}{2} + \\frac{e^{- i \\phi_{0}} \\cos{\\left(\\phi_{0} \\right)}}{2}\\right) e^{- \\frac{i \\omega_{m} t}{2}}}{2}\\right) - i \\left(\\frac{e^{i \\phi_{0}} e^{\\frac{i \\omega_{m} t}{2}}}{2} - \\frac{e^{i \\phi_{0}} e^{- \\frac{i \\omega_{m} t}{2}}}{2}\\right) \\left(- \\frac{i \\omega_{m} \\left(- i \\sin{\\left(\\phi_{0} \\right)} - \\cos{\\left(\\phi_{0} \\right)}\\right) e^{- i \\phi_{0}} e^{\\frac{i \\omega_{m} t}{2}}}{4} - \\frac{i \\omega_{m} \\left(i \\sin{\\left(\\phi_{0} \\right)} + \\cos{\\left(\\phi_{0} \\right)}\\right) e^{- i \\phi_{0}} e^{- \\frac{i \\omega_{m} t}{2}}}{4}\\right) + \\left(\\frac{\\Omega \\left(- i \\sin{\\left(\\phi_{0} \\right)} + \\cos{\\left(\\phi_{0} \\right)}\\right) \\left(\\frac{e^{i \\phi_{0}} e^{\\frac{i \\omega_{m} t}{2}}}{2} - \\frac{e^{i \\phi_{0}} e^{- \\frac{i \\omega_{m} t}{2}}}{2}\\right)}{2} + \\left(\\frac{\\delta}{2} - \\frac{\\epsilon \\omega_{m} \\cos{\\left(\\omega_{m} t - \\theta_{m} \\right)}}{\\Omega}\\right) \\left(\\left(- \\frac{i e^{i \\phi_{0}} \\sin{\\left(\\phi_{0} \\right)}}{2} + \\frac{e^{i \\phi_{0}} \\cos{\\left(\\phi_{0} \\right)}}{2}\\right) e^{\\frac{i \\omega_{m} t}{2}} + \\left(\\frac{i e^{i \\phi_{0}} \\sin{\\left(\\phi_{0} \\right)}}{2} - \\frac{e^{i \\phi_{0}} \\cos{\\left(\\phi_{0} \\right)}}{2} + 1\\right) e^{- \\frac{i \\omega_{m} t}{2}}\\right)\\right) \\left(\\left(- i \\sin{\\left(\\phi_{0} \\right)} - \\cos{\\left(\\phi_{0} \\right)}\\right) \\left(1 - \\frac{i e^{- i \\phi_{0}} \\sin{\\left(\\phi_{0} \\right)}}{2} - \\frac{e^{- i \\phi_{0}} \\cos{\\left(\\phi_{0} \\right)}}{2}\\right) e^{\\frac{i \\omega_{m} t}{2}} + \\left(i \\sin{\\left(\\phi_{0} \\right)} + \\cos{\\left(\\phi_{0} \\right)}\\right) \\left(\\frac{i e^{- i \\phi_{0}} \\sin{\\left(\\phi_{0} \\right)}}{2} + \\frac{e^{- i \\phi_{0}} \\cos{\\left(\\phi_{0} \\right)}}{2}\\right) e^{- \\frac{i \\omega_{m} t}{2}}\\right) + \\left(\\frac{\\Omega \\left(i \\sin{\\left(\\phi_{0} \\right)} + \\cos{\\left(\\phi_{0} \\right)}\\right) \\left(\\left(- \\frac{i e^{i \\phi_{0}} \\sin{\\left(\\phi_{0} \\right)}}{2} + \\frac{e^{i \\phi_{0}} \\cos{\\left(\\phi_{0} \\right)}}{2}\\right) e^{\\frac{i \\omega_{m} t}{2}} + \\left(\\frac{i e^{i \\phi_{0}} \\sin{\\left(\\phi_{0} \\right)}}{2} - \\frac{e^{i \\phi_{0}} \\cos{\\left(\\phi_{0} \\right)}}{2} + 1\\right) e^{- \\frac{i \\omega_{m} t}{2}}\\right)}{2} + \\left(- \\frac{\\delta}{2} + \\frac{\\epsilon \\omega_{m} \\cos{\\left(\\omega_{m} t - \\theta_{m} \\right)}}{\\Omega}\\right) \\left(\\frac{e^{i \\phi_{0}} e^{\\frac{i \\omega_{m} t}{2}}}{2} - \\frac{e^{i \\phi_{0}} e^{- \\frac{i \\omega_{m} t}{2}}}{2}\\right)\\right) \\left(- \\frac{\\left(- i \\sin{\\left(\\phi_{0} \\right)} - \\cos{\\left(\\phi_{0} \\right)}\\right) e^{- i \\phi_{0}} e^{\\frac{i \\omega_{m} t}{2}}}{2} + \\frac{\\left(i \\sin{\\left(\\phi_{0} \\right)} + \\cos{\\left(\\phi_{0} \\right)}\\right) e^{- i \\phi_{0}} e^{- \\frac{i \\omega_{m} t}{2}}}{2}\\right) & \\left(\\left(\\frac{i e^{- i \\phi_{0}} \\sin{\\left(\\phi_{0} \\right)}}{2} + \\frac{e^{- i \\phi_{0}} \\cos{\\left(\\phi_{0} \\right)}}{2}\\right) e^{- \\frac{i \\omega_{m} t}{2}} + \\left(1 - \\frac{i e^{- i \\phi_{0}} \\sin{\\left(\\phi_{0} \\right)}}{2} - \\frac{e^{- i \\phi_{0}} \\cos{\\left(\\phi_{0} \\right)}}{2}\\right) e^{\\frac{i \\omega_{m} t}{2}}\\right) \\left(\\frac{\\Omega \\left(- i \\sin{\\left(\\phi_{0} \\right)} + \\cos{\\left(\\phi_{0} \\right)}\\right) \\left(\\frac{e^{i \\phi_{0}} e^{\\frac{i \\omega_{m} t}{2}}}{2} - \\frac{e^{i \\phi_{0}} e^{- \\frac{i \\omega_{m} t}{2}}}{2}\\right)}{2} + \\left(\\frac{\\delta}{2} - \\frac{\\epsilon \\omega_{m} \\cos{\\left(\\omega_{m} t - \\theta_{m} \\right)}}{\\Omega}\\right) \\left(\\left(- \\frac{i e^{i \\phi_{0}} \\sin{\\left(\\phi_{0} \\right)}}{2} + \\frac{e^{i \\phi_{0}} \\cos{\\left(\\phi_{0} \\right)}}{2}\\right) e^{\\frac{i \\omega_{m} t}{2}} + \\left(\\frac{i e^{i \\phi_{0}} \\sin{\\left(\\phi_{0} \\right)}}{2} - \\frac{e^{i \\phi_{0}} \\cos{\\left(\\phi_{0} \\right)}}{2} + 1\\right) e^{- \\frac{i \\omega_{m} t}{2}}\\right)\\right) - i \\left(\\left(- \\frac{i e^{i \\phi_{0}} \\sin{\\left(\\phi_{0} \\right)}}{2} + \\frac{e^{i \\phi_{0}} \\cos{\\left(\\phi_{0} \\right)}}{2}\\right) e^{\\frac{i \\omega_{m} t}{2}} + \\left(\\frac{i e^{i \\phi_{0}} \\sin{\\left(\\phi_{0} \\right)}}{2} - \\frac{e^{i \\phi_{0}} \\cos{\\left(\\phi_{0} \\right)}}{2} + 1\\right) e^{- \\frac{i \\omega_{m} t}{2}}\\right) \\left(- \\frac{i \\omega_{m} \\left(\\frac{i e^{- i \\phi_{0}} \\sin{\\left(\\phi_{0} \\right)}}{2} + \\frac{e^{- i \\phi_{0}} \\cos{\\left(\\phi_{0} \\right)}}{2}\\right) e^{- \\frac{i \\omega_{m} t}{2}}}{2} + \\frac{i \\omega_{m} \\left(1 - \\frac{i e^{- i \\phi_{0}} \\sin{\\left(\\phi_{0} \\right)}}{2} - \\frac{e^{- i \\phi_{0}} \\cos{\\left(\\phi_{0} \\right)}}{2}\\right) e^{\\frac{i \\omega_{m} t}{2}}}{2}\\right) + \\left(- \\frac{e^{- i \\phi_{0}} e^{\\frac{i \\omega_{m} t}{2}}}{2} + \\frac{e^{- i \\phi_{0}} e^{- \\frac{i \\omega_{m} t}{2}}}{2}\\right) \\left(\\frac{\\Omega \\left(i \\sin{\\left(\\phi_{0} \\right)} + \\cos{\\left(\\phi_{0} \\right)}\\right) \\left(\\left(- \\frac{i e^{i \\phi_{0}} \\sin{\\left(\\phi_{0} \\right)}}{2} + \\frac{e^{i \\phi_{0}} \\cos{\\left(\\phi_{0} \\right)}}{2}\\right) e^{\\frac{i \\omega_{m} t}{2}} + \\left(\\frac{i e^{i \\phi_{0}} \\sin{\\left(\\phi_{0} \\right)}}{2} - \\frac{e^{i \\phi_{0}} \\cos{\\left(\\phi_{0} \\right)}}{2} + 1\\right) e^{- \\frac{i \\omega_{m} t}{2}}\\right)}{2} + \\left(- \\frac{\\delta}{2} + \\frac{\\epsilon \\omega_{m} \\cos{\\left(\\omega_{m} t - \\theta_{m} \\right)}}{\\Omega}\\right) \\left(\\frac{e^{i \\phi_{0}} e^{\\frac{i \\omega_{m} t}{2}}}{2} - \\frac{e^{i \\phi_{0}} e^{- \\frac{i \\omega_{m} t}{2}}}{2}\\right)\\right) - i \\left(\\frac{e^{i \\phi_{0}} e^{\\frac{i \\omega_{m} t}{2}}}{2} - \\frac{e^{i \\phi_{0}} e^{- \\frac{i \\omega_{m} t}{2}}}{2}\\right) \\left(- \\frac{i \\omega_{m} e^{- i \\phi_{0}} e^{\\frac{i \\omega_{m} t}{2}}}{4} - \\frac{i \\omega_{m} e^{- i \\phi_{0}} e^{- \\frac{i \\omega_{m} t}{2}}}{4}\\right)\\end{matrix}\\right]$"
      ],
      "text/plain": [
       "Matrix([\n",
       "[(Omega*(-I*sin(phi_0) + cos(phi_0))*((-I*sin(phi_0) + cos(phi_0))*exp(I*phi_0)*exp(I*omega_m*t/2)/2 - (I*sin(phi_0) - cos(phi_0))*exp(I*phi_0)*exp(-I*omega_m*t/2)/2)/2 + (delta/2 - epsilon*omega_m*cos(omega_m*t - theta_m)/Omega)*((-I*sin(phi_0) + cos(phi_0))*(-I*exp(I*phi_0)*sin(phi_0)/2 + exp(I*phi_0)*cos(phi_0)/2)*exp(I*omega_m*t/2) + (I*sin(phi_0) - cos(phi_0))*(I*exp(I*phi_0)*sin(phi_0)/2 - exp(I*phi_0)*cos(phi_0)/2 + 1)*exp(-I*omega_m*t/2)))*((-I*sin(phi_0) - cos(phi_0))*(1 - I*exp(-I*phi_0)*sin(phi_0)/2 - exp(-I*phi_0)*cos(phi_0)/2)*exp(I*omega_m*t/2) + (I*sin(phi_0) + cos(phi_0))*(I*exp(-I*phi_0)*sin(phi_0)/2 + exp(-I*phi_0)*cos(phi_0)/2)*exp(-I*omega_m*t/2)) + (Omega*(I*sin(phi_0) + cos(phi_0))*((-I*sin(phi_0) + cos(phi_0))*(-I*exp(I*phi_0)*sin(phi_0)/2 + exp(I*phi_0)*cos(phi_0)/2)*exp(I*omega_m*t/2) + (I*sin(phi_0) - cos(phi_0))*(I*exp(I*phi_0)*sin(phi_0)/2 - exp(I*phi_0)*cos(phi_0)/2 + 1)*exp(-I*omega_m*t/2))/2 + (-delta/2 + epsilon*omega_m*cos(omega_m*t - theta_m)/Omega)*((-I*sin(phi_0) + cos(phi_0))*exp(I*phi_0)*exp(I*omega_m*t/2)/2 - (I*sin(phi_0) - cos(phi_0))*exp(I*phi_0)*exp(-I*omega_m*t/2)/2))*(-(-I*sin(phi_0) - cos(phi_0))*exp(-I*phi_0)*exp(I*omega_m*t/2)/2 + (I*sin(phi_0) + cos(phi_0))*exp(-I*phi_0)*exp(-I*omega_m*t/2)/2) - I*((-I*sin(phi_0) + cos(phi_0))*(-I*exp(I*phi_0)*sin(phi_0)/2 + exp(I*phi_0)*cos(phi_0)/2)*exp(I*omega_m*t/2) + (I*sin(phi_0) - cos(phi_0))*(I*exp(I*phi_0)*sin(phi_0)/2 - exp(I*phi_0)*cos(phi_0)/2 + 1)*exp(-I*omega_m*t/2))*(I*omega_m*(-I*sin(phi_0) - cos(phi_0))*(1 - I*exp(-I*phi_0)*sin(phi_0)/2 - exp(-I*phi_0)*cos(phi_0)/2)*exp(I*omega_m*t/2)/2 - I*omega_m*(I*sin(phi_0) + cos(phi_0))*(I*exp(-I*phi_0)*sin(phi_0)/2 + exp(-I*phi_0)*cos(phi_0)/2)*exp(-I*omega_m*t/2)/2) - I*((-I*sin(phi_0) + cos(phi_0))*exp(I*phi_0)*exp(I*omega_m*t/2)/2 - (I*sin(phi_0) - cos(phi_0))*exp(I*phi_0)*exp(-I*omega_m*t/2)/2)*(-I*omega_m*(-I*sin(phi_0) - cos(phi_0))*exp(-I*phi_0)*exp(I*omega_m*t/2)/4 - I*omega_m*(I*sin(phi_0) + cos(phi_0))*exp(-I*phi_0)*exp(-I*omega_m*t/2)/4), ((I*exp(-I*phi_0)*sin(phi_0)/2 + exp(-I*phi_0)*cos(phi_0)/2)*exp(-I*omega_m*t/2) + (1 - I*exp(-I*phi_0)*sin(phi_0)/2 - exp(-I*phi_0)*cos(phi_0)/2)*exp(I*omega_m*t/2))*(Omega*(-I*sin(phi_0) + cos(phi_0))*((-I*sin(phi_0) + cos(phi_0))*exp(I*phi_0)*exp(I*omega_m*t/2)/2 - (I*sin(phi_0) - cos(phi_0))*exp(I*phi_0)*exp(-I*omega_m*t/2)/2)/2 + (delta/2 - epsilon*omega_m*cos(omega_m*t - theta_m)/Omega)*((-I*sin(phi_0) + cos(phi_0))*(-I*exp(I*phi_0)*sin(phi_0)/2 + exp(I*phi_0)*cos(phi_0)/2)*exp(I*omega_m*t/2) + (I*sin(phi_0) - cos(phi_0))*(I*exp(I*phi_0)*sin(phi_0)/2 - exp(I*phi_0)*cos(phi_0)/2 + 1)*exp(-I*omega_m*t/2))) + (-exp(-I*phi_0)*exp(I*omega_m*t/2)/2 + exp(-I*phi_0)*exp(-I*omega_m*t/2)/2)*(Omega*(I*sin(phi_0) + cos(phi_0))*((-I*sin(phi_0) + cos(phi_0))*(-I*exp(I*phi_0)*sin(phi_0)/2 + exp(I*phi_0)*cos(phi_0)/2)*exp(I*omega_m*t/2) + (I*sin(phi_0) - cos(phi_0))*(I*exp(I*phi_0)*sin(phi_0)/2 - exp(I*phi_0)*cos(phi_0)/2 + 1)*exp(-I*omega_m*t/2))/2 + (-delta/2 + epsilon*omega_m*cos(omega_m*t - theta_m)/Omega)*((-I*sin(phi_0) + cos(phi_0))*exp(I*phi_0)*exp(I*omega_m*t/2)/2 - (I*sin(phi_0) - cos(phi_0))*exp(I*phi_0)*exp(-I*omega_m*t/2)/2)) - I*((-I*sin(phi_0) + cos(phi_0))*(-I*exp(I*phi_0)*sin(phi_0)/2 + exp(I*phi_0)*cos(phi_0)/2)*exp(I*omega_m*t/2) + (I*sin(phi_0) - cos(phi_0))*(I*exp(I*phi_0)*sin(phi_0)/2 - exp(I*phi_0)*cos(phi_0)/2 + 1)*exp(-I*omega_m*t/2))*(-I*omega_m*(I*exp(-I*phi_0)*sin(phi_0)/2 + exp(-I*phi_0)*cos(phi_0)/2)*exp(-I*omega_m*t/2)/2 + I*omega_m*(1 - I*exp(-I*phi_0)*sin(phi_0)/2 - exp(-I*phi_0)*cos(phi_0)/2)*exp(I*omega_m*t/2)/2) - I*((-I*sin(phi_0) + cos(phi_0))*exp(I*phi_0)*exp(I*omega_m*t/2)/2 - (I*sin(phi_0) - cos(phi_0))*exp(I*phi_0)*exp(-I*omega_m*t/2)/2)*(-I*omega_m*exp(-I*phi_0)*exp(I*omega_m*t/2)/4 - I*omega_m*exp(-I*phi_0)*exp(-I*omega_m*t/2)/4)],\n",
       "[                                                                                                                                                                                                                                                                                                                                                     -I*((-I*exp(I*phi_0)*sin(phi_0)/2 + exp(I*phi_0)*cos(phi_0)/2)*exp(I*omega_m*t/2) + (I*exp(I*phi_0)*sin(phi_0)/2 - exp(I*phi_0)*cos(phi_0)/2 + 1)*exp(-I*omega_m*t/2))*(I*omega_m*(-I*sin(phi_0) - cos(phi_0))*(1 - I*exp(-I*phi_0)*sin(phi_0)/2 - exp(-I*phi_0)*cos(phi_0)/2)*exp(I*omega_m*t/2)/2 - I*omega_m*(I*sin(phi_0) + cos(phi_0))*(I*exp(-I*phi_0)*sin(phi_0)/2 + exp(-I*phi_0)*cos(phi_0)/2)*exp(-I*omega_m*t/2)/2) - I*(exp(I*phi_0)*exp(I*omega_m*t/2)/2 - exp(I*phi_0)*exp(-I*omega_m*t/2)/2)*(-I*omega_m*(-I*sin(phi_0) - cos(phi_0))*exp(-I*phi_0)*exp(I*omega_m*t/2)/4 - I*omega_m*(I*sin(phi_0) + cos(phi_0))*exp(-I*phi_0)*exp(-I*omega_m*t/2)/4) + (Omega*(-I*sin(phi_0) + cos(phi_0))*(exp(I*phi_0)*exp(I*omega_m*t/2)/2 - exp(I*phi_0)*exp(-I*omega_m*t/2)/2)/2 + (delta/2 - epsilon*omega_m*cos(omega_m*t - theta_m)/Omega)*((-I*exp(I*phi_0)*sin(phi_0)/2 + exp(I*phi_0)*cos(phi_0)/2)*exp(I*omega_m*t/2) + (I*exp(I*phi_0)*sin(phi_0)/2 - exp(I*phi_0)*cos(phi_0)/2 + 1)*exp(-I*omega_m*t/2)))*((-I*sin(phi_0) - cos(phi_0))*(1 - I*exp(-I*phi_0)*sin(phi_0)/2 - exp(-I*phi_0)*cos(phi_0)/2)*exp(I*omega_m*t/2) + (I*sin(phi_0) + cos(phi_0))*(I*exp(-I*phi_0)*sin(phi_0)/2 + exp(-I*phi_0)*cos(phi_0)/2)*exp(-I*omega_m*t/2)) + (Omega*(I*sin(phi_0) + cos(phi_0))*((-I*exp(I*phi_0)*sin(phi_0)/2 + exp(I*phi_0)*cos(phi_0)/2)*exp(I*omega_m*t/2) + (I*exp(I*phi_0)*sin(phi_0)/2 - exp(I*phi_0)*cos(phi_0)/2 + 1)*exp(-I*omega_m*t/2))/2 + (-delta/2 + epsilon*omega_m*cos(omega_m*t - theta_m)/Omega)*(exp(I*phi_0)*exp(I*omega_m*t/2)/2 - exp(I*phi_0)*exp(-I*omega_m*t/2)/2))*(-(-I*sin(phi_0) - cos(phi_0))*exp(-I*phi_0)*exp(I*omega_m*t/2)/2 + (I*sin(phi_0) + cos(phi_0))*exp(-I*phi_0)*exp(-I*omega_m*t/2)/2),                                                                                                                                                                                                                                                                                                                                                       ((I*exp(-I*phi_0)*sin(phi_0)/2 + exp(-I*phi_0)*cos(phi_0)/2)*exp(-I*omega_m*t/2) + (1 - I*exp(-I*phi_0)*sin(phi_0)/2 - exp(-I*phi_0)*cos(phi_0)/2)*exp(I*omega_m*t/2))*(Omega*(-I*sin(phi_0) + cos(phi_0))*(exp(I*phi_0)*exp(I*omega_m*t/2)/2 - exp(I*phi_0)*exp(-I*omega_m*t/2)/2)/2 + (delta/2 - epsilon*omega_m*cos(omega_m*t - theta_m)/Omega)*((-I*exp(I*phi_0)*sin(phi_0)/2 + exp(I*phi_0)*cos(phi_0)/2)*exp(I*omega_m*t/2) + (I*exp(I*phi_0)*sin(phi_0)/2 - exp(I*phi_0)*cos(phi_0)/2 + 1)*exp(-I*omega_m*t/2))) - I*((-I*exp(I*phi_0)*sin(phi_0)/2 + exp(I*phi_0)*cos(phi_0)/2)*exp(I*omega_m*t/2) + (I*exp(I*phi_0)*sin(phi_0)/2 - exp(I*phi_0)*cos(phi_0)/2 + 1)*exp(-I*omega_m*t/2))*(-I*omega_m*(I*exp(-I*phi_0)*sin(phi_0)/2 + exp(-I*phi_0)*cos(phi_0)/2)*exp(-I*omega_m*t/2)/2 + I*omega_m*(1 - I*exp(-I*phi_0)*sin(phi_0)/2 - exp(-I*phi_0)*cos(phi_0)/2)*exp(I*omega_m*t/2)/2) + (-exp(-I*phi_0)*exp(I*omega_m*t/2)/2 + exp(-I*phi_0)*exp(-I*omega_m*t/2)/2)*(Omega*(I*sin(phi_0) + cos(phi_0))*((-I*exp(I*phi_0)*sin(phi_0)/2 + exp(I*phi_0)*cos(phi_0)/2)*exp(I*omega_m*t/2) + (I*exp(I*phi_0)*sin(phi_0)/2 - exp(I*phi_0)*cos(phi_0)/2 + 1)*exp(-I*omega_m*t/2))/2 + (-delta/2 + epsilon*omega_m*cos(omega_m*t - theta_m)/Omega)*(exp(I*phi_0)*exp(I*omega_m*t/2)/2 - exp(I*phi_0)*exp(-I*omega_m*t/2)/2)) - I*(exp(I*phi_0)*exp(I*omega_m*t/2)/2 - exp(I*phi_0)*exp(-I*omega_m*t/2)/2)*(-I*omega_m*exp(-I*phi_0)*exp(I*omega_m*t/2)/4 - I*omega_m*exp(-I*phi_0)*exp(-I*omega_m*t/2)/4)]])"
      ]
     },
     "execution_count": 59,
     "metadata": {},
     "output_type": "execute_result"
    }
   ],
   "source": [
    "U = sp.exp(+(sp.I) * sp.integrate(Hamiltonian_define_second, t))\n",
    "\n",
    "\n",
    "# Compute U^dagger (Hermitian conjugate of U)\n",
    "U_dagger = U.H\n",
    "\n",
    "\n",
    "# Compute d(U^dagger)/dt\n",
    "U_dagger_dt = sp.diff(U_dagger, t)\n",
    "\n",
    "# Full expression for the transformed Hamiltonian\n",
    "H_transformed = U * Hamiltonian_first_frame * U_dagger - sp.I * U * U_dagger_dt\n",
    "H_transformed"
   ]
  },
  {
   "cell_type": "code",
   "execution_count": null,
   "id": "bb7520a3",
   "metadata": {},
   "outputs": [
    {
     "data": {
      "text/latex": [
       "$\\displaystyle \\left[\\begin{matrix}\\left(\\frac{\\Omega \\left(- i \\sin{\\left(\\phi_{0} \\right)} + \\cos{\\left(\\phi_{0} \\right)}\\right) \\left(\\frac{\\left(- i \\sin{\\left(\\phi_{0} \\right)} + \\cos{\\left(\\phi_{0} \\right)}\\right) e^{i \\phi_{0}} e^{\\frac{i \\omega_{m} t}{2}}}{2} - \\frac{\\left(i \\sin{\\left(\\phi_{0} \\right)} - \\cos{\\left(\\phi_{0} \\right)}\\right) e^{i \\phi_{0}} e^{- \\frac{i \\omega_{m} t}{2}}}{2}\\right)}{2} + \\left(\\frac{\\delta}{2} - \\frac{\\epsilon \\omega_{m} \\cos{\\left(\\omega_{m} t - \\theta_{m} \\right)}}{\\Omega}\\right) \\left(\\left(- i \\sin{\\left(\\phi_{0} \\right)} + \\cos{\\left(\\phi_{0} \\right)}\\right) \\left(- \\frac{i e^{i \\phi_{0}} \\sin{\\left(\\phi_{0} \\right)}}{2} + \\frac{e^{i \\phi_{0}} \\cos{\\left(\\phi_{0} \\right)}}{2}\\right) e^{\\frac{i \\omega_{m} t}{2}} + \\left(i \\sin{\\left(\\phi_{0} \\right)} - \\cos{\\left(\\phi_{0} \\right)}\\right) \\left(\\frac{i e^{i \\phi_{0}} \\sin{\\left(\\phi_{0} \\right)}}{2} - \\frac{e^{i \\phi_{0}} \\cos{\\left(\\phi_{0} \\right)}}{2} + 1\\right) e^{- \\frac{i \\omega_{m} t}{2}}\\right)\\right) \\left(\\left(- i \\sin{\\left(\\phi_{0} \\right)} - \\cos{\\left(\\phi_{0} \\right)}\\right) \\left(1 - \\frac{i e^{- i \\phi_{0}} \\sin{\\left(\\phi_{0} \\right)}}{2} - \\frac{e^{- i \\phi_{0}} \\cos{\\left(\\phi_{0} \\right)}}{2}\\right) e^{\\frac{i \\omega_{m} t}{2}} + \\left(i \\sin{\\left(\\phi_{0} \\right)} + \\cos{\\left(\\phi_{0} \\right)}\\right) \\left(\\frac{i e^{- i \\phi_{0}} \\sin{\\left(\\phi_{0} \\right)}}{2} + \\frac{e^{- i \\phi_{0}} \\cos{\\left(\\phi_{0} \\right)}}{2}\\right) e^{- \\frac{i \\omega_{m} t}{2}}\\right) + \\left(\\frac{\\Omega \\left(i \\sin{\\left(\\phi_{0} \\right)} + \\cos{\\left(\\phi_{0} \\right)}\\right) \\left(\\left(- i \\sin{\\left(\\phi_{0} \\right)} + \\cos{\\left(\\phi_{0} \\right)}\\right) \\left(- \\frac{i e^{i \\phi_{0}} \\sin{\\left(\\phi_{0} \\right)}}{2} + \\frac{e^{i \\phi_{0}} \\cos{\\left(\\phi_{0} \\right)}}{2}\\right) e^{\\frac{i \\omega_{m} t}{2}} + \\left(i \\sin{\\left(\\phi_{0} \\right)} - \\cos{\\left(\\phi_{0} \\right)}\\right) \\left(\\frac{i e^{i \\phi_{0}} \\sin{\\left(\\phi_{0} \\right)}}{2} - \\frac{e^{i \\phi_{0}} \\cos{\\left(\\phi_{0} \\right)}}{2} + 1\\right) e^{- \\frac{i \\omega_{m} t}{2}}\\right)}{2} + \\left(- \\frac{\\delta}{2} + \\frac{\\epsilon \\omega_{m} \\cos{\\left(\\omega_{m} t - \\theta_{m} \\right)}}{\\Omega}\\right) \\left(\\frac{\\left(- i \\sin{\\left(\\phi_{0} \\right)} + \\cos{\\left(\\phi_{0} \\right)}\\right) e^{i \\phi_{0}} e^{\\frac{i \\omega_{m} t}{2}}}{2} - \\frac{\\left(i \\sin{\\left(\\phi_{0} \\right)} - \\cos{\\left(\\phi_{0} \\right)}\\right) e^{i \\phi_{0}} e^{- \\frac{i \\omega_{m} t}{2}}}{2}\\right)\\right) \\left(- \\frac{\\left(- i \\sin{\\left(\\phi_{0} \\right)} - \\cos{\\left(\\phi_{0} \\right)}\\right) e^{- i \\phi_{0}} e^{\\frac{i \\omega_{m} t}{2}}}{2} + \\frac{\\left(i \\sin{\\left(\\phi_{0} \\right)} + \\cos{\\left(\\phi_{0} \\right)}\\right) e^{- i \\phi_{0}} e^{- \\frac{i \\omega_{m} t}{2}}}{2}\\right) - i \\left(\\left(- i \\sin{\\left(\\phi_{0} \\right)} + \\cos{\\left(\\phi_{0} \\right)}\\right) \\left(- \\frac{i e^{i \\phi_{0}} \\sin{\\left(\\phi_{0} \\right)}}{2} + \\frac{e^{i \\phi_{0}} \\cos{\\left(\\phi_{0} \\right)}}{2}\\right) e^{\\frac{i \\omega_{m} t}{2}} + \\left(i \\sin{\\left(\\phi_{0} \\right)} - \\cos{\\left(\\phi_{0} \\right)}\\right) \\left(\\frac{i e^{i \\phi_{0}} \\sin{\\left(\\phi_{0} \\right)}}{2} - \\frac{e^{i \\phi_{0}} \\cos{\\left(\\phi_{0} \\right)}}{2} + 1\\right) e^{- \\frac{i \\omega_{m} t}{2}}\\right) \\left(\\frac{i \\omega_{m} \\left(- i \\sin{\\left(\\phi_{0} \\right)} - \\cos{\\left(\\phi_{0} \\right)}\\right) \\left(1 - \\frac{i e^{- i \\phi_{0}} \\sin{\\left(\\phi_{0} \\right)}}{2} - \\frac{e^{- i \\phi_{0}} \\cos{\\left(\\phi_{0} \\right)}}{2}\\right) e^{\\frac{i \\omega_{m} t}{2}}}{2} - \\frac{i \\omega_{m} \\left(i \\sin{\\left(\\phi_{0} \\right)} + \\cos{\\left(\\phi_{0} \\right)}\\right) \\left(\\frac{i e^{- i \\phi_{0}} \\sin{\\left(\\phi_{0} \\right)}}{2} + \\frac{e^{- i \\phi_{0}} \\cos{\\left(\\phi_{0} \\right)}}{2}\\right) e^{- \\frac{i \\omega_{m} t}{2}}}{2}\\right) - i \\left(\\frac{\\left(- i \\sin{\\left(\\phi_{0} \\right)} + \\cos{\\left(\\phi_{0} \\right)}\\right) e^{i \\phi_{0}} e^{\\frac{i \\omega_{m} t}{2}}}{2} - \\frac{\\left(i \\sin{\\left(\\phi_{0} \\right)} - \\cos{\\left(\\phi_{0} \\right)}\\right) e^{i \\phi_{0}} e^{- \\frac{i \\omega_{m} t}{2}}}{2}\\right) \\left(- \\frac{i \\omega_{m} \\left(- i \\sin{\\left(\\phi_{0} \\right)} - \\cos{\\left(\\phi_{0} \\right)}\\right) e^{- i \\phi_{0}} e^{\\frac{i \\omega_{m} t}{2}}}{4} - \\frac{i \\omega_{m} \\left(i \\sin{\\left(\\phi_{0} \\right)} + \\cos{\\left(\\phi_{0} \\right)}\\right) e^{- i \\phi_{0}} e^{- \\frac{i \\omega_{m} t}{2}}}{4}\\right) & \\left(\\left(\\frac{i e^{- i \\phi_{0}} \\sin{\\left(\\phi_{0} \\right)}}{2} + \\frac{e^{- i \\phi_{0}} \\cos{\\left(\\phi_{0} \\right)}}{2}\\right) e^{- \\frac{i \\omega_{m} t}{2}} + \\left(1 - \\frac{i e^{- i \\phi_{0}} \\sin{\\left(\\phi_{0} \\right)}}{2} - \\frac{e^{- i \\phi_{0}} \\cos{\\left(\\phi_{0} \\right)}}{2}\\right) e^{\\frac{i \\omega_{m} t}{2}}\\right) \\left(\\frac{\\Omega \\left(- i \\sin{\\left(\\phi_{0} \\right)} + \\cos{\\left(\\phi_{0} \\right)}\\right) \\left(\\frac{\\left(- i \\sin{\\left(\\phi_{0} \\right)} + \\cos{\\left(\\phi_{0} \\right)}\\right) e^{i \\phi_{0}} e^{\\frac{i \\omega_{m} t}{2}}}{2} - \\frac{\\left(i \\sin{\\left(\\phi_{0} \\right)} - \\cos{\\left(\\phi_{0} \\right)}\\right) e^{i \\phi_{0}} e^{- \\frac{i \\omega_{m} t}{2}}}{2}\\right)}{2} + \\left(\\frac{\\delta}{2} - \\frac{\\epsilon \\omega_{m} \\cos{\\left(\\omega_{m} t - \\theta_{m} \\right)}}{\\Omega}\\right) \\left(\\left(- i \\sin{\\left(\\phi_{0} \\right)} + \\cos{\\left(\\phi_{0} \\right)}\\right) \\left(- \\frac{i e^{i \\phi_{0}} \\sin{\\left(\\phi_{0} \\right)}}{2} + \\frac{e^{i \\phi_{0}} \\cos{\\left(\\phi_{0} \\right)}}{2}\\right) e^{\\frac{i \\omega_{m} t}{2}} + \\left(i \\sin{\\left(\\phi_{0} \\right)} - \\cos{\\left(\\phi_{0} \\right)}\\right) \\left(\\frac{i e^{i \\phi_{0}} \\sin{\\left(\\phi_{0} \\right)}}{2} - \\frac{e^{i \\phi_{0}} \\cos{\\left(\\phi_{0} \\right)}}{2} + 1\\right) e^{- \\frac{i \\omega_{m} t}{2}}\\right)\\right) + \\left(- \\frac{e^{- i \\phi_{0}} e^{\\frac{i \\omega_{m} t}{2}}}{2} + \\frac{e^{- i \\phi_{0}} e^{- \\frac{i \\omega_{m} t}{2}}}{2}\\right) \\left(\\frac{\\Omega \\left(i \\sin{\\left(\\phi_{0} \\right)} + \\cos{\\left(\\phi_{0} \\right)}\\right) \\left(\\left(- i \\sin{\\left(\\phi_{0} \\right)} + \\cos{\\left(\\phi_{0} \\right)}\\right) \\left(- \\frac{i e^{i \\phi_{0}} \\sin{\\left(\\phi_{0} \\right)}}{2} + \\frac{e^{i \\phi_{0}} \\cos{\\left(\\phi_{0} \\right)}}{2}\\right) e^{\\frac{i \\omega_{m} t}{2}} + \\left(i \\sin{\\left(\\phi_{0} \\right)} - \\cos{\\left(\\phi_{0} \\right)}\\right) \\left(\\frac{i e^{i \\phi_{0}} \\sin{\\left(\\phi_{0} \\right)}}{2} - \\frac{e^{i \\phi_{0}} \\cos{\\left(\\phi_{0} \\right)}}{2} + 1\\right) e^{- \\frac{i \\omega_{m} t}{2}}\\right)}{2} + \\left(- \\frac{\\delta}{2} + \\frac{\\epsilon \\omega_{m} \\cos{\\left(\\omega_{m} t - \\theta_{m} \\right)}}{\\Omega}\\right) \\left(\\frac{\\left(- i \\sin{\\left(\\phi_{0} \\right)} + \\cos{\\left(\\phi_{0} \\right)}\\right) e^{i \\phi_{0}} e^{\\frac{i \\omega_{m} t}{2}}}{2} - \\frac{\\left(i \\sin{\\left(\\phi_{0} \\right)} - \\cos{\\left(\\phi_{0} \\right)}\\right) e^{i \\phi_{0}} e^{- \\frac{i \\omega_{m} t}{2}}}{2}\\right)\\right) - i \\left(\\left(- i \\sin{\\left(\\phi_{0} \\right)} + \\cos{\\left(\\phi_{0} \\right)}\\right) \\left(- \\frac{i e^{i \\phi_{0}} \\sin{\\left(\\phi_{0} \\right)}}{2} + \\frac{e^{i \\phi_{0}} \\cos{\\left(\\phi_{0} \\right)}}{2}\\right) e^{\\frac{i \\omega_{m} t}{2}} + \\left(i \\sin{\\left(\\phi_{0} \\right)} - \\cos{\\left(\\phi_{0} \\right)}\\right) \\left(\\frac{i e^{i \\phi_{0}} \\sin{\\left(\\phi_{0} \\right)}}{2} - \\frac{e^{i \\phi_{0}} \\cos{\\left(\\phi_{0} \\right)}}{2} + 1\\right) e^{- \\frac{i \\omega_{m} t}{2}}\\right) \\left(- \\frac{i \\omega_{m} \\left(\\frac{i e^{- i \\phi_{0}} \\sin{\\left(\\phi_{0} \\right)}}{2} + \\frac{e^{- i \\phi_{0}} \\cos{\\left(\\phi_{0} \\right)}}{2}\\right) e^{- \\frac{i \\omega_{m} t}{2}}}{2} + \\frac{i \\omega_{m} \\left(1 - \\frac{i e^{- i \\phi_{0}} \\sin{\\left(\\phi_{0} \\right)}}{2} - \\frac{e^{- i \\phi_{0}} \\cos{\\left(\\phi_{0} \\right)}}{2}\\right) e^{\\frac{i \\omega_{m} t}{2}}}{2}\\right) - i \\left(\\frac{\\left(- i \\sin{\\left(\\phi_{0} \\right)} + \\cos{\\left(\\phi_{0} \\right)}\\right) e^{i \\phi_{0}} e^{\\frac{i \\omega_{m} t}{2}}}{2} - \\frac{\\left(i \\sin{\\left(\\phi_{0} \\right)} - \\cos{\\left(\\phi_{0} \\right)}\\right) e^{i \\phi_{0}} e^{- \\frac{i \\omega_{m} t}{2}}}{2}\\right) \\left(- \\frac{i \\omega_{m} e^{- i \\phi_{0}} e^{\\frac{i \\omega_{m} t}{2}}}{4} - \\frac{i \\omega_{m} e^{- i \\phi_{0}} e^{- \\frac{i \\omega_{m} t}{2}}}{4}\\right)\\\\- i \\left(\\left(- \\frac{i e^{i \\phi_{0}} \\sin{\\left(\\phi_{0} \\right)}}{2} + \\frac{e^{i \\phi_{0}} \\cos{\\left(\\phi_{0} \\right)}}{2}\\right) e^{\\frac{i \\omega_{m} t}{2}} + \\left(\\frac{i e^{i \\phi_{0}} \\sin{\\left(\\phi_{0} \\right)}}{2} - \\frac{e^{i \\phi_{0}} \\cos{\\left(\\phi_{0} \\right)}}{2} + 1\\right) e^{- \\frac{i \\omega_{m} t}{2}}\\right) \\left(\\frac{i \\omega_{m} \\left(- i \\sin{\\left(\\phi_{0} \\right)} - \\cos{\\left(\\phi_{0} \\right)}\\right) \\left(1 - \\frac{i e^{- i \\phi_{0}} \\sin{\\left(\\phi_{0} \\right)}}{2} - \\frac{e^{- i \\phi_{0}} \\cos{\\left(\\phi_{0} \\right)}}{2}\\right) e^{\\frac{i \\omega_{m} t}{2}}}{2} - \\frac{i \\omega_{m} \\left(i \\sin{\\left(\\phi_{0} \\right)} + \\cos{\\left(\\phi_{0} \\right)}\\right) \\left(\\frac{i e^{- i \\phi_{0}} \\sin{\\left(\\phi_{0} \\right)}}{2} + \\frac{e^{- i \\phi_{0}} \\cos{\\left(\\phi_{0} \\right)}}{2}\\right) e^{- \\frac{i \\omega_{m} t}{2}}}{2}\\right) - i \\left(\\frac{e^{i \\phi_{0}} e^{\\frac{i \\omega_{m} t}{2}}}{2} - \\frac{e^{i \\phi_{0}} e^{- \\frac{i \\omega_{m} t}{2}}}{2}\\right) \\left(- \\frac{i \\omega_{m} \\left(- i \\sin{\\left(\\phi_{0} \\right)} - \\cos{\\left(\\phi_{0} \\right)}\\right) e^{- i \\phi_{0}} e^{\\frac{i \\omega_{m} t}{2}}}{4} - \\frac{i \\omega_{m} \\left(i \\sin{\\left(\\phi_{0} \\right)} + \\cos{\\left(\\phi_{0} \\right)}\\right) e^{- i \\phi_{0}} e^{- \\frac{i \\omega_{m} t}{2}}}{4}\\right) + \\left(\\frac{\\Omega \\left(- i \\sin{\\left(\\phi_{0} \\right)} + \\cos{\\left(\\phi_{0} \\right)}\\right) \\left(\\frac{e^{i \\phi_{0}} e^{\\frac{i \\omega_{m} t}{2}}}{2} - \\frac{e^{i \\phi_{0}} e^{- \\frac{i \\omega_{m} t}{2}}}{2}\\right)}{2} + \\left(\\frac{\\delta}{2} - \\frac{\\epsilon \\omega_{m} \\cos{\\left(\\omega_{m} t - \\theta_{m} \\right)}}{\\Omega}\\right) \\left(\\left(- \\frac{i e^{i \\phi_{0}} \\sin{\\left(\\phi_{0} \\right)}}{2} + \\frac{e^{i \\phi_{0}} \\cos{\\left(\\phi_{0} \\right)}}{2}\\right) e^{\\frac{i \\omega_{m} t}{2}} + \\left(\\frac{i e^{i \\phi_{0}} \\sin{\\left(\\phi_{0} \\right)}}{2} - \\frac{e^{i \\phi_{0}} \\cos{\\left(\\phi_{0} \\right)}}{2} + 1\\right) e^{- \\frac{i \\omega_{m} t}{2}}\\right)\\right) \\left(\\left(- i \\sin{\\left(\\phi_{0} \\right)} - \\cos{\\left(\\phi_{0} \\right)}\\right) \\left(1 - \\frac{i e^{- i \\phi_{0}} \\sin{\\left(\\phi_{0} \\right)}}{2} - \\frac{e^{- i \\phi_{0}} \\cos{\\left(\\phi_{0} \\right)}}{2}\\right) e^{\\frac{i \\omega_{m} t}{2}} + \\left(i \\sin{\\left(\\phi_{0} \\right)} + \\cos{\\left(\\phi_{0} \\right)}\\right) \\left(\\frac{i e^{- i \\phi_{0}} \\sin{\\left(\\phi_{0} \\right)}}{2} + \\frac{e^{- i \\phi_{0}} \\cos{\\left(\\phi_{0} \\right)}}{2}\\right) e^{- \\frac{i \\omega_{m} t}{2}}\\right) + \\left(\\frac{\\Omega \\left(i \\sin{\\left(\\phi_{0} \\right)} + \\cos{\\left(\\phi_{0} \\right)}\\right) \\left(\\left(- \\frac{i e^{i \\phi_{0}} \\sin{\\left(\\phi_{0} \\right)}}{2} + \\frac{e^{i \\phi_{0}} \\cos{\\left(\\phi_{0} \\right)}}{2}\\right) e^{\\frac{i \\omega_{m} t}{2}} + \\left(\\frac{i e^{i \\phi_{0}} \\sin{\\left(\\phi_{0} \\right)}}{2} - \\frac{e^{i \\phi_{0}} \\cos{\\left(\\phi_{0} \\right)}}{2} + 1\\right) e^{- \\frac{i \\omega_{m} t}{2}}\\right)}{2} + \\left(- \\frac{\\delta}{2} + \\frac{\\epsilon \\omega_{m} \\cos{\\left(\\omega_{m} t - \\theta_{m} \\right)}}{\\Omega}\\right) \\left(\\frac{e^{i \\phi_{0}} e^{\\frac{i \\omega_{m} t}{2}}}{2} - \\frac{e^{i \\phi_{0}} e^{- \\frac{i \\omega_{m} t}{2}}}{2}\\right)\\right) \\left(- \\frac{\\left(- i \\sin{\\left(\\phi_{0} \\right)} - \\cos{\\left(\\phi_{0} \\right)}\\right) e^{- i \\phi_{0}} e^{\\frac{i \\omega_{m} t}{2}}}{2} + \\frac{\\left(i \\sin{\\left(\\phi_{0} \\right)} + \\cos{\\left(\\phi_{0} \\right)}\\right) e^{- i \\phi_{0}} e^{- \\frac{i \\omega_{m} t}{2}}}{2}\\right) & \\left(\\left(\\frac{i e^{- i \\phi_{0}} \\sin{\\left(\\phi_{0} \\right)}}{2} + \\frac{e^{- i \\phi_{0}} \\cos{\\left(\\phi_{0} \\right)}}{2}\\right) e^{- \\frac{i \\omega_{m} t}{2}} + \\left(1 - \\frac{i e^{- i \\phi_{0}} \\sin{\\left(\\phi_{0} \\right)}}{2} - \\frac{e^{- i \\phi_{0}} \\cos{\\left(\\phi_{0} \\right)}}{2}\\right) e^{\\frac{i \\omega_{m} t}{2}}\\right) \\left(\\frac{\\Omega \\left(- i \\sin{\\left(\\phi_{0} \\right)} + \\cos{\\left(\\phi_{0} \\right)}\\right) \\left(\\frac{e^{i \\phi_{0}} e^{\\frac{i \\omega_{m} t}{2}}}{2} - \\frac{e^{i \\phi_{0}} e^{- \\frac{i \\omega_{m} t}{2}}}{2}\\right)}{2} + \\left(\\frac{\\delta}{2} - \\frac{\\epsilon \\omega_{m} \\cos{\\left(\\omega_{m} t - \\theta_{m} \\right)}}{\\Omega}\\right) \\left(\\left(- \\frac{i e^{i \\phi_{0}} \\sin{\\left(\\phi_{0} \\right)}}{2} + \\frac{e^{i \\phi_{0}} \\cos{\\left(\\phi_{0} \\right)}}{2}\\right) e^{\\frac{i \\omega_{m} t}{2}} + \\left(\\frac{i e^{i \\phi_{0}} \\sin{\\left(\\phi_{0} \\right)}}{2} - \\frac{e^{i \\phi_{0}} \\cos{\\left(\\phi_{0} \\right)}}{2} + 1\\right) e^{- \\frac{i \\omega_{m} t}{2}}\\right)\\right) - i \\left(\\left(- \\frac{i e^{i \\phi_{0}} \\sin{\\left(\\phi_{0} \\right)}}{2} + \\frac{e^{i \\phi_{0}} \\cos{\\left(\\phi_{0} \\right)}}{2}\\right) e^{\\frac{i \\omega_{m} t}{2}} + \\left(\\frac{i e^{i \\phi_{0}} \\sin{\\left(\\phi_{0} \\right)}}{2} - \\frac{e^{i \\phi_{0}} \\cos{\\left(\\phi_{0} \\right)}}{2} + 1\\right) e^{- \\frac{i \\omega_{m} t}{2}}\\right) \\left(- \\frac{i \\omega_{m} \\left(\\frac{i e^{- i \\phi_{0}} \\sin{\\left(\\phi_{0} \\right)}}{2} + \\frac{e^{- i \\phi_{0}} \\cos{\\left(\\phi_{0} \\right)}}{2}\\right) e^{- \\frac{i \\omega_{m} t}{2}}}{2} + \\frac{i \\omega_{m} \\left(1 - \\frac{i e^{- i \\phi_{0}} \\sin{\\left(\\phi_{0} \\right)}}{2} - \\frac{e^{- i \\phi_{0}} \\cos{\\left(\\phi_{0} \\right)}}{2}\\right) e^{\\frac{i \\omega_{m} t}{2}}}{2}\\right) + \\left(- \\frac{e^{- i \\phi_{0}} e^{\\frac{i \\omega_{m} t}{2}}}{2} + \\frac{e^{- i \\phi_{0}} e^{- \\frac{i \\omega_{m} t}{2}}}{2}\\right) \\left(\\frac{\\Omega \\left(i \\sin{\\left(\\phi_{0} \\right)} + \\cos{\\left(\\phi_{0} \\right)}\\right) \\left(\\left(- \\frac{i e^{i \\phi_{0}} \\sin{\\left(\\phi_{0} \\right)}}{2} + \\frac{e^{i \\phi_{0}} \\cos{\\left(\\phi_{0} \\right)}}{2}\\right) e^{\\frac{i \\omega_{m} t}{2}} + \\left(\\frac{i e^{i \\phi_{0}} \\sin{\\left(\\phi_{0} \\right)}}{2} - \\frac{e^{i \\phi_{0}} \\cos{\\left(\\phi_{0} \\right)}}{2} + 1\\right) e^{- \\frac{i \\omega_{m} t}{2}}\\right)}{2} + \\left(- \\frac{\\delta}{2} + \\frac{\\epsilon \\omega_{m} \\cos{\\left(\\omega_{m} t - \\theta_{m} \\right)}}{\\Omega}\\right) \\left(\\frac{e^{i \\phi_{0}} e^{\\frac{i \\omega_{m} t}{2}}}{2} - \\frac{e^{i \\phi_{0}} e^{- \\frac{i \\omega_{m} t}{2}}}{2}\\right)\\right) - i \\left(\\frac{e^{i \\phi_{0}} e^{\\frac{i \\omega_{m} t}{2}}}{2} - \\frac{e^{i \\phi_{0}} e^{- \\frac{i \\omega_{m} t}{2}}}{2}\\right) \\left(- \\frac{i \\omega_{m} e^{- i \\phi_{0}} e^{\\frac{i \\omega_{m} t}{2}}}{4} - \\frac{i \\omega_{m} e^{- i \\phi_{0}} e^{- \\frac{i \\omega_{m} t}{2}}}{4}\\right)\\end{matrix}\\right]$"
      ],
      "text/plain": [
       "Matrix([\n",
       "[(Omega*(-I*sin(phi_0) + cos(phi_0))*((-I*sin(phi_0) + cos(phi_0))*exp(I*phi_0)*exp(I*omega_m*t/2)/2 - (I*sin(phi_0) - cos(phi_0))*exp(I*phi_0)*exp(-I*omega_m*t/2)/2)/2 + (delta/2 - epsilon*omega_m*cos(omega_m*t - theta_m)/Omega)*((-I*sin(phi_0) + cos(phi_0))*(-I*exp(I*phi_0)*sin(phi_0)/2 + exp(I*phi_0)*cos(phi_0)/2)*exp(I*omega_m*t/2) + (I*sin(phi_0) - cos(phi_0))*(I*exp(I*phi_0)*sin(phi_0)/2 - exp(I*phi_0)*cos(phi_0)/2 + 1)*exp(-I*omega_m*t/2)))*((-I*sin(phi_0) - cos(phi_0))*(1 - I*exp(-I*phi_0)*sin(phi_0)/2 - exp(-I*phi_0)*cos(phi_0)/2)*exp(I*omega_m*t/2) + (I*sin(phi_0) + cos(phi_0))*(I*exp(-I*phi_0)*sin(phi_0)/2 + exp(-I*phi_0)*cos(phi_0)/2)*exp(-I*omega_m*t/2)) + (Omega*(I*sin(phi_0) + cos(phi_0))*((-I*sin(phi_0) + cos(phi_0))*(-I*exp(I*phi_0)*sin(phi_0)/2 + exp(I*phi_0)*cos(phi_0)/2)*exp(I*omega_m*t/2) + (I*sin(phi_0) - cos(phi_0))*(I*exp(I*phi_0)*sin(phi_0)/2 - exp(I*phi_0)*cos(phi_0)/2 + 1)*exp(-I*omega_m*t/2))/2 + (-delta/2 + epsilon*omega_m*cos(omega_m*t - theta_m)/Omega)*((-I*sin(phi_0) + cos(phi_0))*exp(I*phi_0)*exp(I*omega_m*t/2)/2 - (I*sin(phi_0) - cos(phi_0))*exp(I*phi_0)*exp(-I*omega_m*t/2)/2))*(-(-I*sin(phi_0) - cos(phi_0))*exp(-I*phi_0)*exp(I*omega_m*t/2)/2 + (I*sin(phi_0) + cos(phi_0))*exp(-I*phi_0)*exp(-I*omega_m*t/2)/2) - I*((-I*sin(phi_0) + cos(phi_0))*(-I*exp(I*phi_0)*sin(phi_0)/2 + exp(I*phi_0)*cos(phi_0)/2)*exp(I*omega_m*t/2) + (I*sin(phi_0) - cos(phi_0))*(I*exp(I*phi_0)*sin(phi_0)/2 - exp(I*phi_0)*cos(phi_0)/2 + 1)*exp(-I*omega_m*t/2))*(I*omega_m*(-I*sin(phi_0) - cos(phi_0))*(1 - I*exp(-I*phi_0)*sin(phi_0)/2 - exp(-I*phi_0)*cos(phi_0)/2)*exp(I*omega_m*t/2)/2 - I*omega_m*(I*sin(phi_0) + cos(phi_0))*(I*exp(-I*phi_0)*sin(phi_0)/2 + exp(-I*phi_0)*cos(phi_0)/2)*exp(-I*omega_m*t/2)/2) - I*((-I*sin(phi_0) + cos(phi_0))*exp(I*phi_0)*exp(I*omega_m*t/2)/2 - (I*sin(phi_0) - cos(phi_0))*exp(I*phi_0)*exp(-I*omega_m*t/2)/2)*(-I*omega_m*(-I*sin(phi_0) - cos(phi_0))*exp(-I*phi_0)*exp(I*omega_m*t/2)/4 - I*omega_m*(I*sin(phi_0) + cos(phi_0))*exp(-I*phi_0)*exp(-I*omega_m*t/2)/4), ((I*exp(-I*phi_0)*sin(phi_0)/2 + exp(-I*phi_0)*cos(phi_0)/2)*exp(-I*omega_m*t/2) + (1 - I*exp(-I*phi_0)*sin(phi_0)/2 - exp(-I*phi_0)*cos(phi_0)/2)*exp(I*omega_m*t/2))*(Omega*(-I*sin(phi_0) + cos(phi_0))*((-I*sin(phi_0) + cos(phi_0))*exp(I*phi_0)*exp(I*omega_m*t/2)/2 - (I*sin(phi_0) - cos(phi_0))*exp(I*phi_0)*exp(-I*omega_m*t/2)/2)/2 + (delta/2 - epsilon*omega_m*cos(omega_m*t - theta_m)/Omega)*((-I*sin(phi_0) + cos(phi_0))*(-I*exp(I*phi_0)*sin(phi_0)/2 + exp(I*phi_0)*cos(phi_0)/2)*exp(I*omega_m*t/2) + (I*sin(phi_0) - cos(phi_0))*(I*exp(I*phi_0)*sin(phi_0)/2 - exp(I*phi_0)*cos(phi_0)/2 + 1)*exp(-I*omega_m*t/2))) + (-exp(-I*phi_0)*exp(I*omega_m*t/2)/2 + exp(-I*phi_0)*exp(-I*omega_m*t/2)/2)*(Omega*(I*sin(phi_0) + cos(phi_0))*((-I*sin(phi_0) + cos(phi_0))*(-I*exp(I*phi_0)*sin(phi_0)/2 + exp(I*phi_0)*cos(phi_0)/2)*exp(I*omega_m*t/2) + (I*sin(phi_0) - cos(phi_0))*(I*exp(I*phi_0)*sin(phi_0)/2 - exp(I*phi_0)*cos(phi_0)/2 + 1)*exp(-I*omega_m*t/2))/2 + (-delta/2 + epsilon*omega_m*cos(omega_m*t - theta_m)/Omega)*((-I*sin(phi_0) + cos(phi_0))*exp(I*phi_0)*exp(I*omega_m*t/2)/2 - (I*sin(phi_0) - cos(phi_0))*exp(I*phi_0)*exp(-I*omega_m*t/2)/2)) - I*((-I*sin(phi_0) + cos(phi_0))*(-I*exp(I*phi_0)*sin(phi_0)/2 + exp(I*phi_0)*cos(phi_0)/2)*exp(I*omega_m*t/2) + (I*sin(phi_0) - cos(phi_0))*(I*exp(I*phi_0)*sin(phi_0)/2 - exp(I*phi_0)*cos(phi_0)/2 + 1)*exp(-I*omega_m*t/2))*(-I*omega_m*(I*exp(-I*phi_0)*sin(phi_0)/2 + exp(-I*phi_0)*cos(phi_0)/2)*exp(-I*omega_m*t/2)/2 + I*omega_m*(1 - I*exp(-I*phi_0)*sin(phi_0)/2 - exp(-I*phi_0)*cos(phi_0)/2)*exp(I*omega_m*t/2)/2) - I*((-I*sin(phi_0) + cos(phi_0))*exp(I*phi_0)*exp(I*omega_m*t/2)/2 - (I*sin(phi_0) - cos(phi_0))*exp(I*phi_0)*exp(-I*omega_m*t/2)/2)*(-I*omega_m*exp(-I*phi_0)*exp(I*omega_m*t/2)/4 - I*omega_m*exp(-I*phi_0)*exp(-I*omega_m*t/2)/4)],\n",
       "[                                                                                                                                                                                                                                                                                                                                                     -I*((-I*exp(I*phi_0)*sin(phi_0)/2 + exp(I*phi_0)*cos(phi_0)/2)*exp(I*omega_m*t/2) + (I*exp(I*phi_0)*sin(phi_0)/2 - exp(I*phi_0)*cos(phi_0)/2 + 1)*exp(-I*omega_m*t/2))*(I*omega_m*(-I*sin(phi_0) - cos(phi_0))*(1 - I*exp(-I*phi_0)*sin(phi_0)/2 - exp(-I*phi_0)*cos(phi_0)/2)*exp(I*omega_m*t/2)/2 - I*omega_m*(I*sin(phi_0) + cos(phi_0))*(I*exp(-I*phi_0)*sin(phi_0)/2 + exp(-I*phi_0)*cos(phi_0)/2)*exp(-I*omega_m*t/2)/2) - I*(exp(I*phi_0)*exp(I*omega_m*t/2)/2 - exp(I*phi_0)*exp(-I*omega_m*t/2)/2)*(-I*omega_m*(-I*sin(phi_0) - cos(phi_0))*exp(-I*phi_0)*exp(I*omega_m*t/2)/4 - I*omega_m*(I*sin(phi_0) + cos(phi_0))*exp(-I*phi_0)*exp(-I*omega_m*t/2)/4) + (Omega*(-I*sin(phi_0) + cos(phi_0))*(exp(I*phi_0)*exp(I*omega_m*t/2)/2 - exp(I*phi_0)*exp(-I*omega_m*t/2)/2)/2 + (delta/2 - epsilon*omega_m*cos(omega_m*t - theta_m)/Omega)*((-I*exp(I*phi_0)*sin(phi_0)/2 + exp(I*phi_0)*cos(phi_0)/2)*exp(I*omega_m*t/2) + (I*exp(I*phi_0)*sin(phi_0)/2 - exp(I*phi_0)*cos(phi_0)/2 + 1)*exp(-I*omega_m*t/2)))*((-I*sin(phi_0) - cos(phi_0))*(1 - I*exp(-I*phi_0)*sin(phi_0)/2 - exp(-I*phi_0)*cos(phi_0)/2)*exp(I*omega_m*t/2) + (I*sin(phi_0) + cos(phi_0))*(I*exp(-I*phi_0)*sin(phi_0)/2 + exp(-I*phi_0)*cos(phi_0)/2)*exp(-I*omega_m*t/2)) + (Omega*(I*sin(phi_0) + cos(phi_0))*((-I*exp(I*phi_0)*sin(phi_0)/2 + exp(I*phi_0)*cos(phi_0)/2)*exp(I*omega_m*t/2) + (I*exp(I*phi_0)*sin(phi_0)/2 - exp(I*phi_0)*cos(phi_0)/2 + 1)*exp(-I*omega_m*t/2))/2 + (-delta/2 + epsilon*omega_m*cos(omega_m*t - theta_m)/Omega)*(exp(I*phi_0)*exp(I*omega_m*t/2)/2 - exp(I*phi_0)*exp(-I*omega_m*t/2)/2))*(-(-I*sin(phi_0) - cos(phi_0))*exp(-I*phi_0)*exp(I*omega_m*t/2)/2 + (I*sin(phi_0) + cos(phi_0))*exp(-I*phi_0)*exp(-I*omega_m*t/2)/2),                                                                                                                                                                                                                                                                                                                                                       ((I*exp(-I*phi_0)*sin(phi_0)/2 + exp(-I*phi_0)*cos(phi_0)/2)*exp(-I*omega_m*t/2) + (1 - I*exp(-I*phi_0)*sin(phi_0)/2 - exp(-I*phi_0)*cos(phi_0)/2)*exp(I*omega_m*t/2))*(Omega*(-I*sin(phi_0) + cos(phi_0))*(exp(I*phi_0)*exp(I*omega_m*t/2)/2 - exp(I*phi_0)*exp(-I*omega_m*t/2)/2)/2 + (delta/2 - epsilon*omega_m*cos(omega_m*t - theta_m)/Omega)*((-I*exp(I*phi_0)*sin(phi_0)/2 + exp(I*phi_0)*cos(phi_0)/2)*exp(I*omega_m*t/2) + (I*exp(I*phi_0)*sin(phi_0)/2 - exp(I*phi_0)*cos(phi_0)/2 + 1)*exp(-I*omega_m*t/2))) - I*((-I*exp(I*phi_0)*sin(phi_0)/2 + exp(I*phi_0)*cos(phi_0)/2)*exp(I*omega_m*t/2) + (I*exp(I*phi_0)*sin(phi_0)/2 - exp(I*phi_0)*cos(phi_0)/2 + 1)*exp(-I*omega_m*t/2))*(-I*omega_m*(I*exp(-I*phi_0)*sin(phi_0)/2 + exp(-I*phi_0)*cos(phi_0)/2)*exp(-I*omega_m*t/2)/2 + I*omega_m*(1 - I*exp(-I*phi_0)*sin(phi_0)/2 - exp(-I*phi_0)*cos(phi_0)/2)*exp(I*omega_m*t/2)/2) + (-exp(-I*phi_0)*exp(I*omega_m*t/2)/2 + exp(-I*phi_0)*exp(-I*omega_m*t/2)/2)*(Omega*(I*sin(phi_0) + cos(phi_0))*((-I*exp(I*phi_0)*sin(phi_0)/2 + exp(I*phi_0)*cos(phi_0)/2)*exp(I*omega_m*t/2) + (I*exp(I*phi_0)*sin(phi_0)/2 - exp(I*phi_0)*cos(phi_0)/2 + 1)*exp(-I*omega_m*t/2))/2 + (-delta/2 + epsilon*omega_m*cos(omega_m*t - theta_m)/Omega)*(exp(I*phi_0)*exp(I*omega_m*t/2)/2 - exp(I*phi_0)*exp(-I*omega_m*t/2)/2)) - I*(exp(I*phi_0)*exp(I*omega_m*t/2)/2 - exp(I*phi_0)*exp(-I*omega_m*t/2)/2)*(-I*omega_m*exp(-I*phi_0)*exp(I*omega_m*t/2)/4 - I*omega_m*exp(-I*phi_0)*exp(-I*omega_m*t/2)/4)]])"
      ]
     },
     "execution_count": 60,
     "metadata": {},
     "output_type": "execute_result"
    }
   ],
   "source": [
    "# Simplify Hamiltonian by removing fast oscillating terms - RWA\n",
    "# H_transformed = H_transformed.subs(sp.exp( 2* sp.I * Omega * t), 0)\n",
    "# H_transformed = H_transformed.subs(sp.exp(- 2* sp.I * Omega * t), 0)\n",
    "# H_transformed"
   ]
  },
  {
   "cell_type": "code",
   "execution_count": 61,
   "id": "1974a48d",
   "metadata": {},
   "outputs": [
    {
     "ename": "KeyboardInterrupt",
     "evalue": "",
     "output_type": "error",
     "traceback": [
      "\u001b[0;31m---------------------------------------------------------------------------\u001b[0m",
      "\u001b[0;31mKeyboardInterrupt\u001b[0m                         Traceback (most recent call last)",
      "Cell \u001b[0;32mIn[61], line 1\u001b[0m\n\u001b[0;32m----> 1\u001b[0m \u001b[43mmatrix_to_pauli_basis\u001b[49m\u001b[43m(\u001b[49m\u001b[43mH_transformed\u001b[49m\u001b[43m)\u001b[49m\n",
      "Cell \u001b[0;32mIn[32], line 31\u001b[0m, in \u001b[0;36mmatrix_to_pauli_basis\u001b[0;34m(H)\u001b[0m\n\u001b[1;32m     27\u001b[0m sig_sym_x, sig_sym_y, sig_sym_z \u001b[38;5;241m=\u001b[39m sp\u001b[38;5;241m.\u001b[39msymbols(\u001b[38;5;124m'\u001b[39m\u001b[38;5;124msigma_x sigma_y sigma_z\u001b[39m\u001b[38;5;124m'\u001b[39m, real\u001b[38;5;241m=\u001b[39m\u001b[38;5;28;01mTrue\u001b[39;00m)\n\u001b[1;32m     29\u001b[0m \u001b[38;5;66;03m# Compute the Pauli basis expression\u001b[39;00m\n\u001b[1;32m     30\u001b[0m pauli_expression \u001b[38;5;241m=\u001b[39m sp\u001b[38;5;241m.\u001b[39mRational(\u001b[38;5;241m1\u001b[39m, \u001b[38;5;241m2\u001b[39m) \u001b[38;5;241m*\u001b[39m (\n\u001b[0;32m---> 31\u001b[0m     \u001b[43msp\u001b[49m\u001b[38;5;241;43m.\u001b[39;49m\u001b[43msimplify\u001b[49m\u001b[43m(\u001b[49m\u001b[43msp\u001b[49m\u001b[38;5;241;43m.\u001b[39;49m\u001b[43mtrace\u001b[49m\u001b[43m(\u001b[49m\u001b[43mH\u001b[49m\u001b[38;5;241;43m.\u001b[39;49m\u001b[43mH\u001b[49m\u001b[43m \u001b[49m\u001b[38;5;241;43m*\u001b[39;49m\u001b[43m \u001b[49m\u001b[43msigma_z\u001b[49m\u001b[43m)\u001b[49m\u001b[43m)\u001b[49m \u001b[38;5;241m*\u001b[39m sig_sym_z \u001b[38;5;241m+\u001b[39m\n\u001b[1;32m     32\u001b[0m     sp\u001b[38;5;241m.\u001b[39msimplify(sp\u001b[38;5;241m.\u001b[39mtrace(H\u001b[38;5;241m.\u001b[39mH \u001b[38;5;241m*\u001b[39m sigma_x)) \u001b[38;5;241m*\u001b[39m sig_sym_x \u001b[38;5;241m+\u001b[39m\n\u001b[1;32m     33\u001b[0m     sp\u001b[38;5;241m.\u001b[39msimplify(sp\u001b[38;5;241m.\u001b[39mtrace(H\u001b[38;5;241m.\u001b[39mH \u001b[38;5;241m*\u001b[39m sigma_y)) \u001b[38;5;241m*\u001b[39m sig_sym_y\n\u001b[1;32m     34\u001b[0m )\n\u001b[1;32m     36\u001b[0m \u001b[38;5;28;01mreturn\u001b[39;00m pauli_expression\n",
      "File \u001b[0;32m/Library/Frameworks/Python.framework/Versions/3.13/lib/python3.13/site-packages/sympy/simplify/simplify.py:699\u001b[0m, in \u001b[0;36msimplify\u001b[0;34m(expr, ratio, measure, rational, inverse, doit, **kwargs)\u001b[0m\n\u001b[1;32m    696\u001b[0m     expr \u001b[38;5;241m=\u001b[39m besselsimp(expr)\n\u001b[1;32m    698\u001b[0m \u001b[38;5;28;01mif\u001b[39;00m expr\u001b[38;5;241m.\u001b[39mhas(TrigonometricFunction, HyperbolicFunction):\n\u001b[0;32m--> 699\u001b[0m     expr \u001b[38;5;241m=\u001b[39m \u001b[43mtrigsimp\u001b[49m\u001b[43m(\u001b[49m\u001b[43mexpr\u001b[49m\u001b[43m,\u001b[49m\u001b[43m \u001b[49m\u001b[43mdeep\u001b[49m\u001b[38;5;241;43m=\u001b[39;49m\u001b[38;5;28;43;01mTrue\u001b[39;49;00m\u001b[43m)\u001b[49m\n\u001b[1;32m    701\u001b[0m \u001b[38;5;28;01mif\u001b[39;00m expr\u001b[38;5;241m.\u001b[39mhas(log):\n\u001b[1;32m    702\u001b[0m     expr \u001b[38;5;241m=\u001b[39m shorter(expand_log(expr, deep\u001b[38;5;241m=\u001b[39m\u001b[38;5;28;01mTrue\u001b[39;00m), logcombine(expr))\n",
      "File \u001b[0;32m/Library/Frameworks/Python.framework/Versions/3.13/lib/python3.13/site-packages/sympy/simplify/trigsimp.py:565\u001b[0m, in \u001b[0;36mtrigsimp\u001b[0;34m(expr, inverse, **opts)\u001b[0m\n\u001b[1;32m    554\u001b[0m     \u001b[38;5;28;01mreturn\u001b[39;00m trigsimp_groebner(new, \u001b[38;5;241m*\u001b[39m\u001b[38;5;241m*\u001b[39mopts)\n\u001b[1;32m    556\u001b[0m trigsimpfunc \u001b[38;5;241m=\u001b[39m {\n\u001b[1;32m    557\u001b[0m     \u001b[38;5;124m'\u001b[39m\u001b[38;5;124mfu\u001b[39m\u001b[38;5;124m'\u001b[39m: (\u001b[38;5;28;01mlambda\u001b[39;00m x: fu(x, \u001b[38;5;241m*\u001b[39m\u001b[38;5;241m*\u001b[39mopts)),\n\u001b[1;32m    558\u001b[0m     \u001b[38;5;124m'\u001b[39m\u001b[38;5;124mmatching\u001b[39m\u001b[38;5;124m'\u001b[39m: (\u001b[38;5;28;01mlambda\u001b[39;00m x: futrig(x)),\n\u001b[0;32m   (...)\u001b[0m\n\u001b[1;32m    562\u001b[0m     \u001b[38;5;124m'\u001b[39m\u001b[38;5;124mold\u001b[39m\u001b[38;5;124m'\u001b[39m: \u001b[38;5;28;01mlambda\u001b[39;00m x: trigsimp_old(x, \u001b[38;5;241m*\u001b[39m\u001b[38;5;241m*\u001b[39mopts),\n\u001b[1;32m    563\u001b[0m                }[method]\n\u001b[0;32m--> 565\u001b[0m expr_simplified \u001b[38;5;241m=\u001b[39m \u001b[43mtrigsimpfunc\u001b[49m\u001b[43m(\u001b[49m\u001b[43mexpr\u001b[49m\u001b[43m)\u001b[49m\n\u001b[1;32m    566\u001b[0m \u001b[38;5;28;01mif\u001b[39;00m inverse:\n\u001b[1;32m    567\u001b[0m     expr_simplified \u001b[38;5;241m=\u001b[39m _trigsimp_inverse(expr_simplified)\n",
      "File \u001b[0;32m/Library/Frameworks/Python.framework/Versions/3.13/lib/python3.13/site-packages/sympy/simplify/trigsimp.py:558\u001b[0m, in \u001b[0;36mtrigsimp.<locals>.<lambda>\u001b[0;34m(x)\u001b[0m\n\u001b[1;32m    553\u001b[0m         \u001b[38;5;28;01mreturn\u001b[39;00m new\n\u001b[1;32m    554\u001b[0m     \u001b[38;5;28;01mreturn\u001b[39;00m trigsimp_groebner(new, \u001b[38;5;241m*\u001b[39m\u001b[38;5;241m*\u001b[39mopts)\n\u001b[1;32m    556\u001b[0m trigsimpfunc \u001b[38;5;241m=\u001b[39m {\n\u001b[1;32m    557\u001b[0m     \u001b[38;5;124m'\u001b[39m\u001b[38;5;124mfu\u001b[39m\u001b[38;5;124m'\u001b[39m: (\u001b[38;5;28;01mlambda\u001b[39;00m x: fu(x, \u001b[38;5;241m*\u001b[39m\u001b[38;5;241m*\u001b[39mopts)),\n\u001b[0;32m--> 558\u001b[0m     \u001b[38;5;124m'\u001b[39m\u001b[38;5;124mmatching\u001b[39m\u001b[38;5;124m'\u001b[39m: (\u001b[38;5;28;01mlambda\u001b[39;00m x: \u001b[43mfutrig\u001b[49m\u001b[43m(\u001b[49m\u001b[43mx\u001b[49m\u001b[43m)\u001b[49m),\n\u001b[1;32m    559\u001b[0m     \u001b[38;5;124m'\u001b[39m\u001b[38;5;124mgroebner\u001b[39m\u001b[38;5;124m'\u001b[39m: (\u001b[38;5;28;01mlambda\u001b[39;00m x: groebnersimp(x, \u001b[38;5;241m*\u001b[39m\u001b[38;5;241m*\u001b[39mopts)),\n\u001b[1;32m    560\u001b[0m     \u001b[38;5;124m'\u001b[39m\u001b[38;5;124mcombined\u001b[39m\u001b[38;5;124m'\u001b[39m: (\u001b[38;5;28;01mlambda\u001b[39;00m x: futrig(groebnersimp(x,\n\u001b[1;32m    561\u001b[0m                            polynomial\u001b[38;5;241m=\u001b[39m\u001b[38;5;28;01mTrue\u001b[39;00m, hints\u001b[38;5;241m=\u001b[39m[\u001b[38;5;241m2\u001b[39m, tan]))),\n\u001b[1;32m    562\u001b[0m     \u001b[38;5;124m'\u001b[39m\u001b[38;5;124mold\u001b[39m\u001b[38;5;124m'\u001b[39m: \u001b[38;5;28;01mlambda\u001b[39;00m x: trigsimp_old(x, \u001b[38;5;241m*\u001b[39m\u001b[38;5;241m*\u001b[39mopts),\n\u001b[1;32m    563\u001b[0m                }[method]\n\u001b[1;32m    565\u001b[0m expr_simplified \u001b[38;5;241m=\u001b[39m trigsimpfunc(expr)\n\u001b[1;32m    566\u001b[0m \u001b[38;5;28;01mif\u001b[39;00m inverse:\n",
      "File \u001b[0;32m/Library/Frameworks/Python.framework/Versions/3.13/lib/python3.13/site-packages/sympy/simplify/trigsimp.py:1159\u001b[0m, in \u001b[0;36mfutrig\u001b[0;34m(e, hyper, **kwargs)\u001b[0m\n\u001b[1;32m   1156\u001b[0m     \u001b[38;5;28;01mreturn\u001b[39;00m e\n\u001b[1;32m   1158\u001b[0m old \u001b[38;5;241m=\u001b[39m e\n\u001b[0;32m-> 1159\u001b[0m e \u001b[38;5;241m=\u001b[39m \u001b[43mbottom_up\u001b[49m\u001b[43m(\u001b[49m\u001b[43me\u001b[49m\u001b[43m,\u001b[49m\u001b[43m \u001b[49m\u001b[43m_futrig\u001b[49m\u001b[43m)\u001b[49m\n\u001b[1;32m   1161\u001b[0m \u001b[38;5;28;01mif\u001b[39;00m hyper \u001b[38;5;129;01mand\u001b[39;00m e\u001b[38;5;241m.\u001b[39mhas(HyperbolicFunction):\n\u001b[1;32m   1162\u001b[0m     e, f \u001b[38;5;241m=\u001b[39m hyper_as_trig(e)\n",
      "File \u001b[0;32m/Library/Frameworks/Python.framework/Versions/3.13/lib/python3.13/site-packages/sympy/core/traversal.py:230\u001b[0m, in \u001b[0;36mbottom_up\u001b[0;34m(rv, F, atoms, nonbasic)\u001b[0m\n\u001b[1;32m    228\u001b[0m \u001b[38;5;28;01mif\u001b[39;00m args \u001b[38;5;129;01mis\u001b[39;00m \u001b[38;5;129;01mnot\u001b[39;00m \u001b[38;5;28;01mNone\u001b[39;00m:\n\u001b[1;32m    229\u001b[0m     \u001b[38;5;28;01mif\u001b[39;00m args:\n\u001b[0;32m--> 230\u001b[0m         args \u001b[38;5;241m=\u001b[39m \u001b[38;5;28mtuple\u001b[39m([\u001b[43mbottom_up\u001b[49m\u001b[43m(\u001b[49m\u001b[43ma\u001b[49m\u001b[43m,\u001b[49m\u001b[43m \u001b[49m\u001b[43mF\u001b[49m\u001b[43m,\u001b[49m\u001b[43m \u001b[49m\u001b[43matoms\u001b[49m\u001b[43m,\u001b[49m\u001b[43m \u001b[49m\u001b[43mnonbasic\u001b[49m\u001b[43m)\u001b[49m \u001b[38;5;28;01mfor\u001b[39;00m a \u001b[38;5;129;01min\u001b[39;00m args])\n\u001b[1;32m    231\u001b[0m         \u001b[38;5;28;01mif\u001b[39;00m args \u001b[38;5;241m!=\u001b[39m rv\u001b[38;5;241m.\u001b[39margs:\n\u001b[1;32m    232\u001b[0m             rv \u001b[38;5;241m=\u001b[39m rv\u001b[38;5;241m.\u001b[39mfunc(\u001b[38;5;241m*\u001b[39margs)\n",
      "File \u001b[0;32m/Library/Frameworks/Python.framework/Versions/3.13/lib/python3.13/site-packages/sympy/core/traversal.py:230\u001b[0m, in \u001b[0;36mbottom_up\u001b[0;34m(rv, F, atoms, nonbasic)\u001b[0m\n\u001b[1;32m    228\u001b[0m \u001b[38;5;28;01mif\u001b[39;00m args \u001b[38;5;129;01mis\u001b[39;00m \u001b[38;5;129;01mnot\u001b[39;00m \u001b[38;5;28;01mNone\u001b[39;00m:\n\u001b[1;32m    229\u001b[0m     \u001b[38;5;28;01mif\u001b[39;00m args:\n\u001b[0;32m--> 230\u001b[0m         args \u001b[38;5;241m=\u001b[39m \u001b[38;5;28mtuple\u001b[39m([\u001b[43mbottom_up\u001b[49m\u001b[43m(\u001b[49m\u001b[43ma\u001b[49m\u001b[43m,\u001b[49m\u001b[43m \u001b[49m\u001b[43mF\u001b[49m\u001b[43m,\u001b[49m\u001b[43m \u001b[49m\u001b[43matoms\u001b[49m\u001b[43m,\u001b[49m\u001b[43m \u001b[49m\u001b[43mnonbasic\u001b[49m\u001b[43m)\u001b[49m \u001b[38;5;28;01mfor\u001b[39;00m a \u001b[38;5;129;01min\u001b[39;00m args])\n\u001b[1;32m    231\u001b[0m         \u001b[38;5;28;01mif\u001b[39;00m args \u001b[38;5;241m!=\u001b[39m rv\u001b[38;5;241m.\u001b[39margs:\n\u001b[1;32m    232\u001b[0m             rv \u001b[38;5;241m=\u001b[39m rv\u001b[38;5;241m.\u001b[39mfunc(\u001b[38;5;241m*\u001b[39margs)\n",
      "File \u001b[0;32m/Library/Frameworks/Python.framework/Versions/3.13/lib/python3.13/site-packages/sympy/core/traversal.py:230\u001b[0m, in \u001b[0;36mbottom_up\u001b[0;34m(rv, F, atoms, nonbasic)\u001b[0m\n\u001b[1;32m    228\u001b[0m \u001b[38;5;28;01mif\u001b[39;00m args \u001b[38;5;129;01mis\u001b[39;00m \u001b[38;5;129;01mnot\u001b[39;00m \u001b[38;5;28;01mNone\u001b[39;00m:\n\u001b[1;32m    229\u001b[0m     \u001b[38;5;28;01mif\u001b[39;00m args:\n\u001b[0;32m--> 230\u001b[0m         args \u001b[38;5;241m=\u001b[39m \u001b[38;5;28mtuple\u001b[39m([\u001b[43mbottom_up\u001b[49m\u001b[43m(\u001b[49m\u001b[43ma\u001b[49m\u001b[43m,\u001b[49m\u001b[43m \u001b[49m\u001b[43mF\u001b[49m\u001b[43m,\u001b[49m\u001b[43m \u001b[49m\u001b[43matoms\u001b[49m\u001b[43m,\u001b[49m\u001b[43m \u001b[49m\u001b[43mnonbasic\u001b[49m\u001b[43m)\u001b[49m \u001b[38;5;28;01mfor\u001b[39;00m a \u001b[38;5;129;01min\u001b[39;00m args])\n\u001b[1;32m    231\u001b[0m         \u001b[38;5;28;01mif\u001b[39;00m args \u001b[38;5;241m!=\u001b[39m rv\u001b[38;5;241m.\u001b[39margs:\n\u001b[1;32m    232\u001b[0m             rv \u001b[38;5;241m=\u001b[39m rv\u001b[38;5;241m.\u001b[39mfunc(\u001b[38;5;241m*\u001b[39margs)\n",
      "File \u001b[0;32m/Library/Frameworks/Python.framework/Versions/3.13/lib/python3.13/site-packages/sympy/core/traversal.py:233\u001b[0m, in \u001b[0;36mbottom_up\u001b[0;34m(rv, F, atoms, nonbasic)\u001b[0m\n\u001b[1;32m    231\u001b[0m     \u001b[38;5;28;01mif\u001b[39;00m args \u001b[38;5;241m!=\u001b[39m rv\u001b[38;5;241m.\u001b[39margs:\n\u001b[1;32m    232\u001b[0m         rv \u001b[38;5;241m=\u001b[39m rv\u001b[38;5;241m.\u001b[39mfunc(\u001b[38;5;241m*\u001b[39margs)\n\u001b[0;32m--> 233\u001b[0m     rv \u001b[38;5;241m=\u001b[39m \u001b[43mF\u001b[49m\u001b[43m(\u001b[49m\u001b[43mrv\u001b[49m\u001b[43m)\u001b[49m\n\u001b[1;32m    234\u001b[0m \u001b[38;5;28;01melif\u001b[39;00m atoms:\n\u001b[1;32m    235\u001b[0m     rv \u001b[38;5;241m=\u001b[39m F(rv)\n",
      "File \u001b[0;32m/Library/Frameworks/Python.framework/Versions/3.13/lib/python3.13/site-packages/sympy/simplify/trigsimp.py:1226\u001b[0m, in \u001b[0;36m_futrig\u001b[0;34m(e)\u001b[0m\n\u001b[1;32m   1187\u001b[0m trigs \u001b[38;5;241m=\u001b[39m \u001b[38;5;28;01mlambda\u001b[39;00m x: x\u001b[38;5;241m.\u001b[39mhas(TrigonometricFunction)\n\u001b[1;32m   1189\u001b[0m tree \u001b[38;5;241m=\u001b[39m [identity,\n\u001b[1;32m   1190\u001b[0m     (\n\u001b[1;32m   1191\u001b[0m     TR3,  \u001b[38;5;66;03m# canonical angles\u001b[39;00m\n\u001b[0;32m   (...)\u001b[0m\n\u001b[1;32m   1224\u001b[0m         factor_terms, TR12(x), trigs)],  \u001b[38;5;66;03m# expand tan of sum\u001b[39;00m\n\u001b[1;32m   1225\u001b[0m     )]\n\u001b[0;32m-> 1226\u001b[0m e \u001b[38;5;241m=\u001b[39m \u001b[43mgreedy\u001b[49m\u001b[43m(\u001b[49m\u001b[43mtree\u001b[49m\u001b[43m,\u001b[49m\u001b[43m \u001b[49m\u001b[43mobjective\u001b[49m\u001b[38;5;241;43m=\u001b[39;49m\u001b[43mLops\u001b[49m\u001b[43m)\u001b[49m\u001b[43m(\u001b[49m\u001b[43me\u001b[49m\u001b[43m)\u001b[49m\n\u001b[1;32m   1228\u001b[0m \u001b[38;5;28;01mif\u001b[39;00m coeff \u001b[38;5;129;01mis\u001b[39;00m \u001b[38;5;129;01mnot\u001b[39;00m \u001b[38;5;28;01mNone\u001b[39;00m:\n\u001b[1;32m   1229\u001b[0m     e \u001b[38;5;241m=\u001b[39m coeff \u001b[38;5;241m*\u001b[39m e\n",
      "File \u001b[0;32m/Library/Frameworks/Python.framework/Versions/3.13/lib/python3.13/site-packages/sympy/strategies/core.py:150\u001b[0m, in \u001b[0;36mminimize.<locals>.minrule\u001b[0;34m(expr)\u001b[0m\n\u001b[1;32m    149\u001b[0m \u001b[38;5;28;01mdef\u001b[39;00m\u001b[38;5;250m \u001b[39m\u001b[38;5;21mminrule\u001b[39m(expr: _S) \u001b[38;5;241m-\u001b[39m\u001b[38;5;241m>\u001b[39m _T:\n\u001b[0;32m--> 150\u001b[0m     \u001b[38;5;28;01mreturn\u001b[39;00m \u001b[38;5;28mmin\u001b[39m([\u001b[43mrule\u001b[49m\u001b[43m(\u001b[49m\u001b[43mexpr\u001b[49m\u001b[43m)\u001b[49m \u001b[38;5;28;01mfor\u001b[39;00m rule \u001b[38;5;129;01min\u001b[39;00m rules], key\u001b[38;5;241m=\u001b[39mobjective)\n",
      "File \u001b[0;32m/Library/Frameworks/Python.framework/Versions/3.13/lib/python3.13/site-packages/sympy/strategies/core.py:64\u001b[0m, in \u001b[0;36mchain.<locals>.chain_rl\u001b[0;34m(expr)\u001b[0m\n\u001b[1;32m     62\u001b[0m \u001b[38;5;28;01mdef\u001b[39;00m\u001b[38;5;250m \u001b[39m\u001b[38;5;21mchain_rl\u001b[39m(expr: _T) \u001b[38;5;241m-\u001b[39m\u001b[38;5;241m>\u001b[39m _T:\n\u001b[1;32m     63\u001b[0m     \u001b[38;5;28;01mfor\u001b[39;00m rule \u001b[38;5;129;01min\u001b[39;00m rules:\n\u001b[0;32m---> 64\u001b[0m         expr \u001b[38;5;241m=\u001b[39m \u001b[43mrule\u001b[49m\u001b[43m(\u001b[49m\u001b[43mexpr\u001b[49m\u001b[43m)\u001b[49m\n\u001b[1;32m     65\u001b[0m     \u001b[38;5;28;01mreturn\u001b[39;00m expr\n",
      "File \u001b[0;32m/Library/Frameworks/Python.framework/Versions/3.13/lib/python3.13/site-packages/sympy/simplify/trigsimp.py:1194\u001b[0m, in \u001b[0;36m_futrig.<locals>.<lambda>\u001b[0;34m(x)\u001b[0m\n\u001b[1;32m   1186\u001b[0m Lops \u001b[38;5;241m=\u001b[39m \u001b[38;5;28;01mlambda\u001b[39;00m x: (L(x), x\u001b[38;5;241m.\u001b[39mcount_ops(), _nodes(x), \u001b[38;5;28mlen\u001b[39m(x\u001b[38;5;241m.\u001b[39margs), x\u001b[38;5;241m.\u001b[39mis_Add)\n\u001b[1;32m   1187\u001b[0m trigs \u001b[38;5;241m=\u001b[39m \u001b[38;5;28;01mlambda\u001b[39;00m x: x\u001b[38;5;241m.\u001b[39mhas(TrigonometricFunction)\n\u001b[1;32m   1189\u001b[0m tree \u001b[38;5;241m=\u001b[39m [identity,\n\u001b[1;32m   1190\u001b[0m     (\n\u001b[1;32m   1191\u001b[0m     TR3,  \u001b[38;5;66;03m# canonical angles\u001b[39;00m\n\u001b[1;32m   1192\u001b[0m     TR1,  \u001b[38;5;66;03m# sec-csc -> cos-sin\u001b[39;00m\n\u001b[1;32m   1193\u001b[0m     TR12,  \u001b[38;5;66;03m# expand tan of sum\u001b[39;00m\n\u001b[0;32m-> 1194\u001b[0m     \u001b[38;5;28;01mlambda\u001b[39;00m x: \u001b[43m_eapply\u001b[49m\u001b[43m(\u001b[49m\u001b[43mfactor\u001b[49m\u001b[43m,\u001b[49m\u001b[43m \u001b[49m\u001b[43mx\u001b[49m\u001b[43m,\u001b[49m\u001b[43m \u001b[49m\u001b[43mtrigs\u001b[49m\u001b[43m)\u001b[49m,\n\u001b[1;32m   1195\u001b[0m     TR2,  \u001b[38;5;66;03m# tan-cot -> sin-cos\u001b[39;00m\n\u001b[1;32m   1196\u001b[0m     [identity, \u001b[38;5;28;01mlambda\u001b[39;00m x: _eapply(_mexpand, x, trigs)],\n\u001b[1;32m   1197\u001b[0m     TR2i,  \u001b[38;5;66;03m# sin-cos ratio -> tan\u001b[39;00m\n\u001b[1;32m   1198\u001b[0m     \u001b[38;5;28;01mlambda\u001b[39;00m x: _eapply(\u001b[38;5;28;01mlambda\u001b[39;00m i: factor(i\u001b[38;5;241m.\u001b[39mnormal()), x, trigs),\n\u001b[1;32m   1199\u001b[0m     TR14,  \u001b[38;5;66;03m# factored identities\u001b[39;00m\n\u001b[1;32m   1200\u001b[0m     TR5,  \u001b[38;5;66;03m# sin-pow -> cos_pow\u001b[39;00m\n\u001b[1;32m   1201\u001b[0m     TR10,  \u001b[38;5;66;03m# sin-cos of sums -> sin-cos prod\u001b[39;00m\n\u001b[1;32m   1202\u001b[0m     TR11, _TR11, TR6, \u001b[38;5;66;03m# reduce double angles and rewrite cos pows\u001b[39;00m\n\u001b[1;32m   1203\u001b[0m     \u001b[38;5;28;01mlambda\u001b[39;00m x: _eapply(factor, x, trigs),\n\u001b[1;32m   1204\u001b[0m     TR14,  \u001b[38;5;66;03m# factored powers of identities\u001b[39;00m\n\u001b[1;32m   1205\u001b[0m     [identity, \u001b[38;5;28;01mlambda\u001b[39;00m x: _eapply(_mexpand, x, trigs)],\n\u001b[1;32m   1206\u001b[0m     TR10i,  \u001b[38;5;66;03m# sin-cos products > sin-cos of sums\u001b[39;00m\n\u001b[1;32m   1207\u001b[0m     TRmorrie,\n\u001b[1;32m   1208\u001b[0m     [identity, TR8],  \u001b[38;5;66;03m# sin-cos products -> sin-cos of sums\u001b[39;00m\n\u001b[1;32m   1209\u001b[0m     [identity, \u001b[38;5;28;01mlambda\u001b[39;00m x: TR2i(TR2(x))],  \u001b[38;5;66;03m# tan -> sin-cos -> tan\u001b[39;00m\n\u001b[1;32m   1210\u001b[0m     [\n\u001b[1;32m   1211\u001b[0m         \u001b[38;5;28;01mlambda\u001b[39;00m x: _eapply(expand_mul, TR5(x), trigs),\n\u001b[1;32m   1212\u001b[0m         \u001b[38;5;28;01mlambda\u001b[39;00m x: _eapply(\n\u001b[1;32m   1213\u001b[0m             expand_mul, TR15(x), trigs)], \u001b[38;5;66;03m# pos/neg powers of sin\u001b[39;00m\n\u001b[1;32m   1214\u001b[0m     [\n\u001b[1;32m   1215\u001b[0m         \u001b[38;5;28;01mlambda\u001b[39;00m x:  _eapply(expand_mul, TR6(x), trigs),\n\u001b[1;32m   1216\u001b[0m         \u001b[38;5;28;01mlambda\u001b[39;00m x:  _eapply(\n\u001b[1;32m   1217\u001b[0m             expand_mul, TR16(x), trigs)], \u001b[38;5;66;03m# pos/neg powers of cos\u001b[39;00m\n\u001b[1;32m   1218\u001b[0m     TR111,  \u001b[38;5;66;03m# tan, sin, cos to neg power -> cot, csc, sec\u001b[39;00m\n\u001b[1;32m   1219\u001b[0m     [identity, TR2i],  \u001b[38;5;66;03m# sin-cos ratio to tan\u001b[39;00m\n\u001b[1;32m   1220\u001b[0m     [identity, \u001b[38;5;28;01mlambda\u001b[39;00m x: _eapply(\n\u001b[1;32m   1221\u001b[0m         expand_mul, TR22(x), trigs)],  \u001b[38;5;66;03m# tan-cot to sec-csc\u001b[39;00m\n\u001b[1;32m   1222\u001b[0m     TR1, TR2, TR2i,\n\u001b[1;32m   1223\u001b[0m     [identity, \u001b[38;5;28;01mlambda\u001b[39;00m x: _eapply(\n\u001b[1;32m   1224\u001b[0m         factor_terms, TR12(x), trigs)],  \u001b[38;5;66;03m# expand tan of sum\u001b[39;00m\n\u001b[1;32m   1225\u001b[0m     )]\n\u001b[1;32m   1226\u001b[0m e \u001b[38;5;241m=\u001b[39m greedy(tree, objective\u001b[38;5;241m=\u001b[39mLops)(e)\n\u001b[1;32m   1228\u001b[0m \u001b[38;5;28;01mif\u001b[39;00m coeff \u001b[38;5;129;01mis\u001b[39;00m \u001b[38;5;129;01mnot\u001b[39;00m \u001b[38;5;28;01mNone\u001b[39;00m:\n",
      "File \u001b[0;32m/Library/Frameworks/Python.framework/Versions/3.13/lib/python3.13/site-packages/sympy/simplify/trigsimp.py:1250\u001b[0m, in \u001b[0;36m_eapply\u001b[0;34m(func, e, cond)\u001b[0m\n\u001b[1;32m   1248\u001b[0m     \u001b[38;5;28;01mreturn\u001b[39;00m e\n\u001b[1;32m   1249\u001b[0m \u001b[38;5;28;01mif\u001b[39;00m _is_Expr(e) \u001b[38;5;129;01mor\u001b[39;00m \u001b[38;5;129;01mnot\u001b[39;00m e\u001b[38;5;241m.\u001b[39margs:\n\u001b[0;32m-> 1250\u001b[0m     \u001b[38;5;28;01mreturn\u001b[39;00m \u001b[43mfunc\u001b[49m\u001b[43m(\u001b[49m\u001b[43me\u001b[49m\u001b[43m)\u001b[49m\n\u001b[1;32m   1251\u001b[0m \u001b[38;5;28;01mreturn\u001b[39;00m e\u001b[38;5;241m.\u001b[39mfunc(\u001b[38;5;241m*\u001b[39m[\n\u001b[1;32m   1252\u001b[0m     _eapply(func, ei) \u001b[38;5;28;01mif\u001b[39;00m (cond \u001b[38;5;129;01mis\u001b[39;00m \u001b[38;5;28;01mNone\u001b[39;00m \u001b[38;5;129;01mor\u001b[39;00m cond(ei)) \u001b[38;5;28;01melse\u001b[39;00m ei\n\u001b[1;32m   1253\u001b[0m     \u001b[38;5;28;01mfor\u001b[39;00m ei \u001b[38;5;129;01min\u001b[39;00m e\u001b[38;5;241m.\u001b[39margs])\n",
      "File \u001b[0;32m/Library/Frameworks/Python.framework/Versions/3.13/lib/python3.13/site-packages/sympy/polys/polytools.py:6577\u001b[0m, in \u001b[0;36mfactor\u001b[0;34m(f, deep, *gens, **args)\u001b[0m\n\u001b[1;32m   6574\u001b[0m     \u001b[38;5;28;01mreturn\u001b[39;00m f\u001b[38;5;241m.\u001b[39mxreplace(partials)\n\u001b[1;32m   6576\u001b[0m \u001b[38;5;28;01mtry\u001b[39;00m:\n\u001b[0;32m-> 6577\u001b[0m     \u001b[38;5;28;01mreturn\u001b[39;00m \u001b[43m_generic_factor\u001b[49m\u001b[43m(\u001b[49m\u001b[43mf\u001b[49m\u001b[43m,\u001b[49m\u001b[43m \u001b[49m\u001b[43mgens\u001b[49m\u001b[43m,\u001b[49m\u001b[43m \u001b[49m\u001b[43margs\u001b[49m\u001b[43m,\u001b[49m\u001b[43m \u001b[49m\u001b[43mmethod\u001b[49m\u001b[38;5;241;43m=\u001b[39;49m\u001b[38;5;124;43m'\u001b[39;49m\u001b[38;5;124;43mfactor\u001b[39;49m\u001b[38;5;124;43m'\u001b[39;49m\u001b[43m)\u001b[49m\n\u001b[1;32m   6578\u001b[0m \u001b[38;5;28;01mexcept\u001b[39;00m PolynomialError:\n\u001b[1;32m   6579\u001b[0m     \u001b[38;5;28;01mif\u001b[39;00m \u001b[38;5;129;01mnot\u001b[39;00m f\u001b[38;5;241m.\u001b[39mis_commutative:\n",
      "File \u001b[0;32m/Library/Frameworks/Python.framework/Versions/3.13/lib/python3.13/site-packages/sympy/polys/polytools.py:6258\u001b[0m, in \u001b[0;36m_generic_factor\u001b[0;34m(expr, gens, args, method)\u001b[0m\n\u001b[1;32m   6256\u001b[0m opt \u001b[38;5;241m=\u001b[39m options\u001b[38;5;241m.\u001b[39mbuild_options(gens, args)\n\u001b[1;32m   6257\u001b[0m opt[\u001b[38;5;124m'\u001b[39m\u001b[38;5;124mfraction\u001b[39m\u001b[38;5;124m'\u001b[39m] \u001b[38;5;241m=\u001b[39m fraction\n\u001b[0;32m-> 6258\u001b[0m \u001b[38;5;28;01mreturn\u001b[39;00m \u001b[43m_symbolic_factor\u001b[49m\u001b[43m(\u001b[49m\u001b[43msympify\u001b[49m\u001b[43m(\u001b[49m\u001b[43mexpr\u001b[49m\u001b[43m)\u001b[49m\u001b[43m,\u001b[49m\u001b[43m \u001b[49m\u001b[43mopt\u001b[49m\u001b[43m,\u001b[49m\u001b[43m \u001b[49m\u001b[43mmethod\u001b[49m\u001b[43m)\u001b[49m\n",
      "File \u001b[0;32m/Library/Frameworks/Python.framework/Versions/3.13/lib/python3.13/site-packages/sympy/polys/polytools.py:6198\u001b[0m, in \u001b[0;36m_symbolic_factor\u001b[0;34m(expr, opt, method)\u001b[0m\n\u001b[1;32m   6196\u001b[0m     \u001b[38;5;28;01mif\u001b[39;00m \u001b[38;5;28mhasattr\u001b[39m(expr,\u001b[38;5;124m'\u001b[39m\u001b[38;5;124m_eval_factor\u001b[39m\u001b[38;5;124m'\u001b[39m):\n\u001b[1;32m   6197\u001b[0m         \u001b[38;5;28;01mreturn\u001b[39;00m expr\u001b[38;5;241m.\u001b[39m_eval_factor()\n\u001b[0;32m-> 6198\u001b[0m     coeff, factors \u001b[38;5;241m=\u001b[39m \u001b[43m_symbolic_factor_list\u001b[49m\u001b[43m(\u001b[49m\u001b[43mtogether\u001b[49m\u001b[43m(\u001b[49m\u001b[43mexpr\u001b[49m\u001b[43m,\u001b[49m\u001b[43m \u001b[49m\u001b[43mfraction\u001b[49m\u001b[38;5;241;43m=\u001b[39;49m\u001b[43mopt\u001b[49m\u001b[43m[\u001b[49m\u001b[38;5;124;43m'\u001b[39;49m\u001b[38;5;124;43mfraction\u001b[39;49m\u001b[38;5;124;43m'\u001b[39;49m\u001b[43m]\u001b[49m\u001b[43m)\u001b[49m\u001b[43m,\u001b[49m\u001b[43m \u001b[49m\u001b[43mopt\u001b[49m\u001b[43m,\u001b[49m\u001b[43m \u001b[49m\u001b[43mmethod\u001b[49m\u001b[43m)\u001b[49m\n\u001b[1;32m   6199\u001b[0m     \u001b[38;5;28;01mreturn\u001b[39;00m _keep_coeff(coeff, _factors_product(factors))\n\u001b[1;32m   6200\u001b[0m \u001b[38;5;28;01melif\u001b[39;00m \u001b[38;5;28mhasattr\u001b[39m(expr, \u001b[38;5;124m'\u001b[39m\u001b[38;5;124margs\u001b[39m\u001b[38;5;124m'\u001b[39m):\n",
      "File \u001b[0;32m/Library/Frameworks/Python.framework/Versions/3.13/lib/python3.13/site-packages/sympy/polys/polytools.py:6163\u001b[0m, in \u001b[0;36m_symbolic_factor_list\u001b[0;34m(expr, opt, method)\u001b[0m\n\u001b[1;32m   6160\u001b[0m \u001b[38;5;28;01melse\u001b[39;00m:\n\u001b[1;32m   6161\u001b[0m     func \u001b[38;5;241m=\u001b[39m \u001b[38;5;28mgetattr\u001b[39m(poly, method \u001b[38;5;241m+\u001b[39m \u001b[38;5;124m'\u001b[39m\u001b[38;5;124m_list\u001b[39m\u001b[38;5;124m'\u001b[39m)\n\u001b[0;32m-> 6163\u001b[0m     _coeff, _factors \u001b[38;5;241m=\u001b[39m \u001b[43mfunc\u001b[49m\u001b[43m(\u001b[49m\u001b[43m)\u001b[49m\n\u001b[1;32m   6164\u001b[0m     \u001b[38;5;28;01mif\u001b[39;00m _coeff \u001b[38;5;129;01mis\u001b[39;00m \u001b[38;5;129;01mnot\u001b[39;00m S\u001b[38;5;241m.\u001b[39mOne:\n\u001b[1;32m   6165\u001b[0m         \u001b[38;5;28;01mif\u001b[39;00m exp\u001b[38;5;241m.\u001b[39mis_Integer:\n",
      "File \u001b[0;32m/Library/Frameworks/Python.framework/Versions/3.13/lib/python3.13/site-packages/sympy/polys/polytools.py:3378\u001b[0m, in \u001b[0;36mPoly.factor_list\u001b[0;34m(f)\u001b[0m\n\u001b[1;32m   3376\u001b[0m \u001b[38;5;28;01mif\u001b[39;00m \u001b[38;5;28mhasattr\u001b[39m(f\u001b[38;5;241m.\u001b[39mrep, \u001b[38;5;124m'\u001b[39m\u001b[38;5;124mfactor_list\u001b[39m\u001b[38;5;124m'\u001b[39m):\n\u001b[1;32m   3377\u001b[0m     \u001b[38;5;28;01mtry\u001b[39;00m:\n\u001b[0;32m-> 3378\u001b[0m         coeff, factors \u001b[38;5;241m=\u001b[39m \u001b[43mf\u001b[49m\u001b[38;5;241;43m.\u001b[39;49m\u001b[43mrep\u001b[49m\u001b[38;5;241;43m.\u001b[39;49m\u001b[43mfactor_list\u001b[49m\u001b[43m(\u001b[49m\u001b[43m)\u001b[49m\n\u001b[1;32m   3379\u001b[0m     \u001b[38;5;28;01mexcept\u001b[39;00m DomainError:\n\u001b[1;32m   3380\u001b[0m         \u001b[38;5;28;01mif\u001b[39;00m f\u001b[38;5;241m.\u001b[39mdegree() \u001b[38;5;241m==\u001b[39m \u001b[38;5;241m0\u001b[39m:\n",
      "File \u001b[0;32m/Library/Frameworks/Python.framework/Versions/3.13/lib/python3.13/site-packages/sympy/polys/polyclasses.py:1637\u001b[0m, in \u001b[0;36mDMP_Python.factor_list\u001b[0;34m(f)\u001b[0m\n\u001b[1;32m   1635\u001b[0m \u001b[38;5;28;01mdef\u001b[39;00m\u001b[38;5;250m \u001b[39m\u001b[38;5;21mfactor_list\u001b[39m(f):\n\u001b[1;32m   1636\u001b[0m \u001b[38;5;250m    \u001b[39m\u001b[38;5;124;03m\"\"\"Returns a list of irreducible factors of ``f``. \"\"\"\u001b[39;00m\n\u001b[0;32m-> 1637\u001b[0m     coeff, factors \u001b[38;5;241m=\u001b[39m \u001b[43mdmp_factor_list\u001b[49m\u001b[43m(\u001b[49m\u001b[43mf\u001b[49m\u001b[38;5;241;43m.\u001b[39;49m\u001b[43m_rep\u001b[49m\u001b[43m,\u001b[49m\u001b[43m \u001b[49m\u001b[43mf\u001b[49m\u001b[38;5;241;43m.\u001b[39;49m\u001b[43mlev\u001b[49m\u001b[43m,\u001b[49m\u001b[43m \u001b[49m\u001b[43mf\u001b[49m\u001b[38;5;241;43m.\u001b[39;49m\u001b[43mdom\u001b[49m\u001b[43m)\u001b[49m\n\u001b[1;32m   1638\u001b[0m     \u001b[38;5;28;01mreturn\u001b[39;00m coeff, [ (f\u001b[38;5;241m.\u001b[39mper(g), k) \u001b[38;5;28;01mfor\u001b[39;00m g, k \u001b[38;5;129;01min\u001b[39;00m factors ]\n",
      "File \u001b[0;32m/Library/Frameworks/Python.framework/Versions/3.13/lib/python3.13/site-packages/sympy/polys/factortools.py:1549\u001b[0m, in \u001b[0;36mdmp_factor_list\u001b[0;34m(f, u, K0)\u001b[0m\n\u001b[1;32m   1547\u001b[0m     coeff, factors \u001b[38;5;241m=\u001b[39m dmp_ext_factor(f, u, K0)\n\u001b[1;32m   1548\u001b[0m \u001b[38;5;28;01melif\u001b[39;00m K0\u001b[38;5;241m.\u001b[39mis_GaussianRing:\n\u001b[0;32m-> 1549\u001b[0m     coeff, factors \u001b[38;5;241m=\u001b[39m \u001b[43mdmp_zz_i_factor\u001b[49m\u001b[43m(\u001b[49m\u001b[43mf\u001b[49m\u001b[43m,\u001b[49m\u001b[43m \u001b[49m\u001b[43mu\u001b[49m\u001b[43m,\u001b[49m\u001b[43m \u001b[49m\u001b[43mK0\u001b[49m\u001b[43m)\u001b[49m\n\u001b[1;32m   1550\u001b[0m \u001b[38;5;28;01melif\u001b[39;00m K0\u001b[38;5;241m.\u001b[39mis_GaussianField:\n\u001b[1;32m   1551\u001b[0m     coeff, factors \u001b[38;5;241m=\u001b[39m dmp_qq_i_factor(f, u, K0)\n",
      "File \u001b[0;32m/Library/Frameworks/Python.framework/Versions/3.13/lib/python3.13/site-packages/sympy/polys/factortools.py:1249\u001b[0m, in \u001b[0;36mdmp_zz_i_factor\u001b[0;34m(f, u, K0)\u001b[0m\n\u001b[1;32m   1247\u001b[0m K1 \u001b[38;5;241m=\u001b[39m K0\u001b[38;5;241m.\u001b[39mget_field()\n\u001b[1;32m   1248\u001b[0m f \u001b[38;5;241m=\u001b[39m dmp_convert(f, u, K0, K1)\n\u001b[0;32m-> 1249\u001b[0m coeff, factors \u001b[38;5;241m=\u001b[39m \u001b[43mdmp_qq_i_factor\u001b[49m\u001b[43m(\u001b[49m\u001b[43mf\u001b[49m\u001b[43m,\u001b[49m\u001b[43m \u001b[49m\u001b[43mu\u001b[49m\u001b[43m,\u001b[49m\u001b[43m \u001b[49m\u001b[43mK1\u001b[49m\u001b[43m)\u001b[49m\n\u001b[1;32m   1251\u001b[0m new_factors \u001b[38;5;241m=\u001b[39m []\n\u001b[1;32m   1252\u001b[0m \u001b[38;5;28;01mfor\u001b[39;00m fac, i \u001b[38;5;129;01min\u001b[39;00m factors:\n\u001b[1;32m   1253\u001b[0m     \u001b[38;5;66;03m# Extract content\u001b[39;00m\n",
      "File \u001b[0;32m/Library/Frameworks/Python.framework/Versions/3.13/lib/python3.13/site-packages/sympy/polys/factortools.py:1238\u001b[0m, in \u001b[0;36mdmp_qq_i_factor\u001b[0;34m(f, u, K0)\u001b[0m\n\u001b[1;32m   1236\u001b[0m K1 \u001b[38;5;241m=\u001b[39m K0\u001b[38;5;241m.\u001b[39mas_AlgebraicField()\n\u001b[1;32m   1237\u001b[0m f \u001b[38;5;241m=\u001b[39m dmp_convert(f, u, K0, K1)\n\u001b[0;32m-> 1238\u001b[0m coeff, factors \u001b[38;5;241m=\u001b[39m \u001b[43mdmp_factor_list\u001b[49m\u001b[43m(\u001b[49m\u001b[43mf\u001b[49m\u001b[43m,\u001b[49m\u001b[43m \u001b[49m\u001b[43mu\u001b[49m\u001b[43m,\u001b[49m\u001b[43m \u001b[49m\u001b[43mK1\u001b[49m\u001b[43m)\u001b[49m\n\u001b[1;32m   1239\u001b[0m factors \u001b[38;5;241m=\u001b[39m [(dmp_convert(fac, u, K1, K0), i) \u001b[38;5;28;01mfor\u001b[39;00m fac, i \u001b[38;5;129;01min\u001b[39;00m factors]\n\u001b[1;32m   1240\u001b[0m coeff \u001b[38;5;241m=\u001b[39m K0\u001b[38;5;241m.\u001b[39mconvert(coeff, K1)\n",
      "File \u001b[0;32m/Library/Frameworks/Python.framework/Versions/3.13/lib/python3.13/site-packages/sympy/polys/factortools.py:1547\u001b[0m, in \u001b[0;36mdmp_factor_list\u001b[0;34m(f, u, K0)\u001b[0m\n\u001b[1;32m   1545\u001b[0m     coeff, factors \u001b[38;5;241m=\u001b[39m dmp_gf_factor(f, u, K0)\n\u001b[1;32m   1546\u001b[0m \u001b[38;5;28;01melif\u001b[39;00m K0\u001b[38;5;241m.\u001b[39mis_Algebraic:\n\u001b[0;32m-> 1547\u001b[0m     coeff, factors \u001b[38;5;241m=\u001b[39m \u001b[43mdmp_ext_factor\u001b[49m\u001b[43m(\u001b[49m\u001b[43mf\u001b[49m\u001b[43m,\u001b[49m\u001b[43m \u001b[49m\u001b[43mu\u001b[49m\u001b[43m,\u001b[49m\u001b[43m \u001b[49m\u001b[43mK0\u001b[49m\u001b[43m)\u001b[49m\n\u001b[1;32m   1548\u001b[0m \u001b[38;5;28;01melif\u001b[39;00m K0\u001b[38;5;241m.\u001b[39mis_GaussianRing:\n\u001b[1;32m   1549\u001b[0m     coeff, factors \u001b[38;5;241m=\u001b[39m dmp_zz_i_factor(f, u, K0)\n",
      "File \u001b[0;32m/Library/Frameworks/Python.framework/Versions/3.13/lib/python3.13/site-packages/sympy/polys/factortools.py:1420\u001b[0m, in \u001b[0;36mdmp_ext_factor\u001b[0;34m(f, u, K)\u001b[0m\n\u001b[1;32m   1417\u001b[0m \u001b[38;5;28;01mif\u001b[39;00m \u001b[38;5;28mall\u001b[39m(d \u001b[38;5;241m<\u001b[39m\u001b[38;5;241m=\u001b[39m \u001b[38;5;241m0\u001b[39m \u001b[38;5;28;01mfor\u001b[39;00m d \u001b[38;5;129;01min\u001b[39;00m dmp_degree_list(f, u)):\n\u001b[1;32m   1418\u001b[0m     \u001b[38;5;28;01mreturn\u001b[39;00m lc, []\n\u001b[0;32m-> 1420\u001b[0m f, F \u001b[38;5;241m=\u001b[39m \u001b[43mdmp_sqf_part\u001b[49m\u001b[43m(\u001b[49m\u001b[43mf\u001b[49m\u001b[43m,\u001b[49m\u001b[43m \u001b[49m\u001b[43mu\u001b[49m\u001b[43m,\u001b[49m\u001b[43m \u001b[49m\u001b[43mK\u001b[49m\u001b[43m)\u001b[49m, f\n\u001b[1;32m   1421\u001b[0m s, g, r \u001b[38;5;241m=\u001b[39m dmp_sqf_norm(f, u, K)\n\u001b[1;32m   1423\u001b[0m factors \u001b[38;5;241m=\u001b[39m dmp_factor_list_include(r, u, K\u001b[38;5;241m.\u001b[39mdom)\n",
      "File \u001b[0;32m/Library/Frameworks/Python.framework/Versions/3.13/lib/python3.13/site-packages/sympy/polys/sqfreetools.py:470\u001b[0m, in \u001b[0;36mdmp_sqf_part\u001b[0;34m(f, u, K)\u001b[0m\n\u001b[1;32m    468\u001b[0m gcd \u001b[38;5;241m=\u001b[39m f\n\u001b[1;32m    469\u001b[0m \u001b[38;5;28;01mfor\u001b[39;00m i \u001b[38;5;129;01min\u001b[39;00m \u001b[38;5;28mrange\u001b[39m(u\u001b[38;5;241m+\u001b[39m\u001b[38;5;241m1\u001b[39m):\n\u001b[0;32m--> 470\u001b[0m     gcd \u001b[38;5;241m=\u001b[39m \u001b[43mdmp_gcd\u001b[49m\u001b[43m(\u001b[49m\u001b[43mgcd\u001b[49m\u001b[43m,\u001b[49m\u001b[43m \u001b[49m\u001b[43mdmp_diff_in\u001b[49m\u001b[43m(\u001b[49m\u001b[43mf\u001b[49m\u001b[43m,\u001b[49m\u001b[43m \u001b[49m\u001b[38;5;241;43m1\u001b[39;49m\u001b[43m,\u001b[49m\u001b[43m \u001b[49m\u001b[43mi\u001b[49m\u001b[43m,\u001b[49m\u001b[43m \u001b[49m\u001b[43mu\u001b[49m\u001b[43m,\u001b[49m\u001b[43m \u001b[49m\u001b[43mK\u001b[49m\u001b[43m)\u001b[49m\u001b[43m,\u001b[49m\u001b[43m \u001b[49m\u001b[43mu\u001b[49m\u001b[43m,\u001b[49m\u001b[43m \u001b[49m\u001b[43mK\u001b[49m\u001b[43m)\u001b[49m\n\u001b[1;32m    471\u001b[0m sqf \u001b[38;5;241m=\u001b[39m dmp_quo(f, gcd, u, K)\n\u001b[1;32m    473\u001b[0m \u001b[38;5;28;01mif\u001b[39;00m K\u001b[38;5;241m.\u001b[39mis_Field:\n",
      "File \u001b[0;32m/Library/Frameworks/Python.framework/Versions/3.13/lib/python3.13/site-packages/sympy/polys/euclidtools.py:1639\u001b[0m, in \u001b[0;36mdmp_gcd\u001b[0;34m(f, g, u, K)\u001b[0m\n\u001b[1;32m   1622\u001b[0m \u001b[38;5;28;01mdef\u001b[39;00m\u001b[38;5;250m \u001b[39m\u001b[38;5;21mdmp_gcd\u001b[39m(f, g, u, K):\n\u001b[1;32m   1623\u001b[0m \u001b[38;5;250m    \u001b[39m\u001b[38;5;124;03m\"\"\"\u001b[39;00m\n\u001b[1;32m   1624\u001b[0m \u001b[38;5;124;03m    Computes polynomial GCD of `f` and `g` in `K[X]`.\u001b[39;00m\n\u001b[1;32m   1625\u001b[0m \n\u001b[0;32m   (...)\u001b[0m\n\u001b[1;32m   1637\u001b[0m \n\u001b[1;32m   1638\u001b[0m \u001b[38;5;124;03m    \"\"\"\u001b[39;00m\n\u001b[0;32m-> 1639\u001b[0m     \u001b[38;5;28;01mreturn\u001b[39;00m \u001b[43mdmp_inner_gcd\u001b[49m\u001b[43m(\u001b[49m\u001b[43mf\u001b[49m\u001b[43m,\u001b[49m\u001b[43m \u001b[49m\u001b[43mg\u001b[49m\u001b[43m,\u001b[49m\u001b[43m \u001b[49m\u001b[43mu\u001b[49m\u001b[43m,\u001b[49m\u001b[43m \u001b[49m\u001b[43mK\u001b[49m\u001b[43m)\u001b[49m[\u001b[38;5;241m0\u001b[39m]\n",
      "File \u001b[0;32m/Library/Frameworks/Python.framework/Versions/3.13/lib/python3.13/site-packages/sympy/polys/euclidtools.py:1598\u001b[0m, in \u001b[0;36mdmp_inner_gcd\u001b[0;34m(f, g, u, K)\u001b[0m\n\u001b[1;32m   1595\u001b[0m     \u001b[38;5;28;01mreturn\u001b[39;00m dup_inner_gcd(f, g, K)\n\u001b[1;32m   1597\u001b[0m J, (f, g) \u001b[38;5;241m=\u001b[39m dmp_multi_deflate((f, g), u, K)\n\u001b[0;32m-> 1598\u001b[0m h, cff, cfg \u001b[38;5;241m=\u001b[39m \u001b[43m_dmp_inner_gcd\u001b[49m\u001b[43m(\u001b[49m\u001b[43mf\u001b[49m\u001b[43m,\u001b[49m\u001b[43m \u001b[49m\u001b[43mg\u001b[49m\u001b[43m,\u001b[49m\u001b[43m \u001b[49m\u001b[43mu\u001b[49m\u001b[43m,\u001b[49m\u001b[43m \u001b[49m\u001b[43mK\u001b[49m\u001b[43m)\u001b[49m\n\u001b[1;32m   1600\u001b[0m \u001b[38;5;28;01mreturn\u001b[39;00m (dmp_inflate(h, J, u, K),\n\u001b[1;32m   1601\u001b[0m         dmp_inflate(cff, J, u, K),\n\u001b[1;32m   1602\u001b[0m         dmp_inflate(cfg, J, u, K))\n",
      "File \u001b[0;32m/Library/Frameworks/Python.framework/Versions/3.13/lib/python3.13/site-packages/sympy/polys/euclidtools.py:1563\u001b[0m, in \u001b[0;36m_dmp_inner_gcd\u001b[0;34m(f, g, u, K)\u001b[0m\n\u001b[1;32m   1560\u001b[0m         \u001b[38;5;28;01mexcept\u001b[39;00m HeuristicGCDFailed:\n\u001b[1;32m   1561\u001b[0m             \u001b[38;5;28;01mpass\u001b[39;00m\n\u001b[0;32m-> 1563\u001b[0m     \u001b[38;5;28;01mreturn\u001b[39;00m \u001b[43mdmp_ff_prs_gcd\u001b[49m\u001b[43m(\u001b[49m\u001b[43mf\u001b[49m\u001b[43m,\u001b[49m\u001b[43m \u001b[49m\u001b[43mg\u001b[49m\u001b[43m,\u001b[49m\u001b[43m \u001b[49m\u001b[43mu\u001b[49m\u001b[43m,\u001b[49m\u001b[43m \u001b[49m\u001b[43mK\u001b[49m\u001b[43m)\u001b[49m\n\u001b[1;32m   1564\u001b[0m \u001b[38;5;28;01melse\u001b[39;00m:\n\u001b[1;32m   1565\u001b[0m     \u001b[38;5;28;01mif\u001b[39;00m K\u001b[38;5;241m.\u001b[39mis_ZZ \u001b[38;5;129;01mand\u001b[39;00m query(\u001b[38;5;124m'\u001b[39m\u001b[38;5;124mUSE_HEU_GCD\u001b[39m\u001b[38;5;124m'\u001b[39m):\n",
      "File \u001b[0;32m/Library/Frameworks/Python.framework/Versions/3.13/lib/python3.13/site-packages/sympy/polys/euclidtools.py:1116\u001b[0m, in \u001b[0;36mdmp_ff_prs_gcd\u001b[0;34m(f, g, u, K)\u001b[0m\n\u001b[1;32m   1113\u001b[0m fc, F \u001b[38;5;241m=\u001b[39m dmp_primitive(f, u, K)\n\u001b[1;32m   1114\u001b[0m gc, G \u001b[38;5;241m=\u001b[39m dmp_primitive(g, u, K)\n\u001b[0;32m-> 1116\u001b[0m h \u001b[38;5;241m=\u001b[39m \u001b[43mdmp_subresultants\u001b[49m\u001b[43m(\u001b[49m\u001b[43mF\u001b[49m\u001b[43m,\u001b[49m\u001b[43m \u001b[49m\u001b[43mG\u001b[49m\u001b[43m,\u001b[49m\u001b[43m \u001b[49m\u001b[43mu\u001b[49m\u001b[43m,\u001b[49m\u001b[43m \u001b[49m\u001b[43mK\u001b[49m\u001b[43m)\u001b[49m[\u001b[38;5;241m-\u001b[39m\u001b[38;5;241m1\u001b[39m]\n\u001b[1;32m   1117\u001b[0m c, _, _ \u001b[38;5;241m=\u001b[39m dmp_ff_prs_gcd(fc, gc, u \u001b[38;5;241m-\u001b[39m \u001b[38;5;241m1\u001b[39m, K)\n\u001b[1;32m   1119\u001b[0m _, h \u001b[38;5;241m=\u001b[39m dmp_primitive(h, u, K)\n",
      "File \u001b[0;32m/Library/Frameworks/Python.framework/Versions/3.13/lib/python3.13/site-packages/sympy/polys/euclidtools.py:549\u001b[0m, in \u001b[0;36mdmp_subresultants\u001b[0;34m(f, g, u, K)\u001b[0m\n\u001b[1;32m    529\u001b[0m \u001b[38;5;28;01mdef\u001b[39;00m\u001b[38;5;250m \u001b[39m\u001b[38;5;21mdmp_subresultants\u001b[39m(f, g, u, K):\n\u001b[1;32m    530\u001b[0m \u001b[38;5;250m    \u001b[39m\u001b[38;5;124;03m\"\"\"\u001b[39;00m\n\u001b[1;32m    531\u001b[0m \u001b[38;5;124;03m    Computes subresultant PRS of two polynomials in `K[X]`.\u001b[39;00m\n\u001b[1;32m    532\u001b[0m \n\u001b[0;32m   (...)\u001b[0m\n\u001b[1;32m    547\u001b[0m \n\u001b[1;32m    548\u001b[0m \u001b[38;5;124;03m    \"\"\"\u001b[39;00m\n\u001b[0;32m--> 549\u001b[0m     \u001b[38;5;28;01mreturn\u001b[39;00m \u001b[43mdmp_inner_subresultants\u001b[49m\u001b[43m(\u001b[49m\u001b[43mf\u001b[49m\u001b[43m,\u001b[49m\u001b[43m \u001b[49m\u001b[43mg\u001b[49m\u001b[43m,\u001b[49m\u001b[43m \u001b[49m\u001b[43mu\u001b[49m\u001b[43m,\u001b[49m\u001b[43m \u001b[49m\u001b[43mK\u001b[49m\u001b[43m)\u001b[49m[\u001b[38;5;241m0\u001b[39m]\n",
      "File \u001b[0;32m/Library/Frameworks/Python.framework/Versions/3.13/lib/python3.13/site-packages/sympy/polys/euclidtools.py:512\u001b[0m, in \u001b[0;36mdmp_inner_subresultants\u001b[0;34m(f, g, u, K)\u001b[0m\n\u001b[1;32m    507\u001b[0m f, g, m, d \u001b[38;5;241m=\u001b[39m g, h, k, m \u001b[38;5;241m-\u001b[39m k\n\u001b[1;32m    509\u001b[0m b \u001b[38;5;241m=\u001b[39m dmp_mul(dmp_neg(lc, v, K),\n\u001b[1;32m    510\u001b[0m             dmp_pow(c, d, v, K), v, K)\n\u001b[0;32m--> 512\u001b[0m h \u001b[38;5;241m=\u001b[39m \u001b[43mdmp_prem\u001b[49m\u001b[43m(\u001b[49m\u001b[43mf\u001b[49m\u001b[43m,\u001b[49m\u001b[43m \u001b[49m\u001b[43mg\u001b[49m\u001b[43m,\u001b[49m\u001b[43m \u001b[49m\u001b[43mu\u001b[49m\u001b[43m,\u001b[49m\u001b[43m \u001b[49m\u001b[43mK\u001b[49m\u001b[43m)\u001b[49m\n\u001b[1;32m    513\u001b[0m h \u001b[38;5;241m=\u001b[39m [ dmp_quo(ch, b, v, K) \u001b[38;5;28;01mfor\u001b[39;00m ch \u001b[38;5;129;01min\u001b[39;00m h ]\n\u001b[1;32m    515\u001b[0m lc \u001b[38;5;241m=\u001b[39m dmp_LC(g, K)\n",
      "File \u001b[0;32m/Library/Frameworks/Python.framework/Versions/3.13/lib/python3.13/site-packages/sympy/polys/densearith.py:1237\u001b[0m, in \u001b[0;36mdmp_prem\u001b[0;34m(f, g, u, K)\u001b[0m\n\u001b[1;32m   1234\u001b[0m lc_r \u001b[38;5;241m=\u001b[39m dmp_LC(r, K)\n\u001b[1;32m   1235\u001b[0m j, N \u001b[38;5;241m=\u001b[39m dr \u001b[38;5;241m-\u001b[39m dg, N \u001b[38;5;241m-\u001b[39m \u001b[38;5;241m1\u001b[39m\n\u001b[0;32m-> 1237\u001b[0m R \u001b[38;5;241m=\u001b[39m \u001b[43mdmp_mul_term\u001b[49m\u001b[43m(\u001b[49m\u001b[43mr\u001b[49m\u001b[43m,\u001b[49m\u001b[43m \u001b[49m\u001b[43mlc_g\u001b[49m\u001b[43m,\u001b[49m\u001b[43m \u001b[49m\u001b[38;5;241;43m0\u001b[39;49m\u001b[43m,\u001b[49m\u001b[43m \u001b[49m\u001b[43mu\u001b[49m\u001b[43m,\u001b[49m\u001b[43m \u001b[49m\u001b[43mK\u001b[49m\u001b[43m)\u001b[49m\n\u001b[1;32m   1238\u001b[0m G \u001b[38;5;241m=\u001b[39m dmp_mul_term(g, lc_r, j, u, K)\n\u001b[1;32m   1239\u001b[0m r \u001b[38;5;241m=\u001b[39m dmp_sub(R, G, u, K)\n",
      "File \u001b[0;32m/Library/Frameworks/Python.framework/Versions/3.13/lib/python3.13/site-packages/sympy/polys/densearith.py:184\u001b[0m, in \u001b[0;36mdmp_mul_term\u001b[0;34m(f, c, i, u, K)\u001b[0m\n\u001b[1;32m    182\u001b[0m     \u001b[38;5;28;01mreturn\u001b[39;00m dmp_zero(u)\n\u001b[1;32m    183\u001b[0m \u001b[38;5;28;01melse\u001b[39;00m:\n\u001b[0;32m--> 184\u001b[0m     \u001b[38;5;28;01mreturn\u001b[39;00m [ \u001b[43mdmp_mul\u001b[49m\u001b[43m(\u001b[49m\u001b[43mcf\u001b[49m\u001b[43m,\u001b[49m\u001b[43m \u001b[49m\u001b[43mc\u001b[49m\u001b[43m,\u001b[49m\u001b[43m \u001b[49m\u001b[43mv\u001b[49m\u001b[43m,\u001b[49m\u001b[43m \u001b[49m\u001b[43mK\u001b[49m\u001b[43m)\u001b[49m \u001b[38;5;28;01mfor\u001b[39;00m cf \u001b[38;5;129;01min\u001b[39;00m f ] \u001b[38;5;241m+\u001b[39m dmp_zeros(i, v, K)\n",
      "File \u001b[0;32m/Library/Frameworks/Python.framework/Versions/3.13/lib/python3.13/site-packages/sympy/polys/densearith.py:828\u001b[0m, in \u001b[0;36mdmp_mul\u001b[0;34m(f, g, u, K)\u001b[0m\n\u001b[1;32m    825\u001b[0m     coeff \u001b[38;5;241m=\u001b[39m dmp_zero(v)\n\u001b[1;32m    827\u001b[0m     \u001b[38;5;28;01mfor\u001b[39;00m j \u001b[38;5;129;01min\u001b[39;00m \u001b[38;5;28mrange\u001b[39m(\u001b[38;5;28mmax\u001b[39m(\u001b[38;5;241m0\u001b[39m, i \u001b[38;5;241m-\u001b[39m dg), \u001b[38;5;28mmin\u001b[39m(df, i) \u001b[38;5;241m+\u001b[39m \u001b[38;5;241m1\u001b[39m):\n\u001b[0;32m--> 828\u001b[0m         coeff \u001b[38;5;241m=\u001b[39m dmp_add(coeff, \u001b[43mdmp_mul\u001b[49m\u001b[43m(\u001b[49m\u001b[43mf\u001b[49m\u001b[43m[\u001b[49m\u001b[43mj\u001b[49m\u001b[43m]\u001b[49m\u001b[43m,\u001b[49m\u001b[43m \u001b[49m\u001b[43mg\u001b[49m\u001b[43m[\u001b[49m\u001b[43mi\u001b[49m\u001b[43m \u001b[49m\u001b[38;5;241;43m-\u001b[39;49m\u001b[43m \u001b[49m\u001b[43mj\u001b[49m\u001b[43m]\u001b[49m\u001b[43m,\u001b[49m\u001b[43m \u001b[49m\u001b[43mv\u001b[49m\u001b[43m,\u001b[49m\u001b[43m \u001b[49m\u001b[43mK\u001b[49m\u001b[43m)\u001b[49m, v, K)\n\u001b[1;32m    830\u001b[0m     h\u001b[38;5;241m.\u001b[39mappend(coeff)\n\u001b[1;32m    832\u001b[0m \u001b[38;5;28;01mreturn\u001b[39;00m dmp_strip(h, u)\n",
      "File \u001b[0;32m/Library/Frameworks/Python.framework/Versions/3.13/lib/python3.13/site-packages/sympy/polys/densearith.py:828\u001b[0m, in \u001b[0;36mdmp_mul\u001b[0;34m(f, g, u, K)\u001b[0m\n\u001b[1;32m    825\u001b[0m     coeff \u001b[38;5;241m=\u001b[39m dmp_zero(v)\n\u001b[1;32m    827\u001b[0m     \u001b[38;5;28;01mfor\u001b[39;00m j \u001b[38;5;129;01min\u001b[39;00m \u001b[38;5;28mrange\u001b[39m(\u001b[38;5;28mmax\u001b[39m(\u001b[38;5;241m0\u001b[39m, i \u001b[38;5;241m-\u001b[39m dg), \u001b[38;5;28mmin\u001b[39m(df, i) \u001b[38;5;241m+\u001b[39m \u001b[38;5;241m1\u001b[39m):\n\u001b[0;32m--> 828\u001b[0m         coeff \u001b[38;5;241m=\u001b[39m dmp_add(coeff, \u001b[43mdmp_mul\u001b[49m\u001b[43m(\u001b[49m\u001b[43mf\u001b[49m\u001b[43m[\u001b[49m\u001b[43mj\u001b[49m\u001b[43m]\u001b[49m\u001b[43m,\u001b[49m\u001b[43m \u001b[49m\u001b[43mg\u001b[49m\u001b[43m[\u001b[49m\u001b[43mi\u001b[49m\u001b[43m \u001b[49m\u001b[38;5;241;43m-\u001b[39;49m\u001b[43m \u001b[49m\u001b[43mj\u001b[49m\u001b[43m]\u001b[49m\u001b[43m,\u001b[49m\u001b[43m \u001b[49m\u001b[43mv\u001b[49m\u001b[43m,\u001b[49m\u001b[43m \u001b[49m\u001b[43mK\u001b[49m\u001b[43m)\u001b[49m, v, K)\n\u001b[1;32m    830\u001b[0m     h\u001b[38;5;241m.\u001b[39mappend(coeff)\n\u001b[1;32m    832\u001b[0m \u001b[38;5;28;01mreturn\u001b[39;00m dmp_strip(h, u)\n",
      "    \u001b[0;31m[... skipping similar frames: dmp_mul at line 828 (4 times)]\u001b[0m\n",
      "File \u001b[0;32m/Library/Frameworks/Python.framework/Versions/3.13/lib/python3.13/site-packages/sympy/polys/densearith.py:828\u001b[0m, in \u001b[0;36mdmp_mul\u001b[0;34m(f, g, u, K)\u001b[0m\n\u001b[1;32m    825\u001b[0m     coeff \u001b[38;5;241m=\u001b[39m dmp_zero(v)\n\u001b[1;32m    827\u001b[0m     \u001b[38;5;28;01mfor\u001b[39;00m j \u001b[38;5;129;01min\u001b[39;00m \u001b[38;5;28mrange\u001b[39m(\u001b[38;5;28mmax\u001b[39m(\u001b[38;5;241m0\u001b[39m, i \u001b[38;5;241m-\u001b[39m dg), \u001b[38;5;28mmin\u001b[39m(df, i) \u001b[38;5;241m+\u001b[39m \u001b[38;5;241m1\u001b[39m):\n\u001b[0;32m--> 828\u001b[0m         coeff \u001b[38;5;241m=\u001b[39m dmp_add(coeff, \u001b[43mdmp_mul\u001b[49m\u001b[43m(\u001b[49m\u001b[43mf\u001b[49m\u001b[43m[\u001b[49m\u001b[43mj\u001b[49m\u001b[43m]\u001b[49m\u001b[43m,\u001b[49m\u001b[43m \u001b[49m\u001b[43mg\u001b[49m\u001b[43m[\u001b[49m\u001b[43mi\u001b[49m\u001b[43m \u001b[49m\u001b[38;5;241;43m-\u001b[39;49m\u001b[43m \u001b[49m\u001b[43mj\u001b[49m\u001b[43m]\u001b[49m\u001b[43m,\u001b[49m\u001b[43m \u001b[49m\u001b[43mv\u001b[49m\u001b[43m,\u001b[49m\u001b[43m \u001b[49m\u001b[43mK\u001b[49m\u001b[43m)\u001b[49m, v, K)\n\u001b[1;32m    830\u001b[0m     h\u001b[38;5;241m.\u001b[39mappend(coeff)\n\u001b[1;32m    832\u001b[0m \u001b[38;5;28;01mreturn\u001b[39;00m dmp_strip(h, u)\n",
      "File \u001b[0;32m/Library/Frameworks/Python.framework/Versions/3.13/lib/python3.13/site-packages/sympy/polys/densearith.py:807\u001b[0m, in \u001b[0;36mdmp_mul\u001b[0;34m(f, g, u, K)\u001b[0m\n\u001b[1;32m    793\u001b[0m \u001b[38;5;250m\u001b[39m\u001b[38;5;124;03m\"\"\"\u001b[39;00m\n\u001b[1;32m    794\u001b[0m \u001b[38;5;124;03mMultiply dense polynomials in ``K[X]``.\u001b[39;00m\n\u001b[1;32m    795\u001b[0m \n\u001b[0;32m   (...)\u001b[0m\n\u001b[1;32m    804\u001b[0m \n\u001b[1;32m    805\u001b[0m \u001b[38;5;124;03m\"\"\"\u001b[39;00m\n\u001b[1;32m    806\u001b[0m \u001b[38;5;28;01mif\u001b[39;00m \u001b[38;5;129;01mnot\u001b[39;00m u:\n\u001b[0;32m--> 807\u001b[0m     \u001b[38;5;28;01mreturn\u001b[39;00m \u001b[43mdup_mul\u001b[49m\u001b[43m(\u001b[49m\u001b[43mf\u001b[49m\u001b[43m,\u001b[49m\u001b[43m \u001b[49m\u001b[43mg\u001b[49m\u001b[43m,\u001b[49m\u001b[43m \u001b[49m\u001b[43mK\u001b[49m\u001b[43m)\u001b[49m\n\u001b[1;32m    809\u001b[0m \u001b[38;5;28;01mif\u001b[39;00m f \u001b[38;5;241m==\u001b[39m g:\n\u001b[1;32m    810\u001b[0m     \u001b[38;5;28;01mreturn\u001b[39;00m dmp_sqr(f, u, K)\n",
      "File \u001b[0;32m/Library/Frameworks/Python.framework/Versions/3.13/lib/python3.13/site-packages/sympy/polys/densearith.py:767\u001b[0m, in \u001b[0;36mdup_mul\u001b[0;34m(f, g, K)\u001b[0m\n\u001b[1;32m    764\u001b[0m     coeff \u001b[38;5;241m=\u001b[39m K\u001b[38;5;241m.\u001b[39mzero\n\u001b[1;32m    766\u001b[0m     \u001b[38;5;28;01mfor\u001b[39;00m j \u001b[38;5;129;01min\u001b[39;00m \u001b[38;5;28mrange\u001b[39m(\u001b[38;5;28mmax\u001b[39m(\u001b[38;5;241m0\u001b[39m, i \u001b[38;5;241m-\u001b[39m dg), \u001b[38;5;28mmin\u001b[39m(df, i) \u001b[38;5;241m+\u001b[39m \u001b[38;5;241m1\u001b[39m):\n\u001b[0;32m--> 767\u001b[0m         \u001b[43mcoeff\u001b[49m\u001b[43m \u001b[49m\u001b[38;5;241;43m+\u001b[39;49m\u001b[38;5;241;43m=\u001b[39;49m\u001b[43m \u001b[49m\u001b[43mf\u001b[49m\u001b[43m[\u001b[49m\u001b[43mj\u001b[49m\u001b[43m]\u001b[49m\u001b[38;5;241;43m*\u001b[39;49m\u001b[43mg\u001b[49m\u001b[43m[\u001b[49m\u001b[43mi\u001b[49m\u001b[43m \u001b[49m\u001b[38;5;241;43m-\u001b[39;49m\u001b[43m \u001b[49m\u001b[43mj\u001b[49m\u001b[43m]\u001b[49m\n\u001b[1;32m    769\u001b[0m     h\u001b[38;5;241m.\u001b[39mappend(coeff)\n\u001b[1;32m    771\u001b[0m \u001b[38;5;28;01mreturn\u001b[39;00m dup_strip(h)\n",
      "File \u001b[0;32m/Library/Frameworks/Python.framework/Versions/3.13/lib/python3.13/site-packages/sympy/polys/polyclasses.py:3039\u001b[0m, in \u001b[0;36mANP.__add__\u001b[0;34m(f, g)\u001b[0m\n\u001b[1;32m   3037\u001b[0m \u001b[38;5;28;01mdef\u001b[39;00m\u001b[38;5;250m \u001b[39m\u001b[38;5;21m__add__\u001b[39m(f, g):\n\u001b[1;32m   3038\u001b[0m     \u001b[38;5;28;01mif\u001b[39;00m \u001b[38;5;28misinstance\u001b[39m(g, ANP):\n\u001b[0;32m-> 3039\u001b[0m         \u001b[38;5;28;01mreturn\u001b[39;00m \u001b[43mf\u001b[49m\u001b[38;5;241;43m.\u001b[39;49m\u001b[43madd\u001b[49m\u001b[43m(\u001b[49m\u001b[43mg\u001b[49m\u001b[43m)\u001b[49m\n\u001b[1;32m   3040\u001b[0m     \u001b[38;5;28;01mtry\u001b[39;00m:\n\u001b[1;32m   3041\u001b[0m         g \u001b[38;5;241m=\u001b[39m f\u001b[38;5;241m.\u001b[39mdom\u001b[38;5;241m.\u001b[39mconvert(g)\n",
      "File \u001b[0;32m/Library/Frameworks/Python.framework/Versions/3.13/lib/python3.13/site-packages/sympy/polys/polyclasses.py:2965\u001b[0m, in \u001b[0;36mANP.add\u001b[0;34m(f, g)\u001b[0m\n\u001b[1;32m   2963\u001b[0m \u001b[38;5;28;01mdef\u001b[39;00m\u001b[38;5;250m \u001b[39m\u001b[38;5;21madd\u001b[39m(f, g):\n\u001b[1;32m   2964\u001b[0m     F, G, mod, dom \u001b[38;5;241m=\u001b[39m f\u001b[38;5;241m.\u001b[39munify_ANP(g)\n\u001b[0;32m-> 2965\u001b[0m     \u001b[38;5;28;01mreturn\u001b[39;00m \u001b[43mf\u001b[49m\u001b[38;5;241;43m.\u001b[39;49m\u001b[43mnew\u001b[49m\u001b[43m(\u001b[49m\u001b[43mF\u001b[49m\u001b[38;5;241;43m.\u001b[39;49m\u001b[43madd\u001b[49m\u001b[43m(\u001b[49m\u001b[43mG\u001b[49m\u001b[43m)\u001b[49m\u001b[43m,\u001b[49m\u001b[43m \u001b[49m\u001b[43mmod\u001b[49m\u001b[43m,\u001b[49m\u001b[43m \u001b[49m\u001b[43mdom\u001b[49m\u001b[43m)\u001b[49m\n",
      "File \u001b[0;32m/Library/Frameworks/Python.framework/Versions/3.13/lib/python3.13/site-packages/sympy/polys/polyclasses.py:2813\u001b[0m, in \u001b[0;36mANP.new\u001b[0;34m(cls, rep, mod, dom)\u001b[0m\n\u001b[1;32m   2811\u001b[0m \u001b[38;5;129m@classmethod\u001b[39m\n\u001b[1;32m   2812\u001b[0m \u001b[38;5;28;01mdef\u001b[39;00m\u001b[38;5;250m \u001b[39m\u001b[38;5;21mnew\u001b[39m(\u001b[38;5;28mcls\u001b[39m, rep, mod, dom):\n\u001b[0;32m-> 2813\u001b[0m     \u001b[38;5;28;01mif\u001b[39;00m \u001b[38;5;129;01mnot\u001b[39;00m (\u001b[43mrep\u001b[49m\u001b[38;5;241;43m.\u001b[39;49m\u001b[43mdom\u001b[49m\u001b[43m \u001b[49m\u001b[38;5;241;43m==\u001b[39;49m\u001b[43m \u001b[49m\u001b[43mmod\u001b[49m\u001b[38;5;241;43m.\u001b[39;49m\u001b[43mdom\u001b[49m\u001b[43m \u001b[49m\u001b[38;5;241;43m==\u001b[39;49m\u001b[43m \u001b[49m\u001b[43mdom\u001b[49m):\n\u001b[1;32m   2814\u001b[0m         \u001b[38;5;28;01mraise\u001b[39;00m \u001b[38;5;167;01mRuntimeError\u001b[39;00m(\u001b[38;5;124m\"\u001b[39m\u001b[38;5;124mInconsistent domain\u001b[39m\u001b[38;5;124m\"\u001b[39m)\n\u001b[1;32m   2815\u001b[0m     obj \u001b[38;5;241m=\u001b[39m \u001b[38;5;28msuper\u001b[39m()\u001b[38;5;241m.\u001b[39m\u001b[38;5;21m__new__\u001b[39m(\u001b[38;5;28mcls\u001b[39m)\n",
      "File \u001b[0;32m/Library/Frameworks/Python.framework/Versions/3.13/lib/python3.13/site-packages/sympy/polys/domains/rationalfield.py:48\u001b[0m, in \u001b[0;36mRationalField.__eq__\u001b[0;34m(self, other)\u001b[0m\n\u001b[1;32m     45\u001b[0m \u001b[38;5;28;01mdef\u001b[39;00m\u001b[38;5;250m \u001b[39m\u001b[38;5;21m__init__\u001b[39m(\u001b[38;5;28mself\u001b[39m):\n\u001b[1;32m     46\u001b[0m     \u001b[38;5;28;01mpass\u001b[39;00m\n\u001b[0;32m---> 48\u001b[0m \u001b[38;5;28;01mdef\u001b[39;00m\u001b[38;5;250m \u001b[39m\u001b[38;5;21m__eq__\u001b[39m(\u001b[38;5;28mself\u001b[39m, other):\n\u001b[1;32m     49\u001b[0m \u001b[38;5;250m    \u001b[39m\u001b[38;5;124;03m\"\"\"Returns ``True`` if two domains are equivalent. \"\"\"\u001b[39;00m\n\u001b[1;32m     50\u001b[0m     \u001b[38;5;28;01mif\u001b[39;00m \u001b[38;5;28misinstance\u001b[39m(other, RationalField):\n",
      "\u001b[0;31mKeyboardInterrupt\u001b[0m: "
     ]
    }
   ],
   "source": [
    "matrix_to_pauli_basis(H_transformed)"
   ]
  }
 ],
 "metadata": {
  "kernelspec": {
   "display_name": "Python 3",
   "language": "python",
   "name": "python3"
  },
  "language_info": {
   "codemirror_mode": {
    "name": "ipython",
    "version": 3
   },
   "file_extension": ".py",
   "mimetype": "text/x-python",
   "name": "python",
   "nbconvert_exporter": "python",
   "pygments_lexer": "ipython3",
   "version": "3.13.0"
  }
 },
 "nbformat": 4,
 "nbformat_minor": 5
}
