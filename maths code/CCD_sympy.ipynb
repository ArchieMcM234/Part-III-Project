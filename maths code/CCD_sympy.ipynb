{
 "cells": [
  {
   "cell_type": "code",
   "execution_count": 185,
   "id": "import-sympy",
   "metadata": {},
   "outputs": [],
   "source": [
    "import sympy as sp"
   ]
  },
  {
   "cell_type": "code",
   "execution_count": 186,
   "id": "pauli-matrices",
   "metadata": {},
   "outputs": [],
   "source": [
    "# Pauli matrices\n",
    "sigma_z = sp.Matrix([[1, 0], [0, -1]])\n",
    "sigma_x = sp.Matrix([[0, 1], [1, 0]])\n",
    "sigma_y = sp.Matrix([[0, -sp.I], [sp.I, 0]])\n",
    "identity = sp.eye(2)"
   ]
  },
  {
   "cell_type": "code",
   "execution_count": 187,
   "id": "define-variables",
   "metadata": {},
   "outputs": [],
   "source": [
    "# Define variables\n",
    "t, omega, omega_0, Omega, phi_0, epsilon, omega_m, theta_m, sig_sym_x, sig_sym_y, sig_sym_z, tau, delta = sp.symbols(\n",
    "    't omega omega_0 Omega phi_0 epsilon omega_m theta_m sigma_x sigma_y sigma_z tau delta', real=True\n",
    ")\n",
    "hbar = sp.Symbol('hbar', real=True)  # Reduced Planck constant"
   ]
  },
  {
   "cell_type": "markdown",
   "id": "ffae22fd",
   "metadata": {},
   "source": [
    "So normally we go to a frame rotating at omega about the z axis - but here we want to go to a frame that removes the phase in the final result."
   ]
  },
  {
   "cell_type": "code",
   "execution_count": 188,
   "id": "define-unitary-matrix",
   "metadata": {},
   "outputs": [],
   "source": [
    "# Define the unitary matrix U\n",
    "# This is the simple to omega frame\n",
    "# U = sp.Matrix([\n",
    "#     [sp.exp(-sp.I * omega * t / 2), 0],\n",
    "#     [0, sp.exp(sp.I * omega * t / 2)]\n",
    "# ])"
   ]
  },
  {
   "cell_type": "markdown",
   "id": "272fa18d",
   "metadata": {},
   "source": [
    "Define the frame:"
   ]
  },
  {
   "cell_type": "code",
   "execution_count": 189,
   "id": "define-Ht",
   "metadata": {},
   "outputs": [
    {
     "data": {
      "text/latex": [
       "$\\displaystyle \\left[\\begin{matrix}\\hbar \\left(\\frac{\\omega}{2} - \\frac{\\epsilon \\omega_{m} \\cos{\\left(\\omega_{m} t - \\theta_{m} \\right)}}{\\Omega}\\right) & 0\\\\0 & - \\hbar \\left(\\frac{\\omega}{2} - \\frac{\\epsilon \\omega_{m} \\cos{\\left(\\omega_{m} t - \\theta_{m} \\right)}}{\\Omega}\\right)\\end{matrix}\\right]$"
      ],
      "text/plain": [
       "Matrix([\n",
       "[hbar*(omega/2 - epsilon*omega_m*cos(omega_m*t - theta_m)/Omega),                                                                0],\n",
       "[                                                              0, -hbar*(omega/2 - epsilon*omega_m*cos(omega_m*t - theta_m)/Omega)]])"
      ]
     },
     "execution_count": 189,
     "metadata": {},
     "output_type": "execute_result"
    }
   ],
   "source": [
    "# Define H(t)\n",
    "frame_ham =  hbar*(omega / 2 - (epsilon * omega_m / Omega) * sp.cos(omega_m * t - theta_m)) * sigma_z\n",
    "frame_ham"
   ]
  },
  {
   "cell_type": "code",
   "execution_count": 190,
   "id": "define-Ut",
   "metadata": {},
   "outputs": [
    {
     "data": {
      "text/latex": [
       "$\\displaystyle \\left[\\begin{matrix}e^{\\frac{i \\left(- \\frac{\\Omega \\omega t}{2} + \\epsilon \\sin{\\left(\\omega_{m} t - \\theta_{m} \\right)}\\right)}{\\Omega}} & 0\\\\0 & e^{\\frac{i \\left(\\frac{\\Omega \\omega t}{2} - \\epsilon \\sin{\\left(\\omega_{m} t - \\theta_{m} \\right)}\\right)}{\\Omega}}\\end{matrix}\\right]$"
      ],
      "text/plain": [
       "Matrix([\n",
       "[exp(I*(-Omega*omega*t/2 + epsilon*sin(omega_m*t - theta_m))/Omega),                                                                 0],\n",
       "[                                                                 0, exp(I*(Omega*omega*t/2 - epsilon*sin(omega_m*t - theta_m))/Omega)]])"
      ]
     },
     "execution_count": 190,
     "metadata": {},
     "output_type": "execute_result"
    }
   ],
   "source": [
    "# Define U(t)\n",
    "U = sp.exp(-(sp.I/hbar)  * sp.integrate(frame_ham, t))\n",
    "U"
   ]
  },
  {
   "cell_type": "markdown",
   "id": "084daf34",
   "metadata": {},
   "source": [
    "Yeah this needs to be checked - for pauli 1/2 problems"
   ]
  },
  {
   "cell_type": "code",
   "execution_count": 191,
   "id": "define-lab-frame-hamiltonian",
   "metadata": {},
   "outputs": [
    {
     "data": {
      "text/latex": [
       "$\\displaystyle \\left[\\begin{matrix}\\frac{\\omega_{0}}{2} & \\Omega \\left(\\frac{e^{i \\left(\\omega t + \\phi_{0} - \\frac{2 \\epsilon \\sin{\\left(\\omega_{m} t - \\theta_{m} \\right)}}{\\Omega}\\right)}}{2} + \\frac{e^{- i \\left(\\omega t + \\phi_{0} - \\frac{2 \\epsilon \\sin{\\left(\\omega_{m} t - \\theta_{m} \\right)}}{\\Omega}\\right)}}{2}\\right)\\\\\\Omega \\left(\\frac{e^{i \\left(\\omega t + \\phi_{0} - \\frac{2 \\epsilon \\sin{\\left(\\omega_{m} t - \\theta_{m} \\right)}}{\\Omega}\\right)}}{2} + \\frac{e^{- i \\left(\\omega t + \\phi_{0} - \\frac{2 \\epsilon \\sin{\\left(\\omega_{m} t - \\theta_{m} \\right)}}{\\Omega}\\right)}}{2}\\right) & - \\frac{\\omega_{0}}{2}\\end{matrix}\\right]$"
      ],
      "text/plain": [
       "Matrix([\n",
       "[                                                                                                                                             omega_0/2, Omega*(exp(I*(omega*t + phi_0 - 2*epsilon*sin(omega_m*t - theta_m)/Omega))/2 + exp(-I*(omega*t + phi_0 - 2*epsilon*sin(omega_m*t - theta_m)/Omega))/2)],\n",
       "[Omega*(exp(I*(omega*t + phi_0 - 2*epsilon*sin(omega_m*t - theta_m)/Omega))/2 + exp(-I*(omega*t + phi_0 - 2*epsilon*sin(omega_m*t - theta_m)/Omega))/2),                                                                                                                                             -omega_0/2]])"
      ]
     },
     "execution_count": 191,
     "metadata": {},
     "output_type": "execute_result"
    }
   ],
   "source": [
    "# Define the lab frame Hamiltonian\n",
    "# Phase modulated CCD Hamiltonian\n",
    "cos_argument = omega * t + phi_0 - (2 * epsilon / Omega) * sp.sin(omega_m * t - theta_m)\n",
    "cos_exp_argument = (sp.exp(sp.I * cos_argument) + sp.exp(-sp.I * cos_argument)) / 2\n",
    "\n",
    "H_lab = sp.Matrix([\n",
    "    [ omega_0 / 2, Omega * cos_exp_argument],\n",
    "    [Omega * cos_exp_argument, -  omega_0 / 2]\n",
    "])\n",
    "H_lab"
   ]
  },
  {
   "cell_type": "markdown",
   "id": "43d89dcd",
   "metadata": {},
   "source": [
    "This is the hamiltonian for simple driving"
   ]
  },
  {
   "cell_type": "code",
   "execution_count": 192,
   "id": "construct-hamiltonian-matrix",
   "metadata": {},
   "outputs": [],
   "source": [
    "# Construct the Hamiltonian matrix\n",
    "# gamma, Bx = sp.symbols('gamma Bx')\n",
    "# H_lab = (hbar * gamma * Bx / 2) * sigma_x * (sp.exp(sp.I * omega * t) + sp.exp(-sp.I * omega * t)) / 2 + sp.Matrix([[hbar * omega_0 / 2, 0], [0, -hbar * omega_0 / 2]])"
   ]
  },
  {
   "cell_type": "markdown",
   "id": "b57ed8a9",
   "metadata": {},
   "source": [
    "\\begin{equation}\n",
    "H_{eff} = \\left( \\hat{U} \\hat{H} \\hat{U}^\\dagger + i\\hbar \\hat{U} \\frac{d\\hat{U}^\\dagger}{dt} \\right) \n",
    "\\end{equation}"
   ]
  },
  {
   "cell_type": "code",
   "execution_count": 193,
   "id": "compute-U-dagger-dt",
   "metadata": {},
   "outputs": [],
   "source": [
    "# Compute U^dagger (Hermitian conjugate of U)\n",
    "U_dagger = U.H\n",
    "# Compute d(U^dagger)/dt\n",
    "U_dagger_dt = sp.diff(U_dagger, t)\n",
    "# Full expression\n",
    "H = U * H_lab * U_dagger + sp.I * U * U_dagger_dt"
   ]
  },
  {
   "cell_type": "code",
   "execution_count": 194,
   "id": "expand-hamiltonian",
   "metadata": {},
   "outputs": [
    {
     "data": {
      "text/latex": [
       "$\\displaystyle \\left[\\begin{matrix}- \\frac{\\omega}{2} + \\frac{\\omega_{0}}{2} + \\frac{\\epsilon \\omega_{m} \\sin{\\left(\\theta_{m} \\right)} \\sin{\\left(\\omega_{m} t \\right)}}{\\Omega} + \\frac{\\epsilon \\omega_{m} \\cos{\\left(\\theta_{m} \\right)} \\cos{\\left(\\omega_{m} t \\right)}}{\\Omega} & \\frac{\\Omega e^{i \\phi_{0}}}{2} + \\frac{\\Omega e^{- i \\phi_{0}} e^{- 2 i \\omega t} e^{- \\frac{4 i \\epsilon \\sin{\\left(\\theta_{m} \\right)} \\cos{\\left(\\omega_{m} t \\right)}}{\\Omega} + \\frac{4 i \\epsilon \\sin{\\left(\\omega_{m} t \\right)} \\cos{\\left(\\theta_{m} \\right)}}{\\Omega}}}{2}\\\\\\frac{\\Omega e^{i \\phi_{0}} e^{2 i \\omega t} e^{\\frac{4 i \\epsilon \\sin{\\left(\\theta_{m} \\right)} \\cos{\\left(\\omega_{m} t \\right)}}{\\Omega} - \\frac{4 i \\epsilon \\sin{\\left(\\omega_{m} t \\right)} \\cos{\\left(\\theta_{m} \\right)}}{\\Omega}}}{2} + \\frac{\\Omega e^{- i \\phi_{0}}}{2} & \\frac{\\omega}{2} - \\frac{\\omega_{0}}{2} - \\frac{\\epsilon \\omega_{m} \\sin{\\left(\\theta_{m} \\right)} \\sin{\\left(\\omega_{m} t \\right)}}{\\Omega} - \\frac{\\epsilon \\omega_{m} \\cos{\\left(\\theta_{m} \\right)} \\cos{\\left(\\omega_{m} t \\right)}}{\\Omega}\\end{matrix}\\right]$"
      ],
      "text/plain": [
       "Matrix([\n",
       "[                                    -omega/2 + omega_0/2 + epsilon*omega_m*sin(theta_m)*sin(omega_m*t)/Omega + epsilon*omega_m*cos(theta_m)*cos(omega_m*t)/Omega, Omega*exp(I*phi_0)/2 + Omega*exp(-I*phi_0)*exp(-2*I*omega*t)*exp(-4*I*epsilon*sin(theta_m)*cos(omega_m*t)/Omega + 4*I*epsilon*sin(omega_m*t)*cos(theta_m)/Omega)/2],\n",
       "[Omega*exp(I*phi_0)*exp(2*I*omega*t)*exp(4*I*epsilon*sin(theta_m)*cos(omega_m*t)/Omega - 4*I*epsilon*sin(omega_m*t)*cos(theta_m)/Omega)/2 + Omega*exp(-I*phi_0)/2,                                        omega/2 - omega_0/2 - epsilon*omega_m*sin(theta_m)*sin(omega_m*t)/Omega - epsilon*omega_m*cos(theta_m)*cos(omega_m*t)/Omega]])"
      ]
     },
     "execution_count": 194,
     "metadata": {},
     "output_type": "execute_result"
    }
   ],
   "source": [
    "# Expand the Hamiltonian\n",
    "H = H.expand(trig=True)\n",
    "H"
   ]
  },
  {
   "cell_type": "markdown",
   "id": "7dc9b13d",
   "metadata": {},
   "source": [
    "Make the RWA approximation - sub e^i2wt ->0\n"
   ]
  },
  {
   "cell_type": "code",
   "execution_count": 195,
   "id": "simplify-hamiltonian",
   "metadata": {},
   "outputs": [],
   "source": [
    "H = sp.Matrix(H)\n",
    "\n",
    "# Simplify Hamiltonian by removing fast oscillating terms\n",
    "H[0, 1] = H[0, 1].subs(sp.exp(-2 * sp.I * omega * t), 0)\n",
    "H[1, 0] = H[1, 0].subs(sp.exp(2 * sp.I * omega * t), 0)"
   ]
  },
  {
   "cell_type": "code",
   "execution_count": 196,
   "id": "display-simplified-expression",
   "metadata": {},
   "outputs": [
    {
     "data": {
      "text/latex": [
       "$\\displaystyle \\left[\\begin{matrix}- \\frac{\\omega}{2} + \\frac{\\omega_{0}}{2} + \\frac{\\epsilon \\omega_{m} \\cos{\\left(\\omega_{m} t - \\theta_{m} \\right)}}{\\Omega} & \\frac{\\Omega e^{i \\phi_{0}}}{2}\\\\\\frac{\\Omega e^{- i \\phi_{0}}}{2} & \\frac{\\omega}{2} - \\frac{\\omega_{0}}{2} - \\frac{\\epsilon \\omega_{m} \\cos{\\left(\\omega_{m} t - \\theta_{m} \\right)}}{\\Omega}\\end{matrix}\\right]$"
      ],
      "text/plain": [
       "Matrix([\n",
       "[-omega/2 + omega_0/2 + epsilon*omega_m*cos(omega_m*t - theta_m)/Omega,                                                 Omega*exp(I*phi_0)/2],\n",
       "[                                                Omega*exp(-I*phi_0)/2, omega/2 - omega_0/2 - epsilon*omega_m*cos(omega_m*t - theta_m)/Omega]])"
      ]
     },
     "execution_count": 196,
     "metadata": {},
     "output_type": "execute_result"
    }
   ],
   "source": [
    "# Display the simplified expression\n",
    "H = sp.simplify(H)\n",
    "H"
   ]
  },
  {
   "cell_type": "code",
   "execution_count": 197,
   "id": "simplify-pauli-matrices",
   "metadata": {},
   "outputs": [
    {
     "data": {
      "text/latex": [
       "$\\displaystyle \\frac{\\Omega \\sigma_{x} \\cos{\\left(\\phi_{0} \\right)}}{2} - \\frac{\\Omega \\sigma_{y} \\sin{\\left(\\phi_{0} \\right)}}{2} + \\frac{\\sigma_{z} \\left(\\delta + \\frac{2 \\epsilon \\omega_{m} \\cos{\\left(\\omega_{m} t - \\theta_{m} \\right)}}{\\Omega}\\right)}{2}$"
      ],
      "text/plain": [
       "Omega*sigma_x*cos(phi_0)/2 - Omega*sigma_y*sin(phi_0)/2 + sigma_z*(delta + 2*epsilon*omega_m*cos(omega_m*t - theta_m)/Omega)/2"
      ]
     },
     "execution_count": 197,
     "metadata": {},
     "output_type": "execute_result"
    }
   ],
   "source": [
    "# Simplify Hamiltonian in terms of Pauli matrices\n",
    "# note the half makes the inner product like thing work for the Pauli matrices\n",
    "pauli_expression = sp.Rational(1, 2) *(sp.simplify(sp.trace(H.H * sigma_z)) * sig_sym_z + sp.simplify(sp.trace(H.H * sigma_x)) * sig_sym_x + sp.simplify(sp.trace(H.H * sigma_y)) * sig_sym_y)\n",
    "\n",
    "pauli_expression = pauli_expression.subs(omega_0-omega, delta)\n",
    "pauli_expression"
   ]
  },
  {
   "cell_type": "code",
   "execution_count": 198,
   "id": "46e66470",
   "metadata": {},
   "outputs": [
    {
     "name": "stdout",
     "output_type": "stream",
     "text": [
      "\\frac{\\Omega \\sigma_{x} \\cos{\\left(\\phi_{0} \\right)}}{2} - \\frac{\\Omega \\sigma_{y} \\sin{\\left(\\phi_{0} \\right)}}{2} + \\frac{\\sigma_{z} \\left(\\delta + \\frac{2 \\epsilon \\omega_{m} \\cos{\\left(\\omega_{m} t - \\theta_{m} \\right)}}{\\Omega}\\right)}{2}\n"
     ]
    }
   ],
   "source": [
    "# Convert to LaTeX string\n",
    "latex_str = sp.latex(pauli_expression)\n",
    "print(latex_str)"
   ]
  },
  {
   "cell_type": "markdown",
   "id": "f3f87321",
   "metadata": {},
   "source": [
    "The target expression is:\n",
    "\n",
    "\\begin{equation}\n",
    "H_\\mathrm{I} = -\\frac{\\delta}{2}\\sigma_z + \\frac{\\Omega}{2}\\left[\\cos(\\phi_0)\\sigma_x + \\sin(\\phi_0)\\sigma_y\\right] + \\epsilon_\\mathrm{m}\\frac{\\omega_\\mathrm{m}}{\\Omega}\\cos(\\omega_\\mathrm{m}t - \\theta_\\mathrm{m})\\sigma_z,\n",
    "\\end{equation}\n",
    "\n",
    "\n",
    "Currently two things wrong: the -ve sign on the sin and the factors of two?\n",
    "- the factors of 2 - just from how I was taking inner product of pauli matrices\n",
    "- - sin????? hmmm\n",
    "\n",
    ":notably i think this is a matter of the definition of the rotation - I think if I had flipped natural freq and then if I flip the direction of the rotation I get the right sin and cos stuff\n",
    "\n",
    "SO I think I have to descide on direction convention"
   ]
  },
  {
   "cell_type": "markdown",
   "id": "651fc49f",
   "metadata": {},
   "source": [
    "### Need to find the frame defining hamiltonian for the next change"
   ]
  },
  {
   "cell_type": "code",
   "execution_count": 199,
   "id": "c1626efa",
   "metadata": {},
   "outputs": [
    {
     "data": {
      "text/latex": [
       "$\\displaystyle \\frac{\\sigma_{x} \\left(\\Omega^{2} e^{\\frac{i \\left(9 \\Omega \\omega t + 5 \\Omega \\omega_{m} t + 6 \\Omega \\phi_{0} + 6 \\epsilon \\sin{\\left(\\omega_{m} t - \\theta_{m} \\right)}\\right)}{2 \\Omega}} + \\Omega^{2} e^{\\frac{i \\left(9 \\Omega \\omega t + 7 \\Omega \\omega_{m} t + 6 \\Omega \\phi_{0} + 6 \\epsilon \\sin{\\left(\\omega_{m} t - \\theta_{m} \\right)}\\right)}{2 \\Omega}} + \\Omega^{2} e^{\\frac{i \\left(11 \\Omega \\omega t + 5 \\Omega \\omega_{m} t + 6 \\Omega \\phi_{0} + 2 \\epsilon \\sin{\\left(\\omega_{m} t - \\theta_{m} \\right)}\\right)}{2 \\Omega}} + \\Omega^{2} e^{\\frac{i \\left(11 \\Omega \\omega t + 7 \\Omega \\omega_{m} t + 6 \\Omega \\phi_{0} + 2 \\epsilon \\sin{\\left(\\omega_{m} t - \\theta_{m} \\right)}\\right)}{2 \\Omega}} + \\Omega \\left(- \\omega + \\omega_{0}\\right) e^{\\frac{i \\left(11 \\omega t + 6 \\omega_{m} t + 8 \\phi_{0} + \\frac{\\Omega \\omega_{m} t + 2 \\epsilon \\sin{\\left(\\omega_{m} t - \\theta_{m} \\right)}}{\\Omega}\\right)}{2}} + \\Omega \\left(\\omega - \\omega_{0}\\right) e^{i \\left(\\frac{11 \\omega t}{2} + \\frac{5 \\omega_{m} t}{2} + 4 \\phi_{0} + \\frac{\\epsilon \\sin{\\left(\\omega_{m} t - \\theta_{m} \\right)}}{\\Omega}\\right)} + \\Omega \\left(\\Omega e^{\\frac{i \\left(\\Omega \\omega t + 2 \\Omega \\phi_{0} - 2 \\epsilon \\sin{\\left(\\omega_{m} t - \\theta_{m} \\right)}\\right)}{2 \\Omega}} + \\Omega e^{\\frac{i \\left(3 \\Omega \\omega t + 2 \\Omega \\phi_{0} - 6 \\epsilon \\sin{\\left(\\omega_{m} t - \\theta_{m} \\right)}\\right)}{2 \\Omega}} - \\omega e^{\\frac{i \\left(\\Omega \\omega t - 2 \\epsilon \\sin{\\left(\\omega_{m} t - \\theta_{m} \\right)}\\right)}{2 \\Omega}} + \\omega_{0} e^{\\frac{i \\left(\\Omega \\omega t - 2 \\epsilon \\sin{\\left(\\omega_{m} t - \\theta_{m} \\right)}\\right)}{2 \\Omega}}\\right) e^{\\frac{i \\left(12 \\omega t + 5 \\omega_{m} t + 8 \\phi_{0}\\right)}{2}} + \\Omega \\left(\\Omega e^{\\frac{i \\left(\\Omega \\omega t + \\Omega \\omega_{m} t + 2 \\Omega \\phi_{0} - 2 \\epsilon \\sin{\\left(\\omega_{m} t - \\theta_{m} \\right)}\\right)}{2 \\Omega}} + \\Omega e^{\\frac{i \\left(3 \\Omega \\omega t + \\Omega \\omega_{m} t + 2 \\Omega \\phi_{0} - 6 \\epsilon \\sin{\\left(\\omega_{m} t - \\theta_{m} \\right)}\\right)}{2 \\Omega}} + \\omega e^{\\frac{i \\left(\\Omega \\omega t + \\Omega \\omega_{m} t - 2 \\epsilon \\sin{\\left(\\omega_{m} t - \\theta_{m} \\right)}\\right)}{2 \\Omega}} - \\omega_{0} e^{\\frac{i \\left(\\Omega \\omega t + \\Omega \\omega_{m} t - 2 \\epsilon \\sin{\\left(\\omega_{m} t - \\theta_{m} \\right)}\\right)}{2 \\Omega}}\\right) e^{i \\left(6 \\omega t + 3 \\omega_{m} t + 4 \\phi_{0}\\right)} - 2 \\epsilon \\omega_{m} e^{i \\left(\\frac{11 \\omega t}{2} + \\frac{5 \\omega_{m} t}{2} + 4 \\phi_{0} + \\frac{\\epsilon \\sin{\\left(\\omega_{m} t - \\theta_{m} \\right)}}{\\Omega}\\right)} \\cos{\\left(\\omega_{m} t - \\theta_{m} \\right)} - 2 \\epsilon \\omega_{m} e^{i \\left(6 \\omega t + 3 \\omega_{m} t + 4 \\phi_{0} + \\frac{\\Omega \\omega t + \\Omega \\omega_{m} t - 2 \\epsilon \\sin{\\left(\\omega_{m} t - \\theta_{m} \\right)}}{2 \\Omega}\\right)} \\cos{\\left(\\omega_{m} t - \\theta_{m} \\right)} + 2 \\epsilon \\omega_{m} e^{\\frac{i \\left(11 \\omega t + 6 \\omega_{m} t + 8 \\phi_{0} + \\frac{\\Omega \\omega_{m} t + 2 \\epsilon \\sin{\\left(\\omega_{m} t - \\theta_{m} \\right)}}{\\Omega}\\right)}{2}} \\cos{\\left(\\omega_{m} t - \\theta_{m} \\right)} + 2 \\epsilon \\omega_{m} e^{\\frac{i \\left(12 \\omega t + 5 \\omega_{m} t + 8 \\phi_{0} + \\frac{\\Omega \\omega t - 2 \\epsilon \\sin{\\left(\\omega_{m} t - \\theta_{m} \\right)}}{\\Omega}\\right)}{2}} \\cos{\\left(\\omega_{m} t - \\theta_{m} \\right)}\\right) e^{- i \\left(6 \\omega t + 3 \\omega_{m} t + 4 \\phi_{0}\\right)}}{8 \\Omega} + \\frac{i \\sigma_{y} \\left(\\left(- \\Omega^{2} e^{\\frac{i \\left(\\Omega \\omega t + 2 \\Omega \\omega_{m} t + 2 \\Omega \\phi_{0} + 2 \\epsilon \\sin{\\left(\\omega_{m} t - \\theta_{m} \\right)}\\right)}{2 \\Omega}} - \\Omega^{2} e^{\\frac{i \\left(\\Omega \\omega t + 4 \\Omega \\omega_{m} t + 2 \\Omega \\phi_{0} + 2 \\epsilon \\sin{\\left(\\omega_{m} t - \\theta_{m} \\right)}\\right)}{2 \\Omega}} + \\Omega \\left(- \\Omega e^{\\frac{i \\left(3 \\Omega \\omega t + 2 \\Omega \\phi_{0} - 6 \\epsilon \\sin{\\left(\\omega_{m} t - \\theta_{m} \\right)}\\right)}{2 \\Omega}} + \\omega e^{\\frac{i \\left(\\Omega \\omega t - 2 \\epsilon \\sin{\\left(\\omega_{m} t - \\theta_{m} \\right)}\\right)}{2 \\Omega}} - \\omega_{0} e^{\\frac{i \\left(\\Omega \\omega t - 2 \\epsilon \\sin{\\left(\\omega_{m} t - \\theta_{m} \\right)}\\right)}{2 \\Omega}}\\right) e^{i \\left(\\omega t + \\omega_{m} t + 2 \\phi_{0}\\right)} + \\Omega \\left(- \\Omega e^{\\frac{i \\left(3 \\Omega \\omega t + \\Omega \\omega_{m} t + 2 \\Omega \\phi_{0} - 6 \\epsilon \\sin{\\left(\\omega_{m} t - \\theta_{m} \\right)}\\right)}{2 \\Omega}} - \\omega e^{\\frac{i \\left(\\Omega \\omega t + \\Omega \\omega_{m} t - 2 \\epsilon \\sin{\\left(\\omega_{m} t - \\theta_{m} \\right)}\\right)}{2 \\Omega}} + \\omega_{0} e^{\\frac{i \\left(\\Omega \\omega t + \\Omega \\omega_{m} t - 2 \\epsilon \\sin{\\left(\\omega_{m} t - \\theta_{m} \\right)}\\right)}{2 \\Omega}}\\right) e^{\\frac{i \\left(2 \\omega t + 3 \\omega_{m} t + 4 \\phi_{0}\\right)}{2}} - 2 \\epsilon \\omega_{m} e^{i \\left(\\omega t + \\omega_{m} t + 2 \\phi_{0} + \\frac{\\Omega \\omega t - 2 \\epsilon \\sin{\\left(\\omega_{m} t - \\theta_{m} \\right)}}{2 \\Omega}\\right)} \\cos{\\left(\\omega_{m} t - \\theta_{m} \\right)} + 2 \\epsilon \\omega_{m} e^{\\frac{i \\left(2 \\omega t + 3 \\omega_{m} t + 4 \\phi_{0} + \\frac{\\Omega \\omega t + \\Omega \\omega_{m} t - 2 \\epsilon \\sin{\\left(\\omega_{m} t - \\theta_{m} \\right)}}{\\Omega}\\right)}{2}} \\cos{\\left(\\omega_{m} t - \\theta_{m} \\right)}\\right) e^{i \\left(5 \\omega t + 2 \\omega_{m} t + 2 \\phi_{0}\\right)} + \\left(\\Omega^{2} e^{\\frac{i \\left(7 \\Omega \\omega t + 3 \\Omega \\omega_{m} t + 2 \\Omega \\phi_{0} + 6 \\epsilon \\sin{\\left(\\omega_{m} t - \\theta_{m} \\right)}\\right)}{2 \\Omega}} + \\Omega^{2} e^{\\frac{i \\left(7 \\Omega \\omega t + 5 \\Omega \\omega_{m} t + 2 \\Omega \\phi_{0} + 6 \\epsilon \\sin{\\left(\\omega_{m} t - \\theta_{m} \\right)}\\right)}{2 \\Omega}} + \\Omega^{2} e^{\\frac{i \\left(11 \\Omega \\omega t + 3 \\Omega \\omega_{m} t + 6 \\Omega \\phi_{0} - 2 \\epsilon \\sin{\\left(\\omega_{m} t - \\theta_{m} \\right)}\\right)}{2 \\Omega}} + \\Omega^{2} e^{\\frac{i \\left(11 \\Omega \\omega t + 5 \\Omega \\omega_{m} t + 6 \\Omega \\phi_{0} - 2 \\epsilon \\sin{\\left(\\omega_{m} t - \\theta_{m} \\right)}\\right)}{2 \\Omega}} + \\Omega \\left(- \\omega + \\omega_{0}\\right) e^{\\frac{i \\left(9 \\omega t + 4 \\omega_{m} t + 4 \\phi_{0} + \\frac{\\Omega \\omega_{m} t + 2 \\epsilon \\sin{\\left(\\omega_{m} t - \\theta_{m} \\right)}}{\\Omega}\\right)}{2}} + \\Omega \\left(\\omega - \\omega_{0}\\right) e^{i \\left(\\frac{9 \\omega t}{2} + \\frac{3 \\omega_{m} t}{2} + 2 \\phi_{0} + \\frac{\\epsilon \\sin{\\left(\\omega_{m} t - \\theta_{m} \\right)}}{\\Omega}\\right)} - 2 \\epsilon \\omega_{m} e^{i \\left(\\frac{9 \\omega t}{2} + \\frac{3 \\omega_{m} t}{2} + 2 \\phi_{0} + \\frac{\\epsilon \\sin{\\left(\\omega_{m} t - \\theta_{m} \\right)}}{\\Omega}\\right)} \\cos{\\left(\\omega_{m} t - \\theta_{m} \\right)} + 2 \\epsilon \\omega_{m} e^{\\frac{i \\left(9 \\omega t + 4 \\omega_{m} t + 4 \\phi_{0} + \\frac{\\Omega \\omega_{m} t + 2 \\epsilon \\sin{\\left(\\omega_{m} t - \\theta_{m} \\right)}}{\\Omega}\\right)}{2}} \\cos{\\left(\\omega_{m} t - \\theta_{m} \\right)}\\right) e^{\\frac{i \\left(2 \\omega t + 3 \\omega_{m} t + 4 \\phi_{0}\\right)}{2}}\\right) e^{- \\frac{i \\left(12 \\omega t + 7 \\omega_{m} t + 8 \\phi_{0}\\right)}{2}}}{8 \\Omega} + \\frac{\\sigma_{z} \\left(- \\Omega^{2} e^{\\frac{i \\left(9 \\Omega \\omega t + 5 \\Omega \\omega_{m} t + 6 \\Omega \\phi_{0} + 6 \\epsilon \\sin{\\left(\\omega_{m} t - \\theta_{m} \\right)}\\right)}{2 \\Omega}} + \\Omega^{2} e^{\\frac{i \\left(9 \\Omega \\omega t + 7 \\Omega \\omega_{m} t + 6 \\Omega \\phi_{0} + 6 \\epsilon \\sin{\\left(\\omega_{m} t - \\theta_{m} \\right)}\\right)}{2 \\Omega}} + \\Omega^{2} e^{\\frac{i \\left(11 \\Omega \\omega t + 5 \\Omega \\omega_{m} t + 6 \\Omega \\phi_{0} + 2 \\epsilon \\sin{\\left(\\omega_{m} t - \\theta_{m} \\right)}\\right)}{2 \\Omega}} - \\Omega^{2} e^{\\frac{i \\left(11 \\Omega \\omega t + 7 \\Omega \\omega_{m} t + 6 \\Omega \\phi_{0} + 2 \\epsilon \\sin{\\left(\\omega_{m} t - \\theta_{m} \\right)}\\right)}{2 \\Omega}} + \\Omega \\left(- \\omega + \\omega_{0}\\right) e^{i \\left(\\frac{11 \\omega t}{2} + \\frac{5 \\omega_{m} t}{2} + 4 \\phi_{0} + \\frac{\\epsilon \\sin{\\left(\\omega_{m} t - \\theta_{m} \\right)}}{\\Omega}\\right)} + \\Omega \\left(- \\omega + \\omega_{0}\\right) e^{\\frac{i \\left(11 \\omega t + 6 \\omega_{m} t + 8 \\phi_{0} + \\frac{\\Omega \\omega_{m} t + 2 \\epsilon \\sin{\\left(\\omega_{m} t - \\theta_{m} \\right)}}{\\Omega}\\right)}{2}} + \\Omega \\left(- \\Omega e^{\\frac{i \\left(\\Omega \\omega t + 2 \\Omega \\phi_{0} - 2 \\epsilon \\sin{\\left(\\omega_{m} t - \\theta_{m} \\right)}\\right)}{2 \\Omega}} + \\Omega e^{\\frac{i \\left(3 \\Omega \\omega t + 2 \\Omega \\phi_{0} - 6 \\epsilon \\sin{\\left(\\omega_{m} t - \\theta_{m} \\right)}\\right)}{2 \\Omega}} - \\omega e^{\\frac{i \\left(\\Omega \\omega t - 2 \\epsilon \\sin{\\left(\\omega_{m} t - \\theta_{m} \\right)}\\right)}{2 \\Omega}} + \\omega_{0} e^{\\frac{i \\left(\\Omega \\omega t - 2 \\epsilon \\sin{\\left(\\omega_{m} t - \\theta_{m} \\right)}\\right)}{2 \\Omega}}\\right) e^{\\frac{i \\left(12 \\omega t + 5 \\omega_{m} t + 8 \\phi_{0}\\right)}{2}} + \\Omega \\left(\\Omega e^{\\frac{i \\left(\\Omega \\omega t + \\Omega \\omega_{m} t + 2 \\Omega \\phi_{0} - 2 \\epsilon \\sin{\\left(\\omega_{m} t - \\theta_{m} \\right)}\\right)}{2 \\Omega}} - \\Omega e^{\\frac{i \\left(3 \\Omega \\omega t + \\Omega \\omega_{m} t + 2 \\Omega \\phi_{0} - 6 \\epsilon \\sin{\\left(\\omega_{m} t - \\theta_{m} \\right)}\\right)}{2 \\Omega}} - \\omega e^{\\frac{i \\left(\\Omega \\omega t + \\Omega \\omega_{m} t - 2 \\epsilon \\sin{\\left(\\omega_{m} t - \\theta_{m} \\right)}\\right)}{2 \\Omega}} + \\omega_{0} e^{\\frac{i \\left(\\Omega \\omega t + \\Omega \\omega_{m} t - 2 \\epsilon \\sin{\\left(\\omega_{m} t - \\theta_{m} \\right)}\\right)}{2 \\Omega}}\\right) e^{i \\left(6 \\omega t + 3 \\omega_{m} t + 4 \\phi_{0}\\right)} + 2 \\epsilon \\omega_{m} e^{i \\left(\\frac{11 \\omega t}{2} + \\frac{5 \\omega_{m} t}{2} + 4 \\phi_{0} + \\frac{\\epsilon \\sin{\\left(\\omega_{m} t - \\theta_{m} \\right)}}{\\Omega}\\right)} \\cos{\\left(\\omega_{m} t - \\theta_{m} \\right)} + 2 \\epsilon \\omega_{m} e^{i \\left(6 \\omega t + 3 \\omega_{m} t + 4 \\phi_{0} + \\frac{\\Omega \\omega t + \\Omega \\omega_{m} t - 2 \\epsilon \\sin{\\left(\\omega_{m} t - \\theta_{m} \\right)}}{2 \\Omega}\\right)} \\cos{\\left(\\omega_{m} t - \\theta_{m} \\right)} + 2 \\epsilon \\omega_{m} e^{\\frac{i \\left(11 \\omega t + 6 \\omega_{m} t + 8 \\phi_{0} + \\frac{\\Omega \\omega_{m} t + 2 \\epsilon \\sin{\\left(\\omega_{m} t - \\theta_{m} \\right)}}{\\Omega}\\right)}{2}} \\cos{\\left(\\omega_{m} t - \\theta_{m} \\right)} + 2 \\epsilon \\omega_{m} e^{\\frac{i \\left(12 \\omega t + 5 \\omega_{m} t + 8 \\phi_{0} + \\frac{\\Omega \\omega t - 2 \\epsilon \\sin{\\left(\\omega_{m} t - \\theta_{m} \\right)}}{\\Omega}\\right)}{2}} \\cos{\\left(\\omega_{m} t - \\theta_{m} \\right)}\\right) e^{- i \\left(6 \\omega t + 3 \\omega_{m} t + 4 \\phi_{0}\\right)}}{8 \\Omega}$"
      ],
      "text/plain": [
       "sigma_x*(Omega**2*exp(I*(9*Omega*omega*t + 5*Omega*omega_m*t + 6*Omega*phi_0 + 6*epsilon*sin(omega_m*t - theta_m))/(2*Omega)) + Omega**2*exp(I*(9*Omega*omega*t + 7*Omega*omega_m*t + 6*Omega*phi_0 + 6*epsilon*sin(omega_m*t - theta_m))/(2*Omega)) + Omega**2*exp(I*(11*Omega*omega*t + 5*Omega*omega_m*t + 6*Omega*phi_0 + 2*epsilon*sin(omega_m*t - theta_m))/(2*Omega)) + Omega**2*exp(I*(11*Omega*omega*t + 7*Omega*omega_m*t + 6*Omega*phi_0 + 2*epsilon*sin(omega_m*t - theta_m))/(2*Omega)) + Omega*(-omega + omega_0)*exp(I*(11*omega*t + 6*omega_m*t + 8*phi_0 + (Omega*omega_m*t + 2*epsilon*sin(omega_m*t - theta_m))/Omega)/2) + Omega*(omega - omega_0)*exp(I*(11*omega*t/2 + 5*omega_m*t/2 + 4*phi_0 + epsilon*sin(omega_m*t - theta_m)/Omega)) + Omega*(Omega*exp(I*(Omega*omega*t + 2*Omega*phi_0 - 2*epsilon*sin(omega_m*t - theta_m))/(2*Omega)) + Omega*exp(I*(3*Omega*omega*t + 2*Omega*phi_0 - 6*epsilon*sin(omega_m*t - theta_m))/(2*Omega)) - omega*exp(I*(Omega*omega*t - 2*epsilon*sin(omega_m*t - theta_m))/(2*Omega)) + omega_0*exp(I*(Omega*omega*t - 2*epsilon*sin(omega_m*t - theta_m))/(2*Omega)))*exp(I*(12*omega*t + 5*omega_m*t + 8*phi_0)/2) + Omega*(Omega*exp(I*(Omega*omega*t + Omega*omega_m*t + 2*Omega*phi_0 - 2*epsilon*sin(omega_m*t - theta_m))/(2*Omega)) + Omega*exp(I*(3*Omega*omega*t + Omega*omega_m*t + 2*Omega*phi_0 - 6*epsilon*sin(omega_m*t - theta_m))/(2*Omega)) + omega*exp(I*(Omega*omega*t + Omega*omega_m*t - 2*epsilon*sin(omega_m*t - theta_m))/(2*Omega)) - omega_0*exp(I*(Omega*omega*t + Omega*omega_m*t - 2*epsilon*sin(omega_m*t - theta_m))/(2*Omega)))*exp(I*(6*omega*t + 3*omega_m*t + 4*phi_0)) - 2*epsilon*omega_m*exp(I*(11*omega*t/2 + 5*omega_m*t/2 + 4*phi_0 + epsilon*sin(omega_m*t - theta_m)/Omega))*cos(omega_m*t - theta_m) - 2*epsilon*omega_m*exp(I*(6*omega*t + 3*omega_m*t + 4*phi_0 + (Omega*omega*t + Omega*omega_m*t - 2*epsilon*sin(omega_m*t - theta_m))/(2*Omega)))*cos(omega_m*t - theta_m) + 2*epsilon*omega_m*exp(I*(11*omega*t + 6*omega_m*t + 8*phi_0 + (Omega*omega_m*t + 2*epsilon*sin(omega_m*t - theta_m))/Omega)/2)*cos(omega_m*t - theta_m) + 2*epsilon*omega_m*exp(I*(12*omega*t + 5*omega_m*t + 8*phi_0 + (Omega*omega*t - 2*epsilon*sin(omega_m*t - theta_m))/Omega)/2)*cos(omega_m*t - theta_m))*exp(-I*(6*omega*t + 3*omega_m*t + 4*phi_0))/(8*Omega) + I*sigma_y*((-Omega**2*exp(I*(Omega*omega*t + 2*Omega*omega_m*t + 2*Omega*phi_0 + 2*epsilon*sin(omega_m*t - theta_m))/(2*Omega)) - Omega**2*exp(I*(Omega*omega*t + 4*Omega*omega_m*t + 2*Omega*phi_0 + 2*epsilon*sin(omega_m*t - theta_m))/(2*Omega)) + Omega*(-Omega*exp(I*(3*Omega*omega*t + 2*Omega*phi_0 - 6*epsilon*sin(omega_m*t - theta_m))/(2*Omega)) + omega*exp(I*(Omega*omega*t - 2*epsilon*sin(omega_m*t - theta_m))/(2*Omega)) - omega_0*exp(I*(Omega*omega*t - 2*epsilon*sin(omega_m*t - theta_m))/(2*Omega)))*exp(I*(omega*t + omega_m*t + 2*phi_0)) + Omega*(-Omega*exp(I*(3*Omega*omega*t + Omega*omega_m*t + 2*Omega*phi_0 - 6*epsilon*sin(omega_m*t - theta_m))/(2*Omega)) - omega*exp(I*(Omega*omega*t + Omega*omega_m*t - 2*epsilon*sin(omega_m*t - theta_m))/(2*Omega)) + omega_0*exp(I*(Omega*omega*t + Omega*omega_m*t - 2*epsilon*sin(omega_m*t - theta_m))/(2*Omega)))*exp(I*(2*omega*t + 3*omega_m*t + 4*phi_0)/2) - 2*epsilon*omega_m*exp(I*(omega*t + omega_m*t + 2*phi_0 + (Omega*omega*t - 2*epsilon*sin(omega_m*t - theta_m))/(2*Omega)))*cos(omega_m*t - theta_m) + 2*epsilon*omega_m*exp(I*(2*omega*t + 3*omega_m*t + 4*phi_0 + (Omega*omega*t + Omega*omega_m*t - 2*epsilon*sin(omega_m*t - theta_m))/Omega)/2)*cos(omega_m*t - theta_m))*exp(I*(5*omega*t + 2*omega_m*t + 2*phi_0)) + (Omega**2*exp(I*(7*Omega*omega*t + 3*Omega*omega_m*t + 2*Omega*phi_0 + 6*epsilon*sin(omega_m*t - theta_m))/(2*Omega)) + Omega**2*exp(I*(7*Omega*omega*t + 5*Omega*omega_m*t + 2*Omega*phi_0 + 6*epsilon*sin(omega_m*t - theta_m))/(2*Omega)) + Omega**2*exp(I*(11*Omega*omega*t + 3*Omega*omega_m*t + 6*Omega*phi_0 - 2*epsilon*sin(omega_m*t - theta_m))/(2*Omega)) + Omega**2*exp(I*(11*Omega*omega*t + 5*Omega*omega_m*t + 6*Omega*phi_0 - 2*epsilon*sin(omega_m*t - theta_m))/(2*Omega)) + Omega*(-omega + omega_0)*exp(I*(9*omega*t + 4*omega_m*t + 4*phi_0 + (Omega*omega_m*t + 2*epsilon*sin(omega_m*t - theta_m))/Omega)/2) + Omega*(omega - omega_0)*exp(I*(9*omega*t/2 + 3*omega_m*t/2 + 2*phi_0 + epsilon*sin(omega_m*t - theta_m)/Omega)) - 2*epsilon*omega_m*exp(I*(9*omega*t/2 + 3*omega_m*t/2 + 2*phi_0 + epsilon*sin(omega_m*t - theta_m)/Omega))*cos(omega_m*t - theta_m) + 2*epsilon*omega_m*exp(I*(9*omega*t + 4*omega_m*t + 4*phi_0 + (Omega*omega_m*t + 2*epsilon*sin(omega_m*t - theta_m))/Omega)/2)*cos(omega_m*t - theta_m))*exp(I*(2*omega*t + 3*omega_m*t + 4*phi_0)/2))*exp(-I*(12*omega*t + 7*omega_m*t + 8*phi_0)/2)/(8*Omega) + sigma_z*(-Omega**2*exp(I*(9*Omega*omega*t + 5*Omega*omega_m*t + 6*Omega*phi_0 + 6*epsilon*sin(omega_m*t - theta_m))/(2*Omega)) + Omega**2*exp(I*(9*Omega*omega*t + 7*Omega*omega_m*t + 6*Omega*phi_0 + 6*epsilon*sin(omega_m*t - theta_m))/(2*Omega)) + Omega**2*exp(I*(11*Omega*omega*t + 5*Omega*omega_m*t + 6*Omega*phi_0 + 2*epsilon*sin(omega_m*t - theta_m))/(2*Omega)) - Omega**2*exp(I*(11*Omega*omega*t + 7*Omega*omega_m*t + 6*Omega*phi_0 + 2*epsilon*sin(omega_m*t - theta_m))/(2*Omega)) + Omega*(-omega + omega_0)*exp(I*(11*omega*t/2 + 5*omega_m*t/2 + 4*phi_0 + epsilon*sin(omega_m*t - theta_m)/Omega)) + Omega*(-omega + omega_0)*exp(I*(11*omega*t + 6*omega_m*t + 8*phi_0 + (Omega*omega_m*t + 2*epsilon*sin(omega_m*t - theta_m))/Omega)/2) + Omega*(-Omega*exp(I*(Omega*omega*t + 2*Omega*phi_0 - 2*epsilon*sin(omega_m*t - theta_m))/(2*Omega)) + Omega*exp(I*(3*Omega*omega*t + 2*Omega*phi_0 - 6*epsilon*sin(omega_m*t - theta_m))/(2*Omega)) - omega*exp(I*(Omega*omega*t - 2*epsilon*sin(omega_m*t - theta_m))/(2*Omega)) + omega_0*exp(I*(Omega*omega*t - 2*epsilon*sin(omega_m*t - theta_m))/(2*Omega)))*exp(I*(12*omega*t + 5*omega_m*t + 8*phi_0)/2) + Omega*(Omega*exp(I*(Omega*omega*t + Omega*omega_m*t + 2*Omega*phi_0 - 2*epsilon*sin(omega_m*t - theta_m))/(2*Omega)) - Omega*exp(I*(3*Omega*omega*t + Omega*omega_m*t + 2*Omega*phi_0 - 6*epsilon*sin(omega_m*t - theta_m))/(2*Omega)) - omega*exp(I*(Omega*omega*t + Omega*omega_m*t - 2*epsilon*sin(omega_m*t - theta_m))/(2*Omega)) + omega_0*exp(I*(Omega*omega*t + Omega*omega_m*t - 2*epsilon*sin(omega_m*t - theta_m))/(2*Omega)))*exp(I*(6*omega*t + 3*omega_m*t + 4*phi_0)) + 2*epsilon*omega_m*exp(I*(11*omega*t/2 + 5*omega_m*t/2 + 4*phi_0 + epsilon*sin(omega_m*t - theta_m)/Omega))*cos(omega_m*t - theta_m) + 2*epsilon*omega_m*exp(I*(6*omega*t + 3*omega_m*t + 4*phi_0 + (Omega*omega*t + Omega*omega_m*t - 2*epsilon*sin(omega_m*t - theta_m))/(2*Omega)))*cos(omega_m*t - theta_m) + 2*epsilon*omega_m*exp(I*(11*omega*t + 6*omega_m*t + 8*phi_0 + (Omega*omega_m*t + 2*epsilon*sin(omega_m*t - theta_m))/Omega)/2)*cos(omega_m*t - theta_m) + 2*epsilon*omega_m*exp(I*(12*omega*t + 5*omega_m*t + 8*phi_0 + (Omega*omega*t - 2*epsilon*sin(omega_m*t - theta_m))/Omega)/2)*cos(omega_m*t - theta_m))*exp(-I*(6*omega*t + 3*omega_m*t + 4*phi_0))/(8*Omega)"
      ]
     },
     "execution_count": 199,
     "metadata": {},
     "output_type": "execute_result"
    }
   ],
   "source": [
    "frame_ham_2 = hbar*(omega_m/2)* sigma_x\n",
    "V = sp.exp(-(sp.I/hbar)  * sp.integrate(frame_ham_2, t))\n",
    "\n",
    "V_dagger = U.H\n",
    "V_dagger_dt = sp.diff(V_dagger, t)\n",
    "H = V * H_lab * V_dagger + sp.I * V * V_dagger_dt\n",
    "H = H.expand(trig=True)\n",
    "pauli_expression = sp.Rational(1, 2) *(sp.simplify(sp.trace(H.H * sigma_z)) * sig_sym_z + sp.simplify(sp.trace(H.H * sigma_x)) * sig_sym_x + sp.simplify(sp.trace(H.H * sigma_y)) * sig_sym_y)\n",
    "pauli_expression\n"
   ]
  }
 ],
 "metadata": {
  "kernelspec": {
   "display_name": "Python 3",
   "language": "python",
   "name": "python3"
  },
  "language_info": {
   "codemirror_mode": {
    "name": "ipython",
    "version": 3
   },
   "file_extension": ".py",
   "mimetype": "text/x-python",
   "name": "python",
   "nbconvert_exporter": "python",
   "pygments_lexer": "ipython3",
   "version": "3.13.0"
  }
 },
 "nbformat": 4,
 "nbformat_minor": 5
}
