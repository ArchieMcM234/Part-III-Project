{
 "cells": [
  {
   "cell_type": "code",
   "execution_count": 1,
   "metadata": {},
   "outputs": [
    {
     "name": "stdout",
     "output_type": "stream",
     "text": [
      "Fidelity expression:\n",
      "2*Abs(epsilon - 1)**2/3 + 1/3\n"
     ]
    }
   ],
   "source": [
    "import sympy as sp\n",
    "\n",
    "# Define epsilon as a symbol\n",
    "epsilon = sp.Symbol('epsilon')\n",
    "\n",
    "# Create the 2x2 unitary matrix\n",
    "U = sp.Matrix([[1-epsilon, epsilon],\n",
    "               [epsilon, 1-epsilon]])\n",
    "\n",
    "# Create identity matrix as U_ideal\n",
    "U_ideal = sp.eye(2)\n",
    "\n",
    "# Calculate fidelity: (|Tr(U_ideal^† @ U)|²)/4\n",
    "trace = sp.trace(U_ideal.H @ U)\n",
    "fidelity = (abs(trace)**2+2)/6\n",
    "\n",
    "# Simplify the expression\n",
    "fidelity_simplified = sp.simplify(fidelity)\n",
    "\n",
    "print(\"Fidelity expression:\")\n",
    "print(fidelity_simplified)\n"
   ]
  }
 ],
 "metadata": {
  "kernelspec": {
   "display_name": "Python 3",
   "language": "python",
   "name": "python3"
  },
  "language_info": {
   "codemirror_mode": {
    "name": "ipython",
    "version": 3
   },
   "file_extension": ".py",
   "mimetype": "text/x-python",
   "name": "python",
   "nbconvert_exporter": "python",
   "pygments_lexer": "ipython3",
   "version": "3.13.0"
  }
 },
 "nbformat": 4,
 "nbformat_minor": 2
}
