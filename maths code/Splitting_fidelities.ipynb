{
 "cells": [
  {
   "cell_type": "code",
   "execution_count": 1,
   "metadata": {},
   "outputs": [
    {
     "name": "stdout",
     "output_type": "stream",
     "text": [
      "Trace of Kronecker product:\n",
      "a11*b11 + a11*b22 + a22*b11 + a22*b22\n",
      "\n",
      "Product of individual traces:\n",
      "(a11 + a22)*(b11 + b22)\n",
      "\n",
      "Are they equal?\n",
      "True\n"
     ]
    }
   ],
   "source": [
    "import sympy as sp\n",
    "\n",
    "# Create symbolic 2x2 matrices U1 and U2\n",
    "U1 = sp.Matrix([[sp.Symbol('a11'), sp.Symbol('a12')],\n",
    "                [sp.Symbol('a21'), sp.Symbol('a22')]])\n",
    "U2 = sp.Matrix([[sp.Symbol('b11'), sp.Symbol('b12')],\n",
    "                [sp.Symbol('b21'), sp.Symbol('b22')]])\n",
    "\n",
    "# Calculate Kronecker product using sp.kronecker_product\n",
    "kron_product = sp.kronecker_product(U1, U2)\n",
    "\n",
    "# Calculate traces\n",
    "trace_kron = kron_product.trace()\n",
    "trace_product = U1.trace() * U2.trace()\n",
    "\n",
    "# Show both results\n",
    "print(\"Trace of Kronecker product:\")\n",
    "print(trace_kron)\n",
    "print(\"\\nProduct of individual traces:\")\n",
    "print(trace_product)\n",
    "print(\"\\nAre they equal?\")\n",
    "print(sp.simplify(trace_kron - trace_product) == 0)\n"
   ]
  },
  {
   "cell_type": "code",
   "execution_count": 3,
   "metadata": {},
   "outputs": [
    {
     "name": "stdout",
     "output_type": "stream",
     "text": [
      "Are (A⊗B)(C⊗D) and (AC)⊗(BD) equal?\n",
      "False\n"
     ]
    },
    {
     "data": {
      "text/latex": [
       "$\\displaystyle \\left[\\begin{matrix}0 & 0 & 0 & 0\\\\0 & 0 & 0 & 0\\\\0 & 0 & 0 & 0\\\\0 & 0 & 0 & 0\\end{matrix}\\right]$"
      ],
      "text/plain": [
       "Matrix([\n",
       "[0, 0, 0, 0],\n",
       "[0, 0, 0, 0],\n",
       "[0, 0, 0, 0],\n",
       "[0, 0, 0, 0]])"
      ]
     },
     "execution_count": 3,
     "metadata": {},
     "output_type": "execute_result"
    }
   ],
   "source": [
    "# Create symbolic 2x2 matrices for C and D\n",
    "C = sp.Matrix([[sp.Symbol('c11'), sp.Symbol('c12')],\n",
    "               [sp.Symbol('c21'), sp.Symbol('c22')]])\n",
    "D = sp.Matrix([[sp.Symbol('d11'), sp.Symbol('d12')],\n",
    "               [sp.Symbol('d21'), sp.Symbol('d22')]])\n",
    "\n",
    "# Calculate left side: (A⊗B)(C⊗D)\n",
    "left_side = kron_product * sp.kronecker_product(C, D)\n",
    "\n",
    "# Calculate right side: (AC)⊗(BD)\n",
    "right_side = sp.kronecker_product(U1*C, U2*D)\n",
    "\n",
    "# Check if they are equal\n",
    "print(\"Are (A⊗B)(C⊗D) and (AC)⊗(BD) equal?\")\n",
    "print(sp.simplify(left_side - right_side) == 0)\n",
    "sp.simplify(left_side - right_side) "
   ]
  }
 ],
 "metadata": {
  "kernelspec": {
   "display_name": "Python 3",
   "language": "python",
   "name": "python3"
  },
  "language_info": {
   "codemirror_mode": {
    "name": "ipython",
    "version": 3
   },
   "file_extension": ".py",
   "mimetype": "text/x-python",
   "name": "python",
   "nbconvert_exporter": "python",
   "pygments_lexer": "ipython3",
   "version": "3.13.0"
  }
 },
 "nbformat": 4,
 "nbformat_minor": 2
}
