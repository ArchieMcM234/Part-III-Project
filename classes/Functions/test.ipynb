{
 "cells": [
  {
   "cell_type": "code",
   "execution_count": null,
   "metadata": {},
   "outputs": [],
   "source": [
    "import numpy as np\n",
    "import quantum_tools as qt \n",
    "from pauli_matrices import *\n",
    "from hamiltonians import *"
   ]
  },
  {
   "cell_type": "code",
   "execution_count": 8,
   "metadata": {},
   "outputs": [
    {
     "ename": "AttributeError",
     "evalue": "module 'quantum_tools' has no attribute 'evolve_state'",
     "output_type": "error",
     "traceback": [
      "\u001b[0;31m---------------------------------------------------------------------------\u001b[0m",
      "\u001b[0;31mAttributeError\u001b[0m                            Traceback (most recent call last)",
      "Cell \u001b[0;32mIn[8], line 9\u001b[0m\n\u001b[1;32m      5\u001b[0m natural_freqs_hz, rabi_freq_hz, driving_freq_hz, num_qubits \u001b[38;5;241m=\u001b[39m [\u001b[38;5;241m10\u001b[39m\u001b[38;5;241m*\u001b[39m\u001b[38;5;241m10\u001b[39m\u001b[38;5;241m*\u001b[39m\u001b[38;5;241m*\u001b[39m\u001b[38;5;241m9\u001b[39m], \u001b[38;5;241m5\u001b[39m\u001b[38;5;241m*\u001b[39m\u001b[38;5;241m10\u001b[39m\u001b[38;5;241m*\u001b[39m\u001b[38;5;241m*\u001b[39m\u001b[38;5;241m6\u001b[39m, \u001b[38;5;241m10\u001b[39m\u001b[38;5;241m*\u001b[39m\u001b[38;5;241m10\u001b[39m\u001b[38;5;241m*\u001b[39m\u001b[38;5;241m*\u001b[39m\u001b[38;5;241m9\u001b[39m, \u001b[38;5;241m1\u001b[39m \n\u001b[1;32m      8\u001b[0m \u001b[38;5;66;03m# Evolve the initial state using quantum_tools\u001b[39;00m\n\u001b[0;32m----> 9\u001b[0m evolved_state \u001b[38;5;241m=\u001b[39m \u001b[43mqt\u001b[49m\u001b[38;5;241;43m.\u001b[39;49m\u001b[43mevolve_state\u001b[49m(initial_state, evaluation_time, evaluation_points, rwa, natural_freqs_hz, rabi_freq_hz, driving_freq_hz, num_qubits )\n\u001b[1;32m     11\u001b[0m \u001b[38;5;66;03m# Plot the evolution probabilities\u001b[39;00m\n\u001b[1;32m     12\u001b[0m prob_up \u001b[38;5;241m=\u001b[39m np\u001b[38;5;241m.\u001b[39mabs(evolved_state[:, \u001b[38;5;241m0\u001b[39m])\u001b[38;5;241m*\u001b[39m\u001b[38;5;241m*\u001b[39m\u001b[38;5;241m2\u001b[39m\n",
      "\u001b[0;31mAttributeError\u001b[0m: module 'quantum_tools' has no attribute 'evolve_state'"
     ]
    }
   ],
   "source": [
    "# Define time points\n",
    "initial_state = np.array([1 + 0j, 0 + 0j])\n",
    "evaluation_points = 1000\n",
    "evaluation_time = 5*10**-6\n",
    "natural_freqs_hz, rabi_freq_hz, driving_freq_hz, num_qubits = [10*10**9], 5*10**6, 10*10**9, 1 \n",
    "\n",
    "\n",
    "# Evolve the initial state using quantum_tools\n",
    "evolved_state = qt.evolve_state(initial_state, evaluation_time, evaluation_points, rwa, natural_freqs_hz, rabi_freq_hz, driving_freq_hz, num_qubits )\n",
    "\n",
    "# Plot the evolution probabilities\n",
    "prob_up = np.abs(evolved_state[:, 0])**2\n",
    "prob_down = np.abs(evolved_state[:, 1])**2\n",
    "\n",
    "plt.plot(t, prob_up, label='|↑⟩')\n",
    "plt.plot(t, prob_down, label='|↓⟩')\n",
    "plt.xlabel('Time')\n",
    "plt.ylabel('Probability')\n",
    "plt.legend()\n",
    "plt.title('State Evolution under RWA Hamiltonian')"
   ]
  }
 ],
 "metadata": {
  "kernelspec": {
   "display_name": "Python 3",
   "language": "python",
   "name": "python3"
  },
  "language_info": {
   "codemirror_mode": {
    "name": "ipython",
    "version": 3
   },
   "file_extension": ".py",
   "mimetype": "text/x-python",
   "name": "python",
   "nbconvert_exporter": "python",
   "pygments_lexer": "ipython3",
   "version": "3.13.0"
  }
 },
 "nbformat": 4,
 "nbformat_minor": 2
}
