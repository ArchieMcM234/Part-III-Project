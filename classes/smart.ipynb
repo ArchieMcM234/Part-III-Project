{
 "cells": [
  {
   "cell_type": "markdown",
   "metadata": {},
   "source": [
    "# SMART Protocol Simulation\n",
    "This notebook simulates the SMART protocol for electron spin control."
   ]
  },
  {
   "cell_type": "code",
   "execution_count": 1,
   "metadata": {},
   "outputs": [],
   "source": [
    "import numpy as np\n",
    "from scipy.integrate import solve_ivp\n",
    "import matplotlib.pyplot as plt\n",
    "from matplotlib.animation import FuncAnimation\n",
    "from quantum_classes import *\n",
    "from pauli_matrices import *"
   ]
  },
  {
   "cell_type": "markdown",
   "metadata": {},
   "source": [
    "## Define System Parameters\n",
    "Set up the frequencies and system parameters for the SMART protocol."
   ]
  },
  {
   "cell_type": "code",
   "execution_count": 2,
   "metadata": {},
   "outputs": [],
   "source": [
    "# Define frequencies\n",
    "natural_freq = 18 * 10**9  # Natural frequency of the electron spin\n",
    "driving_freq = 18 * 10**9  # Driving frequency\n",
    "rabi_freq = 5 * 10**6     # Rabi frequency\n",
    "modulation_freq = 1 * 10**6  # Modulation frequency\n",
    "\n",
    "# Initialize Hamiltonian and Quantum System\n",
    "hamiltonian = Quantum_Hamiltonian(rabi_freq, 1, np.array([natural_freq]))\n",
    "system = Quantum_System(hamiltonian, 1)\n",
    "\n",
    "# Initial state (ground state)\n",
    "initial_state = np.array([1 + 0j, 0 + 0j])"
   ]
  },
  {
   "cell_type": "markdown",
   "metadata": {},
   "source": [
    "## Time Evolution\n",
    "Evolve the system in both lab frame and rotating frame (RWA)."
   ]
  },
  {
   "cell_type": "code",
   "execution_count": null,
   "metadata": {},
   "outputs": [
    {
     "ename": "SyntaxError",
     "evalue": "keyword argument repeated: driving_freq (1905285330.py, line 6)",
     "output_type": "error",
     "traceback": [
      "\u001b[0;36m  Cell \u001b[0;32mIn[4], line 6\u001b[0;36m\u001b[0m\n\u001b[0;31m    driving_freq = driving_freq\u001b[0m\n\u001b[0m    ^\u001b[0m\n\u001b[0;31mSyntaxError\u001b[0m\u001b[0;31m:\u001b[0m keyword argument repeated: driving_freq\n"
     ]
    }
   ],
   "source": [
    "# Evolve state in lab frame\n",
    "t, y_lab = system.evolve_state(initial_state, 10**-6, 1000, \n",
    "                              ham_type='smart_lab',\n",
    "                              modulation_freq = modulation_freq,\n",
    "                              driving_freq = driving_freq\n",
    "                             )\n",
    "\n",
    "# Evolve state in rotating frame (RWA)\n",
    "t, y_rwa = system.evolve_state(initial_state, 10**-6, 1000, \n",
    "                              ham_type='smart_rwa',\n",
    "                              modulation_freq = modulation_freq, \n",
    "                              )"
   ]
  },
  {
   "cell_type": "markdown",
   "metadata": {},
   "source": [
    "## Visualization\n",
    "Plot the results and visualize on the Bloch sphere."
   ]
  },
  {
   "cell_type": "code",
   "execution_count": null,
   "metadata": {},
   "outputs": [],
   "source": [
    "# Convert time to microseconds for plotting\n",
    "t_micro = t * 10**6\n",
    "\n",
    "# Calculate z-expectation values\n",
    "z_expectation_lab = np.real(calculate_z_expectation(y_lab))\n",
    "z_expectation_rwa = np.real(calculate_z_expectation(y_rwa))\n",
    "\n",
    "# Plot results\n",
    "plt.figure(figsize=(10, 6))\n",
    "plt.plot(t_micro, z_expectation_lab, label='Lab Frame')\n",
    "plt.plot(t_micro, z_expectation_rwa, label='RWA')\n",
    "plt.xlabel('Time (µs)')\n",
    "plt.ylabel(r'$\\langle\\sigma_z\\rangle$')\n",
    "plt.title('SMART Protocol: Lab Frame vs RWA')\n",
    "plt.legend()\n",
    "\n",
    "# Add metadata/caption with relevant frequencies\n",
    "metadata = (f\"Natural Frequency: {natural_freq / 1e9} GHz\\n\"\n",
    "           f\"Driving Frequency: {driving_freq / 1e9} GHz\\n\"\n",
    "           f\"Rabi Frequency: {rabi_freq / 1e6} MHz\\n\"\n",
    "           f\"Modulation Frequency: {phase_freq / 1e6} MHz\")\n",
    "\n",
    "plt.text(0.02, -0.2, metadata, transform=plt.gca().transAxes, \n",
    "         fontsize=10, verticalalignment='top')\n",
    "plt.show()"
   ]
  },
  {
   "cell_type": "code",
   "execution_count": null,
   "metadata": {},
   "outputs": [],
   "source": [
    "# Visualize evolution on Bloch sphere\n",
    "system.visualise_solution(t, y_lab)"
   ]
  }
 ],
 "metadata": {
  "kernelspec": {
   "display_name": "Python 3",
   "language": "python",
   "name": "python3"
  },
  "language_info": {
   "codemirror_mode": {
    "name": "ipython",
    "version": 3
   },
   "file_extension": ".py",
   "mimetype": "text/x-python",
   "name": "python",
   "nbconvert_exporter": "python",
   "pygments_lexer": "ipython3",
   "version": "3.13.0"
  }
 },
 "nbformat": 4,
 "nbformat_minor": 4
}
