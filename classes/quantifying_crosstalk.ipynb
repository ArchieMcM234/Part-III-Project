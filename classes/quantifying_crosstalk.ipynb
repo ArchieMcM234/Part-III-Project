{
 "cells": [
  {
   "cell_type": "code",
   "execution_count": null,
   "metadata": {},
   "outputs": [],
   "source": [
    "import numpy as np\n",
    "import matplotlib.pyplot as plt\n",
    "from matplotlib.animation import FuncAnimation\n",
    "from quantum_classes import *\n",
    "from pauli_matrices import *"
   ]
  },
  {
   "cell_type": "code",
   "execution_count": null,
   "metadata": {},
   "outputs": [],
   "source": [
    "# Create a quantum system with a single qubit\n",
    "natural_freq = 10 * 10**9\n",
    "driving_freq = 10 * 10**9\n",
    "rabi_freq = 5 * 10**6\n",
    "\n",
    "# CCD parameters\n",
    "phi_0, epsilon_m, phase_freq, theta_m = 0, rabi_freq/4, rabi_freq, 0, \n",
    "\n",
    "# Integration parameters\n",
    "tol = 10**-6\n",
    "evaluation_points = 1000\n",
    "evaluation_time = 5*10**-6\n",
    "\n",
    "\n",
    "# Points at which to evaluate the solution for 2 qubits\n",
    "initial_state_2q = np.array([0 + 0j, 1 + 0j, 0 + 0j, 0 + 0j])  \n",
    "\n",
    "# Create a quantum system with two qubits\n",
    "hamiltonian_2q = Quantum_Hamiltonian(rabi_freq, 2, np.array([natural_freq, natural_freq+10**6]))\n",
    "system_2q = Quantum_System(hamiltonian_2q, 2)"
   ]
  }
 ],
 "metadata": {
  "language_info": {
   "name": "python"
  }
 },
 "nbformat": 4,
 "nbformat_minor": 2
}
